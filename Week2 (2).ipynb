{
  "nbformat": 4,
  "nbformat_minor": 0,
  "metadata": {
    "colab": {
      "name": "Week2",
      "provenance": [],
      "collapsed_sections": []
    },
    "kernelspec": {
      "name": "python3",
      "display_name": "Python 3"
    }
  },
  "cells": [
    {
      "cell_type": "markdown",
      "metadata": {
        "id": "lAT4-0IRjqNh",
        "colab_type": "text"
      },
      "source": [
        "**WEEK2授業前課題1**"
      ]
    },
    {
      "cell_type": "markdown",
      "metadata": {
        "id": "Eu0ZhLSy8Mqt",
        "colab_type": "text"
      },
      "source": [
        "**小麦とチェス盤問題**"
      ]
    },
    {
      "cell_type": "markdown",
      "metadata": {
        "id": "rwsKPYqpj_Jh",
        "colab_type": "text"
      },
      "source": [
        "【問題1】2×2マスのチェス盤の小麦の数"
      ]
    },
    {
      "cell_type": "code",
      "metadata": {
        "id": "-IxuzrEOj9nZ",
        "colab_type": "code",
        "outputId": "338d15da-b5a9-40b8-973a-a844dff940aa",
        "colab": {
          "base_uri": "https://localhost:8080/",
          "height": 35
        }
      },
      "source": [
        "# サンプルコード\n",
        "\n",
        "n_squares = 4\n",
        "small_board_list = [1]\n",
        "for _ in range(n_squares - 1):\n",
        "    small_board_list.append(2 * small_board_list[-1])\n",
        "print('4マスの板に小麦を並べる（リスト）：{}'.format(small_board_list))"
      ],
      "execution_count": 0,
      "outputs": [
        {
          "output_type": "stream",
          "text": [
            "4マスの板に小麦を並べる（リスト）：[1, 2, 4, 8]\n"
          ],
          "name": "stdout"
        }
      ]
    },
    {
      "cell_type": "code",
      "metadata": {
        "id": "KOiSwq1bk8jC",
        "colab_type": "code",
        "outputId": "b4495df0-5490-4c36-f31b-91ba8c953caa",
        "colab": {
          "base_uri": "https://localhost:8080/",
          "height": 35
        }
      },
      "source": [
        "# サンプルコード\n",
        "\n",
        "import numpy as np\n",
        "\n",
        "small_board_ndarray = np.array(small_board_list)\n",
        "print(\"4マスの板に小麦を並べる（ndarray）：{}\".format(small_board_ndarray))"
      ],
      "execution_count": 0,
      "outputs": [
        {
          "output_type": "stream",
          "text": [
            "4マスの板に小麦を並べる（ndarray）：[1 2 4 8]\n"
          ],
          "name": "stdout"
        }
      ]
    },
    {
      "cell_type": "code",
      "metadata": {
        "id": "1LStevgclUVV",
        "colab_type": "code",
        "outputId": "ffefaf51-b529-4099-bb9a-00bafb337cae",
        "colab": {
          "base_uri": "https://localhost:8080/",
          "height": 54
        }
      },
      "source": [
        "ndarray_22 = small_board_ndarray.reshape(2, 2)\n",
        "print(ndarray_22)"
      ],
      "execution_count": 0,
      "outputs": [
        {
          "output_type": "stream",
          "text": [
            "[[1 2]\n",
            " [4 8]]\n"
          ],
          "name": "stdout"
        }
      ]
    },
    {
      "cell_type": "markdown",
      "metadata": {
        "id": "jGmXsgWdlxEE",
        "colab_type": "text"
      },
      "source": [
        "【問題2】n×mマスへの拡張"
      ]
    },
    {
      "cell_type": "code",
      "metadata": {
        "id": "5IDdrpcUltIk",
        "colab_type": "code",
        "outputId": "f79edc17-cef2-4cfd-9ebd-7bbdc0ec37eb",
        "colab": {
          "base_uri": "https://localhost:8080/",
          "height": 308
        }
      },
      "source": [
        "import numpy as np\n",
        "\n",
        "\n",
        "# まずはリストに格納\n",
        "# 次にndarrayに変換\n",
        "# 最後に行と列を欲しい形に変形\n",
        "\n",
        "def mk_ndarray(n, m):\n",
        "    n_square = n * m\n",
        "    board_list = [1]\n",
        "    for _ in range(n_square - 1):\n",
        "        board_list.append(2 * board_list[-1])\n",
        "    board_array = np.array(board_list)\n",
        "    board_ndarray = board_array.reshape(n, m)\n",
        "    \n",
        "    return board_ndarray\n",
        "  \n",
        "  \n",
        "print(mk_ndarray(8, 8))"
      ],
      "execution_count": 0,
      "outputs": [
        {
          "output_type": "stream",
          "text": [
            "[[1.00000000e+00 2.00000000e+00 4.00000000e+00 8.00000000e+00\n",
            "  1.60000000e+01 3.20000000e+01 6.40000000e+01 1.28000000e+02]\n",
            " [2.56000000e+02 5.12000000e+02 1.02400000e+03 2.04800000e+03\n",
            "  4.09600000e+03 8.19200000e+03 1.63840000e+04 3.27680000e+04]\n",
            " [6.55360000e+04 1.31072000e+05 2.62144000e+05 5.24288000e+05\n",
            "  1.04857600e+06 2.09715200e+06 4.19430400e+06 8.38860800e+06]\n",
            " [1.67772160e+07 3.35544320e+07 6.71088640e+07 1.34217728e+08\n",
            "  2.68435456e+08 5.36870912e+08 1.07374182e+09 2.14748365e+09]\n",
            " [4.29496730e+09 8.58993459e+09 1.71798692e+10 3.43597384e+10\n",
            "  6.87194767e+10 1.37438953e+11 2.74877907e+11 5.49755814e+11]\n",
            " [1.09951163e+12 2.19902326e+12 4.39804651e+12 8.79609302e+12\n",
            "  1.75921860e+13 3.51843721e+13 7.03687442e+13 1.40737488e+14]\n",
            " [2.81474977e+14 5.62949953e+14 1.12589991e+15 2.25179981e+15\n",
            "  4.50359963e+15 9.00719925e+15 1.80143985e+16 3.60287970e+16]\n",
            " [7.20575940e+16 1.44115188e+17 2.88230376e+17 5.76460752e+17\n",
            "  1.15292150e+18 2.30584301e+18 4.61168602e+18 9.22337204e+18]]\n"
          ],
          "name": "stdout"
        }
      ]
    },
    {
      "cell_type": "markdown",
      "metadata": {
        "id": "I9MYPim6nZLg",
        "colab_type": "text"
      },
      "source": [
        "【問題3】小麦の数の合計"
      ]
    },
    {
      "cell_type": "code",
      "metadata": {
        "id": "QnHupY76nFNi",
        "colab_type": "code",
        "outputId": "8fe1c78f-1522-4cf6-ce62-ecf4dc77e9aa",
        "colab": {
          "base_uri": "https://localhost:8080/",
          "height": 74
        }
      },
      "source": [
        "# 列平均のリストを返す関数を作る\n",
        "# 総数を出すときは列平均リストを足し上げた上で、行数をかける\n",
        "\n",
        "def col_mean_list(n, m):\n",
        "    ndarray_mn = mk_ndarray(n, m)\n",
        "    col_mean_list = []\n",
        "    for i in range(m):\n",
        "        col_sum = sum(ndarray_mn[:, i])\n",
        "        col_mean = col_sum / n\n",
        "        col_mean_list.append(col_mean)\n",
        "    total = sum(col_mean_list) * n\n",
        "        \n",
        "    return col_mean_list, total\n",
        "  \n",
        "\n",
        "col_mean_list_88, total_88 = col_mean_list(8, 8)\n",
        "print(total_88)\n",
        "print(col_mean_list_88)"
      ],
      "execution_count": 0,
      "outputs": [
        {
          "output_type": "stream",
          "text": [
            "1.8446744073709552e+19\n",
            "[9042521604759584.0, 1.808504320951917e+16, 3.617008641903834e+16, 7.234017283807667e+16, 1.4468034567615334e+17, 2.893606913523067e+17, 5.787213827046134e+17, 1.1574427654092268e+18]\n"
          ],
          "name": "stdout"
        }
      ]
    },
    {
      "cell_type": "code",
      "metadata": {
        "id": "DFDqfAJntmGp",
        "colab_type": "code",
        "outputId": "e238980b-f438-4dfe-a125-cb4d8e0db501",
        "colab": {
          "base_uri": "https://localhost:8080/",
          "height": 301
        }
      },
      "source": [
        "import matplotlib.pyplot as plt\n",
        "%matplotlib inline\n",
        "\n",
        "plt.xlabel('colum', fontsize=14)\n",
        "plt.ylabel('average value of grains', fontsize=14)\n",
        "plt.title('number in each column', fontsize=16)\n",
        "plt.bar(np.arange(1, 9), np.array(col_mean_list_88))\n",
        "plt.show()"
      ],
      "execution_count": 0,
      "outputs": [
        {
          "output_type": "display_data",
          "data": {
            "image/png": "[encoded data removed]",
            "text/plain": [
              "<Figure size 432x288 with 1 Axes>"
            ]
          },
          "metadata": {
            "tags": []
          }
        }
      ]
    },
    {
      "cell_type": "markdown",
      "metadata": {
        "id": "-QWbVi9_uxDw",
        "colab_type": "text"
      },
      "source": [
        "【問題4】小麦の数のヒートマップ"
      ]
    },
    {
      "cell_type": "code",
      "metadata": {
        "id": "CWalNLx8unOD",
        "colab_type": "code",
        "outputId": "1fbcb706-0413-4695-ec3c-8620a6d28e75",
        "colab": {
          "base_uri": "https://localhost:8080/",
          "height": 295
        }
      },
      "source": [
        "plt.xlabel('column')\n",
        "plt.ylabel('row')\n",
        "plt.title('HEATMAP')\n",
        "plt.pcolor(mk_ndarray(8, 8))\n",
        "plt.show()"
      ],
      "execution_count": 0,
      "outputs": [
        {
          "output_type": "display_data",
          "data": {
            "image/png": "[encoded data removed]",
            "text/plain": [
              "<Figure size 432x288 with 1 Axes>"
            ]
          },
          "metadata": {
            "tags": []
          }
        }
      ]
    },
    {
      "cell_type": "markdown",
      "metadata": {
        "id": "m9O1wDATvp_u",
        "colab_type": "text"
      },
      "source": [
        "【問題5】後半は前半の何倍か"
      ]
    },
    {
      "cell_type": "code",
      "metadata": {
        "id": "gp_d10kKvX1U",
        "colab_type": "code",
        "outputId": "05a1b9a9-60e8-4e9f-a263-5833b2b78ded",
        "colab": {
          "base_uri": "https://localhost:8080/",
          "height": 35
        }
      },
      "source": [
        "# 小さい数(4×4行列)で実験してみる\n",
        "\n",
        "ndarray_44 = mk_ndarray(4, 4)\n",
        "row_list1 = []\n",
        "for i in range(4):\n",
        "    row_sum = sum(ndarray_44[i, :])\n",
        "    row_list1.append(row_sum)\n",
        "    pre_row_sum1 = sum(row_list1[0:2])\n",
        "    post_row_sum1 = sum(row_list1[2:4])\n",
        "print('後半は前半の{:.1f}倍'.format(post_row_sum1 / pre_row_sum1))"
      ],
      "execution_count": 0,
      "outputs": [
        {
          "output_type": "stream",
          "text": [
            "後半は前半の256.0倍\n"
          ],
          "name": "stdout"
        }
      ]
    },
    {
      "cell_type": "code",
      "metadata": {
        "id": "pGvX2Jtixvu2",
        "colab_type": "code",
        "outputId": "15f72c87-84b0-4feb-b7cd-11769ab7b314",
        "colab": {
          "base_uri": "https://localhost:8080/",
          "height": 35
        }
      },
      "source": [
        "# 上の結果を一般化する\n",
        "\n",
        "def mul(n, m):\n",
        "    ndarray_nm = mk_ndarray(n, m)\n",
        "    row_list = []\n",
        "    for i in range(n):\n",
        "        row_sum = sum(ndarray_nm[i, :])\n",
        "        row_list.append(row_sum)\n",
        "        num = int(n / 2)\n",
        "        pre_row_sum = sum(row_list[0:num])\n",
        "        post_row_sum = sum(row_list[num:m])\n",
        "    \n",
        "    return post_row_sum / pre_row_sum\n",
        "  \n",
        "  \n",
        "print('後半は前半の{:.1f}倍'.format(mul(8, 8)))"
      ],
      "execution_count": 0,
      "outputs": [
        {
          "output_type": "stream",
          "text": [
            "後半は前半の4294967296.0倍\n"
          ],
          "name": "stdout"
        }
      ]
    },
    {
      "cell_type": "markdown",
      "metadata": {
        "id": "pmVEtqWezaaC",
        "colab_type": "text"
      },
      "source": [
        "【問題6】他の計算方法によるn×mマスへの拡張"
      ]
    },
    {
      "cell_type": "code",
      "metadata": {
        "id": "3DPHlIOqzW3x",
        "colab_type": "code",
        "outputId": "80646cb5-ac86-4844-a983-942900960cae",
        "colab": {
          "base_uri": "https://localhost:8080/",
          "height": 35
        }
      },
      "source": [
        "# np.append()を使った方法\n",
        "\n",
        "n_squares = 4\n",
        "small_board_ndarray = np.array([1])\n",
        "for _ in range(n_squares - 1):\n",
        "    small_board_ndarray = np.append(small_board_ndarray, 2 * small_board_ndarray[-1])\n",
        "print('4マスの板に小麦を並べる（ndarray）：{}'.format(small_board_ndarray))"
      ],
      "execution_count": 0,
      "outputs": [
        {
          "output_type": "stream",
          "text": [
            "4マスの板に小麦を並べる（ndarray）：[1 2 4 8]\n"
          ],
          "name": "stdout"
        }
      ]
    },
    {
      "cell_type": "code",
      "metadata": {
        "id": "I2EgwFET0K-H",
        "colab_type": "code",
        "outputId": "4f65730e-3aff-40a1-8f2a-6968e806009a",
        "colab": {
          "base_uri": "https://localhost:8080/",
          "height": 35
        }
      },
      "source": [
        "# ブロードキャストを利用した方法\n",
        "\n",
        "n_squares = 4\n",
        "indices_of_squares = np.arange(n_squares)\n",
        "small_board_ndarray = 2 ** indices_of_squares\n",
        "print('4マスの板に小麦を並べる（ndarray）：{}'.format(small_board_ndarray))"
      ],
      "execution_count": 0,
      "outputs": [
        {
          "output_type": "stream",
          "text": [
            "4マスの板に小麦を並べる（ndarray）：[1 2 4 8]\n"
          ],
          "name": "stdout"
        }
      ]
    },
    {
      "cell_type": "code",
      "metadata": {
        "id": "16NiWxMt1Vh1",
        "colab_type": "code",
        "outputId": "dfceb875-ebd1-49d9-d7c3-22935227aa47",
        "colab": {
          "base_uri": "https://localhost:8080/",
          "height": 110
        }
      },
      "source": [
        "# ndarrayの型\n",
        "\n",
        "n_squares = 64\n",
        "board_ndarray = np.array([1])\n",
        "for _ in range(n_squares - 1):\n",
        "    board_ndarray = np.append(board_ndarray, 2 * board_ndarray[-1])\n",
        "print('最後のマスの小麦の数：{}個'.format(board_ndarray[-1]))\n",
        "\n",
        "print(board_ndarray.dtype)"
      ],
      "execution_count": 0,
      "outputs": [
        {
          "output_type": "stream",
          "text": [
            "最後のマスの小麦の数：-9223372036854775808個\n",
            "int64\n"
          ],
          "name": "stdout"
        },
        {
          "output_type": "stream",
          "text": [
            "/usr/local/lib/python3.6/dist-packages/ipykernel_launcher.py:5: RuntimeWarning: overflow encountered in long_scalars\n",
            "  \"\"\"\n"
          ],
          "name": "stderr"
        }
      ]
    },
    {
      "cell_type": "code",
      "metadata": {
        "id": "6jdqoDCY2FsX",
        "colab_type": "code",
        "outputId": "d392645c-9ef5-44f9-e7cd-d0af7d6f44de",
        "colab": {
          "base_uri": "https://localhost:8080/",
          "height": 35
        }
      },
      "source": [
        "# int64型 → uint64型\n",
        "\n",
        "n_squares = 64\n",
        "indices_of_squares = np.arange(n_squares).astype(np.uint64)\n",
        "board_ndarray = 2 ** indices_of_squares\n",
        "print('最後のマスの小麦の数：{}個'.format(board_ndarray[-1]))"
      ],
      "execution_count": 0,
      "outputs": [
        {
          "output_type": "stream",
          "text": [
            "最後のマスの小麦の数：9223372036854775808個\n"
          ],
          "name": "stdout"
        }
      ]
    },
    {
      "cell_type": "code",
      "metadata": {
        "id": "xqCslQ763WsX",
        "colab_type": "code",
        "outputId": "01fcf775-388d-496f-bf9a-0300f4f52070",
        "colab": {
          "base_uri": "https://localhost:8080/",
          "height": 454
        }
      },
      "source": [
        "# n×mマスのチェス盤の小麦の数を記したndarrayを返す関数（np.append()版）\n",
        "\n",
        "def mk_ndarray_2(n, m):\n",
        "    n_squares = n * m\n",
        "    board_ndarray = np.array([1])\n",
        "    for _ in range(n_squares - 1):\n",
        "        board_ndarray = np.append(board_ndarray, 2 * board_ndarray[-1]).astype(np.uint64)\n",
        "    ndarray_nm = board_ndarray.reshape(n, m)\n",
        "    \n",
        "    return ndarray_nm\n",
        "  \n",
        "  \n",
        "print(mk_ndarray_2(8, 8))"
      ],
      "execution_count": 0,
      "outputs": [
        {
          "output_type": "stream",
          "text": [
            "[[                  1                   2                   4\n",
            "                    8                  16                  32\n",
            "                   64                 128]\n",
            " [                256                 512                1024\n",
            "                 2048                4096                8192\n",
            "                16384               32768]\n",
            " [              65536              131072              262144\n",
            "               524288             1048576             2097152\n",
            "              4194304             8388608]\n",
            " [           16777216            33554432            67108864\n",
            "            134217728           268435456           536870912\n",
            "           1073741824          2147483648]\n",
            " [         4294967296          8589934592         17179869184\n",
            "          34359738368         68719476736        137438953472\n",
            "         274877906944        549755813888]\n",
            " [      1099511627776       2199023255552       4398046511104\n",
            "        8796093022208      17592186044416      35184372088832\n",
            "       70368744177664     140737488355328]\n",
            " [    281474976710656     562949953421312    1125899906842624\n",
            "     2251799813685248    4503599627370496    9007199254740992\n",
            "    18014398509481984   36028797018963968]\n",
            " [  72057594037927936  144115188075855872  288230376151711744\n",
            "   576460752303423488 1152921504606846976 2305843009213693952\n",
            "  4611686018427387904 9223372036854775808]]\n"
          ],
          "name": "stdout"
        }
      ]
    },
    {
      "cell_type": "code",
      "metadata": {
        "id": "46P16X1v4zYP",
        "colab_type": "code",
        "outputId": "9965ad2b-ae4e-42ce-bfe0-3873fdc3dd64",
        "colab": {
          "base_uri": "https://localhost:8080/",
          "height": 454
        }
      },
      "source": [
        "# n×mマスのチェス盤の小麦の数を記したndarrayを返す関数（ブロードキャスト利用版）\n",
        "\n",
        "def mk_ndarray_3(n, m):\n",
        "    n_squares = n * m\n",
        "    indices_of_squares = np.arange(n_squares).astype(np.uint64)\n",
        "    board_ndarray = 2 ** indices_of_squares\n",
        "    ndarray_nm = board_ndarray.reshape(n, m)\n",
        "    \n",
        "    return ndarray_nm\n",
        "  \n",
        "  \n",
        "print(mk_ndarray_3(8, 8))"
      ],
      "execution_count": 0,
      "outputs": [
        {
          "output_type": "stream",
          "text": [
            "[[                  1                   2                   4\n",
            "                    8                  16                  32\n",
            "                   64                 128]\n",
            " [                256                 512                1024\n",
            "                 2048                4096                8192\n",
            "                16384               32768]\n",
            " [              65536              131072              262144\n",
            "               524288             1048576             2097152\n",
            "              4194304             8388608]\n",
            " [           16777216            33554432            67108864\n",
            "            134217728           268435456           536870912\n",
            "           1073741824          2147483648]\n",
            " [         4294967296          8589934592         17179869184\n",
            "          34359738368         68719476736        137438953472\n",
            "         274877906944        549755813888]\n",
            " [      1099511627776       2199023255552       4398046511104\n",
            "        8796093022208      17592186044416      35184372088832\n",
            "       70368744177664     140737488355328]\n",
            " [    281474976710656     562949953421312    1125899906842624\n",
            "     2251799813685248    4503599627370496    9007199254740992\n",
            "    18014398509481984   36028797018963968]\n",
            " [  72057594037927936  144115188075855872  288230376151711744\n",
            "   576460752303423488 1152921504606846976 2305843009213693952\n",
            "  4611686018427387904 9223372036854775808]]\n"
          ],
          "name": "stdout"
        }
      ]
    },
    {
      "cell_type": "markdown",
      "metadata": {
        "id": "h_kNcYhP6O_J",
        "colab_type": "text"
      },
      "source": [
        "【問題7】計算時間の比較"
      ]
    },
    {
      "cell_type": "code",
      "metadata": {
        "id": "iCv7imFb5039",
        "colab_type": "code",
        "outputId": "f4a8f258-306c-48dc-da7e-6bf4278d5f48",
        "colab": {
          "base_uri": "https://localhost:8080/",
          "height": 54
        }
      },
      "source": [
        "# mk_ndarray関数の計算時間\n",
        "\n",
        "%%time\n",
        "def mk_ndarray(n, m):\n",
        "    n_squares = n * m\n",
        "    board_list = [1]\n",
        "    for _ in range(n_squares - 1):\n",
        "        board_list.append(2 * board_list[-1])\n",
        "    board_array = np.array(board_list)\n",
        "    board_ndarray = board_array.reshape(n, m)\n",
        "    \n",
        "    return board_ndarray"
      ],
      "execution_count": 0,
      "outputs": [
        {
          "output_type": "stream",
          "text": [
            "CPU times: user 7 µs, sys: 2 µs, total: 9 µs\n",
            "Wall time: 13.4 µs\n"
          ],
          "name": "stdout"
        }
      ]
    },
    {
      "cell_type": "code",
      "metadata": {
        "id": "O6t6tmp77H7P",
        "colab_type": "code",
        "outputId": "675747a1-f5df-463c-da40-2779e33cd41c",
        "colab": {
          "base_uri": "https://localhost:8080/",
          "height": 54
        }
      },
      "source": [
        "%%time\n",
        "def mk_ndarray_2(n, m):\n",
        "    n_squares = n * m\n",
        "    board_ndarray = np.array([1])\n",
        "    for _ in range(n_squares - 1):\n",
        "        board_ndarray = np.append(board_ndarray, 2 * board_ndarray[-1]).astype(np.uint64)\n",
        "    ndarray_nm = board_ndarray.reshape(n, m)\n",
        "    \n",
        "    return ndarray_nm"
      ],
      "execution_count": 0,
      "outputs": [
        {
          "output_type": "stream",
          "text": [
            "CPU times: user 7 µs, sys: 0 ns, total: 7 µs\n",
            "Wall time: 10.7 µs\n"
          ],
          "name": "stdout"
        }
      ]
    },
    {
      "cell_type": "code",
      "metadata": {
        "id": "dS_Xdjoi7TkK",
        "colab_type": "code",
        "outputId": "b74719ad-044d-490e-f4b8-e8eb5f22b7f2",
        "colab": {
          "base_uri": "https://localhost:8080/",
          "height": 54
        }
      },
      "source": [
        "%%time\n",
        "def mk_ndarray_3(n, m):\n",
        "    n_squares = n * m\n",
        "    indices_of_squares = np.arange(n_squares).astype(np.uint64)\n",
        "    board_ndarray = 2 ** indices_of_squares\n",
        "    ndarray_nm = board_ndarray.reshape(n, m)\n",
        "    \n",
        "    return ndarray_nm"
      ],
      "execution_count": 0,
      "outputs": [
        {
          "output_type": "stream",
          "text": [
            "CPU times: user 5 µs, sys: 2 µs, total: 7 µs\n",
            "Wall time: 10.7 µs\n"
          ],
          "name": "stdout"
        }
      ]
    },
    {
      "cell_type": "markdown",
      "metadata": {
        "id": "mA8yqOQ57fol",
        "colab_type": "text"
      },
      "source": [
        "【簡単な考察】\n",
        "これらの結果から、一回リストに格納してからndarrayに変換する方法よりも、初めからndarray型で計算する方法や、ブロードキャストを利用する方が計算時間が早いことがわかる。"
      ]
    },
    {
      "cell_type": "markdown",
      "metadata": {
        "id": "ydVdA5ig8R3Q",
        "colab_type": "text"
      },
      "source": [
        "**ダミーデータの作成**"
      ]
    },
    {
      "cell_type": "markdown",
      "metadata": {
        "id": "Flx6QCW88cnK",
        "colab_type": "text"
      },
      "source": [
        "【問題1】乱数の作成"
      ]
    },
    {
      "cell_type": "code",
      "metadata": {
        "id": "8_LV4iWn7ZEW",
        "colab_type": "code",
        "outputId": "4ef6fcd2-b55d-4a55-d870-cec7be8ad880",
        "colab": {
          "base_uri": "https://localhost:8080/",
          "height": 35
        }
      },
      "source": [
        "mu0 = [-3, 0]\n",
        "sigma0 = [[1.0, 0.8], [0.8, 1.0]]\n",
        "np.random.seed(0)\n",
        "ndarray0 = np.random.multivariate_normal(mu0, sigma0, 500)\n",
        "print(ndarray0.shape)"
      ],
      "execution_count": 0,
      "outputs": [
        {
          "output_type": "stream",
          "text": [
            "(500, 2)\n"
          ],
          "name": "stdout"
        }
      ]
    },
    {
      "cell_type": "markdown",
      "metadata": {
        "id": "3LpbMrTy9YV-",
        "colab_type": "text"
      },
      "source": [
        "【問題2】散布図による可視化"
      ]
    },
    {
      "cell_type": "code",
      "metadata": {
        "id": "bPWxJ0Gw9UzC",
        "colab_type": "code",
        "outputId": "e45b2c6a-40e1-4dc9-a0a6-7e3b35e9b2c5",
        "colab": {
          "base_uri": "https://localhost:8080/",
          "height": 301
        }
      },
      "source": [
        "import matplotlib.pyplot as plt\n",
        "%matplotlib inline\n",
        "\n",
        "plt.title('scatter', fontsize=16)\n",
        "plt.xlabel('x1', fontsize=14)\n",
        "plt.ylabel('x2', fontsize=14)\n",
        "plt.scatter(ndarray0[:, 0], ndarray0[:, 1])\n",
        "plt.show()"
      ],
      "execution_count": 0,
      "outputs": [
        {
          "output_type": "display_data",
          "data": {
            "image/png": "[encoded data removed]",
            "text/plain": [
              "<Figure size 432x288 with 1 Axes>"
            ]
          },
          "metadata": {
            "tags": []
          }
        }
      ]
    },
    {
      "cell_type": "markdown",
      "metadata": {
        "id": "4qmwVO7k-BVK",
        "colab_type": "text"
      },
      "source": [
        "【問題3】ヒストグラムによる可視化"
      ]
    },
    {
      "cell_type": "code",
      "metadata": {
        "id": "xcmPZArP94pI",
        "colab_type": "code",
        "outputId": "f8f68b8e-2d15-4800-d4e8-4846c1d57cf1",
        "colab": {
          "base_uri": "https://localhost:8080/",
          "height": 297
        }
      },
      "source": [
        "plt.xlim(-6, 3, 0.1)\n",
        "plt.title('histgram of x1', fontsize=16)\n",
        "plt.xlabel('x1')\n",
        "plt.ylabel('frequency')\n",
        "plt.hist(ndarray0[:, 0], bins=50, alpha=0.3, color='b')\n",
        "plt.axvline(ndarray0[:, 0].mean(), color='b')\n",
        "\n",
        "plt.show()"
      ],
      "execution_count": 0,
      "outputs": [
        {
          "output_type": "display_data",
          "data": {
            "image/png": "[encoded data removed]",
            "text/plain": [
              "<Figure size 432x288 with 1 Axes>"
            ]
          },
          "metadata": {
            "tags": []
          }
        }
      ]
    },
    {
      "cell_type": "code",
      "metadata": {
        "id": "rreHG8Pn_iFv",
        "colab_type": "code",
        "outputId": "d30a451b-1029-468a-f2ce-ce7073825098",
        "colab": {
          "base_uri": "https://localhost:8080/",
          "height": 297
        }
      },
      "source": [
        "plt.xlim(-6, 3, 0.1)\n",
        "plt.title('histgram of x2', fontsize=16)\n",
        "plt.xlabel('x2')\n",
        "plt.ylabel('frequency')\n",
        "plt.hist(ndarray0[:, 1], bins=50, alpha=0.3, color='r')\n",
        "plt.axvline(ndarray0[:, 1].mean(), color='r')\n",
        "\n",
        "plt.show()"
      ],
      "execution_count": 0,
      "outputs": [
        {
          "output_type": "display_data",
          "data": {
            "image/png": "[encoded data removed]",
            "text/plain": [
              "<Figure size 432x288 with 1 Axes>"
            ]
          },
          "metadata": {
            "tags": []
          }
        }
      ]
    },
    {
      "cell_type": "markdown",
      "metadata": {
        "id": "bZTcSBXbGGh4",
        "colab_type": "text"
      },
      "source": [
        "【問題4】データの追加"
      ]
    },
    {
      "cell_type": "code",
      "metadata": {
        "id": "CTpfC04HGCeK",
        "colab_type": "code",
        "outputId": "afff1068-01ed-4883-d859-ec4313085f77",
        "colab": {
          "base_uri": "https://localhost:8080/",
          "height": 35
        }
      },
      "source": [
        "mu1 = [0, -3]\n",
        "sigma1 = [[1.0, 0.8], [0.8, 1.0]]\n",
        "ndarray1 = np.random.multivariate_normal(mu1, sigma1, 500)\n",
        "print(ndarray1.shape)"
      ],
      "execution_count": 0,
      "outputs": [
        {
          "output_type": "stream",
          "text": [
            "(500, 2)\n"
          ],
          "name": "stdout"
        }
      ]
    },
    {
      "cell_type": "code",
      "metadata": {
        "id": "78ZELclDG0ZC",
        "colab_type": "code",
        "outputId": "023bb6e0-6ec5-471c-cc3c-eac9dfa31436",
        "colab": {
          "base_uri": "https://localhost:8080/",
          "height": 301
        }
      },
      "source": [
        "plt.title('scatter', fontsize=16)\n",
        "plt.scatter(ndarray0[:, 0], ndarray0[:, 1], label='0')\n",
        "plt.scatter(ndarray1[:, 0], ndarray1[:, 1], label='1')\n",
        "plt.xlabel('x1', fontsize=14)\n",
        "plt.ylabel('x2', fontsize=14)\n",
        "plt.legend();"
      ],
      "execution_count": 0,
      "outputs": [
        {
          "output_type": "display_data",
          "data": {
            "image/png": "[encoded data removed]",
            "text/plain": [
              "<Figure size 432x288 with 1 Axes>"
            ]
          },
          "metadata": {
            "tags": []
          }
        }
      ]
    },
    {
      "cell_type": "markdown",
      "metadata": {
        "id": "EsAZYfvFHagZ",
        "colab_type": "text"
      },
      "source": [
        "【問題5】データの結合"
      ]
    },
    {
      "cell_type": "code",
      "metadata": {
        "id": "bFAU2wOkHOuI",
        "colab_type": "code",
        "outputId": "fa4fd8e6-6ab0-410c-bd7b-6796bdf69232",
        "colab": {
          "base_uri": "https://localhost:8080/",
          "height": 35
        }
      },
      "source": [
        "# ndarray0とndarray1を結合して(1000, 2)のデータを作成\n",
        "\n",
        "ndarray = np.vstack((ndarray0, ndarray1))\n",
        "print(ndarray.shape)"
      ],
      "execution_count": 0,
      "outputs": [
        {
          "output_type": "stream",
          "text": [
            "(1000, 2)\n"
          ],
          "name": "stdout"
        }
      ]
    },
    {
      "cell_type": "markdown",
      "metadata": {
        "id": "6mHnV9SJH77V",
        "colab_type": "text"
      },
      "source": [
        "【問題6】ラベル付け"
      ]
    },
    {
      "cell_type": "code",
      "metadata": {
        "id": "hlqgKK2OH5nh",
        "colab_type": "code",
        "outputId": "cebee6c7-5deb-45cc-fc83-3490fb1e127f",
        "colab": {
          "base_uri": "https://localhost:8080/",
          "height": 145
        }
      },
      "source": [
        "ndarray_pre0 = ndarray[0:500]\n",
        "ndarray_post0 = ndarray[500:]\n",
        "ndarray_pre = np.insert(ndarray_pre0, 2, 0, axis=1)\n",
        "ndarray_post = np.insert(ndarray_post0, 2, 1, axis=1)\n",
        "ndarray_fin = np.vstack((ndarray_pre, ndarray_post))\n",
        "print(ndarray_fin)"
      ],
      "execution_count": 0,
      "outputs": [
        {
          "output_type": "stream",
          "text": [
            "[[-4.80006782 -1.54698618  0.        ]\n",
            " [-4.63714503 -0.21987973  0.        ]\n",
            " [-4.46267867 -2.08076347  0.        ]\n",
            " ...\n",
            " [-0.2185878  -3.15676476  1.        ]\n",
            " [-1.37970304 -4.27950068  1.        ]\n",
            " [ 1.49786804 -2.33126243  1.        ]]\n"
          ],
          "name": "stdout"
        }
      ]
    },
    {
      "cell_type": "markdown",
      "metadata": {
        "id": "vAxkoftjIvDg",
        "colab_type": "text"
      },
      "source": [
        "**行列積のスクラッチ**"
      ]
    },
    {
      "cell_type": "markdown",
      "metadata": {
        "id": "7mzLZrTUI0S7",
        "colab_type": "text"
      },
      "source": [
        "【問題1】行列積を手計算する"
      ]
    },
    {
      "cell_type": "code",
      "metadata": {
        "id": "rN7z122HJvD2",
        "colab_type": "code",
        "colab": {}
      },
      "source": [
        "import numpy as np\n",
        "a_ndarray = np.array([[-1, 2, 3], [4, -5, 6], [7, 8, -9]])\n",
        "b_ndarray = np.array([[0, 2, 1], [0, 2, -8], [2, 9, -1]])"
      ],
      "execution_count": 0,
      "outputs": []
    },
    {
      "cell_type": "markdown",
      "metadata": {
        "id": "ymSP_3rYJpyI",
        "colab_type": "text"
      },
      "source": [
        "Aのi行目(i=1, 2, 3)をベクトル（ベクトルiとする）と見做し、Bのj列目(j=1, 2, 3)もベクトル（ベクトルjとする）と見做す。AとBの行列積ABの(i, j)成分はベクトルiとベクトルjの内積によって得られる。\n",
        "例）ABの(1, 1)成分AB(1, 1)の計算\n",
        "　AB(1, 1) = (-1)×0 + 2×0 + 3×2 = 6\n",
        " \n",
        "全てのについて同様の計算を行うとABは以下になる。\n",
        "\n",
        "AB = [[6, 29, -20],\n",
        "      [12, 52, 38],\n",
        "      [-18, -51, -48]]"
      ]
    },
    {
      "cell_type": "markdown",
      "metadata": {
        "id": "yqh-vmwKPg4_",
        "colab_type": "text"
      },
      "source": [
        "【問題2】Numpyの関数による計算"
      ]
    },
    {
      "cell_type": "code",
      "metadata": {
        "id": "7NERzA93IpCS",
        "colab_type": "code",
        "outputId": "459d83dd-cb4e-4a0a-be23-7b8ebb3ccbc5",
        "colab": {
          "base_uri": "https://localhost:8080/",
          "height": 72
        }
      },
      "source": [
        "# np.matmul()の利用\n",
        "\n",
        "a_b0 = np.matmul(a_ndarray, b_ndarray)\n",
        "print(a_b0)"
      ],
      "execution_count": 0,
      "outputs": [
        {
          "output_type": "stream",
          "text": [
            "[[  6  29 -20]\n",
            " [ 12  52  38]\n",
            " [-18 -51 -48]]\n"
          ],
          "name": "stdout"
        }
      ]
    },
    {
      "cell_type": "code",
      "metadata": {
        "id": "jJ3Jw22AP7l1",
        "colab_type": "code",
        "outputId": "439fe12c-38b6-4413-f8f0-1cdab9be05aa",
        "colab": {
          "base_uri": "https://localhost:8080/",
          "height": 72
        }
      },
      "source": [
        "# np.dot()の利用\n",
        "\n",
        "a_b1 = np.dot(a_ndarray, b_ndarray)\n",
        "print(a_b1)"
      ],
      "execution_count": 0,
      "outputs": [
        {
          "output_type": "stream",
          "text": [
            "[[  6  29 -20]\n",
            " [ 12  52  38]\n",
            " [-18 -51 -48]]\n"
          ],
          "name": "stdout"
        }
      ]
    },
    {
      "cell_type": "code",
      "metadata": {
        "id": "NUfFqZuBQTCj",
        "colab_type": "code",
        "outputId": "3097fe55-26b4-4ad3-fdc3-dacbd76fa8e7",
        "colab": {
          "base_uri": "https://localhost:8080/",
          "height": 72
        }
      },
      "source": [
        "# 演算子@の利用\n",
        "\n",
        "a_b2 = a_ndarray @ b_ndarray\n",
        "print(a_b2)"
      ],
      "execution_count": 0,
      "outputs": [
        {
          "output_type": "stream",
          "text": [
            "[[  6  29 -20]\n",
            " [ 12  52  38]\n",
            " [-18 -51 -48]]\n"
          ],
          "name": "stdout"
        }
      ]
    },
    {
      "cell_type": "markdown",
      "metadata": {
        "id": "V83gkpR0QiAw",
        "colab_type": "text"
      },
      "source": [
        "【問題3】ある要素の計算を実装"
      ]
    },
    {
      "cell_type": "code",
      "metadata": {
        "id": "A0yVocpfQel2",
        "colab_type": "code",
        "outputId": "571a6f7d-4337-4adf-98f7-e1bc2ee3e0a0",
        "colab": {
          "base_uri": "https://localhost:8080/",
          "height": 72
        }
      },
      "source": [
        "default_array0 = np.zeros((a_ndarray.shape[0], b_ndarray.shape[1]))\n",
        "\n",
        "for i in range(a_ndarray.shape[0]):\n",
        "    for j in range(b_ndarray.shape[1]):\n",
        "        for k in range(a_ndarray.shape[1]):\n",
        "            default_array0[i, j] += a_ndarray[i, k] * b_ndarray[k, j]\n",
        "print(default_array0)"
      ],
      "execution_count": 0,
      "outputs": [
        {
          "output_type": "stream",
          "text": [
            "[[  6.  29. -20.]\n",
            " [ 12.  52.  38.]\n",
            " [-18. -51. -48.]]\n"
          ],
          "name": "stdout"
        }
      ]
    },
    {
      "cell_type": "markdown",
      "metadata": {
        "id": "5FQwcwAjRkxe",
        "colab_type": "text"
      },
      "source": [
        "【問題4】行列積を行う関数の作成"
      ]
    },
    {
      "cell_type": "code",
      "metadata": {
        "id": "hBP9Kp_ORgmr",
        "colab_type": "code",
        "outputId": "a4e736a9-96c3-407e-f1c5-440bc2ad074c",
        "colab": {
          "base_uri": "https://localhost:8080/",
          "height": 72
        }
      },
      "source": [
        "def matrix_mul(matrix1, matrix2):\n",
        "    default_array = np.zeros((matrix1.shape[0], matrix2.shape[1]))\n",
        "    \n",
        "    for i in range(matrix1.shape[0]):\n",
        "        for j in range(matrix2.shape[1]):\n",
        "            for k in range(matrix1.shape[1]):\n",
        "                default_array[i, j] = matrix1[i, k] * matrix2[k, j]\n",
        "                \n",
        "    return default_array\n",
        "  \n",
        "  \n",
        "print(matrix_mul(a_ndarray, b_ndarray))"
      ],
      "execution_count": 0,
      "outputs": [
        {
          "output_type": "stream",
          "text": [
            "[[  6.  27.  -3.]\n",
            " [ 12.  54.  -6.]\n",
            " [-18. -81.   9.]]\n"
          ],
          "name": "stdout"
        }
      ]
    },
    {
      "cell_type": "markdown",
      "metadata": {
        "id": "rb3HoJmYSqOP",
        "colab_type": "text"
      },
      "source": [
        "【問題5】計算が定義されない入力を判定する"
      ]
    },
    {
      "cell_type": "code",
      "metadata": {
        "id": "StxGSXwuSkDv",
        "colab_type": "code",
        "outputId": "5e76ceac-1768-4e66-929b-22aa37cd1bde",
        "colab": {
          "base_uri": "https://localhost:8080/",
          "height": 90
        }
      },
      "source": [
        "def modified_matrix_mul(matrix1, matrix2):\n",
        "    if matrix1.shape[1] == matrix2.shape[0]:\n",
        "        ndarray = np.zeros((matrix1.shape[0], matrix2.shape[1]))\n",
        "        \n",
        "        for i in range(matrix1.shape[0]):\n",
        "            for j in range(matrix2.shape[1]):\n",
        "                for k in range(matrix1.shape[1]):\n",
        "                    ndarray[i, j] += matrix1[i, k] * matrix2[k, j]\n",
        "                    \n",
        "        return ndarray\n",
        "      \n",
        "    else:\n",
        "        error_message = 'matrix1の列数とmatrix2の行数が異なるため、計算できません。'\n",
        "        \n",
        "        return error_message\n",
        "      \n",
        "      \n",
        "print(modified_matrix_mul(a_ndarray, b_ndarray))\n",
        "\n",
        "c_ndarray = np.array([[-1, 2, 3], [4, -5, 6]])\n",
        "d_ndarray = np.array([[-9, 8, 7], [6, -5, 4]])\n",
        "print(modified_matrix_mul(c_ndarray, d_ndarray))"
      ],
      "execution_count": 0,
      "outputs": [
        {
          "output_type": "stream",
          "text": [
            "[[  6.  29. -20.]\n",
            " [ 12.  52.  38.]\n",
            " [-18. -51. -48.]]\n",
            "matrix1の列数とmatrix2の行数が異なるため、計算できません。\n"
          ],
          "name": "stdout"
        }
      ]
    },
    {
      "cell_type": "markdown",
      "metadata": {
        "id": "8XbxfLsQVIrO",
        "colab_type": "text"
      },
      "source": [
        "【問題6】転置"
      ]
    },
    {
      "cell_type": "code",
      "metadata": {
        "id": "FnI-kowAUoSY",
        "colab_type": "code",
        "outputId": "3b49ecd5-8ea1-461b-e06c-b4762dc14f8a",
        "colab": {
          "base_uri": "https://localhost:8080/",
          "height": 72
        }
      },
      "source": [
        "result = []\n",
        "for i in range(3):\n",
        "    for j in range(3):\n",
        "        result.append(sum(a_ndarray[i] * b_ndarray.T[j]))\n",
        "result_array = np.array(result)\n",
        "result_array_ab = result_array.reshape(3, 3)\n",
        "print(result_array_ab)"
      ],
      "execution_count": 0,
      "outputs": [
        {
          "output_type": "stream",
          "text": [
            "[[  6  29 -20]\n",
            " [ 12  52  38]\n",
            " [-18 -51 -48]]\n"
          ],
          "name": "stdout"
        }
      ]
    },
    {
      "cell_type": "code",
      "metadata": {
        "id": "G_yx_53DV_L0",
        "colab_type": "code",
        "outputId": "e2c47599-a7cb-497f-c962-cda1e8128fdb",
        "colab": {
          "base_uri": "https://localhost:8080/",
          "height": 72
        }
      },
      "source": [
        "# 関数にしてみる\n",
        "\n",
        "def get_matrix_mul(matrix1, matrix2):\n",
        "    fai_list = []\n",
        "    for i in range(matrix1.shape[0]):\n",
        "        for j in range(matrix2.shape[1]):\n",
        "            fai_list.append(sum(matrix1[i] * matrix2.T[j]))\n",
        "    mul_array = np.array(fai_list)\n",
        "    mul_ndarray = mul_array.reshape(matrix1.shape[0], matrix2.shape[1])\n",
        "    \n",
        "    return mul_ndarray\n",
        "  \n",
        "  \n",
        "print(get_matrix_mul(a_ndarray, b_ndarray))"
      ],
      "execution_count": 0,
      "outputs": [
        {
          "output_type": "stream",
          "text": [
            "[[  6  29 -20]\n",
            " [ 12  52  38]\n",
            " [-18 -51 -48]]\n"
          ],
          "name": "stdout"
        }
      ]
    },
    {
      "cell_type": "markdown",
      "metadata": {
        "id": "3GA8VXu0nyyO",
        "colab_type": "text"
      },
      "source": [
        "**ダーツ投げ問題**"
      ]
    },
    {
      "cell_type": "markdown",
      "metadata": {
        "id": "rO9LlQGun3ac",
        "colab_type": "text"
      },
      "source": [
        "【問題1】ダーツのまとを選ぶ"
      ]
    },
    {
      "cell_type": "code",
      "metadata": {
        "id": "2YLuSk2dXD9u",
        "colab_type": "code",
        "outputId": "cad87df7-89ac-413d-c3d3-c93cf521c035",
        "colab": {
          "base_uri": "https://localhost:8080/",
          "height": 35
        }
      },
      "source": [
        "import numpy as np\n",
        "\n",
        "\n",
        "aim_num = np.random.choice(np.arange(1, 7))\n",
        "print(aim_num)"
      ],
      "execution_count": 2,
      "outputs": [
        {
          "output_type": "stream",
          "text": [
            "6\n"
          ],
          "name": "stdout"
        }
      ]
    },
    {
      "cell_type": "markdown",
      "metadata": {
        "id": "B1ZjdOosoX87",
        "colab_type": "text"
      },
      "source": [
        "【問題2】ダーツを投げて、刺さった場所を記録する"
      ]
    },
    {
      "cell_type": "code",
      "metadata": {
        "id": "whQu1cBzoPTF",
        "colab_type": "code",
        "outputId": "6e50bc16-acca-4b3a-a28d-b032bee77fd0",
        "colab": {
          "base_uri": "https://localhost:8080/",
          "height": 35
        }
      },
      "source": [
        "mean = [aim_num, 0]\n",
        "cov = [[0.01, 0], [0, 0.01]]\n",
        "point_array = np.random.multivariate_normal(mean, cov)\n",
        "print(point_array)"
      ],
      "execution_count": 3,
      "outputs": [
        {
          "output_type": "stream",
          "text": [
            "[ 5.98600548 -0.03497342]\n"
          ],
          "name": "stdout"
        }
      ]
    },
    {
      "cell_type": "markdown",
      "metadata": {
        "id": "reHztuEvo2uK",
        "colab_type": "text"
      },
      "source": [
        "【問題3】ダーツをたくさん投げて、まとの番号と紐付けた状態で記録する"
      ]
    },
    {
      "cell_type": "code",
      "metadata": {
        "id": "mf1zPRD0ozf3",
        "colab_type": "code",
        "outputId": "69b08125-5f86-4de1-d305-bf3c86091c77",
        "colab": {
          "base_uri": "https://localhost:8080/",
          "height": 35
        }
      },
      "source": [
        "# 一つのkeyに複数のvalueを格納する。\n",
        "\n",
        "from collections import defaultdict\n",
        "\n",
        "\n",
        "result = defaultdict(list)\n",
        "for i in range(1000):\n",
        "    aim_num = np.random.choice(np.arange(1, 7))\n",
        "    mean = [aim_num, 0]\n",
        "    cov = [[0.01, 0], [0, 0.01]]\n",
        "    point_array = np.random.multivariate_normal(mean, cov)\n",
        "    result[aim_num].append(point_array)\n",
        "    \n",
        "    \n",
        "print(len(result))"
      ],
      "execution_count": 4,
      "outputs": [
        {
          "output_type": "stream",
          "text": [
            "6\n"
          ],
          "name": "stdout"
        }
      ]
    },
    {
      "cell_type": "markdown",
      "metadata": {
        "id": "WzKzSUBCprMZ",
        "colab_type": "text"
      },
      "source": [
        "【問題4】ダーツのまとと刺さった位置を描画する"
      ]
    },
    {
      "cell_type": "code",
      "metadata": {
        "id": "hhjQACEPpoup",
        "colab_type": "code",
        "colab": {
          "base_uri": "https://localhost:8080/",
          "height": 269
        },
        "outputId": "bb53fbc6-56bd-411e-aa8d-1151182210a4"
      },
      "source": [
        "# 1番目の的\n",
        "lst1 = []\n",
        "for v1 in result[1]:\n",
        "    lst1.append(v1)\n",
        "    \n",
        "x_list_1 = []\n",
        "y_list_1 = []\n",
        "for x1, y1 in lst1:\n",
        "    x_list_1.append(x1)\n",
        "    y_list_1.append(y1)\n",
        "\n",
        "\n",
        "# 2番目の的\n",
        "lst2 = []\n",
        "for v2 in result[2]:\n",
        "    lst2.append(v2)\n",
        "    \n",
        "x_list_2 = []\n",
        "y_list_2 = []\n",
        "for x2, y2 in lst2:\n",
        "    x_list_2.append(x2)\n",
        "    y_list_2.append(y2)\n",
        "    \n",
        "\n",
        "# 3番目の的\n",
        "lst3 = []\n",
        "for v3 in result[3]:\n",
        "    lst3.append(v3)\n",
        "    \n",
        "x_list_3 = []\n",
        "y_list_3 = []\n",
        "for x3, y3 in lst3:\n",
        "    x_list_3.append(x3)\n",
        "    y_list_3.append(y3)\n",
        "    \n",
        "    \n",
        "# 4番目の的\n",
        "lst4 = []\n",
        "for v4 in result[4]:\n",
        "    lst4.append(v4)\n",
        "    \n",
        "x_list_4 = []\n",
        "y_list_4 = []\n",
        "for x4, y4 in lst4:\n",
        "    x_list_4.append(x4)\n",
        "    y_list_4.append(y4)\n",
        "    \n",
        "\n",
        "# 5番目の的\n",
        "lst5 = []\n",
        "for v5 in result[5]:\n",
        "    lst5.append(v5)\n",
        "    \n",
        "x_list_5 = []\n",
        "y_list_5 = []\n",
        "for x5, y5 in lst5:\n",
        "    x_list_5.append(x5)\n",
        "    y_list_5.append(y5)\n",
        "    \n",
        "    \n",
        "# 6番目の的\n",
        "lst6 = []\n",
        "for v6 in result[6]:\n",
        "    lst6.append(v6)\n",
        "    \n",
        "x_list_6 = []\n",
        "y_list_6 = []\n",
        "for x6, y6 in lst6:\n",
        "    x_list_6.append(x6)\n",
        "    y_list_6.append(y6)\n",
        "    \n",
        "    \n",
        "# matplotlibを使って散布図を描く\n",
        "%matplotlib inline\n",
        "import matplotlib.pyplot as plt\n",
        "\n",
        "\n",
        "plt.figure(figsize=(20, 4))\n",
        "plt.ylim(-0.5, 0.5)\n",
        "plt.scatter(x_list_1, y_list_1)\n",
        "plt.scatter(x_list_2, y_list_2)\n",
        "plt.scatter(x_list_3, y_list_3)\n",
        "plt.scatter(x_list_4, y_list_4)\n",
        "plt.scatter(x_list_5, y_list_5)\n",
        "plt.scatter(x_list_6, y_list_6)\n",
        "plt.show()"
      ],
      "execution_count": 5,
      "outputs": [
        {
          "output_type": "display_data",
          "data": {
            "image/png": "[encoded data removed]",
            "text/plain": [
              "<Figure size 1440x288 with 1 Axes>"
            ]
          },
          "metadata": {
            "tags": []
          }
        }
      ]
    },
    {
      "cell_type": "markdown",
      "metadata": {
        "id": "ozhDyD6fgnzG",
        "colab_type": "text"
      },
      "source": [
        "【問題5】関数化"
      ]
    },
    {
      "cell_type": "code",
      "metadata": {
        "id": "_FYVFFvRgatI",
        "colab_type": "code",
        "colab": {}
      },
      "source": [
        "# 問題1〜問題4の手順を関数化する\n",
        "\n",
        "import numpy as np\n",
        "from collections import defaultdict\n",
        "import matplotlib.pyplot as plt\n",
        "%matplotlib inline\n",
        "\n",
        "\n",
        "# ある的におけるダーツが刺さった所の座標をkeyが的、valueが座標のディクショナリーを返す関数\n",
        "def throw_darts(throw_times, target_num):    \n",
        "    result = defaultdict(list)\n",
        "    for i in range(throw_times):\n",
        "        aim_num = np.random.choice(np.arange(1, target_num + 1))\n",
        "        mean = [aim_num, 0]\n",
        "        cov = [[0.01, 0], [0, 0.01]]\n",
        "        point_array = np.random.multivariate_normal(mean, cov)\n",
        "        result[aim_num].append(point_array)\n",
        "        \n",
        "    return result\n",
        "\n",
        "# x座標、y座標各々を得る関数\n",
        "def get_target_xlist(i):\n",
        "    lsti = []\n",
        "    for vi in result[i]:\n",
        "        lsti.append(vi)\n",
        "        \n",
        "    x_list_i = []\n",
        "    y_list_i = []\n",
        "    for xi, yi in lsti:\n",
        "        x_list_i.append(xi)\n",
        "        y_list_i.append(yi)\n",
        "        \n",
        "    return x_list_i, y_list_i\n",
        "\n",
        "  \n",
        "# ある的に刺さったダーツの座標を散布図として返す関数\n",
        "def draw_scatter(i):\n",
        "    plt.figure(figsize=(20, 4))\n",
        "    plt.ylim(-0.5, 0.5)\n",
        "    plt.scatter(x_list_i, y_list_i)\n",
        "    plt.show()\n"
      ],
      "execution_count": 0,
      "outputs": []
    },
    {
      "cell_type": "code",
      "metadata": {
        "id": "uUL5BuMelCMB",
        "colab_type": "code",
        "colab": {}
      },
      "source": [
        ""
      ],
      "execution_count": 0,
      "outputs": []
    }
  ]
}