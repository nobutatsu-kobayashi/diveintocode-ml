{
 "cells": [
  {
   "cell_type": "code",
   "execution_count": 169,
   "metadata": {},
   "outputs": [],
   "source": [
    "from sklearn.datasets import load_iris\n",
    "iris = load_iris()"
   ]
  },
  {
   "cell_type": "code",
   "execution_count": 170,
   "metadata": {},
   "outputs": [],
   "source": [
    "import numpy as np\n",
    "import pandas as pd"
   ]
  },
  {
   "cell_type": "code",
   "execution_count": 171,
   "metadata": {},
   "outputs": [],
   "source": [
    "X = iris.data[:100,:]\n",
    "y = iris.target[:100]"
   ]
  },
  {
   "cell_type": "code",
   "execution_count": 172,
   "metadata": {},
   "outputs": [],
   "source": [
    "X = np.array(X)\n",
    "y = np.array(y)"
   ]
  },
  {
   "cell_type": "code",
   "execution_count": 173,
   "metadata": {},
   "outputs": [
    {
     "data": {
      "text/plain": [
       "(100, 1)"
      ]
     },
     "execution_count": 173,
     "metadata": {},
     "output_type": "execute_result"
    }
   ],
   "source": [
    "y = y.reshape([100,1])\n",
    "y.shape"
   ]
  },
  {
   "cell_type": "code",
   "execution_count": 174,
   "metadata": {},
   "outputs": [],
   "source": [
    "iris_df = pd.DataFrame(X,\n",
    "                       columns=[\"sepal_length\",\"sepal_width\", \"petal_length\", \"petal_width\"])\n",
    "\n",
    "iris_label = pd.DataFrame(y, columns=[\"Species\"])\n"
   ]
  },
  {
   "cell_type": "code",
   "execution_count": 175,
   "metadata": {},
   "outputs": [
    {
     "data": {
      "text/html": [
       "<div>\n",
       "<style scoped>\n",
       "    .dataframe tbody tr th:only-of-type {\n",
       "        vertical-align: middle;\n",
       "    }\n",
       "\n",
       "    .dataframe tbody tr th {\n",
       "        vertical-align: top;\n",
       "    }\n",
       "\n",
       "    .dataframe thead th {\n",
       "        text-align: right;\n",
       "    }\n",
       "</style>\n",
       "<table border=\"1\" class=\"dataframe\">\n",
       "  <thead>\n",
       "    <tr style=\"text-align: right;\">\n",
       "      <th></th>\n",
       "      <th>sepal_length</th>\n",
       "      <th>sepal_width</th>\n",
       "      <th>petal_length</th>\n",
       "      <th>petal_width</th>\n",
       "    </tr>\n",
       "  </thead>\n",
       "  <tbody>\n",
       "    <tr>\n",
       "      <th>0</th>\n",
       "      <td>5.1</td>\n",
       "      <td>3.5</td>\n",
       "      <td>1.4</td>\n",
       "      <td>0.2</td>\n",
       "    </tr>\n",
       "    <tr>\n",
       "      <th>1</th>\n",
       "      <td>4.9</td>\n",
       "      <td>3.0</td>\n",
       "      <td>1.4</td>\n",
       "      <td>0.2</td>\n",
       "    </tr>\n",
       "    <tr>\n",
       "      <th>2</th>\n",
       "      <td>4.7</td>\n",
       "      <td>3.2</td>\n",
       "      <td>1.3</td>\n",
       "      <td>0.2</td>\n",
       "    </tr>\n",
       "    <tr>\n",
       "      <th>3</th>\n",
       "      <td>4.6</td>\n",
       "      <td>3.1</td>\n",
       "      <td>1.5</td>\n",
       "      <td>0.2</td>\n",
       "    </tr>\n",
       "    <tr>\n",
       "      <th>4</th>\n",
       "      <td>5.0</td>\n",
       "      <td>3.6</td>\n",
       "      <td>1.4</td>\n",
       "      <td>0.2</td>\n",
       "    </tr>\n",
       "  </tbody>\n",
       "</table>\n",
       "</div>"
      ],
      "text/plain": [
       "   sepal_length  sepal_width  petal_length  petal_width\n",
       "0           5.1          3.5           1.4          0.2\n",
       "1           4.9          3.0           1.4          0.2\n",
       "2           4.7          3.2           1.3          0.2\n",
       "3           4.6          3.1           1.5          0.2\n",
       "4           5.0          3.6           1.4          0.2"
      ]
     },
     "execution_count": 175,
     "metadata": {},
     "output_type": "execute_result"
    }
   ],
   "source": [
    "iris_df.head()"
   ]
  },
  {
   "cell_type": "code",
   "execution_count": 176,
   "metadata": {},
   "outputs": [
    {
     "data": {
      "text/html": [
       "<div>\n",
       "<style scoped>\n",
       "    .dataframe tbody tr th:only-of-type {\n",
       "        vertical-align: middle;\n",
       "    }\n",
       "\n",
       "    .dataframe tbody tr th {\n",
       "        vertical-align: top;\n",
       "    }\n",
       "\n",
       "    .dataframe thead th {\n",
       "        text-align: right;\n",
       "    }\n",
       "</style>\n",
       "<table border=\"1\" class=\"dataframe\">\n",
       "  <thead>\n",
       "    <tr style=\"text-align: right;\">\n",
       "      <th></th>\n",
       "      <th>Species</th>\n",
       "    </tr>\n",
       "  </thead>\n",
       "  <tbody>\n",
       "    <tr>\n",
       "      <th>0</th>\n",
       "      <td>0</td>\n",
       "    </tr>\n",
       "    <tr>\n",
       "      <th>1</th>\n",
       "      <td>0</td>\n",
       "    </tr>\n",
       "    <tr>\n",
       "      <th>2</th>\n",
       "      <td>0</td>\n",
       "    </tr>\n",
       "    <tr>\n",
       "      <th>3</th>\n",
       "      <td>0</td>\n",
       "    </tr>\n",
       "    <tr>\n",
       "      <th>4</th>\n",
       "      <td>0</td>\n",
       "    </tr>\n",
       "  </tbody>\n",
       "</table>\n",
       "</div>"
      ],
      "text/plain": [
       "   Species\n",
       "0        0\n",
       "1        0\n",
       "2        0\n",
       "3        0\n",
       "4        0"
      ]
     },
     "execution_count": 176,
     "metadata": {},
     "output_type": "execute_result"
    }
   ],
   "source": [
    "iris_label.head()"
   ]
  },
  {
   "cell_type": "markdown",
   "metadata": {},
   "source": [
    " ## 【問題1】仮定関数\n",
    "ロジスティック回帰の仮定関数のメソッドをScratchLogisticRegressionクラスに実装してください。"
   ]
  },
  {
   "cell_type": "code",
   "execution_count": 177,
   "metadata": {},
   "outputs": [],
   "source": [
    "X = iris.data[:100,:]\n",
    "y = iris.target[:100]"
   ]
  },
  {
   "cell_type": "code",
   "execution_count": 178,
   "metadata": {},
   "outputs": [],
   "source": [
    "def first(X):\n",
    "    \n",
    "    Theta = np.random.rand(1, X.shape[1]+1) \n",
    "    return Theta"
   ]
  },
  {
   "cell_type": "code",
   "execution_count": 179,
   "metadata": {},
   "outputs": [],
   "source": [
    "Theta = first(X)"
   ]
  },
  {
   "cell_type": "code",
   "execution_count": 180,
   "metadata": {},
   "outputs": [
    {
     "data": {
      "text/plain": [
       "array([[0.54488318, 0.4236548 , 0.64589411, 0.43758721, 0.891773  ]])"
      ]
     },
     "execution_count": 180,
     "metadata": {},
     "output_type": "execute_result"
    }
   ],
   "source": [
    "Theta"
   ]
  },
  {
   "cell_type": "code",
   "execution_count": 181,
   "metadata": {},
   "outputs": [
    {
     "data": {
      "text/plain": [
       "array([[0.        , 0.4236548 , 0.64589411, 0.43758721, 0.891773  ]])"
      ]
     },
     "execution_count": 181,
     "metadata": {},
     "output_type": "execute_result"
    }
   ],
   "source": [
    "Theta[0,0] = 0\n",
    "Theta"
   ]
  },
  {
   "cell_type": "code",
   "execution_count": 182,
   "metadata": {},
   "outputs": [],
   "source": [
    "def logistic_hypothesis(X=X, bias=True):\n",
    "    \"\"\"\n",
    "    線形の仮定関数を計算する\n",
    "\n",
    "    Parameters\n",
    "    ----------\n",
    "    X : 次の形のndarray, shape (n_samples, n_features)\n",
    "      学習データ\n",
    "\n",
    "    Returns\n",
    "    -------\n",
    "      次の形のndarray, shape (n_samples, 1)\n",
    "      線形の仮定関数による推定結果\n",
    "\n",
    "    \"\"\"\n",
    "    if bias:\n",
    "        a = np.ones(X.shape[0]).reshape(X.shape[0], 1)\n",
    "        X = np.hstack([a ,X])\n",
    "    z = (Theta @ X.T)\n",
    "    y_ = 1 / (1 + (np.exp(-z)))\n",
    "    return y_"
   ]
  },
  {
   "cell_type": "code",
   "execution_count": 183,
   "metadata": {},
   "outputs": [],
   "source": [
    "y_ = logistic_hypothesis(X)"
   ]
  },
  {
   "cell_type": "markdown",
   "metadata": {},
   "source": [
    " ## 【問題2】最急降下法\n",
    "最急降下法により学習させる実装を行なってください。以下の式で表されるパラメータの更新式のメソッド_gradient_descentを追加し、fit\n",
    "メソッドから呼び出すようにしてください。\n",
    "\n",
    "θ\n",
    "j\n",
    ":=\n",
    "θ\n",
    "j\n",
    "−\n",
    "α\n",
    "1\n",
    "m\n",
    "m\n",
    "∑\n",
    "i\n",
    "=\n",
    "1\n",
    " \n",
    "[\n",
    "(\n",
    "h\n",
    "θ\n",
    "(\n",
    "x\n",
    "(\n",
    "i\n",
    ")\n",
    ")\n",
    "−\n",
    "y\n",
    "(\n",
    "i\n",
    ")\n",
    ")\n",
    "x\n",
    "(\n",
    "i\n",
    ")\n",
    "j\n",
    "]\n",
    "α\n",
    " : 学習率\n",
    "\n",
    "i\n",
    " : サンプルのインデックス\n",
    "\n",
    "j\n",
    " : 特徴量のインデックス\n",
    "\n",
    "雛形\n",
    "\n",
    "ScratchLinearRegressionクラスへ以下のメソッドを追加してください。コメントアウト部分の説明も記述してください。"
   ]
  },
  {
   "cell_type": "code",
   "execution_count": 184,
   "metadata": {},
   "outputs": [],
   "source": [
    "def get_error(y):\n",
    "    error = y_ - y\n",
    "    return error"
   ]
  },
  {
   "cell_type": "code",
   "execution_count": 185,
   "metadata": {},
   "outputs": [],
   "source": [
    "error = get_error(y)"
   ]
  },
  {
   "cell_type": "code",
   "execution_count": 186,
   "metadata": {},
   "outputs": [],
   "source": [
    "def _gradient_descent(X, bias=True):\n",
    "    if bias:\n",
    "        a = np.ones(X.shape[0]).reshape(X.shape[0], 1)\n",
    "        X = np.hstack([a ,X])\n",
    "        Theta[0,0] = 0\n",
    "    Theta2 = ((1/X.shape[0]) * (error * X.T).sum(axis=1)) + ((1/X.shape[0]) * Theta)\n",
    "    return Theta2"
   ]
  },
  {
   "cell_type": "code",
   "execution_count": 187,
   "metadata": {},
   "outputs": [],
   "source": [
    "theta = _gradient_descent(X)"
   ]
  },
  {
   "cell_type": "code",
   "execution_count": 188,
   "metadata": {},
   "outputs": [
    {
     "data": {
      "text/plain": [
       "array([[0.49657501, 2.49022088, 1.70948856, 0.7294567 , 0.13074156]])"
      ]
     },
     "execution_count": 188,
     "metadata": {},
     "output_type": "execute_result"
    }
   ],
   "source": [
    "theta"
   ]
  },
  {
   "cell_type": "markdown",
   "metadata": {},
   "source": [
    " ## 【問題3】推定\n",
    "推定する仕組みを実装してください。ScratchLogisticRegressionクラスの雛形に含まれるpredictメソッドとpredict_probaメソッドに書き加えてください。\n",
    "\n",
    "仮定関数 \n",
    "h\n",
    "θ\n",
    "(\n",
    "x\n",
    ")\n",
    " の出力がpredict_probaの返り値、さらにその値に閾値を設けて1と0のラベルとしたものがpredictの返り値となります。"
   ]
  },
  {
   "cell_type": "code",
   "execution_count": 326,
   "metadata": {},
   "outputs": [],
   "source": [
    "class ScratchLogisticRegression():\n",
    "    \"\"\"\n",
    "    ロジスティック回帰のスクラッチ実装\n",
    "\n",
    "    Parameters\n",
    "    ----------\n",
    "    num_iter : int\n",
    "      イテレーション数\n",
    "    lr : float\n",
    "      学習率\n",
    "    no_bias : bool\n",
    "      バイアス項を入れない場合はTrue\n",
    "    verbose : bool\n",
    "      学習過程を出力する場合はTrue\n",
    "\n",
    "    Attributes\n",
    "    ----------\n",
    "    self.coef_ : 次の形のndarray, shape (n_features,)\n",
    "      パラメータ\n",
    "    self.loss : 次の形のndarray, shape (self.iter,)\n",
    "      学習用データに対する損失の記録\n",
    "    self.val_loss : 次の形のndarray, shape (self.iter,)\n",
    "      検証用データに対する損失の記録\n",
    "\n",
    "    \"\"\"\n",
    "\n",
    "    def __init__(self, num_iter, lr, bias, verbose, lambda_): ##, verbose\n",
    "        # ハイパーパラメータを属性として記録\n",
    "        self.iter = num_iter\n",
    "        self.lr = lr\n",
    "        self.bias = bias\n",
    "        self.verbose = verbose\n",
    "        self.lambda_=lambda_\n",
    "        # 損失を記録する配列を用意\n",
    "        self.loss = np.zeros(self.iter)\n",
    "        self.val_loss = np.zeros(self.iter)\n",
    "        \n",
    "#     def _first(self, X):\n",
    "#         if self.bias:\n",
    "#             a = np.ones(X.shape[0]).reshape(X.shape[0], 1)\n",
    "#             self.X = np.hstack([a ,X])\n",
    "#             if X_val:\n",
    "#                 a = np.ones(X_val.shape[0]).reshape(X_val.shape[0], 1)\n",
    "#                 self.X_val = np.hstack([a ,X_val])\n",
    "        \n",
    "#         self.Theta = np.random.rand(1, self.X.shape[1])\n",
    "#         return self.Theta \n",
    "    \n",
    "    \n",
    "    def _logistic_hypothesis(self, X):\n",
    "        self.z = (self.Theta @ X.T)\n",
    "        self.y_pred = 1 / (1 + (np.exp(-self.z)))\n",
    "#         print(self.y_pred.shape, \"y____\")\n",
    "        return self.y_pred\n",
    "        \n",
    "        \n",
    "    def _get_error(self, y):\n",
    "        self.error = self.y_pred - y\n",
    "        return self.error\n",
    "    \n",
    "    \n",
    "    def _gradient_descent(self, X):\n",
    "        if self.bias:\n",
    "            self.Theta2 = np.copy(self.Theta)\n",
    "            self.Theta2[0,0] = 0\n",
    "            self.Theta =  self.Theta - self.lr * (((1/X.shape[0]) * (self.error * X.T).sum(axis=1)) + ((self.lambda_/X.shape[0]) * self.Theta2))  \n",
    "        else:\n",
    "            self.Theta =  self.Theta - self.lr * (((1/X.shape[0]) * (self.error * X.T).sum(axis=1))  + ((self.lambda_/X.shape[0]) * self.Theta))\n",
    "            return self.Theta\n",
    "    \n",
    "    \n",
    "    def _loss_fnk(self, y):\n",
    "#         print(self.y_pred.shape,'ybar')\n",
    "        if self.bias:\n",
    "#             print(self.y_pred.shape,\"<<<<<<<\")\n",
    "#             print(y.shape,\"///////\")\n",
    "#             print(((-y * np.log(self.y_pred)) - ((1 - y) * np.log(self.y_pred))).sum().shape)\n",
    "            self.Theta2 = np.copy(self.Theta)\n",
    "            self.Theta2[0,0] = 0\n",
    "            log = (1/X.shape[0]) * (((-y * np.log(self.y_pred)) - ((1 - y) * np.log(1 - self.y_pred))).sum(axis=1))\n",
    "            reg = ((self.Theta2**2).sum(axis=1))\n",
    "            lam =  (self.lambda_// (2 * X.shape[0])) \n",
    "            self._loss_f = log + lam*reg\n",
    "        else:\n",
    "            log = (1/X.shape[0]) * (((-y * np.log(self.y_pred)) - ((y) * np.log(1 - self.y_pred))).sum(axis=1))\n",
    "            reg = ((self.Theta**2).sum(axis=1))\n",
    "            lam =  (self.lambda_ / (2 * X.shape[0])) \n",
    "            self._loss_f = log + lam*reg\n",
    "#             self.loss_f = (1/self.X.shape[0]) * ((y * np.log(y_)) - ((1 -y) * np.log(y_))).sum(axis=1) + (0.1 / (2 * self.X.shape[0])) * ((self.Theta**2).sum(axis=1)) \n",
    "        return self._loss_f\n",
    "\n",
    "        \n",
    "        \n",
    "    def fit(self, X, y, X_val=None, y_val=None):\n",
    "        \"\"\"\n",
    "        ロジスティック回帰を学習する。検証用データが入力された場合はそれに対する損失と精度もイテレーションごとに計算する。\n",
    "\n",
    "        Parameters\n",
    "        ----------\n",
    "        X : 次の形のndarray, shape (n_samples, n_features)\n",
    "            学習用データの特徴量\n",
    "        y : 次の形のndarray, shape (n_samples, )\n",
    "            学習用データの正解値\n",
    "        X_val : 次の形のndarray, shape (n_samples, n_features)\n",
    "            検証用データの特徴量\n",
    "        y_val : 次の形のndarray, shape (n_samples, )\n",
    "            検証用データの正解値\n",
    "            \n",
    "        \"\"\"\n",
    "        if self.bias:\n",
    "            a = np.ones(X.shape[0]).reshape(X.shape[0], 1)\n",
    "            X = np.hstack([a ,X])\n",
    "            if X_val is not None:\n",
    "                a = np.ones(X_val.shape[0]).reshape(X_val.shape[0], 1)\n",
    "                X_val = np.hstack([a ,X_val])\n",
    "        np.random.seed(0)\n",
    "        self.Theta = np.random.rand(1, X.shape[1])\n",
    "#         self._logistic_hypothesis(X)\n",
    "\n",
    "        \n",
    "        for i in range(self.iter):\n",
    "            self._logistic_hypothesis(X)\n",
    "            self._get_error(y)\n",
    "            self._gradient_descent(X)\n",
    "\n",
    "#             print(self._loss_fnk(y).shape)\n",
    "            self.loss[i] = self._loss_fnk(y)\n",
    "            if (X_val is not None) and (y_val is not None):\n",
    "                self._logistic_hypothesis(X_val)\n",
    "#                 print(self.y_.predshape,\"ybar2\")\n",
    "#                 print(y.shape,\"y2\")\n",
    "                self._get_error(y_val)\n",
    "#                 self._logistic_hypothesis(X_val)\n",
    "                self.val_loss[i] = self._loss_fnk(y_val)\n",
    "                if self.loss[i] == 0:\n",
    "                    break\n",
    "\n",
    "        if self.verbose:\n",
    "            #verboseをTrueにした際は学習過程を出力\n",
    "            print(self.loss)\n",
    "            print(self.val_loss)\n",
    "        pass\n",
    "\n",
    "\n",
    "    def predict(self, X):\n",
    "        \"\"\"\n",
    "        ロジスティック回帰を使いラベルを推定する。\n",
    "\n",
    "        Parameters\n",
    "        ----------\n",
    "        X : 次の形のndarray, shape (n_samples, n_features)\n",
    "            サンプル\n",
    "\n",
    "        Returns\n",
    "        -------\n",
    "            次の形のndarray, shape (n_samples, 1)\n",
    "            ロジスティック回帰による推定結果\n",
    "        \"\"\"\n",
    "        if self.bias:\n",
    "            a = np.ones(X.shape[0]).reshape(X.shape[0], 1)\n",
    "            X = np.hstack([a ,X])\n",
    "#             if (X_val is not None) and (y_val is not None)::\n",
    "#                 a = np.ones(X_val.shape[0]).reshape(X_val.shape[0], 1)\n",
    "#                 X_val = np.hstack([a ,X_val])\n",
    "        \n",
    "        \n",
    "        self.z = (self.Theta @ X.T)\n",
    "        self.y_ = 1 / (1 + (np.exp(-self.z)))\n",
    "        return np.where(self.y_ < 0.5, 0, 1)\n",
    "        \n",
    "\n",
    "\n",
    "    def predict_proba(self, X):\n",
    "        \"\"\"\n",
    "        ロジスティック回帰を使い確率を推定する。\n",
    "\n",
    "        Parameters\n",
    "        ----------\n",
    "        X : 次の形のndarray, shape (n_samples, n_features)\n",
    "            サンプル\n",
    "\n",
    "        Returns\n",
    "        -------\n",
    "            次の形のndarray, shape (n_samples, 1)\n",
    "            ロジスティック回帰による推定結果\n",
    "        \"\"\"\n",
    "        if self.bias:\n",
    "            a = np.ones(X.shape[0]).reshape(X.shape[0], 1)\n",
    "            X = np.hstack([a ,X])\n",
    "        \n",
    "        self.z = (self.Theta @ X.T)\n",
    "        self.y_ = 1 / (1 + (np.exp(-self.z)))\n",
    "        return self.y_\n",
    "    \n",
    "#     def accuracy(X,y):\n",
    "#         y_pred = self.predict(X)\n",
    "        \n"
   ]
  },
  {
   "cell_type": "markdown",
   "metadata": {},
   "source": [
    " ## 【問題6】学習と推定\n",
    "機械学習スクラッチ入門のSprintで用意したirisデータセットのvirgicolorとvirginicaの2値分類に対してスクラッチ実装の学習と推定を行なってください。\n",
    "\n",
    "scikit-learnによる実装と比べ、正しく動いているかを確認してください。\n",
    "\n",
    "AccuracyやPrecision、Recallなどの指標値はscikit-learnを使用してください。"
   ]
  },
  {
   "cell_type": "code",
   "execution_count": 327,
   "metadata": {},
   "outputs": [],
   "source": [
    "from sklearn.neighbors import KNeighborsClassifier\n",
    "from sklearn.metrics import confusion_matrix\n",
    "from sklearn.metrics import precision_score\n",
    "from sklearn.metrics import recall_score\n",
    "from sklearn.metrics import f1_score"
   ]
  },
  {
   "cell_type": "code",
   "execution_count": 328,
   "metadata": {},
   "outputs": [],
   "source": [
    "from sklearn.model_selection import train_test_split\n",
    "(X_train, X_test,\n",
    " y_train, y_test) = train_test_split(\n",
    "    X, y, test_size=0.3, random_state=0,\n",
    ")"
   ]
  },
  {
   "cell_type": "code",
   "execution_count": 329,
   "metadata": {},
   "outputs": [
    {
     "data": {
      "text/plain": [
       "(30, 2)"
      ]
     },
     "execution_count": 329,
     "metadata": {},
     "output_type": "execute_result"
    }
   ],
   "source": [
    "X_test.shape"
   ]
  },
  {
   "cell_type": "code",
   "execution_count": 333,
   "metadata": {},
   "outputs": [
    {
     "name": "stdout",
     "output_type": "stream",
     "text": [
      "[2.50900361 2.50830933 2.50761506 ... 0.44039496 0.44038211 0.44036928]\n",
      "[0. 0. 0. ... 0. 0. 0.]\n"
     ]
    }
   ],
   "source": [
    "Sc = ScratchLogisticRegression(num_iter=10000, lr=0.0001, bias=True, verbose=True, lambda_=0.1)\n",
    "Sc.fit(X=X, y=y, X_val=None, y_val=None)"
   ]
  },
  {
   "cell_type": "code",
   "execution_count": 334,
   "metadata": {},
   "outputs": [
    {
     "data": {
      "text/plain": [
       "array([[0, 0, 0, 0, 0, 0, 0, 0, 0, 0, 0, 0, 0, 0, 0, 0, 0, 0, 0, 0, 0, 0,\n",
       "        0, 0, 0, 0, 0, 0, 0, 0, 0, 0, 0, 0, 0, 0, 0, 0, 0, 0, 0, 0, 0, 0,\n",
       "        0, 0, 0, 0, 0, 0, 1, 1, 1, 1, 1, 1, 1, 1, 1, 1, 1, 1, 1, 1, 1, 1,\n",
       "        1, 1, 1, 1, 1, 1, 1, 1, 1, 1, 1, 1, 1, 1, 1, 1, 1, 1, 1, 1, 1, 1,\n",
       "        1, 1, 1, 1, 1, 1, 1, 1, 1, 1, 1, 1]])"
      ]
     },
     "execution_count": 334,
     "metadata": {},
     "output_type": "execute_result"
    }
   ],
   "source": [
    "Sc.predict(X)"
   ]
  },
  {
   "cell_type": "code",
   "execution_count": 335,
   "metadata": {},
   "outputs": [
    {
     "data": {
      "text/plain": [
       "array([[0.39768052, 0.41188993, 0.41303961, 0.44683932, 0.40476527,\n",
       "        0.41559091, 0.43347518, 0.41789721, 0.44801224, 0.42508794,\n",
       "        0.38950969, 0.44566699, 0.41905171, 0.41534181, 0.3251845 ,\n",
       "        0.36868897, 0.36404564, 0.39768052, 0.39427644, 0.41074121,\n",
       "        0.41559091, 0.41074121, 0.38115846, 0.43722592, 0.48613286,\n",
       "        0.43114659, 0.43114659, 0.40362279, 0.39063839, 0.45296373,\n",
       "        0.44566699, 0.38950969, 0.40362279, 0.36979389, 0.42508794,\n",
       "        0.37892293, 0.35724586, 0.41188993, 0.43464058, 0.41074121,\n",
       "        0.39176827, 0.42740839, 0.43464058, 0.43114659, 0.46407342,\n",
       "        0.41905171, 0.42392894, 0.43347518, 0.39654471, 0.40476527,\n",
       "        0.6930377 , 0.70740807, 0.72158228, 0.70621239, 0.71250371,\n",
       "        0.74824282, 0.73512707, 0.66247509, 0.70642515, 0.7132648 ,\n",
       "        0.67990319, 0.70423995, 0.67471887, 0.74645125, 0.65263019,\n",
       "        0.67702215, 0.75375734, 0.6990597 , 0.71946509, 0.68854621,\n",
       "        0.76727579, 0.66821343, 0.7557036 , 0.74645125, 0.6844622 ,\n",
       "        0.68343669, 0.71658354, 0.74374817, 0.73121405, 0.6334145 ,\n",
       "        0.68321474, 0.67136123, 0.67575921, 0.79021344, 0.76454014,\n",
       "        0.73121405, 0.71153093, 0.70225985, 0.71132036, 0.70621239,\n",
       "        0.74913545, 0.73604979, 0.68752792, 0.65584969, 0.7223287 ,\n",
       "        0.71637518, 0.71637518, 0.69705984, 0.61126954, 0.70522713]])"
      ]
     },
     "execution_count": 335,
     "metadata": {},
     "output_type": "execute_result"
    }
   ],
   "source": [
    "Sc.predict_proba(X)"
   ]
  },
  {
   "cell_type": "code",
   "execution_count": 336,
   "metadata": {},
   "outputs": [
    {
     "data": {
      "text/plain": [
       "array([2.50900361, 2.50830933, 2.50761506, ..., 0.44039496, 0.44038211,\n",
       "       0.44036928])"
      ]
     },
     "execution_count": 336,
     "metadata": {},
     "output_type": "execute_result"
    }
   ],
   "source": [
    "Sc.loss"
   ]
  },
  {
   "cell_type": "code",
   "execution_count": 337,
   "metadata": {},
   "outputs": [
    {
     "data": {
      "text/plain": [
       "array([0., 0., 0., ..., 0., 0., 0.])"
      ]
     },
     "execution_count": 337,
     "metadata": {},
     "output_type": "execute_result"
    }
   ],
   "source": [
    "Sc.val_loss"
   ]
  },
  {
   "cell_type": "code",
   "execution_count": 363,
   "metadata": {},
   "outputs": [
    {
     "name": "stdout",
     "output_type": "stream",
     "text": [
      "[1.22317815 1.18793927 1.1528534  ... 0.11569854 0.11569727 0.115696  ]\n",
      "[1.24890195 1.21214215 1.1755599  ... 0.11242174 0.11242005 0.11241837]\n"
     ]
    }
   ],
   "source": [
    "Sc = ScratchLogisticRegression(num_iter=10000, lr=0.01, bias=True, verbose=True, lambda_ = 10)\n",
    "Sc.fit(X=X_train, y=y_train, X_val=X_test, y_val=y_test)"
   ]
  },
  {
   "cell_type": "code",
   "execution_count": 364,
   "metadata": {},
   "outputs": [
    {
     "data": {
      "text/plain": [
       "array([[0.25091525, 0.8771886 , 0.20208352, 0.86729556, 0.84051873,\n",
       "        0.66772822, 0.18866624, 0.88485714, 0.86819281, 0.82650817,\n",
       "        0.79813662, 0.79217706, 0.86302736, 0.17721664, 0.23163021,\n",
       "        0.25552797, 0.15745303, 0.32013156, 0.20334711, 0.22594688,\n",
       "        0.25091525, 0.78813247, 0.24042662, 0.78608871, 0.21752852,\n",
       "        0.22518201, 0.22170913, 0.81087216, 0.77429191, 0.8868807 ,\n",
       "        0.71273654, 0.76204147, 0.85769267, 0.86011817, 0.85715741,\n",
       "        0.22731717, 0.25469591, 0.88234839, 0.88485714, 0.82935943,\n",
       "        0.21545967, 0.82298242, 0.20804789, 0.20604546, 0.21340513,\n",
       "        0.21678416, 0.2113649 , 0.19624777, 0.20804789, 0.2617038 ]])"
      ]
     },
     "execution_count": 364,
     "metadata": {},
     "output_type": "execute_result"
    }
   ],
   "source": [
    "Sc.predict_proba(X_test)"
   ]
  },
  {
   "cell_type": "code",
   "execution_count": 365,
   "metadata": {},
   "outputs": [],
   "source": [
    "y_pred = Sc.predict(X_test)"
   ]
  },
  {
   "cell_type": "code",
   "execution_count": 366,
   "metadata": {},
   "outputs": [
    {
     "data": {
      "text/plain": [
       "array([1.22317815, 1.18793927, 1.1528534 , ..., 0.11569854, 0.11569727,\n",
       "       0.115696  ])"
      ]
     },
     "execution_count": 366,
     "metadata": {},
     "output_type": "execute_result"
    }
   ],
   "source": [
    "Sc.loss"
   ]
  },
  {
   "cell_type": "code",
   "execution_count": 367,
   "metadata": {},
   "outputs": [
    {
     "data": {
      "text/plain": [
       "array([1.24890195, 1.21214215, 1.1755599 , ..., 0.11242174, 0.11242005,\n",
       "       0.11241837])"
      ]
     },
     "execution_count": 367,
     "metadata": {},
     "output_type": "execute_result"
    }
   ],
   "source": [
    "Sc.val_loss"
   ]
  },
  {
   "cell_type": "code",
   "execution_count": 368,
   "metadata": {},
   "outputs": [
    {
     "data": {
      "text/plain": [
       "10000"
      ]
     },
     "execution_count": 368,
     "metadata": {},
     "output_type": "execute_result"
    }
   ],
   "source": [
    "Sc.iter"
   ]
  },
  {
   "cell_type": "code",
   "execution_count": 369,
   "metadata": {},
   "outputs": [],
   "source": [
    "y_pred = y_pred.reshape(y_test.shape)"
   ]
  },
  {
   "cell_type": "code",
   "execution_count": 370,
   "metadata": {},
   "outputs": [
    {
     "data": {
      "text/plain": [
       "(50,)"
      ]
     },
     "execution_count": 370,
     "metadata": {},
     "output_type": "execute_result"
    }
   ],
   "source": [
    "y_test.shape"
   ]
  },
  {
   "cell_type": "code",
   "execution_count": 371,
   "metadata": {},
   "outputs": [
    {
     "name": "stdout",
     "output_type": "stream",
     "text": [
      "適合率:1.0\n",
      "再現率:1.0\n",
      "F値 :1.0\n",
      "[[26  0]\n",
      " [ 0 24]]\n"
     ]
    }
   ],
   "source": [
    "# print(\"正解率:{}\".format(Sc.score(X_test, y_test)))\n",
    "print(\"適合率:{}\".format(precision_score(y_test,y_pred)))\n",
    "print(\"再現率:{}\".format(recall_score(y_test,y_pred)))\n",
    "print(\"F値 :{}\".format(f1_score(y_test,y_pred)))\n",
    "print(confusion_matrix(y_test, y_pred))"
   ]
  },
  {
   "cell_type": "markdown",
   "metadata": {},
   "source": [
    "## 【問題7】学習曲線のプロット\n",
    "学習曲線を見て損失が適切に下がっているかどうか確認してください。"
   ]
  },
  {
   "cell_type": "code",
   "execution_count": 374,
   "metadata": {},
   "outputs": [
    {
     "data": {
      "text/plain": [
       "<matplotlib.legend.Legend at 0x7ffb48cd8588>"
      ]
     },
     "execution_count": 374,
     "metadata": {},
     "output_type": "execute_result"
    },
    {
     "data": {
      "image/png": "[encoded data removed]",
      "text/plain": [
       "<Figure size 432x288 with 1 Axes>"
      ]
     },
     "metadata": {
      "needs_background": "light"
     },
     "output_type": "display_data"
    }
   ],
   "source": [
    "import matplotlib.pyplot as plt\n",
    "plt.plot(range(Sc.iter), Sc.loss, linewidth=4, color=\"red\", label=\"loss\")\n",
    "plt.plot(range(Sc.iter), Sc.val_loss, linewidth=4, color=\"blue\", label=\"val_loss\", alpha=0.5)\n",
    "plt.ylabel(\"loss_fnc\")\n",
    "plt.xlabel(\"lr\")\n",
    "plt.legend()"
   ]
  },
  {
   "cell_type": "markdown",
   "metadata": {},
   "source": [
    " ## 【問題8】決定領域の可視化\n",
    "決定領域を可視化してください。"
   ]
  },
  {
   "cell_type": "code",
   "execution_count": 375,
   "metadata": {},
   "outputs": [],
   "source": [
    "import matplotlib.pyplot as plt\n",
    "from matplotlib.colors import ListedColormap\n",
    "import matplotlib.patches as mpatches\n",
    "\n",
    "def decision_region(X, y, model, step=0.01, title='decision region', xlabel='xlabel', ylabel='ylabel', target_names=['setosa','versicolor']):\n",
    "    \"\"\"\n",
    "    2値分類を2次元の特徴量で学習したモデルの決定領域を描く。\n",
    "    背景の色が学習したモデルによる推定値から描画される。\n",
    "    散布図の点は訓練データまたは検証データである。\n",
    "\n",
    "    Parameters\n",
    "    ----------------\n",
    "    X : ndarray, shape(n_samples, 2)\n",
    "        特徴量\n",
    "    y : ndarray, shape(n_samples,)\n",
    "        ラベル\n",
    "    model : object\n",
    "        学習したモデルのインスンタスを入れる\n",
    "    step : float, (default : 0.1)\n",
    "        推定値を計算する間隔を設定する\n",
    "    title : str\n",
    "        グラフのタイトルの文章を与える\n",
    "    xlabel, ylabel : str\n",
    "        軸ラベルの文章を与える\n",
    "    target_names= : list of str\n",
    "        凡例の一覧を与える\n",
    "    \"\"\"\n",
    "    # setting\n",
    "    scatter_color = ['red', 'blue']\n",
    "    contourf_color = ['pink', 'skyblue']\n",
    "    n_class = 2\n",
    "    marker = [\"o\", \"^\"]\n",
    "\n",
    "    # pred\n",
    "    mesh_f0, mesh_f1  = np.meshgrid(np.arange(np.min(X[:,0])-0.5, np.max(X[:,0])+0.5, step), np.arange(np.min(X[:,1])-0.5, np.max(X[:,1])+0.5, step))\n",
    "    mesh = np.c_[np.ravel(mesh_f0),np.ravel(mesh_f1)]\n",
    "    y_pred = model.predict(mesh).reshape(mesh_f0.shape)\n",
    "\n",
    "    # plot\n",
    "    plt.title(title)\n",
    "    plt.xlabel(xlabel)\n",
    "    plt.ylabel(ylabel)\n",
    "    plt.contourf(mesh_f0, mesh_f1, y_pred, n_class-1, cmap=ListedColormap(contourf_color))\n",
    "    plt.contour(mesh_f0, mesh_f1, y_pred, n_class-1, colors='y', linewidths=3, alpha=0.5)\n",
    "    for i, target in enumerate(set(y)):\n",
    "        plt.scatter(X[y==target][:, 0], X[y==target][:, 1], s=80, color=scatter_color[i], label=target_names[i], marker=marker[i])\n",
    "    patches = [mpatches.Patch(color=scatter_color[i], label=target_names[i]) for i in range(n_class)]\n",
    "    plt.legend(handles=patches)\n",
    "    plt.legend()\n",
    "    plt.show()"
   ]
  },
  {
   "cell_type": "code",
   "execution_count": 376,
   "metadata": {},
   "outputs": [],
   "source": [
    "X = iris.data[:100,:]\n",
    "y = iris.target[:100]"
   ]
  },
  {
   "cell_type": "code",
   "execution_count": 377,
   "metadata": {},
   "outputs": [],
   "source": [
    "X = X[:,[0,2]]"
   ]
  },
  {
   "cell_type": "code",
   "execution_count": 378,
   "metadata": {},
   "outputs": [],
   "source": [
    "(X_train, X_test,\n",
    " y_train, y_test) = train_test_split(\n",
    "    X, y, test_size=0.5, random_state=0,\n",
    ")"
   ]
  },
  {
   "cell_type": "code",
   "execution_count": 379,
   "metadata": {},
   "outputs": [
    {
     "name": "stdout",
     "output_type": "stream",
     "text": [
      "[1.22317815e+00 2.72716422e+00 2.55614241e+00 ... 1.13412889e-03\n",
      " 1.13412707e-03 1.13412524e-03]\n",
      "[2.54504822e+00 2.67973032e+00 2.39649332e-01 ... 9.35552691e-04\n",
      " 9.35544666e-04 9.35536642e-04]\n"
     ]
    }
   ],
   "source": [
    "Sc = ScratchLogisticRegression(num_iter=10000, lr=1, bias=True, verbose=True, lambda_=0.01)\n",
    "Sc.fit(X=X_train, y=y_train, X_val=X_test, y_val=y_test)\n",
    "# knc_pred = knc.predict(X_test_std)"
   ]
  },
  {
   "cell_type": "code",
   "execution_count": 381,
   "metadata": {},
   "outputs": [
    {
     "data": {
      "image/png": "[encoded data removed]",
      "text/plain": [
       "<Figure size 432x288 with 1 Axes>"
      ]
     },
     "metadata": {
      "needs_background": "light"
     },
     "output_type": "display_data"
    }
   ],
   "source": [
    "decision_region(X, y, Sc, \n",
    "                 step=0.01, title='ScratchLogisticRegression', \n",
    "                 xlabel='xlabel', ylabel='ylabel', \n",
    "                 target_names=['setosa','versicolor'])"
   ]
  },
  {
   "cell_type": "markdown",
   "metadata": {},
   "source": [
    " ## 【問題9】（アドバンス課題）重みの保存"
   ]
  },
  {
   "cell_type": "code",
   "execution_count": 358,
   "metadata": {},
   "outputs": [],
   "source": [
    "np.savez(\"Theta\", Sc.Theta)"
   ]
  },
  {
   "cell_type": "code",
   "execution_count": 359,
   "metadata": {},
   "outputs": [],
   "source": [
    "archive = np.load(\"Theta.npz\")"
   ]
  },
  {
   "cell_type": "code",
   "execution_count": 360,
   "metadata": {},
   "outputs": [
    {
     "data": {
      "text/plain": [
       "['arr_0']"
      ]
     },
     "execution_count": 360,
     "metadata": {},
     "output_type": "execute_result"
    }
   ],
   "source": [
    "archive.files"
   ]
  },
  {
   "cell_type": "code",
   "execution_count": 361,
   "metadata": {},
   "outputs": [
    {
     "data": {
      "text/plain": [
       "array([[-2.30116244, -2.81654339,  6.64859364]])"
      ]
     },
     "execution_count": 361,
     "metadata": {},
     "output_type": "execute_result"
    }
   ],
   "source": [
    "archive[\"arr_0\"]"
   ]
  },
  {
   "cell_type": "code",
   "execution_count": 362,
   "metadata": {},
   "outputs": [
    {
     "data": {
      "text/plain": [
       "array([0, 0, 0, 0, 0, 0, 0, 0, 0, 0, 0, 0, 0, 0, 0, 0, 0, 0, 0, 0, 0, 0,\n",
       "       0, 0, 0, 0, 0, 0, 0, 0, 0, 0, 0, 0, 0, 0, 0, 0, 0, 0, 0, 0, 0, 0,\n",
       "       0, 0, 0, 0, 0, 0, 1, 1, 1, 1, 1, 1, 1, 1, 1, 1, 1, 1, 1, 1, 1, 1,\n",
       "       1, 1, 1, 1, 1, 1, 1, 1, 1, 1, 1, 1, 1, 1, 1, 1, 1, 1, 1, 1, 1, 1,\n",
       "       1, 1, 1, 1, 1, 1, 1, 1, 1, 1, 1, 1, 2, 2, 2, 2, 2, 2, 2, 2, 2, 2,\n",
       "       2, 2, 2, 2, 2, 2, 2, 2, 2, 2, 2, 2, 2, 2, 2, 2, 2, 2, 2, 2, 2, 2,\n",
       "       2, 2, 2, 2, 2, 2, 2, 2, 2, 2, 2, 2, 2, 2, 2, 2, 2, 2])"
      ]
     },
     "execution_count": 362,
     "metadata": {},
     "output_type": "execute_result"
    }
   ],
   "source": [
    "iris.target"
   ]
  },
  {
   "cell_type": "code",
   "execution_count": null,
   "metadata": {},
   "outputs": [],
   "source": []
  },
  {
   "cell_type": "code",
   "execution_count": null,
   "metadata": {},
   "outputs": [],
   "source": []
  }
 ],
 "metadata": {
  "kernelspec": {
   "display_name": "Python 3",
   "language": "python",
   "name": "python3"
  },
  "language_info": {
   "codemirror_mode": {
    "name": "ipython",
    "version": 3
   },
   "file_extension": ".py",
   "mimetype": "text/x-python",
   "name": "python",
   "nbconvert_exporter": "python",
   "pygments_lexer": "ipython3",
   "version": "3.7.2"
  }
 },
 "nbformat": 4,
 "nbformat_minor": 2
}
