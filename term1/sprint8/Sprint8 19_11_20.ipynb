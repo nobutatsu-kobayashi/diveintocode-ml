{
 "cells": [
  {
   "cell_type": "markdown",
   "metadata": {},
   "source": [
    "# **Sprint8 アンサンブル学習**"
   ]
  },
  {
   "cell_type": "markdown",
   "metadata": {},
   "source": [
    "### **データの読み込み**"
   ]
  },
  {
   "cell_type": "code",
   "execution_count": 279,
   "metadata": {},
   "outputs": [],
   "source": [
    "import numpy as np\n",
    "import pandas as pd\n",
    "import matplotlib.pyplot as plt\n",
    "%matplotlib inline"
   ]
  },
  {
   "cell_type": "code",
   "execution_count": 305,
   "metadata": {},
   "outputs": [
    {
     "data": {
      "text/html": [
       "<div>\n",
       "<style scoped>\n",
       "    .dataframe tbody tr th:only-of-type {\n",
       "        vertical-align: middle;\n",
       "    }\n",
       "\n",
       "    .dataframe tbody tr th {\n",
       "        vertical-align: top;\n",
       "    }\n",
       "\n",
       "    .dataframe thead th {\n",
       "        text-align: right;\n",
       "    }\n",
       "</style>\n",
       "<table border=\"1\" class=\"dataframe\">\n",
       "  <thead>\n",
       "    <tr style=\"text-align: right;\">\n",
       "      <th></th>\n",
       "      <th>Id</th>\n",
       "      <th>MSSubClass</th>\n",
       "      <th>MSZoning</th>\n",
       "      <th>LotFrontage</th>\n",
       "      <th>LotArea</th>\n",
       "      <th>Street</th>\n",
       "      <th>Alley</th>\n",
       "      <th>LotShape</th>\n",
       "      <th>LandContour</th>\n",
       "      <th>Utilities</th>\n",
       "      <th>...</th>\n",
       "      <th>PoolArea</th>\n",
       "      <th>PoolQC</th>\n",
       "      <th>Fence</th>\n",
       "      <th>MiscFeature</th>\n",
       "      <th>MiscVal</th>\n",
       "      <th>MoSold</th>\n",
       "      <th>YrSold</th>\n",
       "      <th>SaleType</th>\n",
       "      <th>SaleCondition</th>\n",
       "      <th>SalePrice</th>\n",
       "    </tr>\n",
       "  </thead>\n",
       "  <tbody>\n",
       "    <tr>\n",
       "      <th>0</th>\n",
       "      <td>1</td>\n",
       "      <td>60</td>\n",
       "      <td>RL</td>\n",
       "      <td>65.0</td>\n",
       "      <td>8450</td>\n",
       "      <td>Pave</td>\n",
       "      <td>NaN</td>\n",
       "      <td>Reg</td>\n",
       "      <td>Lvl</td>\n",
       "      <td>AllPub</td>\n",
       "      <td>...</td>\n",
       "      <td>0</td>\n",
       "      <td>NaN</td>\n",
       "      <td>NaN</td>\n",
       "      <td>NaN</td>\n",
       "      <td>0</td>\n",
       "      <td>2</td>\n",
       "      <td>2008</td>\n",
       "      <td>WD</td>\n",
       "      <td>Normal</td>\n",
       "      <td>208500</td>\n",
       "    </tr>\n",
       "    <tr>\n",
       "      <th>1</th>\n",
       "      <td>2</td>\n",
       "      <td>20</td>\n",
       "      <td>RL</td>\n",
       "      <td>80.0</td>\n",
       "      <td>9600</td>\n",
       "      <td>Pave</td>\n",
       "      <td>NaN</td>\n",
       "      <td>Reg</td>\n",
       "      <td>Lvl</td>\n",
       "      <td>AllPub</td>\n",
       "      <td>...</td>\n",
       "      <td>0</td>\n",
       "      <td>NaN</td>\n",
       "      <td>NaN</td>\n",
       "      <td>NaN</td>\n",
       "      <td>0</td>\n",
       "      <td>5</td>\n",
       "      <td>2007</td>\n",
       "      <td>WD</td>\n",
       "      <td>Normal</td>\n",
       "      <td>181500</td>\n",
       "    </tr>\n",
       "    <tr>\n",
       "      <th>2</th>\n",
       "      <td>3</td>\n",
       "      <td>60</td>\n",
       "      <td>RL</td>\n",
       "      <td>68.0</td>\n",
       "      <td>11250</td>\n",
       "      <td>Pave</td>\n",
       "      <td>NaN</td>\n",
       "      <td>IR1</td>\n",
       "      <td>Lvl</td>\n",
       "      <td>AllPub</td>\n",
       "      <td>...</td>\n",
       "      <td>0</td>\n",
       "      <td>NaN</td>\n",
       "      <td>NaN</td>\n",
       "      <td>NaN</td>\n",
       "      <td>0</td>\n",
       "      <td>9</td>\n",
       "      <td>2008</td>\n",
       "      <td>WD</td>\n",
       "      <td>Normal</td>\n",
       "      <td>223500</td>\n",
       "    </tr>\n",
       "    <tr>\n",
       "      <th>3</th>\n",
       "      <td>4</td>\n",
       "      <td>70</td>\n",
       "      <td>RL</td>\n",
       "      <td>60.0</td>\n",
       "      <td>9550</td>\n",
       "      <td>Pave</td>\n",
       "      <td>NaN</td>\n",
       "      <td>IR1</td>\n",
       "      <td>Lvl</td>\n",
       "      <td>AllPub</td>\n",
       "      <td>...</td>\n",
       "      <td>0</td>\n",
       "      <td>NaN</td>\n",
       "      <td>NaN</td>\n",
       "      <td>NaN</td>\n",
       "      <td>0</td>\n",
       "      <td>2</td>\n",
       "      <td>2006</td>\n",
       "      <td>WD</td>\n",
       "      <td>Abnorml</td>\n",
       "      <td>140000</td>\n",
       "    </tr>\n",
       "    <tr>\n",
       "      <th>4</th>\n",
       "      <td>5</td>\n",
       "      <td>60</td>\n",
       "      <td>RL</td>\n",
       "      <td>84.0</td>\n",
       "      <td>14260</td>\n",
       "      <td>Pave</td>\n",
       "      <td>NaN</td>\n",
       "      <td>IR1</td>\n",
       "      <td>Lvl</td>\n",
       "      <td>AllPub</td>\n",
       "      <td>...</td>\n",
       "      <td>0</td>\n",
       "      <td>NaN</td>\n",
       "      <td>NaN</td>\n",
       "      <td>NaN</td>\n",
       "      <td>0</td>\n",
       "      <td>12</td>\n",
       "      <td>2008</td>\n",
       "      <td>WD</td>\n",
       "      <td>Normal</td>\n",
       "      <td>250000</td>\n",
       "    </tr>\n",
       "  </tbody>\n",
       "</table>\n",
       "<p>5 rows × 81 columns</p>\n",
       "</div>"
      ],
      "text/plain": [
       "   Id  MSSubClass MSZoning  LotFrontage  LotArea Street Alley LotShape  \\\n",
       "0   1          60       RL         65.0     8450   Pave   NaN      Reg   \n",
       "1   2          20       RL         80.0     9600   Pave   NaN      Reg   \n",
       "2   3          60       RL         68.0    11250   Pave   NaN      IR1   \n",
       "3   4          70       RL         60.0     9550   Pave   NaN      IR1   \n",
       "4   5          60       RL         84.0    14260   Pave   NaN      IR1   \n",
       "\n",
       "  LandContour Utilities    ...     PoolArea PoolQC Fence MiscFeature MiscVal  \\\n",
       "0         Lvl    AllPub    ...            0    NaN   NaN         NaN       0   \n",
       "1         Lvl    AllPub    ...            0    NaN   NaN         NaN       0   \n",
       "2         Lvl    AllPub    ...            0    NaN   NaN         NaN       0   \n",
       "3         Lvl    AllPub    ...            0    NaN   NaN         NaN       0   \n",
       "4         Lvl    AllPub    ...            0    NaN   NaN         NaN       0   \n",
       "\n",
       "  MoSold YrSold  SaleType  SaleCondition  SalePrice  \n",
       "0      2   2008        WD         Normal     208500  \n",
       "1      5   2007        WD         Normal     181500  \n",
       "2      9   2008        WD         Normal     223500  \n",
       "3      2   2006        WD        Abnorml     140000  \n",
       "4     12   2008        WD         Normal     250000  \n",
       "\n",
       "[5 rows x 81 columns]"
      ]
     },
     "execution_count": 305,
     "metadata": {},
     "output_type": "execute_result"
    }
   ],
   "source": [
    "df = pd.read_csv('train.csv')\n",
    "df.head()"
   ]
  },
  {
   "cell_type": "code",
   "execution_count": 306,
   "metadata": {},
   "outputs": [],
   "source": [
    "X = df.loc[:, ['GrLivArea', 'YearBuilt']]\n",
    "y = df.loc[:, 'SalePrice']"
   ]
  },
  {
   "cell_type": "code",
   "execution_count": 189,
   "metadata": {},
   "outputs": [
    {
     "data": {
      "text/html": [
       "<div>\n",
       "<style scoped>\n",
       "    .dataframe tbody tr th:only-of-type {\n",
       "        vertical-align: middle;\n",
       "    }\n",
       "\n",
       "    .dataframe tbody tr th {\n",
       "        vertical-align: top;\n",
       "    }\n",
       "\n",
       "    .dataframe thead th {\n",
       "        text-align: right;\n",
       "    }\n",
       "</style>\n",
       "<table border=\"1\" class=\"dataframe\">\n",
       "  <thead>\n",
       "    <tr style=\"text-align: right;\">\n",
       "      <th></th>\n",
       "      <th>GrLivArea</th>\n",
       "      <th>YearBuilt</th>\n",
       "    </tr>\n",
       "  </thead>\n",
       "  <tbody>\n",
       "    <tr>\n",
       "      <th>1</th>\n",
       "      <td>1262</td>\n",
       "      <td>1976</td>\n",
       "    </tr>\n",
       "    <tr>\n",
       "      <th>2</th>\n",
       "      <td>1786</td>\n",
       "      <td>2001</td>\n",
       "    </tr>\n",
       "    <tr>\n",
       "      <th>3</th>\n",
       "      <td>1717</td>\n",
       "      <td>1915</td>\n",
       "    </tr>\n",
       "  </tbody>\n",
       "</table>\n",
       "</div>"
      ],
      "text/plain": [
       "   GrLivArea  YearBuilt\n",
       "1       1262       1976\n",
       "2       1786       2001\n",
       "3       1717       1915"
      ]
     },
     "execution_count": 189,
     "metadata": {},
     "output_type": "execute_result"
    }
   ],
   "source": [
    "X.loc[[1, 2, 3], :]"
   ]
  },
  {
   "cell_type": "code",
   "execution_count": 238,
   "metadata": {},
   "outputs": [],
   "source": [
    "from sklearn.model_selection import train_test_split\n",
    "X_train, X_test, y_train, y_test = train_test_split(X, y, test_size=0.2, random_state=0)"
   ]
  },
  {
   "cell_type": "markdown",
   "metadata": {},
   "source": [
    "### **【問題1】ブレンディングのスクラッチ実装**"
   ]
  },
  {
   "cell_type": "code",
   "execution_count": 76,
   "metadata": {},
   "outputs": [],
   "source": [
    "from sklearn.linear_model import LinearRegression\n",
    "from sklearn.neighbors import KNeighborsRegressor\n",
    "from lightgbm import LGBMRegressor\n",
    "from sklearn.svm import SVR\n",
    "from sklearn.tree import DecisionTreeRegressor\n",
    "from xgboost import XGBRegressor\n",
    "\n",
    "from sklearn.metrics import mean_squared_error"
   ]
  },
  {
   "cell_type": "code",
   "execution_count": 50,
   "metadata": {},
   "outputs": [
    {
     "name": "stdout",
     "output_type": "stream",
     "text": [
      "model LinearRegression: 2942066921.672108\n",
      "model SVR: 7243319908.928937\n",
      "model KNeighbors: 3119613673.729041\n",
      "model Brending: 3156990574.0246778\n"
     ]
    },
    {
     "name": "stderr",
     "output_type": "stream",
     "text": [
      "/Users/kobayashishintachi/.pyenv/versions/anaconda3-5.3.1/lib/python3.7/site-packages/sklearn/svm/base.py:193: FutureWarning: The default value of gamma will change from 'auto' to 'scale' in version 0.22 to account better for unscaled features. Set gamma explicitly to 'auto' or 'scale' to avoid this warning.\n",
      "  \"avoid this warning.\", FutureWarning)\n"
     ]
    }
   ],
   "source": [
    "# 線形回帰、SVR、K最近傍法を使って平均をとったもの\n",
    "model_1 = LinearRegression()\n",
    "model_2 = SVR()\n",
    "model_3 = KNeighborsRegressor()\n",
    "\n",
    "model_1.fit(X_train, y_train)\n",
    "model_2.fit(X_train, y_train)\n",
    "model_3.fit(X_train, y_train)\n",
    "\n",
    "pred_1 = model_1.predict(X_test)\n",
    "pred_2 = model_2.predict(X_test)\n",
    "pred_3 = model_3.predict(X_test)\n",
    "\n",
    "print('model LinearRegression:', mean_squared_error(y_test, pred_1))\n",
    "print('model SVR:', mean_squared_error(y_test, pred_2))\n",
    "print('model KNeighbors:', mean_squared_error(y_test, pred_3))\n",
    "\n",
    "brend_pred = (pred_1 + pred_2 + pred_3) / 3\n",
    "print('model Brending:', mean_squared_error(y_test, brend_pred))"
   ]
  },
  {
   "cell_type": "code",
   "execution_count": 85,
   "metadata": {},
   "outputs": [
    {
     "name": "stdout",
     "output_type": "stream",
     "text": [
      "model LinearRegression: 2942066921.672108\n",
      "model SVR: 2933120591.9921155\n",
      "model KNeighbors: 3119613673.729041\n",
      "model Brending: 2816564414.3172693\n"
     ]
    }
   ],
   "source": [
    "model_1 = LinearRegression()\n",
    "model_2 = SVR('linear', C=100)\n",
    "model_3 = KNeighborsRegressor()\n",
    "\n",
    "model_1.fit(X_train, y_train)\n",
    "model_2.fit(X_train, y_train)\n",
    "model_3.fit(X_train, y_train)\n",
    "\n",
    "pred_1 = model_1.predict(X_test)\n",
    "pred_2 = model_2.predict(X_test)\n",
    "pred_3 = model_3.predict(X_test)\n",
    "\n",
    "print('model LinearRegression:', mean_squared_error(y_test, pred_1))\n",
    "print('model SVR:', mean_squared_error(y_test, pred_2))\n",
    "print('model KNeighbors:', mean_squared_error(y_test, pred_3))\n",
    "\n",
    "brend_pred = (pred_1 + pred_2 + pred_3) / 3\n",
    "print('model Brending:', mean_squared_error(y_test, brend_pred))"
   ]
  },
  {
   "cell_type": "markdown",
   "metadata": {},
   "source": [
    "**単一モデルよりも精度が高くなった**"
   ]
  },
  {
   "cell_type": "code",
   "execution_count": 69,
   "metadata": {},
   "outputs": [
    {
     "name": "stdout",
     "output_type": "stream",
     "text": [
      "model LinearRegression: 2942066921.672108\n",
      "model SVR: 7243319908.928937\n",
      "model KNeighbors: 3119613673.729041\n",
      "model Brending: 2814478878.1220684\n"
     ]
    },
    {
     "name": "stderr",
     "output_type": "stream",
     "text": [
      "/Users/kobayashishintachi/.pyenv/versions/anaconda3-5.3.1/lib/python3.7/site-packages/sklearn/svm/base.py:193: FutureWarning: The default value of gamma will change from 'auto' to 'scale' in version 0.22 to account better for unscaled features. Set gamma explicitly to 'auto' or 'scale' to avoid this warning.\n",
      "  \"avoid this warning.\", FutureWarning)\n"
     ]
    }
   ],
   "source": [
    "# 線形回帰、SVR、K最近傍法を使って推定値の重みを変えたもの\n",
    "model_1 = LinearRegression()\n",
    "model_2 = SVR()\n",
    "model_3 = KNeighborsRegressor()\n",
    "\n",
    "model_1.fit(X_train, y_train)\n",
    "model_2.fit(X_train, y_train)\n",
    "model_3.fit(X_train, y_train)\n",
    "\n",
    "pred_1 = model_1.predict(X_test)\n",
    "pred_2 = model_2.predict(X_test)\n",
    "pred_3 = model_3.predict(X_test)\n",
    "\n",
    "print('model LinearRegression:', mean_squared_error(y_test, pred_1))\n",
    "print('model SVR:', mean_squared_error(y_test, pred_2))\n",
    "print('model KNeighbors:', mean_squared_error(y_test, pred_3))\n",
    "\n",
    "brend_pred = 0.5*pred_1 + 0.1*pred_2 + 0.4*pred_3\n",
    "print('model Brending:', mean_squared_error(y_test, brend_pred))"
   ]
  },
  {
   "cell_type": "markdown",
   "metadata": {},
   "source": [
    "**単一モデルよりも精度が高くなった**"
   ]
  },
  {
   "cell_type": "code",
   "execution_count": 53,
   "metadata": {},
   "outputs": [
    {
     "name": "stdout",
     "output_type": "stream",
     "text": [
      "model LinearRegression: 2942066921.672108\n",
      "model LGBMRegressor: 1980418355.58938\n",
      "model KNeighbors: 3119613673.729041\n",
      "model Brending: 2412116418.3228445\n"
     ]
    }
   ],
   "source": [
    "# 線形回帰、LightGBMRegressor、K最近傍法を使って平均をとったもの\n",
    "model_1 = LinearRegression()\n",
    "model_2 = LGBMRegressor()\n",
    "model_3 = KNeighborsRegressor()\n",
    "\n",
    "model_1.fit(X_train, y_train)\n",
    "model_2.fit(X_train, y_train)\n",
    "model_3.fit(X_train, y_train)\n",
    "\n",
    "pred_1 = model_1.predict(X_test)\n",
    "pred_2 = model_2.predict(X_test)\n",
    "pred_3 = model_3.predict(X_test)\n",
    "\n",
    "print('model LinearRegression:', mean_squared_error(y_test, pred_1))\n",
    "print('model LGBMRegressor:', mean_squared_error(y_test, pred_2))\n",
    "print('model KNeighbors:', mean_squared_error(y_test, pred_3))\n",
    "\n",
    "brend_pred = (pred_1 + pred_2 + pred_3) / 3\n",
    "print('model Brending:', mean_squared_error(y_test, brend_pred))"
   ]
  },
  {
   "cell_type": "code",
   "execution_count": 72,
   "metadata": {},
   "outputs": [
    {
     "name": "stdout",
     "output_type": "stream",
     "text": [
      "model LinearRegression: 2942066921.672108\n",
      "model LGBMRegressor: 1980418355.58938\n",
      "model KNeighbors: 3119613673.729041\n",
      "model Brending: 2047871505.5311673\n"
     ]
    }
   ],
   "source": [
    "# 線形回帰、LightGBMRegressor、K最近傍法を使って推定値の重みを変えたもの\n",
    "model_1 = LinearRegression()\n",
    "model_2 = LGBMRegressor()\n",
    "model_3 = KNeighborsRegressor()\n",
    "\n",
    "model_1.fit(X_train, y_train)\n",
    "model_2.fit(X_train, y_train)\n",
    "model_3.fit(X_train, y_train)\n",
    "\n",
    "pred_1 = model_1.predict(X_test)\n",
    "pred_2 = model_2.predict(X_test)\n",
    "pred_3 = model_3.predict(X_test)\n",
    "\n",
    "print('model LinearRegression:', mean_squared_error(y_test, pred_1))\n",
    "print('model LGBMRegressor:', mean_squared_error(y_test, pred_2))\n",
    "print('model KNeighbors:', mean_squared_error(y_test, pred_3))\n",
    "\n",
    "brend_pred = 0.1*pred_1 + 0.8*pred_2 + 0.1*pred_3\n",
    "print('model Brending:', mean_squared_error(y_test, brend_pred))"
   ]
  },
  {
   "cell_type": "code",
   "execution_count": 73,
   "metadata": {},
   "outputs": [
    {
     "name": "stdout",
     "output_type": "stream",
     "text": [
      "model LinearRegression: 2942066921.672108\n",
      "model LGBMRegressor: 1980418355.58938\n",
      "model DecisionTreeRegressor: 3391334438.67618\n",
      "model Brending: 2044584100.9107177\n"
     ]
    }
   ],
   "source": [
    "# 線形回帰、LightGBMRegressor、決定木を使って推定値の重みを変えたもの\n",
    "model_1 = LinearRegression()\n",
    "model_2 = LGBMRegressor()\n",
    "model_3 = DecisionTreeRegressor()\n",
    "\n",
    "model_1.fit(X_train, y_train)\n",
    "model_2.fit(X_train, y_train)\n",
    "model_3.fit(X_train, y_train)\n",
    "\n",
    "pred_1 = model_1.predict(X_test)\n",
    "pred_2 = model_2.predict(X_test)\n",
    "pred_3 = model_3.predict(X_test)\n",
    "\n",
    "print('model LinearRegression:', mean_squared_error(y_test, pred_1))\n",
    "print('model LGBMRegressor:', mean_squared_error(y_test, pred_2))\n",
    "print('model DecisionTreeRegressor:', mean_squared_error(y_test, pred_3))\n",
    "\n",
    "brend_pred = 0.2*pred_1 + 0.7*pred_2 + 0.1*pred_3\n",
    "print('model Brending:', mean_squared_error(y_test, brend_pred))"
   ]
  },
  {
   "cell_type": "code",
   "execution_count": 79,
   "metadata": {},
   "outputs": [
    {
     "name": "stdout",
     "output_type": "stream",
     "text": [
      "[14:01:39] WARNING: src/objective/regression_obj.cu:152: reg:linear is now deprecated in favor of reg:squarederror.\n",
      "model LinearRegression: 2942066921.672108\n",
      "model LGBMRegressor: 1980418355.58938\n",
      "model XGBRegressor: 1360699331.7691965\n",
      "model Brending: 1455973321.8518739\n"
     ]
    },
    {
     "name": "stderr",
     "output_type": "stream",
     "text": [
      "/Users/kobayashishintachi/.pyenv/versions/anaconda3-5.3.1/lib/python3.7/site-packages/xgboost/core.py:587: FutureWarning: Series.base is deprecated and will be removed in a future version\n",
      "  if getattr(data, 'base', None) is not None and \\\n"
     ]
    }
   ],
   "source": [
    "# 線形回帰、LightGBMRegressor、XGBRegressorを使って推定値の重みを変えたもの\n",
    "model_1 = LinearRegression()\n",
    "model_2 = LGBMRegressor()\n",
    "model_3 = XGBRegressor()\n",
    "\n",
    "model_1.fit(X_train, y_train)\n",
    "model_2.fit(X_train, y_train)\n",
    "model_3.fit(X_train, y_train)\n",
    "\n",
    "pred_1 = model_1.predict(X_test)\n",
    "pred_2 = model_2.predict(X_test)\n",
    "pred_3 = model_3.predict(X_test)\n",
    "\n",
    "print('model LinearRegression:', mean_squared_error(y_test, pred_1))\n",
    "print('model LGBMRegressor:', mean_squared_error(y_test, pred_2))\n",
    "print('model XGBRegressor:', mean_squared_error(y_test, pred_3))\n",
    "\n",
    "brend_pred = 0.05*pred_1 + 0.25*pred_2 + 0.7*pred_3\n",
    "print('model Brending:', mean_squared_error(y_test, brend_pred))"
   ]
  },
  {
   "cell_type": "markdown",
   "metadata": {},
   "source": [
    "### **【問題2】バギングのスクラッチ実装**"
   ]
  },
  {
   "cell_type": "code",
   "execution_count": 194,
   "metadata": {},
   "outputs": [],
   "source": [
    "from sklearn.model_selection import train_test_split\n",
    "\n",
    "X_train, X_test, y_train, y_test = train_test_split(X, y, test_size=0.2, shuffle=True, random_state=0)"
   ]
  },
  {
   "cell_type": "code",
   "execution_count": 180,
   "metadata": {},
   "outputs": [
    {
     "data": {
      "text/plain": [
       "array([0, 8, 8, 8, 9])"
      ]
     },
     "execution_count": 180,
     "metadata": {},
     "output_type": "execute_result"
    }
   ],
   "source": [
    "np.random.choice([0, 8, 9], 5, replace=True)"
   ]
  },
  {
   "cell_type": "code",
   "execution_count": 173,
   "metadata": {},
   "outputs": [
    {
     "name": "stdout",
     "output_type": "stream",
     "text": [
      "1168\n",
      "1168\n"
     ]
    }
   ],
   "source": [
    "print(len(np.unique(X_train.index)))\n",
    "print(len(X_train.index))"
   ]
  },
  {
   "cell_type": "code",
   "execution_count": 202,
   "metadata": {},
   "outputs": [
    {
     "name": "stdout",
     "output_type": "stream",
     "text": [
      "[ 493  225  864 ... 1425 1451  194]\n",
      "741\n"
     ]
    }
   ],
   "source": [
    "np.random.seed(1)\n",
    "X_train1_index = np.random.choice(X_train.index, X_train.shape[0], replace=True)\n",
    "X_train1 = X_train.loc[X_train1_index, :]\n",
    "y_train1 = y_train.loc[X_train1.index]\n",
    "\n",
    "np.random.seed(2)\n",
    "X_train2_index = np.random.choice(X_train.index, X_train.shape[0], replace=True)\n",
    "X_train2 = X_train.loc[X_train2_index, :]\n",
    "y_train2 = y_train.loc[X_train2.index]\n",
    "\n",
    "np.random.seed(3)\n",
    "X_train3_index = np.random.choice(X_train.index, X_train.shape[0], replace=True)\n",
    "X_train3 = X_train.loc[X_train3_index, :]\n",
    "y_train3 = y_train.loc[X_train3.index]\n",
    "\n",
    "print(X_train2_index)\n",
    "print(len(np.unique(X_train1_index)))\n",
    "#print(np.unique(X_train1_index))\n",
    "#print(X_train1)"
   ]
  },
  {
   "cell_type": "code",
   "execution_count": 203,
   "metadata": {},
   "outputs": [
    {
     "name": "stdout",
     "output_type": "stream",
     "text": [
      "MSE of max_depth=3: 2858916527.31606\n",
      "MSE of max_depth=4: 1645326912.2082877\n",
      "MSE of max_depth=5: 1599022771.990175\n",
      "model Bagging: 1605360844.8657339\n"
     ]
    }
   ],
   "source": [
    "# 決定木を使ってバギング\n",
    "model_1 = DecisionTreeRegressor(max_depth=5)\n",
    "model_2 = DecisionTreeRegressor(max_depth=5)\n",
    "model_3 = DecisionTreeRegressor(max_depth=5)\n",
    "\n",
    "model_1.fit(X_train1, y_train1)\n",
    "model_2.fit(X_train2, y_train2)\n",
    "model_3.fit(X_train3, y_train3)\n",
    "\n",
    "pred_1 = model_1.predict(X_test)\n",
    "pred_2 = model_2.predict(X_test)\n",
    "pred_3 = model_3.predict(X_test)\n",
    "\n",
    "print('MSE of max_depth=3:', mean_squared_error(y_test, pred_1))\n",
    "print('MSE of max_depth=4:', mean_squared_error(y_test, pred_2))\n",
    "print('MSE of max_depth=5:', mean_squared_error(y_test, pred_3))\n",
    "\n",
    "bagging_pred = (pred_1 + pred_2 + pred_3)/3\n",
    "print('model Bagging:', mean_squared_error(y_test, bagging_pred))"
   ]
  },
  {
   "cell_type": "code",
   "execution_count": 204,
   "metadata": {},
   "outputs": [
    {
     "name": "stdout",
     "output_type": "stream",
     "text": [
      "MSE of C=1: 2990936291.450201\n",
      "MSE of C=10: 2934765094.635084\n",
      "MSE of C=100: 2984776518.4681315\n",
      "model Bagging: 2965183989.7504797\n"
     ]
    }
   ],
   "source": [
    "# 線形回帰を使ってバギング\n",
    "model_1 = SVR('linear', C=1)\n",
    "model_2 = SVR('linear', C=1)\n",
    "model_3 = SVR('linear', C=1)\n",
    "\n",
    "model_1.fit(X_train1, y_train1)\n",
    "model_2.fit(X_train2, y_train2)\n",
    "model_3.fit(X_train3, y_train3)\n",
    "\n",
    "pred_1 = model_1.predict(X_test)\n",
    "pred_2 = model_2.predict(X_test)\n",
    "pred_3 = model_3.predict(X_test)\n",
    "\n",
    "print('MSE of C=1:', mean_squared_error(y_test, pred_1))\n",
    "print('MSE of C=10:', mean_squared_error(y_test, pred_2))\n",
    "print('MSE of C=100:', mean_squared_error(y_test, pred_3))\n",
    "\n",
    "bagging_pred = (pred_1 + pred_2 + pred_3) / 3\n",
    "print('model Bagging:', mean_squared_error(y_test, bagging_pred))"
   ]
  },
  {
   "cell_type": "code",
   "execution_count": 205,
   "metadata": {},
   "outputs": [
    {
     "name": "stdout",
     "output_type": "stream",
     "text": [
      "MSE of model 1: 3821218744.4509487\n",
      "MSE of model 2: 2565987171.527397\n",
      "MSE of model 3: 2773936393.932602\n",
      "model Bagging: 2098015586.4248374\n"
     ]
    }
   ],
   "source": [
    "# 決定木を使ってバギング\n",
    "model_1 = DecisionTreeRegressor()\n",
    "model_2 = DecisionTreeRegressor()\n",
    "model_3 = DecisionTreeRegressor()\n",
    "\n",
    "model_1.fit(X_train1, y_train1)\n",
    "model_2.fit(X_train2, y_train2)\n",
    "model_3.fit(X_train3, y_train3)\n",
    "\n",
    "pred_1 = model_1.predict(X_test)\n",
    "pred_2 = model_2.predict(X_test)\n",
    "pred_3 = model_3.predict(X_test)\n",
    "\n",
    "print('MSE of model 1:', mean_squared_error(y_test, pred_1))\n",
    "print('MSE of model 2:', mean_squared_error(y_test, pred_2))\n",
    "print('MSE of model 3:', mean_squared_error(y_test, pred_3))\n",
    "\n",
    "bagging_pred = (pred_1 + pred_2 + pred_3) / 3\n",
    "print('model Bagging:', mean_squared_error(y_test, bagging_pred))"
   ]
  },
  {
   "cell_type": "markdown",
   "metadata": {},
   "source": [
    "**単一のモデルよりも精度が高くなった**"
   ]
  },
  {
   "cell_type": "markdown",
   "metadata": {},
   "source": [
    "### **【問題3】スタッキングのスクラッチ実装**"
   ]
  },
  {
   "cell_type": "code",
   "execution_count": null,
   "metadata": {},
   "outputs": [],
   "source": [
    "from sklearn.model_selection import train_test_split\n",
    "X_train_valid, X_meta_valid, y_train_valid, y_meta_valid = train_test_split(X, y, test_size=0.2, random_state=0)"
   ]
  },
  {
   "cell_type": "code",
   "execution_count": null,
   "metadata": {},
   "outputs": [],
   "source": [
    "X_train, X_valid, y_train, y_valid = train_test_split(X_train_valid, y_train_valid, test_size=0.5, random_state=0)"
   ]
  },
  {
   "cell_type": "code",
   "execution_count": 32,
   "metadata": {},
   "outputs": [
    {
     "name": "stderr",
     "output_type": "stream",
     "text": [
      "/Users/kobayashishintachi/.pyenv/versions/anaconda3-5.3.1/lib/python3.7/site-packages/sklearn/svm/base.py:193: FutureWarning: The default value of gamma will change from 'auto' to 'scale' in version 0.22 to account better for unscaled features. Set gamma explicitly to 'auto' or 'scale' to avoid this warning.\n",
      "  \"avoid this warning.\", FutureWarning)\n"
     ]
    }
   ],
   "source": [
    "base_model_1 = LinearRegression()\n",
    "base_model_2 = SVR()\n",
    "base_model_3 = KNeighborsRegressor()\n",
    "\n",
    "base_model_1.fit(X_train, y_train)\n",
    "base_model_2.fit(X_train, y_train)\n",
    "base_model_3.fit(X_train, y_train)\n",
    "\n",
    "base_pred_1 = base_model_1.predict(X_valid)\n",
    "base_pred_2 = base_model_2.predict(X_valid)\n",
    "base_pred_3 = base_model_3.predict(X_valid)\n",
    "\n",
    "valid_pred_1 = base_model_1.predict(X_meta_valid)\n",
    "valid_pred_2 = base_model_2.predict(X_meta_valid)\n",
    "valid_pred_3 = base_model_3.predict(X_meta_valid)"
   ]
  },
  {
   "cell_type": "code",
   "execution_count": 35,
   "metadata": {},
   "outputs": [
    {
     "name": "stdout",
     "output_type": "stream",
     "text": [
      "MSE of model LinearRegression: 2888168119.8862\n",
      "MSE of model SVR: 7285911255.4753\n",
      "MSE of model KNeighbors: 3070952953.0530\n"
     ]
    }
   ],
   "source": [
    "print('MSE of model LinearRegression: {:.4f}'.format(mean_squared_error(y_meta_valid, valid_pred_1)))\n",
    "print('MSE of model SVR: {:.4f}'.format(mean_squared_error(y_meta_valid, valid_pred_2)))\n",
    "print('MSE of model KNeighbors: {:.4f}'.format(mean_squared_error(y_meta_valid, valid_pred_3)))"
   ]
  },
  {
   "cell_type": "code",
   "execution_count": 34,
   "metadata": {},
   "outputs": [
    {
     "name": "stdout",
     "output_type": "stream",
     "text": [
      "MSE of meta model: 2846620046.6803\n"
     ]
    }
   ],
   "source": [
    "stacked_predictions = np.column_stack((base_pred_1, base_pred_2, base_pred_3))\n",
    "stacked_valid_predictions = np.column_stack((valid_pred_1, valid_pred_2, valid_pred_3))\n",
    "\n",
    "meta_model = LinearRegression()\n",
    "meta_model.fit(stacked_predictions, y_valid)\n",
    "\n",
    "meta_valid_pred = meta_model.predict(stacked_valid_predictions)\n",
    "print('MSE of meta model: {:.4f}'.format(mean_squared_error(y_meta_valid, meta_valid_pred)))"
   ]
  },
  {
   "cell_type": "markdown",
   "metadata": {},
   "source": [
    "**単一モデルよりも精度が高くなった**"
   ]
  },
  {
   "cell_type": "code",
   "execution_count": 41,
   "metadata": {},
   "outputs": [],
   "source": [
    "base_model_1 = LinearRegression()\n",
    "base_model_2 = LGBMRegressor()\n",
    "base_model_3 = KNeighborsRegressor()\n",
    "\n",
    "base_model_1.fit(X_train, y_train)\n",
    "base_model_2.fit(X_train, y_train)\n",
    "base_model_3.fit(X_train, y_train)\n",
    "\n",
    "base_pred_1 = base_model_1.predict(X_valid)\n",
    "base_pred_2 = base_model_2.predict(X_valid)\n",
    "base_pred_3 = base_model_3.predict(X_valid)\n",
    "\n",
    "valid_pred_1 = base_model_1.predict(X_meta_valid)\n",
    "valid_pred_2 = base_model_2.predict(X_meta_valid)\n",
    "valid_pred_3 = base_model_3.predict(X_meta_valid)"
   ]
  },
  {
   "cell_type": "code",
   "execution_count": 42,
   "metadata": {},
   "outputs": [
    {
     "name": "stdout",
     "output_type": "stream",
     "text": [
      "MSE of model LinearRegression: 2942066921.6721\n",
      "MSE of model LGBMRegressor: 1980418355.5894\n",
      "MSE of model KNeighbors: 3119613673.7290\n"
     ]
    }
   ],
   "source": [
    "print('MSE of model LinearRegression: {:.4f}'.format(mean_squared_error(y_meta_valid, valid_pred_1)))\n",
    "print('MSE of model LGBMRegressor: {:.4f}'.format(mean_squared_error(y_meta_valid, valid_pred_2)))\n",
    "print('MSE of model KNeighbors: {:.4f}'.format(mean_squared_error(y_meta_valid, valid_pred_3)))"
   ]
  },
  {
   "cell_type": "code",
   "execution_count": 43,
   "metadata": {},
   "outputs": [
    {
     "name": "stdout",
     "output_type": "stream",
     "text": [
      "MSE of meta model: 2008120847.0258\n"
     ]
    }
   ],
   "source": [
    "stacked_predictions = np.column_stack((base_pred_1, base_pred_2, base_pred_3))\n",
    "stacked_valid_predictions = np.column_stack((valid_pred_1, valid_pred_2, valid_pred_3))\n",
    "\n",
    "meta_model = LinearRegression()\n",
    "meta_model.fit(stacked_predictions, y_valid)\n",
    "\n",
    "meta_valid_pred = meta_model.predict(stacked_valid_predictions)\n",
    "print('MSE of meta model: {:.4f}'.format(mean_squared_error(y_meta_valid, meta_valid_pred)))"
   ]
  },
  {
   "cell_type": "markdown",
   "metadata": {},
   "source": [
    "**単一モデルよりも精度が低くなった**"
   ]
  },
  {
   "cell_type": "code",
   "execution_count": 266,
   "metadata": {},
   "outputs": [],
   "source": [
    "X_train1, X_train2, X_train3 = np.split(X_train, [389, 778])\n",
    "y_train1, y_train2, y_train3 = np.split(y_train, [389, 778])\n",
    "# print(len(X_train1), len(X_train2), len(X_train3))\n",
    "\n",
    "X_train_1 = np.vstack((X_train2, X_train3))\n",
    "y_train_1 = np.hstack((y_train2, y_train3))\n",
    "\n",
    "X_train_2 = np.vstack((X_train1, X_train3))\n",
    "y_train_2 = np.hstack((y_train1, y_train3))\n",
    "\n",
    "X_train_3 = np.vstack((X_train1, X_train2))\n",
    "y_train_3 = np.hstack((y_train1, y_train2))"
   ]
  },
  {
   "cell_type": "code",
   "execution_count": 267,
   "metadata": {},
   "outputs": [],
   "source": [
    "base_model_1 = LinearRegression()\n",
    "base_model_2 = LGBMRegressor()\n",
    "base_model_3 = KNeighborsRegressor()\n",
    "\n",
    "base_model_1.fit(X_train_1, y_train_1)\n",
    "base_model_1.fit(X_train_2, y_train_2)\n",
    "base_model_1.fit(X_train_3, y_train_3)\n",
    "\n",
    "base_pred_11 = base_model_1.predict(X_train1)\n",
    "base_pred_21 = base_model_1.predict(X_train2)\n",
    "base_pred_31 = base_model_1.predict(X_train3)"
   ]
  },
  {
   "cell_type": "code",
   "execution_count": 268,
   "metadata": {},
   "outputs": [],
   "source": [
    "brend_data1 = np.hstack((base_pred_11, base_pred_22, base_pred_33))"
   ]
  },
  {
   "cell_type": "code",
   "execution_count": 269,
   "metadata": {},
   "outputs": [],
   "source": [
    "base_model_2.fit(X_train_1, y_train_1)\n",
    "base_model_2.fit(X_train_2, y_train_2)\n",
    "base_model_2.fit(X_train_3, y_train_3)\n",
    "\n",
    "base_pred_12 = base_model_2.predict(X_train1)\n",
    "base_pred_22 = base_model_2.predict(X_train2)\n",
    "base_pred_32 = base_model_2.predict(X_train3)"
   ]
  },
  {
   "cell_type": "code",
   "execution_count": 270,
   "metadata": {},
   "outputs": [],
   "source": [
    "brend_data2 = np.hstack((base_pred_12, base_pred_22, base_pred_32))"
   ]
  },
  {
   "cell_type": "code",
   "execution_count": 271,
   "metadata": {},
   "outputs": [],
   "source": [
    "base_model_3.fit(X_train_1, y_train_1)\n",
    "base_model_3.fit(X_train_2, y_train_2)\n",
    "base_model_3.fit(X_train_3, y_train_3)\n",
    "\n",
    "base_pred_13 = base_model_3.predict(X_train1)\n",
    "base_pred_23 = base_model_3.predict(X_train2)\n",
    "base_pred_33 = base_model_3.predict(X_train3)"
   ]
  },
  {
   "cell_type": "code",
   "execution_count": 272,
   "metadata": {},
   "outputs": [],
   "source": [
    "brend_data3 = np.hstack((base_pred_13, base_pred_23, base_pred_33))"
   ]
  },
  {
   "cell_type": "code",
   "execution_count": 275,
   "metadata": {},
   "outputs": [],
   "source": [
    "brend_data = (brend_data1 + brend_data2 + brend_data3) / 3"
   ]
  },
  {
   "cell_type": "markdown",
   "metadata": {},
   "source": [
    "### **スタッキングクラスに挑戦**"
   ]
  },
  {
   "cell_type": "code",
   "execution_count": 336,
   "metadata": {},
   "outputs": [],
   "source": [
    "from sklearn.svm import SVC\n",
    "from sklearn.linear_model import LinearRegression\n",
    "from sklearn.neighbors import KNeighborsClassifier\n",
    "from sklearn.ensemble import RandomForestClassifier\n",
    "\n",
    "from collections import defaultdict\n",
    "from sklearn.model_selection import KFold\n",
    "from copy import deepcopy"
   ]
  },
  {
   "cell_type": "code",
   "execution_count": 337,
   "metadata": {},
   "outputs": [
    {
     "data": {
      "text/plain": [
       "{'svm': SVC(C=1.0, cache_size=200, class_weight=None, coef0=0.0,\n",
       "     decision_function_shape='ovr', degree=3, gamma='auto_deprecated',\n",
       "     kernel='rbf', max_iter=-1, probability=False, random_state=None,\n",
       "     shrinking=True, tol=0.001, verbose=False),\n",
       " 'lr': LogisticRegression(C=1.0, class_weight=None, dual=False, fit_intercept=True,\n",
       "                    intercept_scaling=1, l1_ratio=None, max_iter=100,\n",
       "                    multi_class='warn', n_jobs=None, penalty='l2',\n",
       "                    random_state=None, solver='warn', tol=0.0001, verbose=0,\n",
       "                    warm_start=False),\n",
       " 'knn': KNeighborsClassifier(algorithm='auto', leaf_size=30, metric='minkowski',\n",
       "                      metric_params=None, n_jobs=None, n_neighbors=5, p=2,\n",
       "                      weights='uniform')}"
      ]
     },
     "execution_count": 337,
     "metadata": {},
     "output_type": "execute_result"
    }
   ],
   "source": [
    "estimators = list(zip(['svm', 'lr', 'knn'], [svm, lr, knn]))\n",
    "dict(estimators)"
   ]
  },
  {
   "cell_type": "code",
   "execution_count": 347,
   "metadata": {},
   "outputs": [
    {
     "name": "stdout",
     "output_type": "stream",
     "text": [
      "1168\n",
      "292\n",
      "1168\n",
      "292\n",
      "1168\n",
      "292\n",
      "1168\n",
      "292\n",
      "1168\n",
      "292\n",
      "0.8\n"
     ]
    }
   ],
   "source": [
    "skf = KFold(n_splits=5)\n",
    "index_list = list(skf.split(X, y))\n",
    "for train_index, test_index in index_list:\n",
    "    print(len(train_index))\n",
    "    print(len(test_index))\n",
    "# print(len(test_index))\n",
    "print(len(train_index)/1460)"
   ]
  },
  {
   "cell_type": "code",
   "execution_count": 3,
   "metadata": {},
   "outputs": [],
   "source": [
    "class StackingClassifier:\n",
    "    def __init__(self, estimators, merge_estimator):\n",
    "        self.original_clfs = dict(estimators)\n",
    "        self.m_clf = merge_estimator\n",
    "\n",
    "        self.clfs_dict = defaultdict(list)\n",
    "        self.clfs_index = sorted(self.original_clfs.keys())\n",
    "\n",
    "    def fit(self, X, y):\n",
    "        self.clfs_dict = defaultdict(list)\n",
    "\n",
    "        skf = KFold(n_splits=5)\n",
    "        index_list = list(skf.split(X, y))\n",
    "\n",
    "        merge_feature_list = []\n",
    "        for clf_name in self.clfs_index:\n",
    "            clf_origin = self.original_clfs[clf_name]\n",
    "            preds_tmp_list = []\n",
    "            for train_index, test_index in index_list:\n",
    "                # clf_copy = deepcopy(clf_origin)\n",
    "                clf_origin.fit(X.iloc[train_index, :], y.iloc[train_index])\n",
    "                preds_tmp_list.append(\n",
    "                    clf_origin.predict(X[test_index]))\n",
    "                self.clfs_dict[clf_name].append(clf_origin)\n",
    "            merge_feature_list.append(np.vstack(preds_tmp_list))\n",
    "        \n",
    "        X_merged = np.hstack(merge_feature_list)\n",
    "        y_merged = np.hstack([y[test_index] \n",
    "                              for _, test_index in index_list])\n",
    "\n",
    "        self.m_clf.fit(X_merged, y_merged)\n",
    "        return self\n",
    "\n",
    "        \n",
    "    def predict(self, X):\n",
    "        merge_feature_list = []\n",
    "        for clf_name in self.clfs_index:\n",
    "            tmp_proba_list = []\n",
    "            for clf in self.clfs_dict[clf_name]:\n",
    "                tmp_proba_list.append(clf.predict(X))\n",
    "            merge_feature_list.append(\n",
    "                np.mean(tmp_proba_list, axis=0))\n",
    "        X_merged = np.hstack(merge_feature_list)\n",
    "\n",
    "        return self.m_clf.predict(X_merged)"
   ]
  },
  {
   "cell_type": "code",
   "execution_count": 344,
   "metadata": {},
   "outputs": [],
   "source": [
    "# svm = SVC(C=5, gamma=0.001)\n",
    "# lr = LogisticRegression()\n",
    "# knn = KNeighborsClassifier()\n",
    "\n",
    "# estimators = list(zip(['svm', 'lr', 'knn'], [svm, lr, knn]))\n",
    "\n",
    "# # for name, clf in estimators:\n",
    "# #     clf.fit(X_train, y_train)\n",
    "# #     preds = clf.predict(X_test)\n",
    "# #     print(name)\n",
    "# #     print('mse:', mean_squared_error(y_test, preds))\n",
    "    \n",
    "# stcl = ScratchStacking(estimators, RandomForestClassifier(n_estimators=10, n_jobs=-1))\n",
    "# stcl.fit(X_train, y_train)\n",
    "# preds = stcl.predict(X_test)\n",
    "# print('stacking')\n",
    "# print('mse:', mean_squared_error(y_test, preds))"
   ]
  },
  {
   "cell_type": "code",
   "execution_count": 345,
   "metadata": {},
   "outputs": [
    {
     "name": "stderr",
     "output_type": "stream",
     "text": [
      "/Users/kobayashishintachi/.pyenv/versions/anaconda3-5.3.1/lib/python3.7/site-packages/sklearn/svm/base.py:193: FutureWarning: The default value of gamma will change from 'auto' to 'scale' in version 0.22 to account better for unscaled features. Set gamma explicitly to 'auto' or 'scale' to avoid this warning.\n",
      "  \"avoid this warning.\", FutureWarning)\n"
     ]
    },
    {
     "name": "stdout",
     "output_type": "stream",
     "text": [
      "svm\n",
      "mse: 5873069339.79452\n"
     ]
    },
    {
     "name": "stderr",
     "output_type": "stream",
     "text": [
      "/Users/kobayashishintachi/.pyenv/versions/anaconda3-5.3.1/lib/python3.7/site-packages/sklearn/linear_model/logistic.py:432: FutureWarning: Default solver will be changed to 'lbfgs' in 0.22. Specify a solver to silence this warning.\n",
      "  FutureWarning)\n",
      "/Users/kobayashishintachi/.pyenv/versions/anaconda3-5.3.1/lib/python3.7/site-packages/sklearn/linear_model/logistic.py:469: FutureWarning: Default multi_class will be changed to 'auto' in 0.22. Specify the multi_class option to silence this warning.\n",
      "  \"this warning.\", FutureWarning)\n"
     ]
    },
    {
     "name": "stdout",
     "output_type": "stream",
     "text": [
      "lr\n",
      "mse: 4066152564.729452\n",
      "knn\n",
      "mse: 3126137578.6643834\n"
     ]
    }
   ],
   "source": [
    "svm = SVC()\n",
    "lr = LogisticRegression()\n",
    "knn = KNeighborsClassifier()\n",
    "\n",
    "estimators = list(zip(['svm', 'lr', 'knn'], [svm, lr, knn]))\n",
    "\n",
    "for name, clf in estimators:\n",
    "    clf.fit(X_train, y_train)\n",
    "    preds = clf.predict(X_test)\n",
    "    print(name)\n",
    "    print('mse:', mean_squared_error(y_test, preds))"
   ]
  },
  {
   "cell_type": "code",
   "execution_count": 348,
   "metadata": {},
   "outputs": [],
   "source": [
    "# stcl = ScratchStacking(estimators, LinearRegression())\n",
    "# stcl.fit(X_train, y_train)\n",
    "# preds = stcl.predict(X_test)\n",
    "# print('stacking')\n",
    "# print('mse:', mean_squared_error(y_test, preds))"
   ]
  },
  {
   "cell_type": "code",
   "execution_count": null,
   "metadata": {},
   "outputs": [],
   "source": []
  }
 ],
 "metadata": {
  "kernelspec": {
   "display_name": "Python 3",
   "language": "python",
   "name": "python3"
  },
  "language_info": {
   "codemirror_mode": {
    "name": "ipython",
    "version": 3
   },
   "file_extension": ".py",
   "mimetype": "text/x-python",
   "name": "python",
   "nbconvert_exporter": "python",
   "pygments_lexer": "ipython3",
   "version": "3.7.2"
  }
 },
 "nbformat": 4,
 "nbformat_minor": 2
}
