{
 "cells": [
  {
   "cell_type": "markdown",
   "metadata": {},
   "source": [
    "### **【問題1】SVM分類器のクラスを作成する**\n",
    "\n",
    "SVM分類器のクラスを作成し、Sprint0で作成した分類のパイプラインに組み込んでください。\n",
    "\n",
    "クラスの基本構造はSprint3の線形回帰を参考にし、名前はScratchSVMClassifierとしてください。\n",
    "\n",
    "メソッドやパラメータなどはscikit-learnを参考にしてください。\n",
    "\n",
    "sklearn.svm.SVC — scikit-learn 0.20.2 documentation\n",
    "\n",
    "検証段階ではJupyter Notebook上で書いていき、最終的にはpyファイルにモジュールとしてまとめてください。\n",
    "\n",
    "scikit-learnにおけるパラメータについて\n",
    "\n",
    "scikit-learnの実装はソフトマージンSVMになっています。ハードマージンSVMを再現するには、パラメータCをC=1e10のように非常に大きな値を設定します。（無限大に向けてCを大きくするほどハードマージンSVMに近づきます）\n",
    "\n",
    "また、線形カーネルをscikit-learnで使う場合はkernel=\"linear\"と指定します。デフォルトではkernel=\"rbf\"になっており、多項式カーネルと呼ばれるものになっています。"
   ]
  },
  {
   "cell_type": "code",
   "execution_count": 116,
   "metadata": {},
   "outputs": [],
   "source": [
    "import numpy as np\n",
    "import pandas as pd\n",
    "import matplotlib.pyplot as plt\n",
    "%matplotlib inline"
   ]
  },
  {
   "cell_type": "code",
   "execution_count": 117,
   "metadata": {},
   "outputs": [],
   "source": [
    "# class ScratchSVMClassifierProvisional():\n",
    "    \n",
    "#     def __init__(self, num_iter, C, alpha):\n",
    "#         self.iter = num_iter\n",
    "#         self.C = C\n",
    "#         self.alpha = alpha\n",
    "        \n",
    "#     def _kernel(self, x_0, x_1):\n",
    "#         return np.dot(x_0, x_1.T)\n",
    "    \n",
    "#     def _gradient_descent(self, X):\n",
    "#         for i in range(self.m):\n",
    "#             self.lambda_[i] += self.alpha * self._dL(i)\n",
    "#             if self.lambda_[i] < 0:\n",
    "#                 self.lambda_[i] == 0\n",
    "#         return self.lambda_               \n",
    "    \n",
    "#     def _dL(self, i):\n",
    "#         self.dl = 0\n",
    "#         for j in range(0, self.m):\n",
    "#             self.lambda_[j] * y[i] * y[j] * self._kernel(X[i], X[j])\n",
    "#         return (1 - self.dl)\n",
    "        \n",
    "#     def fit(self, X, y, X_val=None, y_val=None):\n",
    "#         self.m = X.shape[0]\n",
    "#         self.lambda_ = np.random.rand(self.m)\n",
    "        \n",
    "#         for i in range(self.iter):\n",
    "#             self._dL(i)\n",
    "#             self._gradient_descent(X)\n",
    "        \n",
    "#         return self.lambda_\n",
    "    \n",
    "#     def predict(self, X):\n",
    "        \n",
    "#         pass\n",
    "#         return"
   ]
  },
  {
   "cell_type": "code",
   "execution_count": 138,
   "metadata": {},
   "outputs": [],
   "source": [
    "# class ScratchSVMClassifier():\n",
    "    \n",
    "#     def __init__(self, num_iter, alpha, lam=1e-5):\n",
    "#         self.iter = num_iter\n",
    "#         self.alpha = alpha\n",
    "#         self.lam = lam\n",
    "    \n",
    "#     def _gradient_descent(self, X, y):\n",
    "#         self.lambda_ += self.alpha * (1 - np.dot(self.lambda_, \\\n",
    "#                                                   (np.dot(y, y.T))*(np.dot(X, X.T))))\n",
    "\n",
    "#         return self.lambda_\n",
    "        \n",
    "#     def fit(self, X, y, X_val=None, y_val=None):\n",
    "#         self.m = X.shape[0]\n",
    "#         self.lambda_ = np.random.rand(self.m)\n",
    "#         self.y = y\n",
    "        \n",
    "#         for i in range(self.iter):\n",
    "#             self._gradient_descent(X, y)\n",
    "        \n",
    "#         return self.lambda_\n",
    "    \n",
    "#     def predict(self, X, y):       \n",
    "#         idx_sv = np.where(self.lambda_>self.lam)\n",
    "#         idx_ord = np.where(self.lambda_<=self.lam)\n",
    "        \n",
    "#         self.lambda_[idx_ord] = 0\n",
    "#         X_spv = X[idx_sv]\n",
    "#         y_spv = self.y[idx_sv]\n",
    "         \n",
    "#         self.lambda_ = self.lambda_[idx_sv]\n",
    "#         N = len(self.lambda_)\n",
    "        \n",
    "        \n",
    "#         # theta, theta_zeroの定義\n",
    "#         self.theta = np.dot(self.lambda_ * y_spv, X_spv)\n",
    "#         self.theta_zero = (y - np.dot(self.theta.T, X_spv)) / max(1, N)\n",
    "        \n",
    "#         y_hat = np.dot(self.theta.T, X) + self.theta_zero\n",
    "#         if y_hat < 0:\n",
    "#             y_pred = -1\n",
    "#         else:\n",
    "#             y_pred = 1\n",
    "            \n",
    "#         return y_pred"
   ]
  },
  {
   "cell_type": "code",
   "execution_count": 139,
   "metadata": {},
   "outputs": [
    {
     "name": "stdout",
     "output_type": "stream",
     "text": [
      "[1 3]\n",
      "[1 2 2 2]\n"
     ]
    }
   ],
   "source": [
    "from sklearn.datasets import load_iris\n",
    "\n",
    "iris = load_iris()\n",
    "X = iris.data[50:, :]\n",
    "y = iris.target[50:]\n",
    "y[50:] = -1\n",
    "\n",
    "a = np.array([1, 2, 3, 2, 2])\n",
    "print(a[a!=2])\n",
    "print(a[(a<3)==True])"
   ]
  },
  {
   "cell_type": "code",
   "execution_count": 140,
   "metadata": {},
   "outputs": [],
   "source": [
    "from sklearn.model_selection import train_test_split\n",
    "\n",
    "X_train, X_test, y_train, y_test = train_test_split(X, y)"
   ]
  },
  {
   "cell_type": "code",
   "execution_count": 141,
   "metadata": {},
   "outputs": [
    {
     "data": {
      "text/plain": [
       "array([ 0.70131999,  0.28339717,  0.23915119,  0.2973629 ,  0.653265  ,\n",
       "        0.823611  ,  0.10804969,  0.1631252 ,  0.04218458,  0.19091134,\n",
       "        0.47426539,  0.34281807,  0.9717341 ,  0.01139455,  0.73694825,\n",
       "        0.07683829,  0.46882295, -0.01804801,  0.70451456,  0.12594472,\n",
       "        0.97645267,  0.33103638,  0.00887069,  0.37191776,  0.80117661,\n",
       "        0.89505431,  0.9798866 ,  0.95514721,  0.12405914,  0.62336682,\n",
       "        0.53139095,  0.31076305,  0.54355808,  0.59640013,  0.84980444,\n",
       "        0.27272671,  0.39661451,  0.19286965,  0.91827737,  0.90209415,\n",
       "        0.9274798 ,  0.32292566,  0.90492834,  0.38802003,  0.32552265,\n",
       "        0.50334767,  0.79106374,  0.26555351,  0.03633636,  0.3424301 ,\n",
       "        0.74240149,  0.88005158,  0.49648957,  0.59879351,  0.90350396,\n",
       "        0.52482411,  0.86436429,  0.12595615,  0.81106128,  0.23858646,\n",
       "        0.54923472,  0.68970898,  0.41293119,  0.9323023 ,  0.7600137 ,\n",
       "        0.25233331,  0.3577287 ,  0.48714282,  0.42208595,  0.27674526,\n",
       "        0.14365987,  0.97810592,  0.32230895,  0.06911498,  0.57938384])"
      ]
     },
     "execution_count": 141,
     "metadata": {},
     "output_type": "execute_result"
    }
   ],
   "source": [
    "ssvm = ScratchSVMClassifier(num_iter=1000, alpha=1e-10, lam=1e-5)\n",
    "ssvm.fit(X_train, y_train)"
   ]
  },
  {
   "cell_type": "code",
   "execution_count": 142,
   "metadata": {},
   "outputs": [],
   "source": [
    "# a = np.array([1, 2, 3, 2, 2])\n",
    "# print(a[a!=2])\n",
    "# print(a[(a<3)==True])\n",
    "# print(np.where(a<3))"
   ]
  },
  {
   "cell_type": "code",
   "execution_count": 377,
   "metadata": {},
   "outputs": [],
   "source": [
    "class ScratchSVMClassifier_1():\n",
    "    \n",
    "    def __init__(self, num_iter, alpha, lam=1e-5):\n",
    "        self.iter = num_iter\n",
    "        self.alpha = alpha\n",
    "        self.lam = lam\n",
    "    \n",
    "    def _gradient_descent(self, X, y):\n",
    "        self.lambda_ += self.alpha * (1 - np.dot(self.lambda_, \\\n",
    "                                                  (np.dot(y, y.T))*(np.dot(X, X.T))))\n",
    "\n",
    "        return self.lambda_\n",
    "        \n",
    "    def fit(self, X, y, X_val=None, y_val=None):\n",
    "        self.m = X.shape[0]\n",
    "        self.lambda_ = np.random.rand(self.m)\n",
    "        self.y = y\n",
    "        \n",
    "        for i in range(self.iter):\n",
    "            self._gradient_descent(X, y)\n",
    "            \n",
    "        idx_sv = np.where(self.lambda_>self.lam)\n",
    "        idx_ord = np.where(self.lambda_<=self.lam)\n",
    "        \n",
    "        self.lambda_[idx_ord] = 0\n",
    "        self.X_sv = X[idx_sv]\n",
    "        self.y_sv = y[idx_sv]\n",
    "        \n",
    "        self.lambda_sv = self.lambda_[idx_sv]\n",
    "        N = len(self.lambda_sv)\n",
    "        \n",
    "        # theta, theta_zeroの定義\n",
    "        self.theta = np.dot(self.lambda_sv * self.y_sv, self.X_sv)\n",
    "        # self.theta_zero = (y - np.dot(self.theta.T, X_sv)) / max(1, N)\n",
    "        \n",
    "        return self.lambda_\n",
    "    \n",
    "    def predict(self, X):       \n",
    "        y_hat = np.dot(self.theta, X.T)\n",
    "        y_pred = np.zeros((y_hat.shape[0]))\n",
    "        for i in range(y_hat.shape[0]):\n",
    "            if y_hat[i] < 0:\n",
    "                y_pred[i] = -1\n",
    "            else:\n",
    "                y_pred[i] = 1\n",
    "            \n",
    "        return y_pred"
   ]
  },
  {
   "cell_type": "code",
   "execution_count": 378,
   "metadata": {},
   "outputs": [
    {
     "data": {
      "text/plain": [
       "array([0.        , 0.        , 0.        , 0.        , 0.        ,\n",
       "       0.        , 0.        , 0.        , 0.        , 0.        ,\n",
       "       0.70394862, 0.        , 0.        , 0.        , 0.        ,\n",
       "       0.        , 0.        , 0.        , 0.        , 0.        ,\n",
       "       0.        , 0.        , 0.        , 0.        , 0.        ,\n",
       "       0.        , 0.78207601, 0.        , 0.        , 0.        ,\n",
       "       0.        , 0.        , 0.        , 0.        , 0.        ,\n",
       "       0.73691149, 0.        , 0.        , 0.        , 0.        ,\n",
       "       0.        , 0.        , 0.        , 0.        , 0.        ,\n",
       "       0.        , 0.        , 0.        , 0.        , 0.        ,\n",
       "       0.        , 0.        , 0.        , 0.        , 0.        ,\n",
       "       0.        , 0.        , 0.        , 0.        , 0.        ,\n",
       "       0.        , 0.        , 0.        , 0.        , 0.        ,\n",
       "       0.        , 0.        , 0.        , 0.70943373, 0.        ,\n",
       "       0.        , 0.        , 0.        , 0.76468623, 0.        ])"
      ]
     },
     "execution_count": 378,
     "metadata": {},
     "output_type": "execute_result"
    }
   ],
   "source": [
    "ssvm1 = ScratchSVMClassifier_1(num_iter=10000, alpha=1e-10, lam=0.7)\n",
    "ssvm1.fit(X_train, y_train)"
   ]
  },
  {
   "cell_type": "code",
   "execution_count": 379,
   "metadata": {},
   "outputs": [
    {
     "data": {
      "text/plain": [
       "array([1., 1., 1., 1., 1., 1., 1., 1., 1., 1., 1., 1., 1., 1., 1., 1., 1.,\n",
       "       1., 1., 1., 1., 1., 1., 1., 1.])"
      ]
     },
     "execution_count": 379,
     "metadata": {},
     "output_type": "execute_result"
    }
   ],
   "source": [
    "pred = ssvm1.predict(X_test)\n",
    "pred"
   ]
  },
  {
   "cell_type": "markdown",
   "metadata": {},
   "source": [
    "### **【問題3】指標値の算出**"
   ]
  },
  {
   "cell_type": "code",
   "execution_count": 380,
   "metadata": {},
   "outputs": [
    {
     "data": {
      "text/plain": [
       "0.44"
      ]
     },
     "execution_count": 380,
     "metadata": {},
     "output_type": "execute_result"
    }
   ],
   "source": [
    "np.sum((pred == y_test) / y_test.shape[0])"
   ]
  },
  {
   "cell_type": "markdown",
   "metadata": {},
   "source": [
    "### **【問題4】決定領域の可視化**"
   ]
  },
  {
   "cell_type": "code",
   "execution_count": 381,
   "metadata": {},
   "outputs": [],
   "source": [
    "Iris = load_iris()\n",
    "X_ = Iris.data[50:, [1, 3]]\n",
    "y_ = Iris.target[50:]"
   ]
  },
  {
   "cell_type": "code",
   "execution_count": 382,
   "metadata": {},
   "outputs": [],
   "source": [
    "from sklearn.model_selection import train_test_split\n",
    "\n",
    "X_train1, X_test1, y_train1, y_test1 = train_test_split(X_, y_)"
   ]
  },
  {
   "cell_type": "code",
   "execution_count": 383,
   "metadata": {},
   "outputs": [
    {
     "data": {
      "text/plain": [
       "array([0.        , 0.        , 0.        , 0.        , 0.90682774,\n",
       "       0.        , 0.        , 0.80775359, 0.        , 0.        ,\n",
       "       0.7586632 , 0.        , 0.893533  , 0.78140528, 0.76617131,\n",
       "       0.        , 0.        , 0.91466211, 0.        , 0.        ,\n",
       "       0.        , 0.        , 0.76173001, 0.        , 0.        ,\n",
       "       0.        , 0.        , 0.        , 0.        , 0.        ,\n",
       "       0.        , 0.        , 0.88555583, 0.85673595, 0.        ,\n",
       "       0.8213264 , 0.        , 0.        , 0.        , 0.        ,\n",
       "       0.        , 0.        , 0.72226372, 0.        , 0.85721404,\n",
       "       0.        , 0.71817516, 0.        , 0.        , 0.        ,\n",
       "       0.        , 0.        , 0.        , 0.        , 0.80862564,\n",
       "       0.        , 0.        , 0.        , 0.        , 0.70696605,\n",
       "       0.        , 0.        , 0.        , 0.71579606, 0.71171526,\n",
       "       0.        , 0.        , 0.        , 0.77582609, 0.        ,\n",
       "       0.        , 0.89025568, 0.72082531, 0.        , 0.        ])"
      ]
     },
     "execution_count": 383,
     "metadata": {},
     "output_type": "execute_result"
    }
   ],
   "source": [
    "ssvm1.fit(X_train1, y_train1)"
   ]
  },
  {
   "cell_type": "code",
   "execution_count": 384,
   "metadata": {},
   "outputs": [
    {
     "data": {
      "text/plain": [
       "0.52"
      ]
     },
     "execution_count": 384,
     "metadata": {},
     "output_type": "execute_result"
    }
   ],
   "source": [
    "pred1 = ssvm1.predict(X_test1)\n",
    "np.sum((pred1 == y_test1) / y_test1.shape)"
   ]
  },
  {
   "cell_type": "code",
   "execution_count": 385,
   "metadata": {},
   "outputs": [],
   "source": [
    "import matplotlib.pyplot as plt\n",
    "from matplotlib.colors import ListedColormap\n",
    "import matplotlib.patches as mpatches\n",
    "\n",
    "def decision_region(X, y, model, step=0.01, title='decision region', xlabel='xlabel', ylabel='ylabel', target_names=['versicolor', 'virginica']):\n",
    "    \"\"\"\n",
    "    2値分類を2次元の特徴量で学習したモデルの決定領域を描く。\n",
    "    背景の色が学習したモデルによる推定値から描画される。\n",
    "    散布図の点は訓練データまたは検証データである。\n",
    "\n",
    "    Parameters\n",
    "    ----------------\n",
    "    X : ndarray, shape(n_samples, 2)\n",
    "        特徴量\n",
    "    y : ndarray, shape(n_samples,)\n",
    "        ラベル\n",
    "    model : object\n",
    "        学習したモデルのインスンタスを入れる\n",
    "    step : float, (default : 0.1)\n",
    "        推定値を計算する間隔を設定する\n",
    "    title : str\n",
    "        グラフのタイトルの文章を与える\n",
    "    xlabel, ylabel : str\n",
    "        軸ラベルの文章を与える\n",
    "    target_names= : list of str\n",
    "        凡例の一覧を与える\n",
    "    \"\"\"\n",
    "    # setting\n",
    "    scatter_color = ['red', 'blue']\n",
    "    contourf_color = ['pink', 'skyblue']\n",
    "    n_class = 2\n",
    "\n",
    "    # pred\n",
    "    mesh_f0, mesh_f1  = np.meshgrid(np.arange(np.min(X[:,0])-0.5, np.max(X[:,0])+0.5, step), np.arange(np.min(X[:,1])-0.5, np.max(X[:,1])+0.5, step))\n",
    "    mesh = np.c_[np.ravel(mesh_f0),np.ravel(mesh_f1)]\n",
    "    y_pred = model.predict(mesh).reshape(mesh_f0.shape)\n",
    "\n",
    "    # plot\n",
    "    plt.title(title)\n",
    "    plt.xlabel(xlabel)\n",
    "    plt.ylabel(ylabel)\n",
    "    plt.contourf(mesh_f0, mesh_f1, y_pred, n_class-1, cmap=ListedColormap(contourf_color))\n",
    "    plt.contour(mesh_f0, mesh_f1, y_pred, n_class-1, colors='y', linewidths=3, alpha=0.5)\n",
    "    for i, target in enumerate(set(y)):\n",
    "        plt.scatter(X[y==target][:, 0], X[y==target][:, 1], s=80, color=scatter_color[i], label=target_names[i], marker='o')\n",
    "    patches = [mpatches.Patch(color=scatter_color[i], label=target_names[i]) for i in range(n_class)]\n",
    "    # plt.scatter(ssvm1.X_sv[:, 0], ssvm1.X_sv[:, 1], color='y')\n",
    "    plt.legend(handles=patches)\n",
    "    plt.legend()\n",
    "    plt.show()"
   ]
  },
  {
   "cell_type": "code",
   "execution_count": 386,
   "metadata": {},
   "outputs": [
    {
     "name": "stderr",
     "output_type": "stream",
     "text": [
      "/Users/kobayashishintachi/.pyenv/versions/anaconda3-5.3.1/lib/python3.7/site-packages/ipykernel_launcher.py:43: UserWarning: No contour levels were found within the data range.\n"
     ]
    },
    {
     "data": {
      "image/png": "[encoded data removed]",
      "text/plain": [
       "<Figure size 432x288 with 1 Axes>"
      ]
     },
     "metadata": {
      "needs_background": "light"
     },
     "output_type": "display_data"
    }
   ],
   "source": [
    "decision_region(X_train1, y_train1, ssvm1, step=0.01, title='decision region', xlabel='xlabel', ylabel='ylabel', target_names=['versicolor', 'virginica'])"
   ]
  },
  {
   "cell_type": "code",
   "execution_count": 387,
   "metadata": {},
   "outputs": [
    {
     "name": "stdout",
     "output_type": "stream",
     "text": [
      "500 500\n"
     ]
    }
   ],
   "source": [
    "np.random.seed(seed=0)\n",
    "n_samples = 500\n",
    "f0 = [-1, 2]\n",
    "f1 = [2, -1]\n",
    "cov = [[1.0,0.8], [0.8, 1.0]]\n",
    "\n",
    "f0 = np.random.multivariate_normal(f0, cov, int(n_samples/2))\n",
    "f1 = np.random.multivariate_normal(f1, cov, int(n_samples/2))\n",
    "\n",
    "X = np.concatenate((f0, f1))\n",
    "y = np.concatenate((np.ones((int(n_samples/2))), np.ones((int(n_samples/2))) *(-1))).astype(np.int)\n",
    "\n",
    "random_index = np.random.permutation(np.arange(n_samples))\n",
    "X = X[random_index]\n",
    "y = y[random_index]\n",
    "print(len(X), len(y))"
   ]
  },
  {
   "cell_type": "code",
   "execution_count": 388,
   "metadata": {},
   "outputs": [],
   "source": [
    "X_train2, X_test2, y_train2, y_test2 = train_test_split(X, y)"
   ]
  },
  {
   "cell_type": "code",
   "execution_count": 497,
   "metadata": {},
   "outputs": [],
   "source": [
    "ssvm2 = ScratchSVMClassifier_1(num_iter=5000, alpha=1e-9, lam=0.95)"
   ]
  },
  {
   "cell_type": "code",
   "execution_count": 498,
   "metadata": {},
   "outputs": [
    {
     "name": "stdout",
     "output_type": "stream",
     "text": [
      "(array([  0,   1,   2,   3,   4,   5,   6,   7,   8,   9,  10,  11,  12,\n",
      "        13,  14,  15,  16,  17,  18,  19,  20,  21,  22,  23,  24,  25,\n",
      "        26,  27,  28,  29,  30,  31,  32,  33,  34,  35,  36,  37,  38,\n",
      "        39,  40,  41,  42,  43,  44,  45,  46,  47,  48,  50,  51,  52,\n",
      "        53,  54,  55,  56,  57,  59,  60,  61,  62,  63,  64,  65,  67,\n",
      "        68,  69,  70,  71,  72,  73,  74,  75,  76,  77,  78,  79,  80,\n",
      "        81,  82,  83,  84,  85,  86,  87,  88,  89,  90,  91,  92,  93,\n",
      "        94,  95,  96,  97,  98,  99, 100, 101, 102, 103, 104, 105, 106,\n",
      "       107, 108, 109, 110, 111, 112, 113, 114, 115, 116, 117, 118, 119,\n",
      "       120, 121, 122, 123, 124, 125, 126, 127, 129, 130, 131, 132, 133,\n",
      "       134, 135, 136, 137, 138, 139, 140, 141, 142, 143, 145, 146, 147,\n",
      "       148, 149, 150, 151, 152, 153, 154, 155, 156, 157, 158, 159, 160,\n",
      "       161, 162, 163, 164, 165, 166, 167, 168, 169, 170, 171, 172, 173,\n",
      "       174, 175, 176, 177, 179, 180, 181, 182, 183, 184, 185, 186, 187,\n",
      "       188, 189, 190, 191, 192, 193, 194, 195, 196, 197, 198, 199, 201,\n",
      "       202, 203, 204, 205, 206, 207, 208, 209, 210, 211, 212, 213, 214,\n",
      "       215, 216, 217, 218, 219, 220, 221, 222, 223, 224, 225, 226, 227,\n",
      "       228, 229, 231, 232, 233, 236, 237, 238, 239, 240, 241, 242, 243,\n",
      "       244, 245, 246, 247, 248, 249, 250, 251, 252, 253, 254, 255, 256,\n",
      "       257, 258, 259, 260, 261, 262, 263, 264, 265, 266, 267, 268, 269,\n",
      "       270, 271, 272, 273, 274, 275, 276, 277, 278, 279, 280, 281, 282,\n",
      "       283, 284, 285, 286, 287, 288, 289, 290, 291, 294, 295, 296, 297,\n",
      "       298, 299, 300, 301, 302, 303, 305, 306, 307, 308, 309, 310, 311,\n",
      "       312, 313, 314, 315, 316, 317, 318, 319, 320, 321, 322, 323, 324,\n",
      "       325, 326, 328, 329, 330, 331, 332, 333, 334, 335, 336, 337, 338,\n",
      "       339, 340, 341, 342, 343, 344, 345, 346, 347, 348, 349, 350, 351,\n",
      "       352, 353, 354, 355, 356, 357, 358, 359, 360, 361, 362, 363, 365,\n",
      "       366, 367, 368, 369, 370, 371, 372, 373, 374]),)\n",
      "[0.         0.         0.         0.         0.         0.\n",
      " 0.         0.         0.         0.         0.         0.\n",
      " 0.         0.         0.         0.         0.         0.\n",
      " 0.         0.         0.         0.         0.         0.\n",
      " 0.         0.         0.         0.         0.         0.\n",
      " 0.         0.         0.         0.         0.         0.\n",
      " 0.         0.         0.         0.         0.         0.\n",
      " 0.         0.         0.         0.         0.         0.\n",
      " 0.         1.03039884 0.         0.         0.         0.\n",
      " 0.         0.         0.         0.         1.11390869 0.\n",
      " 0.         0.         0.         0.         0.         0.\n",
      " 1.02044636 0.         0.         0.         0.         0.\n",
      " 0.         0.         0.         0.         0.         0.\n",
      " 0.         0.         0.         0.         0.         0.\n",
      " 0.         0.         0.         0.         0.         0.\n",
      " 0.         0.         0.         0.         0.         0.\n",
      " 0.         0.         0.         0.         0.         0.\n",
      " 0.         0.         0.         0.         0.         0.\n",
      " 0.         0.         0.         0.         0.         0.\n",
      " 0.         0.         0.         0.         0.         0.\n",
      " 0.         0.         0.         0.         0.         0.\n",
      " 0.         0.         1.02148101 0.         0.         0.\n",
      " 0.         0.         0.         0.         0.         0.\n",
      " 0.         0.         0.         0.         0.         0.\n",
      " 0.9560023  0.         0.         0.         0.         0.\n",
      " 0.         0.         0.         0.         0.         0.\n",
      " 0.         0.         0.         0.         0.         0.\n",
      " 0.         0.         0.         0.         0.         0.\n",
      " 0.         0.         0.         0.         0.         0.\n",
      " 0.         0.         0.         0.         1.06994666 0.\n",
      " 0.         0.         0.         0.         0.         0.\n",
      " 0.         0.         0.         0.         0.         0.\n",
      " 0.         0.         0.         0.         0.         0.\n",
      " 0.         0.         1.04913413 0.         0.         0.\n",
      " 0.         0.         0.         0.         0.         0.\n",
      " 0.         0.         0.         0.         0.         0.\n",
      " 0.         0.         0.         0.         0.         0.\n",
      " 0.         0.         0.         0.         0.         0.\n",
      " 0.         0.         0.95369143 0.         0.         0.\n",
      " 0.97147122 1.00753083 0.         0.         0.         0.\n",
      " 0.         0.         0.         0.         0.         0.\n",
      " 0.         0.         0.         0.         0.         0.\n",
      " 0.         0.         0.         0.         0.         0.\n",
      " 0.         0.         0.         0.         0.         0.\n",
      " 0.         0.         0.         0.         0.         0.\n",
      " 0.         0.         0.         0.         0.         0.\n",
      " 0.         0.         0.         0.         0.         0.\n",
      " 0.         0.         0.         0.         0.         0.\n",
      " 0.         0.         0.         0.         1.09649731 1.04404351\n",
      " 0.         0.         0.         0.         0.         0.\n",
      " 0.         0.         0.         0.         1.12846276 0.\n",
      " 0.         0.         0.         0.         0.         0.\n",
      " 0.         0.         0.         0.         0.         0.\n",
      " 0.         0.         0.         0.         0.         0.\n",
      " 0.         0.         0.         1.06751081 0.         0.\n",
      " 0.         0.         0.         0.         0.         0.\n",
      " 0.         0.         0.         0.         0.         0.\n",
      " 0.         0.         0.         0.         0.         0.\n",
      " 0.         0.         0.         0.         0.         0.\n",
      " 0.         0.         0.         0.         0.         0.\n",
      " 0.         0.         0.         0.         0.96240957 0.\n",
      " 0.         0.         0.         0.         0.         0.\n",
      " 0.         0.         0.        ]\n"
     ]
    }
   ],
   "source": [
    "lamlam = ssvm2.fit(X_train2, y_train2)\n",
    "print(np.where(lamlam==0))\n",
    "print(lamlam)"
   ]
  },
  {
   "cell_type": "code",
   "execution_count": 499,
   "metadata": {},
   "outputs": [],
   "source": [
    "def decision_region1(X, y, model, step=0.01, title='decision region', xlabel='xlabel', ylabel='ylabel', target_names=['versicolor', 'virginica']):\n",
    "    \"\"\"\n",
    "    2値分類を2次元の特徴量で学習したモデルの決定領域を描く。\n",
    "    背景の色が学習したモデルによる推定値から描画される。\n",
    "    散布図の点は訓練データまたは検証データである。\n",
    "\n",
    "    Parameters\n",
    "    ----------------\n",
    "    X : ndarray, shape(n_samples, 2)\n",
    "        特徴量\n",
    "    y : ndarray, shape(n_samples,)\n",
    "        ラベル\n",
    "    model : object\n",
    "        学習したモデルのインスンタスを入れる\n",
    "    step : float, (default : 0.1)\n",
    "        推定値を計算する間隔を設定する\n",
    "    title : str\n",
    "        グラフのタイトルの文章を与える\n",
    "    xlabel, ylabel : str\n",
    "        軸ラベルの文章を与える\n",
    "    target_names= : list of str\n",
    "        凡例の一覧を与える\n",
    "    \"\"\"\n",
    "    # setting\n",
    "    scatter_color = ['red', 'blue']\n",
    "    contourf_color = ['pink', 'skyblue']\n",
    "    n_class = 2\n",
    "\n",
    "    # pred\n",
    "    mesh_f0, mesh_f1  = np.meshgrid(np.arange(np.min(X[:,0])-0.5, np.max(X[:,0])+0.5, step), np.arange(np.min(X[:,1])-0.5, np.max(X[:,1])+0.5, step))\n",
    "    mesh = np.c_[np.ravel(mesh_f0),np.ravel(mesh_f1)]\n",
    "    y_pred = model.predict(mesh).reshape(mesh_f0.shape)\n",
    "\n",
    "    # plot\n",
    "    plt.title(title)\n",
    "    plt.xlabel(xlabel)\n",
    "    plt.ylabel(ylabel)\n",
    "    plt.contourf(mesh_f0, mesh_f1, y_pred, n_class-1, cmap=ListedColormap(contourf_color))\n",
    "    plt.contour(mesh_f0, mesh_f1, y_pred, n_class-1, colors='y', linewidths=3, alpha=0.5)\n",
    "    for i, target in enumerate(set(y)):\n",
    "        plt.scatter(X[y==target][:, 0], X[y==target][:, 1], s=80, color=scatter_color[i], label=target_names[i], marker='o')\n",
    "    patches = [mpatches.Patch(color=scatter_color[i], label=target_names[i]) for i in range(n_class)]\n",
    "    plt.scatter(ssvm2.X_sv[:, 0], ssvm2.X_sv[:, 1], color='y')\n",
    "    plt.legend(handles=patches)\n",
    "    plt.legend()\n",
    "    plt.show()"
   ]
  },
  {
   "cell_type": "code",
   "execution_count": 500,
   "metadata": {},
   "outputs": [
    {
     "data": {
      "image/png": "[encoded data removed]",
      "text/plain": [
       "<Figure size 432x288 with 1 Axes>"
      ]
     },
     "metadata": {
      "needs_background": "light"
     },
     "output_type": "display_data"
    }
   ],
   "source": [
    "decision_region1(X_train2, y_train2, ssvm2, step=0.01, title='decision region', xlabel='xlabel', ylabel='ylabel', target_names=['versicolor', 'virginica'])"
   ]
  },
  {
   "cell_type": "markdown",
   "metadata": {},
   "source": [
    "### **【問題5】時間の計測**"
   ]
  },
  {
   "cell_type": "code",
   "execution_count": 501,
   "metadata": {},
   "outputs": [
    {
     "name": "stdout",
     "output_type": "stream",
     "text": [
      "time : 0.00034308433532714844s\n"
     ]
    }
   ],
   "source": [
    "import time\n",
    "t0 = time.time()\n",
    "class ScratchSVMClassifier_1():\n",
    "    \n",
    "    def __init__(self, num_iter, alpha, lam=1e-5):\n",
    "        self.iter = num_iter\n",
    "        self.alpha = alpha\n",
    "        self.lam = lam\n",
    "    \n",
    "    def _gradient_descent(self, X, y):\n",
    "        self.lambda_ += self.alpha * (1 - np.dot(self.lambda_, \\\n",
    "                                                  (np.dot(y, y.T))*(np.dot(X, X.T))))\n",
    "\n",
    "        return self.lambda_\n",
    "        \n",
    "    def fit(self, X, y, X_val=None, y_val=None):\n",
    "        self.m = X.shape[0]\n",
    "        self.lambda_ = np.random.rand(self.m)\n",
    "        self.y = y\n",
    "        \n",
    "        for i in range(self.iter):\n",
    "            self._gradient_descent(X, y)\n",
    "            \n",
    "        idx_sv = np.where(self.lambda_>self.lam)\n",
    "        idx_ord = np.where(self.lambda_<=self.lam)\n",
    "        \n",
    "        self.lambda_[idx_ord] = 0\n",
    "        self.X_sv = X[idx_sv]\n",
    "        self.y_sv = y[idx_sv]\n",
    "        \n",
    "        self.lambda_sv = self.lambda_[idx_sv]\n",
    "        N = len(self.lambda_sv)\n",
    "        \n",
    "        # theta, theta_zeroの定義\n",
    "        self.theta = np.dot(self.lambda_sv * self.y_sv, self.X_sv)\n",
    "        # self.theta_zero = (y - np.dot(self.theta.T, X_sv)) / max(1, N)\n",
    "        \n",
    "        return self.lambda_\n",
    "    \n",
    "    def predict(self, X):       \n",
    "        y_hat = np.dot(self.theta, X.T)\n",
    "        y_pred = np.zeros((y_hat.shape[0]))\n",
    "        for i in range(y_hat.shape[0]):\n",
    "            if y_hat[i] < 0:\n",
    "                y_pred[i] = -1\n",
    "            else:\n",
    "                y_pred[i] = 1\n",
    "            \n",
    "        return y_pred\n",
    "t1 = time.time()\n",
    "print('time : {}s'.format(t1-t0))"
   ]
  },
  {
   "cell_type": "code",
   "execution_count": null,
   "metadata": {},
   "outputs": [],
   "source": []
  }
 ],
 "metadata": {
  "kernelspec": {
   "display_name": "Python 3",
   "language": "python",
   "name": "python3"
  },
  "language_info": {
   "codemirror_mode": {
    "name": "ipython",
    "version": 3
   },
   "file_extension": ".py",
   "mimetype": "text/x-python",
   "name": "python",
   "nbconvert_exporter": "python",
   "pygments_lexer": "ipython3",
   "version": "3.7.2"
  }
 },
 "nbformat": 4,
 "nbformat_minor": 2
}
