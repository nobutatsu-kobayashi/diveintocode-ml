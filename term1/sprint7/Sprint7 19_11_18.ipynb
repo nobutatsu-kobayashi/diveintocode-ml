{
 "cells": [
  {
   "cell_type": "markdown",
   "metadata": {},
   "source": [
    "# **Sprint7 クラスタリング**"
   ]
  },
  {
   "cell_type": "markdown",
   "metadata": {},
   "source": [
    "## **K-meansスクラッチ**"
   ]
  },
  {
   "cell_type": "code",
   "execution_count": 1,
   "metadata": {},
   "outputs": [],
   "source": [
    "import numpy as np\n",
    "import matplotlib.pyplot as plt\n",
    "%matplotlib inline"
   ]
  },
  {
   "cell_type": "code",
   "execution_count": 6,
   "metadata": {},
   "outputs": [],
   "source": [
    "from sklearn.datasets import make_blobs\n",
    "X, _ = make_blobs(n_samples=100, n_features=2, centers=4, cluster_std=0.5, shuffle=True, random_state=0)\n"
   ]
  },
  {
   "cell_type": "code",
   "execution_count": 7,
   "metadata": {},
   "outputs": [
    {
     "data": {
      "image/png": "[encoded data removed]",
      "text/plain": [
       "<Figure size 432x288 with 1 Axes>"
      ]
     },
     "metadata": {
      "needs_background": "light"
     },
     "output_type": "display_data"
    }
   ],
   "source": [
    "plt.scatter(X[:, 0], X[:, 1])\n",
    "plt.show();"
   ]
  },
  {
   "cell_type": "markdown",
   "metadata": {},
   "source": [
    "### **【問題1】中心点の初期値を決める**"
   ]
  },
  {
   "cell_type": "code",
   "execution_count": 3,
   "metadata": {},
   "outputs": [],
   "source": [
    "def initial_centroid(X, n_clusters):\n",
    "    X_initial_indexes = np.arange(X.shape[0])\n",
    "    initial_centroid_indexes = np.random.permutation(X_initial_indexes)[:n_clusters]\n",
    "    centroid_centers_ = X[initial_centroid_indexes]\n",
    "    \n",
    "    return centroid_centers_"
   ]
  },
  {
   "cell_type": "code",
   "execution_count": 8,
   "metadata": {},
   "outputs": [
    {
     "data": {
      "text/plain": [
       "array([[-1.61803727,  8.60696731],\n",
       "       [-1.7653772 ,  8.17625727],\n",
       "       [ 1.74265969,  5.03846671],\n",
       "       [ 0.4519936 ,  3.59377836]])"
      ]
     },
     "execution_count": 8,
     "metadata": {},
     "output_type": "execute_result"
    }
   ],
   "source": [
    "initial_centroid(X, 4)"
   ]
  },
  {
   "cell_type": "markdown",
   "metadata": {},
   "source": [
    "### **【問題2】SSEを求める関数の作成**"
   ]
  },
  {
   "cell_type": "code",
   "execution_count": 10,
   "metadata": {},
   "outputs": [],
   "source": [
    "def distance(x, y):\n",
    "    return np.sum((x - y)**2)"
   ]
  },
  {
   "cell_type": "code",
   "execution_count": 29,
   "metadata": {},
   "outputs": [],
   "source": [
    "X = np.array([[1, 1], [1, 2], [2, 2], [4, 5], [5, 4]])\n",
    "initial = np.array([[1, 1.1], [1, 2.1]])"
   ]
  },
  {
   "cell_type": "code",
   "execution_count": 26,
   "metadata": {},
   "outputs": [
    {
     "name": "stdout",
     "output_type": "stream",
     "text": [
      "[0 1 1 1 1]\n",
      "[[1.000e-02 1.210e+00]\n",
      " [8.100e-01 1.000e-02]\n",
      " [1.810e+00 1.010e+00]\n",
      " [2.421e+01 1.741e+01]\n",
      " [2.441e+01 1.961e+01]]\n",
      "[1.000e-02 1.000e-02 1.010e+00 1.741e+01 1.961e+01]\n",
      "38.05\n"
     ]
    }
   ],
   "source": [
    "pred = np.zeros(X.shape[0])\n",
    "\n",
    "new_pred = np.array([\n",
    "    np.array([\n",
    "        distance(x, centroid) \n",
    "        for centroid in initial\n",
    "    ]).argmin() \n",
    "    for x in X\n",
    "])\n",
    "\n",
    "sumsum = np.array([\n",
    "    np.array([\n",
    "        distance(x, centroid) \n",
    "        for centroid in initial\n",
    "    ]) \n",
    "    for x in X\n",
    "])\n",
    "\n",
    "ssejr = np.array([\n",
    "    np.array([\n",
    "        distance(x, centroid) \n",
    "        for centroid in initial\n",
    "    ]).min() \n",
    "    for x in X\n",
    "])\n",
    "\n",
    "print(new_pred)\n",
    "print(sumsum)\n",
    "print(ssejr)\n",
    "print(ssejr.sum())"
   ]
  },
  {
   "cell_type": "code",
   "execution_count": 30,
   "metadata": {},
   "outputs": [],
   "source": [
    "def sse(X, n_clusters):\n",
    "    centroid_centers_ = initial_centroid(X, n_clusters)\n",
    "    sse_min_point = np.array([\n",
    "        np.array([\n",
    "            distance(x, centroid) \n",
    "            for centroid in centroid_centers_\n",
    "        ]).min() \n",
    "        for x in X\n",
    "    ])\n",
    "    sse = sse_min_point.sum()\n",
    "    \n",
    "    return sse"
   ]
  },
  {
   "cell_type": "code",
   "execution_count": 31,
   "metadata": {},
   "outputs": [
    {
     "data": {
      "text/plain": [
       "39"
      ]
     },
     "execution_count": 31,
     "metadata": {},
     "output_type": "execute_result"
    }
   ],
   "source": [
    "sse(X, 2)"
   ]
  },
  {
   "cell_type": "markdown",
   "metadata": {},
   "source": [
    "### **【問題3】クラスタへの割り当て**"
   ]
  },
  {
   "cell_type": "code",
   "execution_count": 32,
   "metadata": {},
   "outputs": [],
   "source": [
    "def cluster_assignment(X, n_clusters):\n",
    "    centroid_centers_ = initial_centroid(X, n_clusters)\n",
    "    pred = np.array([\n",
    "        np.array([\n",
    "            distance(x, centroid) \n",
    "            for centroid in centroid_centers_\n",
    "        ]).argmin() \n",
    "        for x in X\n",
    "    ])\n",
    "    \n",
    "    return pred"
   ]
  },
  {
   "cell_type": "code",
   "execution_count": 33,
   "metadata": {},
   "outputs": [
    {
     "data": {
      "text/plain": [
       "array([1, 1, 1, 0, 0])"
      ]
     },
     "execution_count": 33,
     "metadata": {},
     "output_type": "execute_result"
    }
   ],
   "source": [
    "cluster_assignment(X, 2)"
   ]
  },
  {
   "cell_type": "markdown",
   "metadata": {},
   "source": [
    "### **【問題4】中心点の移動**"
   ]
  },
  {
   "cell_type": "code",
   "execution_count": 35,
   "metadata": {},
   "outputs": [],
   "source": [
    "def move_center(X, n_clusters):\n",
    "    pred = cluster_assignment(X, n_clusters)\n",
    "    centroid_centers_ = np.array(X[pred == i].mean(axis=0) for i in n_clusters)\n",
    "    return centroid_centers_"
   ]
  },
  {
   "cell_type": "markdown",
   "metadata": {},
   "source": [
    "### **【問題5】繰り返し**"
   ]
  },
  {
   "cell_type": "code",
   "execution_count": 43,
   "metadata": {},
   "outputs": [],
   "source": [
    "class ScratchKMeans():\n",
    "    \n",
    "    def __init__(self, n_clusters, max_iter, verbose=False):\n",
    "        self.n_clusters = n_clusters\n",
    "        self.max_iter = max_iter\n",
    "        self.cluster_centers_ = None\n",
    "        \n",
    "    def fit(self, X):\n",
    "        X_initial_indexes = np.arange(X.shape[0])\n",
    "        initial_centroid_indexes = np.random.permutation(X_initial_indexes)[:self.n_clusters]\n",
    "        self.cluster_centers_ = X[initial_centroid_indexes]\n",
    "        \n",
    "        pred = np.zeros(X.shape[0])\n",
    "        \n",
    "        # sse_min = []\n",
    "        for _ in range(self.max_iter):\n",
    "            new_pred = np.array([\n",
    "                np.array([\n",
    "                    self._distance(x, centroid) for centroid in self.cluster_centers_\n",
    "                ]).argmin() for x in X\n",
    "            ])\n",
    "            \n",
    "            if np.all(new_pred == pred):\n",
    "                break\n",
    "            \n",
    "            pred = new_pred\n",
    "            self.cluster_centers_ = np.array([X[pred == i].mean(axis=0) for i in range(self.n_clusters)])\n",
    "            \n",
    "            # sse_list = sse_min.append(sse_min_point.sum())\n",
    "            # sse_array = np.array(sse_list)\n",
    "            \n",
    "            # if self.verbose:\n",
    "                # print(sse_array)\n",
    "                \n",
    "        return pred\n",
    "    \n",
    "    def _distance(self, x, y):\n",
    "        return np.sum((x - y)**2)"
   ]
  },
  {
   "cell_type": "markdown",
   "metadata": {},
   "source": [
    "### **【問題6】異なる初期値で計算**"
   ]
  },
  {
   "cell_type": "code",
   "execution_count": 110,
   "metadata": {},
   "outputs": [
    {
     "data": {
      "text/plain": [
       "[38.05, 11.625, 2.333333333333333, 2.333333333333333, 2.333333333333333]"
      ]
     },
     "execution_count": 110,
     "metadata": {},
     "output_type": "execute_result"
    }
   ],
   "source": [
    "X = np.array([[1, 1], [1, 2], [2, 2], [4, 5], [5, 4]])\n",
    "cluster_centers_ = np.array([[1, 1.1], [1, 2.1]])\n",
    "\n",
    "fai = []\n",
    "# y = 100\n",
    "g = np.zeros(5)\n",
    "for _ in range(5):\n",
    "    h = np.array([\n",
    "        np.array([\n",
    "            distance(x, centroid) for centroid in cluster_centers_\n",
    "        ]).min() for x in X\n",
    "    ])\n",
    "    \n",
    "    new_g = np.array([\n",
    "        np.array([\n",
    "            distance(x, centroid) for centroid in cluster_centers_\n",
    "        ]).argmin() for x in X\n",
    "    ])\n",
    "    \n",
    "    new_y = h.sum()\n",
    "    y = new_y\n",
    "    g = new_g\n",
    "    cluster_centers_ = np.array([X[g == i].mean(axis=0) for i in range(2)])\n",
    "    fai.append(y)\n",
    "    \n",
    "fai"
   ]
  },
  {
   "cell_type": "code",
   "execution_count": 294,
   "metadata": {},
   "outputs": [],
   "source": [
    "class ScratchKMeans():\n",
    "    \n",
    "    def __init__(self, n_clusters, max_iter, n_init, verbose=False):\n",
    "        self.n_clusters = n_clusters\n",
    "        self.max_iter = max_iter\n",
    "        self.n_init = n_init\n",
    "        self.cluster_centers_ = None\n",
    "        self.verbose = verbose\n",
    "        self.sse = None\n",
    "        \n",
    "    def fit(self, X):\n",
    "        for _ in range(self.n_init):\n",
    "            X_initial_indexes = np.arange(X.shape[0])\n",
    "            np.random.seed(0)\n",
    "            initial_centroid_indexes = np.random.permutation(X_initial_indexes)[:self.n_clusters]\n",
    "            self.cluster_centers_ = X[initial_centroid_indexes]\n",
    "        \n",
    "        pred = np.zeros(X.shape[0])\n",
    "        sse_list = []\n",
    "        for _ in range(self.max_iter):\n",
    "            sse_min_point = np.array([\n",
    "                np.array([\n",
    "                    self._distance(x, centroid) for centroid in self.cluster_centers_\n",
    "                ]).min() for x in X\n",
    "            ])\n",
    "            \n",
    "            new_pred = np.array([\n",
    "                np.array([\n",
    "                    self._distance(x, centroid) for centroid in self.cluster_centers_\n",
    "                ]).argmin() for x in X\n",
    "            ])\n",
    "            \n",
    "            if np.all(new_pred == pred):\n",
    "                break\n",
    "            \n",
    "            new_sse = sse_min_point.sum()\n",
    "            self.sse = new_sse\n",
    "            pred = new_pred\n",
    "            self.cluster_centers_ = np.array([X[pred == i].mean(axis=0) for i in range(self.n_clusters)])\n",
    "            \n",
    "            sse_list.append(self.sse)\n",
    "            sse_array = np.array(sse_list)\n",
    "            \n",
    "            if self.verbose:\n",
    "                print(sse_array)\n",
    "                \n",
    "        return pred\n",
    "    \n",
    "    def _distance(self, x, y):\n",
    "        return np.sum((x - y)**2)"
   ]
  },
  {
   "cell_type": "markdown",
   "metadata": {},
   "source": [
    "### **【問題7】推定**"
   ]
  },
  {
   "cell_type": "code",
   "execution_count": 295,
   "metadata": {},
   "outputs": [],
   "source": [
    "from sklearn.datasets import make_blobs\n",
    "X, _ = make_blobs(n_samples=100, n_features=2, centers=4, cluster_std=0.5, shuffle=True, random_state=0)"
   ]
  },
  {
   "cell_type": "code",
   "execution_count": 296,
   "metadata": {},
   "outputs": [
    {
     "data": {
      "text/plain": [
       "array([[-0.565433  ,  3.65813966],\n",
       "       [ 1.60161834,  0.92363636],\n",
       "       [ 1.35678894,  4.36462484],\n",
       "       [-1.26041884,  7.46644456]])"
      ]
     },
     "execution_count": 296,
     "metadata": {},
     "output_type": "execute_result"
    }
   ],
   "source": [
    "X_initial_indexes = np.arange(X.shape[0])\n",
    "np.random.seed(0)\n",
    "initial_centroid_indexes = np.random.permutation(X_initial_indexes)[:4]\n",
    "cluster_centers_ = X[initial_centroid_indexes]\n",
    "cluster_centers_"
   ]
  },
  {
   "cell_type": "code",
   "execution_count": 297,
   "metadata": {},
   "outputs": [
    {
     "data": {
      "text/plain": [
       "array([2, 3, 2, 2, 2, 2, 0, 3, 2, 3, 3, 3, 3, 3, 3, 1, 1, 0, 0, 1, 2, 3,\n",
       "       0, 1, 2, 0, 0, 2, 1, 1, 1, 3, 1, 1, 0, 2, 3, 1, 3, 0, 2, 0, 3, 0,\n",
       "       0, 3, 1, 0, 2, 2, 2, 1, 0, 0, 0, 3, 3, 1, 1, 3, 3, 1, 1, 2, 1, 3,\n",
       "       0, 0, 1, 2, 3, 1, 2, 3, 2, 2, 0, 0, 1, 1, 1, 3, 0, 2, 1, 0, 1, 1,\n",
       "       2, 2, 2, 0, 2, 0, 0, 3, 3, 0, 3, 2])"
      ]
     },
     "execution_count": 297,
     "metadata": {},
     "output_type": "execute_result"
    }
   ],
   "source": [
    "skmeans = ScratchKMeans(n_clusters=4, n_init=10, max_iter=500)\n",
    "pred = skmeans.fit(X)\n",
    "pred"
   ]
  },
  {
   "cell_type": "code",
   "execution_count": 298,
   "metadata": {},
   "outputs": [
    {
     "data": {
      "image/png": "[encoded data removed]",
      "text/plain": [
       "<Figure size 432x288 with 1 Axes>"
      ]
     },
     "metadata": {
      "needs_background": "light"
     },
     "output_type": "display_data"
    }
   ],
   "source": [
    "for i in range(4):\n",
    "    labels = X[pred == i]\n",
    "    plt.scatter(labels[:, 0], labels[:, 1])\n",
    "    \n",
    "centers = skmeans.cluster_centers_\n",
    "plt.scatter(centers[:, 0], centers[:, 1], s=100, \n",
    "           facecolors='none', edgecolors='k')\n",
    "plt.show();"
   ]
  },
  {
   "cell_type": "markdown",
   "metadata": {},
   "source": [
    "### **【問題8】エルボー法の実装**"
   ]
  },
  {
   "cell_type": "code",
   "execution_count": 299,
   "metadata": {},
   "outputs": [
    {
     "data": {
      "text/plain": [
       "50.912773104155825"
      ]
     },
     "execution_count": 299,
     "metadata": {},
     "output_type": "execute_result"
    }
   ],
   "source": [
    "cluster = skmeans.sse\n",
    "# k_cluster = np.arange(len(sse_array))\n",
    "cluster"
   ]
  },
  {
   "cell_type": "code",
   "execution_count": 301,
   "metadata": {},
   "outputs": [
    {
     "data": {
      "text/plain": [
       "[425.1723693454042,\n",
       " 179.934528770763,\n",
       " 50.912773104155825,\n",
       " 44.99509869935799,\n",
       " 55.06973298301604,\n",
       " 35.54279986395147,\n",
       " 30.875942634564957,\n",
       " 27.38167237239971]"
      ]
     },
     "execution_count": 301,
     "metadata": {},
     "output_type": "execute_result"
    }
   ],
   "source": [
    "cluster_box = []\n",
    "for k in range(2, 10):\n",
    "    kmeans_k = ScratchKMeans(n_clusters=k, n_init=10, max_iter=10)\n",
    "    kmeans_k.fit(X)\n",
    "    cluster_box.append(kmeans_k.sse)\n",
    "    \n",
    "# kmeans_5 = ScratchKMeans(n_clusters=4, max_iter=500)\n",
    "# kmeans_5.fit(X)\n",
    "# kmeans_5.sse\n",
    "\n",
    "cluster_box"
   ]
  },
  {
   "cell_type": "code",
   "execution_count": 302,
   "metadata": {},
   "outputs": [
    {
     "data": {
      "image/png": "[encoded data removed]",
      "text/plain": [
       "<Figure size 432x288 with 1 Axes>"
      ]
     },
     "metadata": {
      "needs_background": "light"
     },
     "output_type": "display_data"
    }
   ],
   "source": [
    "plt.plot(cluster_box, marker='o')\n",
    "plt.show();"
   ]
  },
  {
   "cell_type": "markdown",
   "metadata": {},
   "source": [
    "### **【問題9】(アドバンス課題)シルエット図**"
   ]
  },
  {
   "cell_type": "code",
   "execution_count": 183,
   "metadata": {},
   "outputs": [
    {
     "data": {
      "text/plain": [
       "2"
      ]
     },
     "execution_count": 183,
     "metadata": {},
     "output_type": "execute_result"
    }
   ],
   "source": [
    "dist = []\n",
    "for i in range(4):\n",
    "    dist.append(np.sum((X[1] - centers[i])**2))\n",
    "dist.index(min(dist))"
   ]
  },
  {
   "cell_type": "code",
   "execution_count": 193,
   "metadata": {},
   "outputs": [
    {
     "name": "stdout",
     "output_type": "stream",
     "text": [
      "[0 2 0 0 0 0 3 2 0 2 2 2 2 2 2 1 1 3 3 1 0 2 3 1 0 3 3 0 1 1 1 2 1 1 3 0 2\n",
      " 1 2 3 0 3 2 3 3 2 1 3 0 0 0 1 3 3 3 2 2 1 1 2 2 1 1 0 1 2 3 3 1 0 2 1 0 2\n",
      " 0 0 3 3 1 1 1 2 3 0 1 3 1 1 0 0 0 3 0 3 3 2 2 3 2 0]\n",
      "25\n"
     ]
    }
   ],
   "source": [
    "idx = []\n",
    "for i in range(len(X)):\n",
    "    dist = []\n",
    "    for j in range(4):\n",
    "        dist.append(np.sum((X[i] - centers[j])**2))\n",
    "    idx.append(dist.index(min(dist)))\n",
    "label_array = np.array(idx)\n",
    "print(label_array)\n",
    "print(len(X[label_array == 0]))"
   ]
  },
  {
   "cell_type": "code",
   "execution_count": 231,
   "metadata": {},
   "outputs": [
    {
     "name": "stdout",
     "output_type": "stream",
     "text": [
      "a_0 : 4.844117667240773\n",
      "a_1 : 4.213997209952067\n",
      "4.844117667240773\n"
     ]
    }
   ],
   "source": [
    "label_0 = np.where(pred == 0)\n",
    "for i in label_0:\n",
    "    a_0d = np.sum((X[0] - X[i])**2)\n",
    "a_0 = a_0d**0.5 / len(label_0)\n",
    "print('a_0 :', a_0)\n",
    "\n",
    "for i in label_0:\n",
    "    a_1d = np.sum((X[2] - X[i])**2)\n",
    "a_1 = a_1d**0.5 / len(label_0)\n",
    "print('a_1 :', a_1)\n",
    "\n",
    "\n",
    "# for i in label_0:\n",
    "for i in label_0:\n",
    "    a_0d = np.sum((X[0] - X[i])**2)\n",
    "a_0 = a_0d**0.5 / len(label_0)\n",
    "print(a_0)\n",
    "\n",
    "\n",
    "# for i in [1, 2, 3]:\n",
    "#     for j in [1, 2, 3, 4, 5]:\n",
    "#         p = i * j\n",
    "#         print(p)"
   ]
  },
  {
   "cell_type": "code",
   "execution_count": 305,
   "metadata": {},
   "outputs": [
    {
     "name": "stdout",
     "output_type": "stream",
     "text": [
      "0.0\n"
     ]
    }
   ],
   "source": [
    "label_0 = np.array(np.where(pred == 0))\n",
    "# for i in label_0:\n",
    "#     a_0d = np.sum((X[0] - X[i])**2)\n",
    "#print(a_0d**0.5 / 25)\n",
    "#print(label_0)\n",
    "lst0 = []\n",
    "for i in list(label_0):\n",
    "    j = i\n",
    "# print(j)\n",
    "fai0 = []\n",
    "for k in j:\n",
    "    fai0.append(k)\n",
    "\n",
    "# box = []\n",
    "# for i in fai:\n",
    "#     for j in fai:\n",
    "#         a_jd = np.sum((X[j] - X[i])**2)\n",
    "#     box.append(a_jd)\n",
    "# print(sum(box)/len(fai))\n",
    "\n",
    "box0 = []\n",
    "for i in fai0:\n",
    "    for j in fai0:\n",
    "        a_jd = np.sum((X[j] - X[i])**2)\n",
    "    box.append(a_jd**0.5)\n",
    "print(sum(box0)/len(fai0))\n",
    "\n"
   ]
  },
  {
   "cell_type": "code",
   "execution_count": 136,
   "metadata": {},
   "outputs": [],
   "source": [
    "from matplotlib import cm\n",
    "\n",
    "cluster_labels = [i for i in range(3)]\n",
    "n_clusters = 3\n",
    "y_km = pred\n",
    "silhouette_vals = \n",
    "silhouette_avg = \n",
    "\n",
    "y_ax_lower, y_ax_upper = 0, 0\n",
    "yticks = []\n",
    "for i, c in enumerate(cluster_labels):\n",
    "    c_silhouette_vals = silhouette_vals[y_km == c]\n",
    "    c_silhouette_vals.sort()\n",
    "    y_ax_upper += len(c_silhouette_vals)\n",
    "    color = cm.jet(i / n_clusters)\n",
    "    plt.barh(range(y_ax_lower, y_ax_upper), c_silhouette_vals, height=1.0, edgecolor='none', color=color)\n",
    "    yticks.append((y_ax_lower + y_ax_upper) / 2)\n",
    "    y_ax_lower += len(c_silhouette_vals)\n",
    "\n",
    "plt.axvline(silhouette_avg, color=\"red\", linestyle=\"--\")\n",
    "plt.yticks(yticks, cluster_labels + 1)\n",
    "plt.ylabel('Cluster')\n",
    "plt.xlabel('Silhouette coefficient')\n",
    "plt.show()"
   ]
  },
  {
   "cell_type": "markdown",
   "metadata": {},
   "source": [
    "## **クラスタ分析**"
   ]
  },
  {
   "cell_type": "markdown",
   "metadata": {},
   "source": [
    "### **【問題10】クラスタ数kの選択**"
   ]
  },
  {
   "cell_type": "code",
   "execution_count": 453,
   "metadata": {},
   "outputs": [],
   "source": [
    "import pandas as pd\n",
    "\n",
    "df = pd.read_csv('Wholesale customers data.csv')"
   ]
  },
  {
   "cell_type": "code",
   "execution_count": 399,
   "metadata": {},
   "outputs": [
    {
     "name": "stdout",
     "output_type": "stream",
     "text": [
      "[  3   8  15  17  19  21  22  26  27  29  30  31  32  33  34  36  39  40\n",
      "  41  50  51  54  55  58  59  64  66  68  69  70  71  72  75  76  78  79\n",
      "  80  83  87  88  89  90  91  93  95  97  98  99 103 104 105 110 112 113\n",
      " 114 115 116 117 118 119 120 121 122 124 125 126 128 129 130 131 132 133\n",
      " 134 135 136 137 138 139 140 141 142 143 144 146 147 148 149 150 151 152\n",
      " 153 154 157 161 162 167 168 169 172 174 176 177 178 179 180 181 182 183\n",
      " 184 185 186 187 190 191 192 194 195 196 198 199 202 203 204 206 208 210\n",
      " 212 213 215 217 219 220 221 222 224 225 227 228 229 231 232 233 234 235\n",
      " 236 237 238 239 240 241 242 243 244 246 247 248 249 250 252 253 254 255\n",
      " 256 257 258 259 260 261 262 263 265 267 269 270 271 272 273 274 275 276\n",
      " 277 278 280 282 283 284 285 286 287 288 289 290 291 292 294 296 299 307\n",
      " 308 310 311 313 314 316 317 318 320 321 322 323 324 325 326 327 328 329\n",
      " 330 332 336 337 338 339 342 344 345 348 350 352 354 355 356 358 359 360\n",
      " 361 362 363 364 366 367 368 369 371 372 374 375 377 378 380 381 382 383\n",
      " 384 385 386 387 388 389 390 391 392 393 394 395 397 398 399 400 401 402\n",
      " 403 404 405 406 409 410 411 412 413 414 417 419 420 422 425 426 427 428\n",
      " 429 430 431 432 433 434 435 436 438 439]\n"
     ]
    }
   ],
   "source": [
    "df.head()\n",
    "ch1 = df[df['Channel'] == 1].index\n",
    "ch2 = df[df['Channel'] == 2].index\n",
    "ch_1 = np.array(ch1)\n",
    "ch_2 = np.array(ch2)\n",
    "reg1 = df[df['Region'] == 1].index\n",
    "reg2 = df[df['Region'] == 2].index\n",
    "reg3 = df[df['Region'] == 3].index\n",
    "reg_1 = np.array(reg1)\n",
    "reg_2 = np.array(reg2)\n",
    "reg_3 = np.array(reg3)\n",
    "print(ch_1)"
   ]
  },
  {
   "cell_type": "code",
   "execution_count": 400,
   "metadata": {},
   "outputs": [
    {
     "data": {
      "text/html": [
       "<div>\n",
       "<style scoped>\n",
       "    .dataframe tbody tr th:only-of-type {\n",
       "        vertical-align: middle;\n",
       "    }\n",
       "\n",
       "    .dataframe tbody tr th {\n",
       "        vertical-align: top;\n",
       "    }\n",
       "\n",
       "    .dataframe thead th {\n",
       "        text-align: right;\n",
       "    }\n",
       "</style>\n",
       "<table border=\"1\" class=\"dataframe\">\n",
       "  <thead>\n",
       "    <tr style=\"text-align: right;\">\n",
       "      <th></th>\n",
       "      <th>Fresh</th>\n",
       "      <th>Milk</th>\n",
       "      <th>Grocery</th>\n",
       "      <th>Frozen</th>\n",
       "      <th>Detergents_Paper</th>\n",
       "      <th>Delicassen</th>\n",
       "    </tr>\n",
       "  </thead>\n",
       "  <tbody>\n",
       "    <tr>\n",
       "      <th>0</th>\n",
       "      <td>12669</td>\n",
       "      <td>9656</td>\n",
       "      <td>7561</td>\n",
       "      <td>214</td>\n",
       "      <td>2674</td>\n",
       "      <td>1338</td>\n",
       "    </tr>\n",
       "    <tr>\n",
       "      <th>1</th>\n",
       "      <td>7057</td>\n",
       "      <td>9810</td>\n",
       "      <td>9568</td>\n",
       "      <td>1762</td>\n",
       "      <td>3293</td>\n",
       "      <td>1776</td>\n",
       "    </tr>\n",
       "    <tr>\n",
       "      <th>2</th>\n",
       "      <td>6353</td>\n",
       "      <td>8808</td>\n",
       "      <td>7684</td>\n",
       "      <td>2405</td>\n",
       "      <td>3516</td>\n",
       "      <td>7844</td>\n",
       "    </tr>\n",
       "    <tr>\n",
       "      <th>3</th>\n",
       "      <td>13265</td>\n",
       "      <td>1196</td>\n",
       "      <td>4221</td>\n",
       "      <td>6404</td>\n",
       "      <td>507</td>\n",
       "      <td>1788</td>\n",
       "    </tr>\n",
       "    <tr>\n",
       "      <th>4</th>\n",
       "      <td>22615</td>\n",
       "      <td>5410</td>\n",
       "      <td>7198</td>\n",
       "      <td>3915</td>\n",
       "      <td>1777</td>\n",
       "      <td>5185</td>\n",
       "    </tr>\n",
       "  </tbody>\n",
       "</table>\n",
       "</div>"
      ],
      "text/plain": [
       "   Fresh  Milk  Grocery  Frozen  Detergents_Paper  Delicassen\n",
       "0  12669  9656     7561     214              2674        1338\n",
       "1   7057  9810     9568    1762              3293        1776\n",
       "2   6353  8808     7684    2405              3516        7844\n",
       "3  13265  1196     4221    6404               507        1788\n",
       "4  22615  5410     7198    3915              1777        5185"
      ]
     },
     "execution_count": 400,
     "metadata": {},
     "output_type": "execute_result"
    }
   ],
   "source": [
    "df = df.drop(['Channel', 'Region'], axis=1)\n",
    "df.head()"
   ]
  },
  {
   "cell_type": "code",
   "execution_count": 417,
   "metadata": {},
   "outputs": [],
   "source": [
    "# 標準化\n",
    "from sklearn.preprocessing import StandardScaler\n",
    "\n",
    "scaler = StandardScaler()\n",
    "scaler.fit(df)\n",
    "df_sc = scaler.transform(df)"
   ]
  },
  {
   "cell_type": "code",
   "execution_count": 418,
   "metadata": {},
   "outputs": [],
   "source": [
    "from sklearn.decomposition import PCA\n",
    "pca = PCA(n_components=2)\n",
    "pca = pca.fit(df_sc)\n",
    "data_pca = pca.transform(df_sc)\n",
    "X = np.array(data_pca)"
   ]
  },
  {
   "cell_type": "code",
   "execution_count": 419,
   "metadata": {},
   "outputs": [
    {
     "name": "stdout",
     "output_type": "stream",
     "text": [
      "[0.45961362 0.86478588 0.93481597 0.97883941 0.99386152 1.        ]\n"
     ]
    },
    {
     "data": {
      "image/png": "[encoded data removed]",
      "text/plain": [
       "<Figure size 432x288 with 1 Axes>"
      ]
     },
     "metadata": {
      "needs_background": "light"
     },
     "output_type": "display_data"
    }
   ],
   "source": [
    "from sklearn.decomposition import PCA\n",
    "import matplotlib.pyplot as plt\n",
    "pca = PCA(n_components=None)\n",
    "pca = pca.fit(df)\n",
    "var_exp = pca.explained_variance_ratio_\n",
    "cum_var_exp = np.cumsum(var_exp)\n",
    "print(cum_var_exp)\n",
    "plt.bar(range(1, 7), var_exp, alpha=0.5, align='center', label='individual explained varience')\n",
    "plt.step(range(1, 7), cum_var_exp, where='mid', label='cumulative explained varience')\n",
    "plt.ylabel('Explained varience ratio')\n",
    "plt.xlabel('Principal components')\n",
    "plt.hlines(0.7, 0, 6, 'blue', linestyles='dashed')\n",
    "plt.legend(loc='best')\n",
    "plt.grid()\n",
    "plt.show()"
   ]
  },
  {
   "cell_type": "code",
   "execution_count": 420,
   "metadata": {},
   "outputs": [
    {
     "data": {
      "text/plain": [
       "[1228.6214131743043,\n",
       " 978.4796201401678,\n",
       " 682.7439877324102,\n",
       " 600.7476097951101,\n",
       " 358.7934055497392,\n",
       " 321.23532838268045,\n",
       " 293.9662718532853,\n",
       " 234.64081275674005,\n",
       " 217.2739736027868,\n",
       " 206.78634908757726,\n",
       " 191.30772986902394,\n",
       " 186.49183979607545,\n",
       " 170.82670883193677,\n",
       " 171.46534371626336,\n",
       " 169.6208980943159,\n",
       " 159.75688774576258,\n",
       " 157.96383721646714,\n",
       " 161.12455125338266,\n",
       " 150.61688134659192,\n",
       " 153.59699450173613,\n",
       " 139.17383929607837,\n",
       " 137.70624216579273,\n",
       " 136.81373933670426,\n",
       " 135.11800280502447,\n",
       " 134.47152623245412,\n",
       " 132.45760090710525,\n",
       " 131.53062288778423,\n",
       " 130.08677832046425]"
      ]
     },
     "execution_count": 420,
     "metadata": {},
     "output_type": "execute_result"
    }
   ],
   "source": [
    "cluster_box2 = []\n",
    "for j in range(2, 30):\n",
    "    kmeans_j = ScratchKMeans(n_clusters=j, n_init=10, max_iter=10)\n",
    "    kmeans_j.fit(X)\n",
    "    cluster_box2.append(kmeans_j.sse)\n",
    "    \n",
    "# kmeans_5 = ScratchKMeans(n_clusters=4, max_iter=500)\n",
    "# kmeans_5.fit(X)\n",
    "# kmeans_5.sse\n",
    "\n",
    "cluster_box2"
   ]
  },
  {
   "cell_type": "code",
   "execution_count": 421,
   "metadata": {},
   "outputs": [
    {
     "data": {
      "image/png": "[encoded data removed]",
      "text/plain": [
       "<Figure size 432x288 with 1 Axes>"
      ]
     },
     "metadata": {
      "needs_background": "light"
     },
     "output_type": "display_data"
    }
   ],
   "source": [
    "plt.plot(cluster_box2, marker='o')\n",
    "plt.show();"
   ]
  },
  {
   "cell_type": "code",
   "execution_count": 422,
   "metadata": {},
   "outputs": [
    {
     "data": {
      "image/png": "[encoded data removed]",
      "text/plain": [
       "<Figure size 432x432 with 1 Axes>"
      ]
     },
     "metadata": {
      "needs_background": "light"
     },
     "output_type": "display_data"
    }
   ],
   "source": [
    "plt.figure(figsize=(6, 6))\n",
    "plt.scatter(data_pca[:, 0], data_pca[:, 1], alpha=0.8, c=list(df.iloc[:, 0]))\n",
    "plt.grid()\n",
    "plt.xlabel(\"PC1\")\n",
    "plt.ylabel(\"PC2\")\n",
    "plt.show()"
   ]
  },
  {
   "cell_type": "code",
   "execution_count": 423,
   "metadata": {},
   "outputs": [
    {
     "data": {
      "text/plain": [
       "array([[ 1.93290546e-01, -3.05099963e-01],\n",
       "       [ 4.34419896e-01, -3.28412623e-01],\n",
       "       [ 8.11143234e-01,  8.15095701e-01],\n",
       "       [-7.78647832e-01,  6.52753734e-01],\n",
       "       [ 1.66287259e-01,  1.27143372e+00],\n",
       "       [-1.56169932e-01, -2.95140988e-01],\n",
       "       [-3.35288404e-01, -5.25003258e-01],\n",
       "       [ 1.40586434e-01, -2.30992687e-01],\n",
       "       [-5.17319541e-01, -6.59362827e-01],\n",
       "       [ 1.59210908e+00, -7.41011332e-01],\n",
       "       [ 6.38085945e-01, -4.01825201e-01],\n",
       "       [-9.27692579e-01, -2.19287242e-01],\n",
       "       [ 9.91362176e-01,  6.85910808e-01],\n",
       "       [ 8.50246760e-01, -8.56919642e-02],\n",
       "       [ 8.45043794e-01,  1.54724325e-01],\n",
       "       [-9.51585375e-01, -4.95908498e-01],\n",
       "       [ 5.57558717e-01, -1.02612272e+00],\n",
       "       [-3.52538598e-01,  2.07075910e-01],\n",
       "       [ 3.16578563e-01,  4.42066292e-01],\n",
       "       [-3.23755737e-01, -7.03586946e-01],\n",
       "       [-3.20000597e-01,  1.56628147e-01],\n",
       "       [-1.11844720e+00, -2.30527519e-01],\n",
       "       [-1.76694545e-01,  2.14371699e+00],\n",
       "       [ 4.68565421e+00,  3.59867838e+00],\n",
       "       [ 1.24504208e+00,  1.05565966e+00],\n",
       "       [-1.54114026e-01, -5.22893625e-01],\n",
       "       [-1.03962354e+00, -3.64796511e-02],\n",
       "       [-1.09752718e+00, -2.42981966e-01],\n",
       "       [ 3.12209160e+00, -3.30074922e-01],\n",
       "       [-7.79939939e-01,  1.07317334e+00],\n",
       "       [ 7.45831884e-02,  2.66503911e-01],\n",
       "       [-7.29189328e-01, -4.44809256e-01],\n",
       "       [-9.62230428e-01, -1.89891956e-02],\n",
       "       [-3.49770903e-01,  1.18059453e+00],\n",
       "       [-1.06908233e+00, -8.01596920e-01],\n",
       "       [ 1.67247676e-01, -1.07439690e+00],\n",
       "       [-1.72136773e-01,  1.26700638e+00],\n",
       "       [ 9.72688571e-01, -3.68175179e-01],\n",
       "       [ 1.58466417e+00, -1.12924692e+00],\n",
       "       [-7.79395670e-01,  3.16041994e+00],\n",
       "       [-1.13987818e-02,  2.21646888e+00],\n",
       "       [-2.32890178e-01,  4.13825388e-01],\n",
       "       [ 8.55723654e-01, -9.79673140e-01],\n",
       "       [ 1.94586221e+00, -1.56669797e+00],\n",
       "       [ 2.81308741e-01, -7.95695411e-01],\n",
       "       [ 2.81349689e+00, -9.88739333e-02],\n",
       "       [ 1.86531981e+00, -8.93604774e-01],\n",
       "       [ 9.53811613e+00,  1.50763710e+00],\n",
       "       [ 4.30076667e-01, -5.03383531e-01],\n",
       "       [ 3.59790485e+00, -1.23936641e+00],\n",
       "       [-9.28705325e-01,  1.34523950e-01],\n",
       "       [-5.09445372e-01, -8.70788351e-01],\n",
       "       [-2.50712755e-01,  8.62381410e-01],\n",
       "       [ 7.00283481e-01, -1.15590722e+00],\n",
       "       [-9.67926798e-01,  7.12936868e-01],\n",
       "       [-5.13838298e-01, -5.38731236e-01],\n",
       "       [ 4.59975591e+00, -1.23637590e+00],\n",
       "       [ 9.25166072e-01, -9.44776661e-01],\n",
       "       [-1.08960753e+00, -2.36577373e-01],\n",
       "       [-4.75885321e-02, -6.19165192e-01],\n",
       "       [-2.27325899e-01, -8.44904082e-01],\n",
       "       [ 8.43092531e+00, -5.92369291e-01],\n",
       "       [ 3.24106579e-02, -1.75747364e-01],\n",
       "       [ 1.42811818e+00, -4.84083753e-01],\n",
       "       [-8.64287286e-01, -1.79966374e-01],\n",
       "       [ 5.81057939e+00, -2.45493172e+00],\n",
       "       [-4.83729921e-01, -1.20570517e+00],\n",
       "       [ 6.14470850e-01, -2.16945804e-01],\n",
       "       [-2.38768151e-01,  4.24116869e-01],\n",
       "       [-1.04126562e+00, -5.00508207e-01],\n",
       "       [-8.04605382e-01,  1.30128505e+00],\n",
       "       [ 1.80128176e+00,  2.54862058e+00],\n",
       "       [-6.34348913e-01,  3.31457372e-01],\n",
       "       [-2.28969665e-01,  9.07520754e-01],\n",
       "       [ 3.06485839e-02, -3.08468361e-01],\n",
       "       [-1.16710943e+00,  6.44842223e-01],\n",
       "       [-5.67920318e-01,  1.00522067e-01],\n",
       "       [ 2.75294866e+00, -1.09100296e+00],\n",
       "       [-1.13244130e+00, -2.40935458e-01],\n",
       "       [-6.90393825e-01, -5.60343274e-01],\n",
       "       [-1.06334033e+00, -5.78287112e-01],\n",
       "       [ 1.04894863e+00, -1.41054914e+00],\n",
       "       [ 5.58090721e-01, -2.59970620e-01],\n",
       "       [-1.00230822e+00,  3.13410473e-01],\n",
       "       [-4.08430512e-01, -5.26562579e-01],\n",
       "       [ 1.26530021e+01, -2.71520591e+00],\n",
       "       [ 8.42098880e+00, -4.46857768e-01],\n",
       "       [ 1.07568546e+00,  4.06934180e+00],\n",
       "       [-1.01428890e+00,  5.48845305e-01],\n",
       "       [-3.90899637e-01,  1.03024639e+00],\n",
       "       [-1.19574764e+00, -9.48258544e-03],\n",
       "       [-7.89025937e-01,  8.37102896e-01],\n",
       "       [ 5.22890886e+00, -4.36535292e-01],\n",
       "       [-4.44900634e-01,  4.41797355e+00],\n",
       "       [ 7.64217944e-01, -9.51920503e-01],\n",
       "       [-7.63178962e-01, -8.43001677e-01],\n",
       "       [-2.97668139e-01, -1.19523362e+00],\n",
       "       [-1.37622521e+00, -8.34000562e-01],\n",
       "       [-1.36853476e+00, -8.06512603e-01],\n",
       "       [-1.03011679e+00,  2.05711023e-01],\n",
       "       [ 1.12946873e+00, -4.34004126e-02],\n",
       "       [ 1.30180993e+00, -8.52134817e-01],\n",
       "       [ 1.78695999e-01, -5.47184421e-01],\n",
       "       [ 1.20734868e-01,  3.93626052e+00],\n",
       "       [-8.03565636e-01, -2.03402017e-01],\n",
       "       [-9.36125947e-01,  5.36874157e-03],\n",
       "       [ 6.23040753e-01, -1.00428993e+00],\n",
       "       [ 1.45819641e+00, -6.03429147e-01],\n",
       "       [-1.13395760e-03, -7.80875497e-01],\n",
       "       [ 1.66074224e+00, -1.10831135e+00],\n",
       "       [-9.99305030e-01,  1.08779807e-01],\n",
       "       [ 1.36954448e+00, -5.42280362e-01],\n",
       "       [-6.45241037e-01,  1.41374085e+00],\n",
       "       [-8.89892430e-01,  3.06280024e-01],\n",
       "       [-1.03806313e+00,  3.27554663e-01],\n",
       "       [-1.06047308e+00, -8.53762427e-02],\n",
       "       [-9.53151804e-01, -2.92189943e-01],\n",
       "       [-6.58070528e-01, -2.99029855e-01],\n",
       "       [-9.15410619e-01,  6.91065777e-01],\n",
       "       [-9.93346767e-01, -2.12377532e-02],\n",
       "       [-9.52507661e-01,  2.26568740e-01],\n",
       "       [-1.03114915e+00, -4.35439795e-01],\n",
       "       [-1.28246393e+00, -3.78564097e-02],\n",
       "       [ 1.81958024e-01, -3.01364068e-01],\n",
       "       [-7.77830758e-01,  1.39601055e+00],\n",
       "       [-1.59311412e-01,  4.37293888e+00],\n",
       "       [-9.81723045e-01,  9.48934097e-01],\n",
       "       [ 3.33777019e-01,  3.39134473e-01],\n",
       "       [-4.41489135e-01, -9.41927500e-01],\n",
       "       [-9.23348259e-01,  1.32534370e+00],\n",
       "       [-1.01448912e+00,  3.03200146e-01],\n",
       "       [-1.34462179e+00, -7.65305342e-01],\n",
       "       [-9.56375734e-01, -2.62563207e-01],\n",
       "       [-1.20005979e+00, -4.51151860e-01],\n",
       "       [-1.09622211e+00, -4.69389464e-01],\n",
       "       [-1.11468441e+00, -5.17152140e-01],\n",
       "       [ 9.18368713e-02, -4.68156266e-02],\n",
       "       [-2.46988955e-01, -8.06443012e-01],\n",
       "       [-4.66533316e-01,  1.77675603e-01],\n",
       "       [-6.98988004e-01, -4.84281616e-01],\n",
       "       [-2.65873060e-01,  4.26141593e-01],\n",
       "       [ 8.34093690e-02,  6.86186493e-01],\n",
       "       [-2.61167046e-01,  9.28148670e-01],\n",
       "       [-1.07035935e+00,  5.83272609e-01],\n",
       "       [-9.17999064e-01, -1.29403852e-01],\n",
       "       [ 3.20637754e+00, -3.46680030e-01],\n",
       "       [-1.08708367e+00, -4.31372635e-01],\n",
       "       [-8.23046631e-01, -3.71011035e-01],\n",
       "       [-1.24349439e+00, -1.31153986e-01],\n",
       "       [-9.90261893e-01,  7.22454190e-01],\n",
       "       [-1.03303404e+00,  1.06015762e-02],\n",
       "       [-8.88105702e-01, -5.19172105e-01],\n",
       "       [-1.00843760e+00,  1.96645053e-01],\n",
       "       [-4.26657017e-01, -3.64404282e-01],\n",
       "       [-1.43670962e+00, -9.15254815e-01],\n",
       "       [ 2.05740359e+00, -1.25174331e+00],\n",
       "       [ 9.12612763e-01, -7.08377614e-01],\n",
       "       [-9.75250597e-01,  2.26980877e-01],\n",
       "       [ 2.48473967e-01, -7.00896498e-01],\n",
       "       [ 9.74702269e-01, -1.40294429e+00],\n",
       "       [ 3.13492363e-01, -7.81460117e-01],\n",
       "       [-1.14513727e+00,  1.08271213e-01],\n",
       "       [-9.11158306e-01,  8.08732488e-02],\n",
       "       [ 3.01339349e+00, -1.31265367e+00],\n",
       "       [ 1.21281411e-01, -6.12405995e-01],\n",
       "       [ 1.82246622e+00,  1.42106514e-01],\n",
       "       [ 5.23845001e-01, -3.04405244e-01],\n",
       "       [-7.48948884e-01, -7.57183756e-01],\n",
       "       [-1.26880348e+00, -4.63425024e-01],\n",
       "       [-1.15116557e+00, -3.16134710e-01],\n",
       "       [ 8.56779440e-01, -1.22568580e+00],\n",
       "       [ 3.23802110e+00, -2.24516314e-01],\n",
       "       [-2.53215825e-01, -9.32817902e-01],\n",
       "       [ 1.53065864e+00, -1.42784781e+00],\n",
       "       [-8.71955289e-01, -4.38404282e-01],\n",
       "       [ 4.92838390e-01, -8.61164210e-01],\n",
       "       [-1.10695134e-01,  1.82280009e+00],\n",
       "       [-3.38538928e-01,  2.86574147e-01],\n",
       "       [-5.30429936e-01, -2.77292792e-01],\n",
       "       [-6.58995145e-01,  1.35583774e-01],\n",
       "       [-1.28513703e-02, -2.58709224e-02],\n",
       "       [ 3.72695947e+00,  7.16753856e+00],\n",
       "       [ 6.35763088e-01, -1.27327631e+00],\n",
       "       [ 7.79794031e+00,  1.39490842e+01],\n",
       "       [-1.05691142e+00, -1.00533973e+00],\n",
       "       [-8.28007893e-01, -2.37595195e-01],\n",
       "       [-1.14256160e+00, -3.15098494e-01],\n",
       "       [ 2.10541231e-01, -3.03806985e-01],\n",
       "       [ 7.04427710e-01, -6.54502548e-01],\n",
       "       [ 7.39118626e-01, -8.11077013e-01],\n",
       "       [-7.16378611e-01,  7.26901147e-01],\n",
       "       [-1.27945302e+00, -2.73925739e-01],\n",
       "       [-1.12603056e+00, -6.06069982e-01],\n",
       "       [ 7.59165167e-01, -1.27671412e+00],\n",
       "       [-1.02288837e+00, -4.00633986e-01],\n",
       "       [-4.20393398e-01,  1.02940577e+00],\n",
       "       [ 2.16174461e-02,  3.16804922e+00],\n",
       "       [ 3.52040315e-01, -7.55069461e-01],\n",
       "       [-6.71218861e-01, -4.99358207e-03],\n",
       "       [-1.04081739e+00, -4.46826247e-01],\n",
       "       [ 2.20060345e+00, -9.34751045e-01],\n",
       "       [ 2.95992574e+00, -9.95325615e-01],\n",
       "       [ 7.51785893e-01,  1.93659273e+00],\n",
       "       [-1.14925126e+00, -9.41068765e-01],\n",
       "       [-9.29705688e-01, -5.27132107e-01],\n",
       "       [ 1.99618410e+00, -1.38410349e+00],\n",
       "       [-1.24866289e+00, -5.43506296e-01],\n",
       "       [-6.89753339e-02, -7.76404745e-01],\n",
       "       [-3.34659803e-01, -7.36190192e-01],\n",
       "       [ 2.03999398e+00, -1.24683142e+00],\n",
       "       [-9.32880789e-01,  4.15426911e-01],\n",
       "       [ 5.64383322e+00, -6.64664295e-01],\n",
       "       [-1.03016297e+00, -1.98304256e-01],\n",
       "       [ 4.21769794e-02, -6.70036874e-01],\n",
       "       [ 4.98072006e-01, -1.01512866e+00],\n",
       "       [ 1.19688550e+00, -6.62392144e-01],\n",
       "       [ 3.60344520e+00, -1.78872824e+00],\n",
       "       [-1.01444279e+00,  3.08429167e-01],\n",
       "       [ 1.15797101e+00, -5.34214816e-02],\n",
       "       [-1.28176116e+00, -4.84534160e-01],\n",
       "       [-1.16144824e+00,  8.77289379e-03],\n",
       "       [ 2.71331755e-01, -9.73040550e-01],\n",
       "       [-1.03798258e+00,  2.27355525e-01],\n",
       "       [-6.65851294e-01,  2.24436863e-02],\n",
       "       [-1.21413848e+00, -4.48890266e-01],\n",
       "       [-7.53006910e-01, -2.64660104e-01],\n",
       "       [ 6.84763665e-02,  2.05322410e-01],\n",
       "       [-1.06622222e+00, -3.83144360e-01],\n",
       "       [-7.93096723e-01, -9.73577992e-01],\n",
       "       [-8.29773834e-01,  4.05043693e-01],\n",
       "       [-2.43952169e-01,  8.73840390e-01],\n",
       "       [-1.83563357e-01, -6.05585450e-01],\n",
       "       [-8.86512945e-01,  3.10182691e-01],\n",
       "       [-8.21760121e-01, -8.07341615e-01],\n",
       "       [-6.58134353e-01,  6.51635962e-01],\n",
       "       [-6.24230856e-01, -7.03772988e-01],\n",
       "       [-1.08558907e+00, -3.17576703e-01],\n",
       "       [-9.10708500e-01,  6.65173675e-01],\n",
       "       [-1.31863375e+00, -4.71234355e-01],\n",
       "       [-5.22276217e-01,  2.02508917e+00],\n",
       "       [-2.98084915e-01,  1.78549140e+00],\n",
       "       [-9.21434115e-01,  5.18413371e-01],\n",
       "       [-1.00698855e+00,  3.19007410e-01],\n",
       "       [-4.27302385e-01, -1.10441282e-01],\n",
       "       [ 3.50993039e-01, -4.36547615e-01],\n",
       "       [ 1.13840066e+00, -9.18486435e-01],\n",
       "       [-1.01326823e+00, -2.68775706e-01],\n",
       "       [-1.26689381e+00, -9.42154640e-03],\n",
       "       [-7.42038216e-01, -1.30120142e-01],\n",
       "       [-8.20950281e-01,  1.98777449e-01],\n",
       "       [-1.07766797e+00, -4.89495737e-01],\n",
       "       [ 4.99272766e+00, -1.79336238e-01],\n",
       "       [-7.50100817e-01,  5.35097121e-01],\n",
       "       [ 4.39852140e-01,  3.96310543e-01],\n",
       "       [ 7.16275749e-01,  7.05364876e-01],\n",
       "       [-1.11754233e+00,  8.66203405e-01],\n",
       "       [-6.42402859e-01, -4.08159437e-01],\n",
       "       [-6.13211952e-01,  1.16091453e-02],\n",
       "       [-3.51075599e-01,  2.77709514e+00],\n",
       "       [-2.43173128e-01,  1.69049513e+00],\n",
       "       [-7.87811357e-01, -4.46673914e-01],\n",
       "       [-1.17508566e+00,  2.82013707e-01],\n",
       "       [-1.05320336e+00,  2.29348892e-01],\n",
       "       [-5.40592596e-01, -4.87040075e-01],\n",
       "       [ 1.00953316e+00, -1.12030586e+00],\n",
       "       [ 1.66596968e+00,  1.23772315e+00],\n",
       "       [ 1.43605895e+00, -6.80512545e-01],\n",
       "       [-6.87920164e-01,  1.00796406e+00],\n",
       "       [ 1.20067920e+00, -7.49139115e-01],\n",
       "       [-1.23043995e+00,  6.91863302e-03],\n",
       "       [-1.21602382e+00, -6.35967176e-02],\n",
       "       [-8.15266593e-01, -4.20042943e-01],\n",
       "       [-3.09085648e-01, -6.92755039e-01],\n",
       "       [-7.76394129e-01,  1.52025281e+00],\n",
       "       [-1.01516487e+00, -6.62541590e-01],\n",
       "       [-1.26496755e+00, -7.35766681e-01],\n",
       "       [-3.18936058e-01,  1.13115309e+00],\n",
       "       [-1.05740334e+00,  1.55161433e+00],\n",
       "       [-8.69691472e-01,  4.99712733e-01],\n",
       "       [ 2.38008199e-01, -2.70059948e-02],\n",
       "       [-9.53506630e-01, -5.02665041e-01],\n",
       "       [-4.26641827e-02, -6.94667184e-02],\n",
       "       [-4.27447332e-01,  2.02745549e+00],\n",
       "       [-7.08965457e-01,  1.66599500e+00],\n",
       "       [ 2.66801105e-01,  3.27301872e+00],\n",
       "       [-9.87080440e-01,  7.94971312e-01],\n",
       "       [-1.01771215e+00, -4.83983811e-01],\n",
       "       [-8.49979245e-01,  8.89310373e-01],\n",
       "       [-1.19235358e+00, -1.54779662e-01],\n",
       "       [-1.23813991e+00,  1.01092956e+00],\n",
       "       [-8.72581534e-01, -5.69403833e-01],\n",
       "       [-8.74654033e-01, -2.83503297e-01],\n",
       "       [-7.22420151e-01, -2.34147901e-01],\n",
       "       [ 9.02539163e-01, -9.22564297e-01],\n",
       "       [-5.66085808e-01,  2.63611505e-01],\n",
       "       [-6.86933891e-01, -7.12621341e-01],\n",
       "       [-8.76813375e-01,  3.12554907e-01],\n",
       "       [-2.73366118e-01, -6.04091325e-01],\n",
       "       [ 1.38867226e-01, -7.09622159e-01],\n",
       "       [-1.20227944e+00, -8.89406902e-01],\n",
       "       [-5.56021347e-02,  2.97318870e-02],\n",
       "       [ 1.83636982e+00, -1.10343031e+00],\n",
       "       [ 3.16649317e-01, -1.10942154e+00],\n",
       "       [ 8.42238507e-01, -1.47992862e+00],\n",
       "       [ 2.18704846e+00, -1.36297491e+00],\n",
       "       [ 5.21605810e-01, -1.00138374e+00],\n",
       "       [ 1.86246109e+00, -7.63698127e-01],\n",
       "       [-9.11535290e-01,  4.84686516e-02],\n",
       "       [-1.07900220e+00, -5.36968069e-01],\n",
       "       [ 1.78008459e+00, -9.25637422e-01],\n",
       "       [-9.06850999e-01,  1.09184145e+00],\n",
       "       [-5.89795623e-01,  5.72124386e-01],\n",
       "       [ 1.99821096e+00, -1.84536209e+00],\n",
       "       [-1.11093454e+00,  3.59614047e-02],\n",
       "       [-5.94900684e-01, -2.42308719e-01],\n",
       "       [ 1.15188080e+00, -4.00124625e-01],\n",
       "       [-1.06204025e+00, -1.47977797e-01],\n",
       "       [-5.98679594e-01, -5.87835014e-01],\n",
       "       [-8.87538721e-01, -2.42637009e-01],\n",
       "       [ 3.09498644e+00, -7.63082815e-01],\n",
       "       [-9.24364322e-01, -6.70191795e-01],\n",
       "       [-8.13720429e-01, -9.66787679e-02],\n",
       "       [-9.15974969e-01,  9.94255472e-02],\n",
       "       [-3.77283971e-01, -4.31798936e-01],\n",
       "       [-8.12229870e-01,  6.24446567e-01],\n",
       "       [ 2.01435596e+00,  9.00548732e+00],\n",
       "       [-1.07705757e+00, -2.00176615e-01],\n",
       "       [-1.22310226e+00, -8.02181462e-01],\n",
       "       [-7.83446916e-01,  9.82880053e-01],\n",
       "       [-8.70602565e-01, -3.81559558e-02],\n",
       "       [-8.25754986e-01,  2.73402214e-02],\n",
       "       [ 2.53966286e+00, -8.88441684e-01],\n",
       "       [-7.78150665e-01,  7.31076631e-01],\n",
       "       [ 7.54858101e+00, -3.37988900e+00],\n",
       "       [-6.92419610e-01,  1.78430815e+00],\n",
       "       [ 4.77742111e-01,  4.26951897e-01],\n",
       "       [-1.12087397e+00, -1.56515644e-01],\n",
       "       [-9.49081923e-01,  5.77097803e-01],\n",
       "       [-7.85502943e-01,  1.00984011e+00],\n",
       "       [-6.92820719e-01,  6.15478483e-01],\n",
       "       [ 3.98226206e-01, -1.13312701e+00],\n",
       "       [ 4.59527357e-01, -7.54948411e-01],\n",
       "       [-1.51978645e-02, -9.30373046e-01],\n",
       "       [ 2.47371446e+00, -1.84499474e+00],\n",
       "       [-1.16693521e+00, -4.99191067e-01],\n",
       "       [-2.74738651e-01, -1.10017595e+00],\n",
       "       [ 9.04513925e-01, -8.10025659e-01],\n",
       "       [ 5.74092826e-01,  3.74897709e-01],\n",
       "       [-9.32910011e-01, -5.86754725e-01],\n",
       "       [ 2.36961965e+00, -1.17337095e+00],\n",
       "       [-1.11174173e+00, -4.26235749e-01],\n",
       "       [ 2.40494877e+00, -1.02583724e+00],\n",
       "       [-1.23981224e+00, -8.01269640e-01],\n",
       "       [ 1.40458248e+00, -1.43872144e+00],\n",
       "       [-2.76091522e-01,  8.33205425e-01],\n",
       "       [-1.24137556e+00, -9.21339076e-01],\n",
       "       [-1.27058943e+00,  4.91508546e-01],\n",
       "       [ 7.88389247e-01, -1.60174193e+00],\n",
       "       [ 5.18669809e-01,  7.42329532e-01],\n",
       "       [-7.88683019e-01, -7.13825725e-01],\n",
       "       [-9.25963818e-01,  2.69274662e-01],\n",
       "       [-1.27307181e+00, -5.42888464e-01],\n",
       "       [-1.08888741e+00, -6.92881624e-01],\n",
       "       [-9.09769924e-01, -8.05227658e-01],\n",
       "       [-1.17494918e+00, -6.59331190e-01],\n",
       "       [ 3.16562434e-01, -2.90672596e-01],\n",
       "       [-1.07819930e+00, -3.35334961e-01],\n",
       "       [-1.26845290e+00, -5.71722105e-01],\n",
       "       [-1.05997907e+00,  3.11956002e-01],\n",
       "       [-1.32351987e+00, -5.09360105e-01],\n",
       "       [-4.52889515e-01,  1.22011994e+00],\n",
       "       [-8.89038047e-01,  1.01354033e+00],\n",
       "       [-5.77868301e-01,  1.83178545e-01],\n",
       "       [ 2.31724314e-02,  2.80604104e-01],\n",
       "       [-1.05129239e+00, -3.91423615e-01],\n",
       "       [-1.18827803e+00, -6.45424256e-01],\n",
       "       [ 7.47267802e-01, -2.14670768e-01],\n",
       "       [-7.95433275e-01,  1.01323059e+00],\n",
       "       [-9.73808092e-01, -5.76305743e-01],\n",
       "       [-3.13033096e-01, -8.77909108e-01],\n",
       "       [-1.02294533e+00,  7.13619910e-01],\n",
       "       [-7.74978904e-01,  1.15267118e+00],\n",
       "       [ 2.09313829e-01,  1.18942419e+00],\n",
       "       [-1.01608673e+00, -3.63548311e-01],\n",
       "       [ 1.66161681e+00,  8.65314836e-01],\n",
       "       [-1.10371686e+00,  2.80030489e-02],\n",
       "       [-8.60868556e-01, -5.03650254e-01],\n",
       "       [-1.01273557e+00,  3.28008413e-01],\n",
       "       [-1.20952624e+00, -2.76472687e-01],\n",
       "       [-1.10337874e+00, -7.18583134e-02],\n",
       "       [-1.09161616e+00,  3.85951851e-02],\n",
       "       [-9.17448752e-01, -4.07836739e-01],\n",
       "       [-8.44273830e-01, -7.43275400e-01],\n",
       "       [-4.33582019e-01,  1.26669620e+00],\n",
       "       [-1.08023020e+00, -2.23437031e-01],\n",
       "       [-1.09325284e+00, -1.78540442e-01],\n",
       "       [ 6.31137682e-01, -2.21757409e-01],\n",
       "       [-1.05891285e+00,  5.20146528e-01],\n",
       "       [-1.21565654e+00,  2.50277877e-01],\n",
       "       [-1.21716482e+00, -3.12658011e-01],\n",
       "       [-1.15102646e+00, -1.49219088e-01],\n",
       "       [-7.06258826e-01,  2.18627817e+00],\n",
       "       [-6.67843798e-01,  2.22121069e-01],\n",
       "       [-1.72270951e-01,  2.06803631e-01],\n",
       "       [-6.26869720e-01,  4.28113305e-01],\n",
       "       [-1.15809773e+00, -3.72053943e-01],\n",
       "       [-3.77232055e-01,  1.42585039e+00],\n",
       "       [ 1.64836563e+00, -7.48964058e-01],\n",
       "       [-3.85396094e-01, -5.37285035e-01],\n",
       "       [-6.01596730e-02,  4.62578408e-01],\n",
       "       [-6.01630878e-01, -3.05588187e-01],\n",
       "       [-5.74286264e-01,  8.73973131e-02],\n",
       "       [-8.13055409e-02, -1.23210470e+00],\n",
       "       [-1.63944207e-01,  1.84983941e+00],\n",
       "       [-8.61319060e-01, -2.39969637e-02],\n",
       "       [ 1.33114450e-01, -3.27081205e-01],\n",
       "       [ 9.07636238e-01, -8.87244718e-01],\n",
       "       [ 1.44040622e-01, -7.97320716e-01],\n",
       "       [ 1.15952167e+00, -1.31901049e+00],\n",
       "       [-6.85107676e-01, -3.04135946e-01],\n",
       "       [ 6.66808814e-01, -1.02111825e+00],\n",
       "       [ 7.70166816e-02, -5.55807822e-02],\n",
       "       [-7.82022900e-01,  3.76151035e-01],\n",
       "       [-5.59320317e-01, -8.98805681e-02],\n",
       "       [-3.48659159e-02, -4.13840811e-01],\n",
       "       [-7.38136321e-01,  1.77337584e+00],\n",
       "       [ 9.41276361e-01, -5.35107344e-02],\n",
       "       [ 5.29384578e-01,  2.53628437e+00],\n",
       "       [-5.53025671e-01, -5.42887569e-01],\n",
       "       [-8.45501488e-01, -1.76851882e-01],\n",
       "       [ 9.30557721e-02, -5.94926700e-01],\n",
       "       [-2.69326464e-01,  1.28338846e+00],\n",
       "       [-8.15140688e-01, -9.44045936e-02],\n",
       "       [-9.32563125e-01, -4.19577799e-01],\n",
       "       [-2.64539112e-01, -2.20207430e-01],\n",
       "       [ 8.70602460e-01,  2.22084524e+00],\n",
       "       [-9.02520061e-01,  1.67691557e+00],\n",
       "       [ 3.46570362e+00, -1.03983801e+00],\n",
       "       [-9.18022733e-01, -3.00465906e-02],\n",
       "       [-1.10513709e+00, -8.61337874e-01]])"
      ]
     },
     "execution_count": 423,
     "metadata": {},
     "output_type": "execute_result"
    }
   ],
   "source": [
    "data_pca"
   ]
  },
  {
   "cell_type": "code",
   "execution_count": 424,
   "metadata": {},
   "outputs": [
    {
     "data": {
      "image/png": "[encoded data removed]",
      "text/plain": [
       "<Figure size 432x288 with 1 Axes>"
      ]
     },
     "metadata": {
      "needs_background": "light"
     },
     "output_type": "display_data"
    }
   ],
   "source": [
    "plt.scatter(X[:, 0], X[:, 1])\n",
    "plt.show();"
   ]
  },
  {
   "cell_type": "code",
   "execution_count": 425,
   "metadata": {},
   "outputs": [
    {
     "data": {
      "text/plain": [
       "array([0, 0, 0, 0, 0, 0, 0, 0, 0, 1, 0, 0, 0, 0, 0, 0, 0, 0, 0, 0, 0, 0,\n",
       "       0, 1, 0, 0, 0, 0, 1, 0, 0, 0, 0, 0, 0, 0, 0, 0, 1, 0, 0, 0, 0, 1,\n",
       "       0, 1, 1, 1, 0, 1, 0, 0, 0, 0, 0, 0, 1, 0, 0, 0, 0, 1, 0, 0, 0, 1,\n",
       "       0, 0, 0, 0, 0, 0, 0, 0, 0, 0, 0, 1, 0, 0, 0, 0, 0, 0, 0, 1, 1, 0,\n",
       "       0, 0, 0, 0, 1, 0, 0, 0, 0, 0, 0, 0, 0, 0, 0, 0, 0, 0, 0, 0, 0, 1,\n",
       "       0, 0, 0, 0, 0, 0, 0, 0, 0, 0, 0, 0, 0, 0, 0, 0, 0, 0, 0, 0, 0, 0,\n",
       "       0, 0, 0, 0, 0, 0, 0, 0, 0, 0, 0, 0, 0, 1, 0, 0, 0, 0, 0, 0, 0, 0,\n",
       "       0, 1, 0, 0, 0, 0, 0, 0, 0, 1, 0, 1, 0, 0, 0, 0, 0, 1, 0, 1, 0, 0,\n",
       "       0, 0, 0, 0, 0, 1, 0, 1, 0, 0, 0, 0, 0, 0, 0, 0, 0, 0, 0, 0, 0, 0,\n",
       "       0, 0, 1, 1, 0, 0, 0, 1, 0, 0, 0, 1, 0, 1, 0, 0, 0, 0, 1, 0, 0, 0,\n",
       "       0, 0, 0, 0, 0, 0, 0, 0, 0, 0, 0, 0, 0, 0, 0, 0, 0, 0, 0, 0, 0, 0,\n",
       "       0, 0, 0, 0, 0, 0, 0, 0, 0, 1, 0, 0, 0, 0, 0, 0, 0, 0, 0, 0, 0, 0,\n",
       "       0, 0, 0, 0, 0, 0, 0, 0, 0, 0, 0, 0, 0, 0, 0, 0, 0, 0, 0, 0, 0, 0,\n",
       "       0, 0, 0, 0, 0, 0, 0, 0, 0, 0, 0, 0, 0, 0, 0, 1, 0, 0, 1, 0, 1, 0,\n",
       "       0, 1, 0, 0, 1, 0, 0, 0, 0, 0, 0, 1, 0, 0, 0, 0, 0, 0, 0, 0, 0, 0,\n",
       "       0, 1, 0, 1, 0, 0, 0, 0, 0, 0, 0, 0, 0, 1, 0, 0, 0, 0, 0, 1, 0, 1,\n",
       "       0, 0, 0, 0, 0, 0, 0, 0, 0, 0, 0, 0, 0, 0, 0, 0, 0, 0, 0, 0, 0, 0,\n",
       "       0, 0, 0, 0, 0, 0, 0, 0, 0, 0, 0, 0, 0, 0, 0, 0, 0, 0, 0, 0, 0, 0,\n",
       "       0, 0, 0, 0, 0, 0, 0, 0, 0, 0, 0, 1, 0, 0, 0, 0, 0, 0, 0, 0, 0, 0,\n",
       "       0, 0, 0, 0, 0, 0, 0, 0, 0, 0, 0, 0, 0, 0, 0, 0, 0, 0, 0, 1, 0, 0])"
      ]
     },
     "execution_count": 425,
     "metadata": {},
     "output_type": "execute_result"
    }
   ],
   "source": [
    "skmeans_2 = ScratchKMeans(n_clusters=2, n_init=10, max_iter=500)\n",
    "pred2 = skmeans_2.fit(X)\n",
    "pred2"
   ]
  },
  {
   "cell_type": "code",
   "execution_count": 426,
   "metadata": {},
   "outputs": [
    {
     "data": {
      "image/png": "[encoded data removed]",
      "text/plain": [
       "<Figure size 432x288 with 1 Axes>"
      ]
     },
     "metadata": {
      "needs_background": "light"
     },
     "output_type": "display_data"
    }
   ],
   "source": [
    "for i in range(2):\n",
    "    labels2 = X[pred2 == i]\n",
    "    plt.scatter(labels2[:, 0], labels2[:, 1])\n",
    "    \n",
    "centers2 = skmeans_2.cluster_centers_\n",
    "plt.scatter(centers2[:, 0], centers2[:, 1], s=100, \n",
    "           facecolors='none', edgecolors='k')\n",
    "plt.show();"
   ]
  },
  {
   "cell_type": "code",
   "execution_count": 427,
   "metadata": {},
   "outputs": [
    {
     "data": {
      "text/plain": [
       "array([0, 0, 0, 0, 0, 0, 0, 0, 0, 1, 0, 0, 0, 0, 0, 0, 0, 0, 0, 0, 0, 0,\n",
       "       0, 2, 0, 0, 0, 0, 1, 0, 0, 0, 0, 0, 0, 0, 0, 0, 1, 2, 0, 0, 0, 1,\n",
       "       0, 1, 1, 1, 0, 1, 0, 0, 0, 0, 0, 0, 1, 0, 0, 0, 0, 1, 0, 0, 0, 1,\n",
       "       0, 0, 0, 0, 0, 2, 0, 0, 0, 0, 0, 1, 0, 0, 0, 0, 0, 0, 0, 1, 1, 2,\n",
       "       0, 0, 0, 0, 1, 2, 0, 0, 0, 0, 0, 0, 0, 0, 0, 2, 0, 0, 0, 0, 0, 1,\n",
       "       0, 0, 0, 0, 0, 0, 0, 0, 0, 0, 0, 0, 0, 0, 0, 2, 0, 0, 0, 0, 0, 0,\n",
       "       0, 0, 0, 0, 0, 0, 0, 0, 0, 0, 0, 0, 0, 1, 0, 0, 0, 0, 0, 0, 0, 0,\n",
       "       0, 1, 0, 0, 0, 0, 0, 0, 0, 1, 0, 1, 0, 0, 0, 0, 0, 1, 0, 1, 0, 0,\n",
       "       0, 0, 0, 0, 0, 2, 0, 2, 0, 0, 0, 0, 0, 0, 0, 0, 0, 0, 0, 0, 2, 0,\n",
       "       0, 0, 1, 1, 0, 0, 0, 1, 0, 0, 0, 1, 0, 1, 0, 0, 0, 0, 1, 0, 0, 0,\n",
       "       0, 0, 0, 0, 0, 0, 0, 0, 0, 0, 0, 0, 0, 0, 0, 0, 0, 0, 0, 0, 0, 0,\n",
       "       0, 0, 0, 0, 0, 0, 0, 0, 0, 1, 0, 0, 0, 0, 0, 0, 2, 0, 0, 0, 0, 0,\n",
       "       0, 0, 0, 0, 0, 0, 0, 0, 0, 0, 0, 0, 0, 0, 0, 0, 0, 0, 0, 0, 2, 0,\n",
       "       0, 0, 0, 0, 0, 0, 0, 0, 0, 0, 0, 0, 0, 0, 0, 1, 0, 0, 1, 0, 1, 0,\n",
       "       0, 1, 0, 0, 1, 0, 0, 0, 0, 0, 0, 1, 0, 0, 0, 0, 0, 2, 0, 0, 0, 0,\n",
       "       0, 1, 0, 1, 0, 0, 0, 0, 0, 0, 0, 0, 0, 1, 0, 0, 0, 0, 0, 1, 0, 1,\n",
       "       0, 1, 0, 0, 0, 0, 0, 0, 0, 0, 0, 0, 0, 0, 0, 0, 0, 0, 0, 0, 0, 0,\n",
       "       0, 0, 0, 0, 0, 0, 0, 0, 0, 0, 0, 0, 0, 0, 0, 0, 0, 0, 0, 0, 0, 0,\n",
       "       0, 0, 0, 0, 0, 0, 0, 0, 0, 0, 0, 1, 0, 0, 0, 0, 0, 0, 0, 0, 0, 0,\n",
       "       0, 0, 0, 0, 0, 0, 0, 0, 0, 2, 0, 0, 0, 0, 0, 0, 0, 2, 0, 1, 0, 0])"
      ]
     },
     "execution_count": 427,
     "metadata": {},
     "output_type": "execute_result"
    }
   ],
   "source": [
    "skmeans_3 = ScratchKMeans(n_clusters=3, n_init=10, max_iter=500)\n",
    "pred3 = skmeans_3.fit(X)\n",
    "pred3"
   ]
  },
  {
   "cell_type": "code",
   "execution_count": 428,
   "metadata": {},
   "outputs": [
    {
     "data": {
      "image/png": "[encoded data removed]",
      "text/plain": [
       "<Figure size 432x288 with 1 Axes>"
      ]
     },
     "metadata": {
      "needs_background": "light"
     },
     "output_type": "display_data"
    }
   ],
   "source": [
    "for i in range(3):\n",
    "    labels3 = X[pred3 == i]\n",
    "    plt.scatter(labels3[:, 0], labels3[:, 1])\n",
    "    \n",
    "centers3 = skmeans_3.cluster_centers_\n",
    "plt.scatter(centers3[:, 0], centers3[:, 1], s=100, \n",
    "           facecolors='none', edgecolors='k')\n",
    "plt.show();"
   ]
  },
  {
   "cell_type": "markdown",
   "metadata": {},
   "source": [
    "**選んだクラスタ数は3である。まず1点目の理由としては、SSEとクラスタ数との関係を表したグラフから探るエルボー法による理解。SSEが収束しつつあるのはクラスタ数が20を超えたあたりであるが、これでは妥当な分類とは言えない。そこで初期値からどのくらい下がっているかを観察した結果、クラスタ数3で当初の30%ほどに減少していることからも妥当と考えた。また第二に、実際にクラスタ3のk-means法でクラスタリングを行った結果を可視化したところ、「両特徴量ともに小さな領域」、「どちらか一方が小さく、他方が大きい領域」の3つに分けることは特段の不自然性がないと考えた。以上から、クラスタ数3を妥当とした。**"
   ]
  },
  {
   "cell_type": "markdown",
   "metadata": {},
   "source": [
    "### **【問題11】既知のグループとの比較**"
   ]
  },
  {
   "cell_type": "code",
   "execution_count": 429,
   "metadata": {},
   "outputs": [
    {
     "data": {
      "image/png": "[encoded data removed]",
      "text/plain": [
       "<Figure size 432x288 with 1 Axes>"
      ]
     },
     "metadata": {
      "needs_background": "light"
     },
     "output_type": "display_data"
    }
   ],
   "source": [
    "for i in range(2):\n",
    "    labels2 = X[pred2 == i]\n",
    "    plt.scatter(labels2[:, 0], labels2[:, 1])\n",
    "    \n",
    "centers2 = skmeans_2.cluster_centers_\n",
    "plt.scatter(centers2[:, 0], centers2[:, 1], s=100, \n",
    "           facecolors='none', edgecolors='k')\n",
    "plt.show();"
   ]
  },
  {
   "cell_type": "code",
   "execution_count": 430,
   "metadata": {},
   "outputs": [
    {
     "data": {
      "image/png": "[encoded data removed]",
      "text/plain": [
       "<Figure size 432x288 with 1 Axes>"
      ]
     },
     "metadata": {
      "needs_background": "light"
     },
     "output_type": "display_data"
    }
   ],
   "source": [
    "plt.scatter(X[ch_1, 0], X[ch_1, 1])\n",
    "plt.scatter(X[ch_2, 0], X[ch_2, 1])\n",
    "plt.show();"
   ]
  },
  {
   "cell_type": "markdown",
   "metadata": {},
   "source": [
    "**Channelによる分類はかなり重なりが大きい。一方、k-means法によるクラスタリングは綺麗に分かれるという特徴がある。どちらかが「金科玉条」というわけではないが、今回はChannelによる分類が重複部分が大きすぎるため、k-means法によるクラスタリングが好ましいと感じる。ただ、こちらも、境界がはっきりしているという難点もある。**"
   ]
  },
  {
   "cell_type": "code",
   "execution_count": 431,
   "metadata": {},
   "outputs": [
    {
     "data": {
      "image/png": "[encoded data removed]",
      "text/plain": [
       "<Figure size 432x288 with 1 Axes>"
      ]
     },
     "metadata": {
      "needs_background": "light"
     },
     "output_type": "display_data"
    }
   ],
   "source": [
    "for i in range(3):\n",
    "    labels3 = X[pred3 == i]\n",
    "    plt.scatter(labels3[:, 0], labels3[:, 1])\n",
    "    \n",
    "centers3 = skmeans_3.cluster_centers_\n",
    "plt.scatter(centers3[:, 0], centers3[:, 1], s=100, \n",
    "           facecolors='none', edgecolors='k')\n",
    "plt.show();"
   ]
  },
  {
   "cell_type": "code",
   "execution_count": 511,
   "metadata": {},
   "outputs": [
    {
     "data": {
      "image/png": "[encoded data removed]",
      "text/plain": [
       "<Figure size 432x288 with 1 Axes>"
      ]
     },
     "metadata": {
      "needs_background": "light"
     },
     "output_type": "display_data"
    }
   ],
   "source": [
    "plt.scatter(X[reg_1, 0], X[reg_1, 1])\n",
    "plt.scatter(X[reg_2, 0], X[reg_2, 1])\n",
    "plt.scatter(X[reg_3, 0], X[reg_3, 1])\n",
    "plt.show();"
   ]
  },
  {
   "cell_type": "markdown",
   "metadata": {},
   "source": [
    "**Regionによる分類は分類できているとは言い難いほど「'Region'=3」となるデータが多すぎる。他方、k-means法による分類は「どちらの特徴量も小さい領域」、「一方の特徴量が大きく他方が小さい領域」、「その逆の領域」の3つに綺麗に分けている。**"
   ]
  },
  {
   "cell_type": "markdown",
   "metadata": {},
   "source": [
    "### **【問題12】卸売業者にとって有益な情報**"
   ]
  },
  {
   "cell_type": "code",
   "execution_count": 433,
   "metadata": {},
   "outputs": [
    {
     "data": {
      "text/html": [
       "<div>\n",
       "<style scoped>\n",
       "    .dataframe tbody tr th:only-of-type {\n",
       "        vertical-align: middle;\n",
       "    }\n",
       "\n",
       "    .dataframe tbody tr th {\n",
       "        vertical-align: top;\n",
       "    }\n",
       "\n",
       "    .dataframe thead th {\n",
       "        text-align: right;\n",
       "    }\n",
       "</style>\n",
       "<table border=\"1\" class=\"dataframe\">\n",
       "  <thead>\n",
       "    <tr style=\"text-align: right;\">\n",
       "      <th></th>\n",
       "      <th>0</th>\n",
       "      <th>1</th>\n",
       "    </tr>\n",
       "  </thead>\n",
       "  <tbody>\n",
       "    <tr>\n",
       "      <th>count</th>\n",
       "      <td>395.000000</td>\n",
       "      <td>395.000000</td>\n",
       "    </tr>\n",
       "    <tr>\n",
       "      <th>mean</th>\n",
       "      <td>-0.418589</td>\n",
       "      <td>0.046426</td>\n",
       "    </tr>\n",
       "    <tr>\n",
       "      <th>std</th>\n",
       "      <td>0.737049</td>\n",
       "      <td>1.031943</td>\n",
       "    </tr>\n",
       "    <tr>\n",
       "      <th>min</th>\n",
       "      <td>-1.436710</td>\n",
       "      <td>-1.601742</td>\n",
       "    </tr>\n",
       "    <tr>\n",
       "      <th>25%</th>\n",
       "      <td>-1.007713</td>\n",
       "      <td>-0.570563</td>\n",
       "    </tr>\n",
       "    <tr>\n",
       "      <th>50%</th>\n",
       "      <td>-0.687920</td>\n",
       "      <td>-0.214671</td>\n",
       "    </tr>\n",
       "    <tr>\n",
       "      <th>75%</th>\n",
       "      <td>0.037294</td>\n",
       "      <td>0.409435</td>\n",
       "    </tr>\n",
       "    <tr>\n",
       "      <th>max</th>\n",
       "      <td>2.014356</td>\n",
       "      <td>9.005487</td>\n",
       "    </tr>\n",
       "  </tbody>\n",
       "</table>\n",
       "</div>"
      ],
      "text/plain": [
       "                0           1\n",
       "count  395.000000  395.000000\n",
       "mean    -0.418589    0.046426\n",
       "std      0.737049    1.031943\n",
       "min     -1.436710   -1.601742\n",
       "25%     -1.007713   -0.570563\n",
       "50%     -0.687920   -0.214671\n",
       "75%      0.037294    0.409435\n",
       "max      2.014356    9.005487"
      ]
     },
     "execution_count": 433,
     "metadata": {},
     "output_type": "execute_result"
    }
   ],
   "source": [
    "# n_clusters=2のとき\n",
    "# ラベル1の統計量\n",
    "labels2_0 = X[pred2 == 0]\n",
    "df_labels2_0 = pd.DataFrame(labels2_0)\n",
    "df_labels2_0.describe()"
   ]
  },
  {
   "cell_type": "code",
   "execution_count": 434,
   "metadata": {},
   "outputs": [
    {
     "data": {
      "text/html": [
       "<div>\n",
       "<style scoped>\n",
       "    .dataframe tbody tr th:only-of-type {\n",
       "        vertical-align: middle;\n",
       "    }\n",
       "\n",
       "    .dataframe tbody tr th {\n",
       "        vertical-align: top;\n",
       "    }\n",
       "\n",
       "    .dataframe thead th {\n",
       "        text-align: right;\n",
       "    }\n",
       "</style>\n",
       "<table border=\"1\" class=\"dataframe\">\n",
       "  <thead>\n",
       "    <tr style=\"text-align: right;\">\n",
       "      <th></th>\n",
       "      <th>0</th>\n",
       "      <th>1</th>\n",
       "    </tr>\n",
       "  </thead>\n",
       "  <tbody>\n",
       "    <tr>\n",
       "      <th>count</th>\n",
       "      <td>45.000000</td>\n",
       "      <td>45.000000</td>\n",
       "    </tr>\n",
       "    <tr>\n",
       "      <th>mean</th>\n",
       "      <td>3.674284</td>\n",
       "      <td>-0.407514</td>\n",
       "    </tr>\n",
       "    <tr>\n",
       "      <th>std</th>\n",
       "      <td>2.491003</td>\n",
       "      <td>2.702018</td>\n",
       "    </tr>\n",
       "    <tr>\n",
       "      <th>min</th>\n",
       "      <td>1.530659</td>\n",
       "      <td>-3.379889</td>\n",
       "    </tr>\n",
       "    <tr>\n",
       "      <th>25%</th>\n",
       "      <td>1.996184</td>\n",
       "      <td>-1.251743</td>\n",
       "    </tr>\n",
       "    <tr>\n",
       "      <th>50%</th>\n",
       "      <td>2.813497</td>\n",
       "      <td>-0.995326</td>\n",
       "    </tr>\n",
       "    <tr>\n",
       "      <th>75%</th>\n",
       "      <td>4.599756</td>\n",
       "      <td>-0.446858</td>\n",
       "    </tr>\n",
       "    <tr>\n",
       "      <th>max</th>\n",
       "      <td>12.653002</td>\n",
       "      <td>13.949084</td>\n",
       "    </tr>\n",
       "  </tbody>\n",
       "</table>\n",
       "</div>"
      ],
      "text/plain": [
       "               0          1\n",
       "count  45.000000  45.000000\n",
       "mean    3.674284  -0.407514\n",
       "std     2.491003   2.702018\n",
       "min     1.530659  -3.379889\n",
       "25%     1.996184  -1.251743\n",
       "50%     2.813497  -0.995326\n",
       "75%     4.599756  -0.446858\n",
       "max    12.653002  13.949084"
      ]
     },
     "execution_count": 434,
     "metadata": {},
     "output_type": "execute_result"
    }
   ],
   "source": [
    "# n_clusters=2のとき\n",
    "# ラベル2の統計量\n",
    "labels2_1 = X[pred2 == 1]\n",
    "df_labels2_1 = pd.DataFrame(labels2_1)\n",
    "df_labels2_1.describe()"
   ]
  },
  {
   "cell_type": "code",
   "execution_count": 444,
   "metadata": {},
   "outputs": [
    {
     "data": {
      "text/html": [
       "<div>\n",
       "<style scoped>\n",
       "    .dataframe tbody tr th:only-of-type {\n",
       "        vertical-align: middle;\n",
       "    }\n",
       "\n",
       "    .dataframe tbody tr th {\n",
       "        vertical-align: top;\n",
       "    }\n",
       "\n",
       "    .dataframe thead th {\n",
       "        text-align: right;\n",
       "    }\n",
       "</style>\n",
       "<table border=\"1\" class=\"dataframe\">\n",
       "  <thead>\n",
       "    <tr style=\"text-align: right;\">\n",
       "      <th></th>\n",
       "      <th>0</th>\n",
       "      <th>1</th>\n",
       "    </tr>\n",
       "  </thead>\n",
       "  <tbody>\n",
       "    <tr>\n",
       "      <th>count</th>\n",
       "      <td>395.000000</td>\n",
       "      <td>395.000000</td>\n",
       "    </tr>\n",
       "    <tr>\n",
       "      <th>mean</th>\n",
       "      <td>-0.418589</td>\n",
       "      <td>0.046426</td>\n",
       "    </tr>\n",
       "    <tr>\n",
       "      <th>std</th>\n",
       "      <td>0.737049</td>\n",
       "      <td>1.031943</td>\n",
       "    </tr>\n",
       "    <tr>\n",
       "      <th>min</th>\n",
       "      <td>-1.436710</td>\n",
       "      <td>-1.601742</td>\n",
       "    </tr>\n",
       "    <tr>\n",
       "      <th>25%</th>\n",
       "      <td>-1.007713</td>\n",
       "      <td>-0.570563</td>\n",
       "    </tr>\n",
       "    <tr>\n",
       "      <th>50%</th>\n",
       "      <td>-0.687920</td>\n",
       "      <td>-0.214671</td>\n",
       "    </tr>\n",
       "    <tr>\n",
       "      <th>75%</th>\n",
       "      <td>0.037294</td>\n",
       "      <td>0.409435</td>\n",
       "    </tr>\n",
       "    <tr>\n",
       "      <th>max</th>\n",
       "      <td>2.014356</td>\n",
       "      <td>9.005487</td>\n",
       "    </tr>\n",
       "  </tbody>\n",
       "</table>\n",
       "</div>"
      ],
      "text/plain": [
       "                0           1\n",
       "count  395.000000  395.000000\n",
       "mean    -0.418589    0.046426\n",
       "std      0.737049    1.031943\n",
       "min     -1.436710   -1.601742\n",
       "25%     -1.007713   -0.570563\n",
       "50%     -0.687920   -0.214671\n",
       "75%      0.037294    0.409435\n",
       "max      2.014356    9.005487"
      ]
     },
     "execution_count": 444,
     "metadata": {},
     "output_type": "execute_result"
    }
   ],
   "source": [
    "# n_clusters=3のとき\n",
    "# ラベル0の統計量\n",
    "labels3_0 = X[pred2 == 0]\n",
    "df_labels3_0 = pd.DataFrame(labels3_0)\n",
    "df_labels3_0.describe()"
   ]
  },
  {
   "cell_type": "code",
   "execution_count": 445,
   "metadata": {},
   "outputs": [
    {
     "data": {
      "text/html": [
       "<div>\n",
       "<style scoped>\n",
       "    .dataframe tbody tr th:only-of-type {\n",
       "        vertical-align: middle;\n",
       "    }\n",
       "\n",
       "    .dataframe tbody tr th {\n",
       "        vertical-align: top;\n",
       "    }\n",
       "\n",
       "    .dataframe thead th {\n",
       "        text-align: right;\n",
       "    }\n",
       "</style>\n",
       "<table border=\"1\" class=\"dataframe\">\n",
       "  <thead>\n",
       "    <tr style=\"text-align: right;\">\n",
       "      <th></th>\n",
       "      <th>0</th>\n",
       "      <th>1</th>\n",
       "    </tr>\n",
       "  </thead>\n",
       "  <tbody>\n",
       "    <tr>\n",
       "      <th>count</th>\n",
       "      <td>45.000000</td>\n",
       "      <td>45.000000</td>\n",
       "    </tr>\n",
       "    <tr>\n",
       "      <th>mean</th>\n",
       "      <td>3.674284</td>\n",
       "      <td>-0.407514</td>\n",
       "    </tr>\n",
       "    <tr>\n",
       "      <th>std</th>\n",
       "      <td>2.491003</td>\n",
       "      <td>2.702018</td>\n",
       "    </tr>\n",
       "    <tr>\n",
       "      <th>min</th>\n",
       "      <td>1.530659</td>\n",
       "      <td>-3.379889</td>\n",
       "    </tr>\n",
       "    <tr>\n",
       "      <th>25%</th>\n",
       "      <td>1.996184</td>\n",
       "      <td>-1.251743</td>\n",
       "    </tr>\n",
       "    <tr>\n",
       "      <th>50%</th>\n",
       "      <td>2.813497</td>\n",
       "      <td>-0.995326</td>\n",
       "    </tr>\n",
       "    <tr>\n",
       "      <th>75%</th>\n",
       "      <td>4.599756</td>\n",
       "      <td>-0.446858</td>\n",
       "    </tr>\n",
       "    <tr>\n",
       "      <th>max</th>\n",
       "      <td>12.653002</td>\n",
       "      <td>13.949084</td>\n",
       "    </tr>\n",
       "  </tbody>\n",
       "</table>\n",
       "</div>"
      ],
      "text/plain": [
       "               0          1\n",
       "count  45.000000  45.000000\n",
       "mean    3.674284  -0.407514\n",
       "std     2.491003   2.702018\n",
       "min     1.530659  -3.379889\n",
       "25%     1.996184  -1.251743\n",
       "50%     2.813497  -0.995326\n",
       "75%     4.599756  -0.446858\n",
       "max    12.653002  13.949084"
      ]
     },
     "execution_count": 445,
     "metadata": {},
     "output_type": "execute_result"
    }
   ],
   "source": [
    "# n_clusters=3のとき\n",
    "# ラベル1の統計量\n",
    "labels3_1 = X[pred2 == 1]\n",
    "df_labels3_1 = pd.DataFrame(labels3_1)\n",
    "df_labels3_1.describe()"
   ]
  },
  {
   "cell_type": "code",
   "execution_count": 446,
   "metadata": {
    "scrolled": true
   },
   "outputs": [
    {
     "data": {
      "text/html": [
       "<div>\n",
       "<style scoped>\n",
       "    .dataframe tbody tr th:only-of-type {\n",
       "        vertical-align: middle;\n",
       "    }\n",
       "\n",
       "    .dataframe tbody tr th {\n",
       "        vertical-align: top;\n",
       "    }\n",
       "\n",
       "    .dataframe thead th {\n",
       "        text-align: right;\n",
       "    }\n",
       "</style>\n",
       "<table border=\"1\" class=\"dataframe\">\n",
       "  <thead>\n",
       "    <tr style=\"text-align: right;\">\n",
       "      <th></th>\n",
       "      <th>0</th>\n",
       "      <th>1</th>\n",
       "    </tr>\n",
       "  </thead>\n",
       "  <tbody>\n",
       "    <tr>\n",
       "      <th>count</th>\n",
       "      <td>0.0</td>\n",
       "      <td>0.0</td>\n",
       "    </tr>\n",
       "    <tr>\n",
       "      <th>mean</th>\n",
       "      <td>NaN</td>\n",
       "      <td>NaN</td>\n",
       "    </tr>\n",
       "    <tr>\n",
       "      <th>std</th>\n",
       "      <td>NaN</td>\n",
       "      <td>NaN</td>\n",
       "    </tr>\n",
       "    <tr>\n",
       "      <th>min</th>\n",
       "      <td>NaN</td>\n",
       "      <td>NaN</td>\n",
       "    </tr>\n",
       "    <tr>\n",
       "      <th>25%</th>\n",
       "      <td>NaN</td>\n",
       "      <td>NaN</td>\n",
       "    </tr>\n",
       "    <tr>\n",
       "      <th>50%</th>\n",
       "      <td>NaN</td>\n",
       "      <td>NaN</td>\n",
       "    </tr>\n",
       "    <tr>\n",
       "      <th>75%</th>\n",
       "      <td>NaN</td>\n",
       "      <td>NaN</td>\n",
       "    </tr>\n",
       "    <tr>\n",
       "      <th>max</th>\n",
       "      <td>NaN</td>\n",
       "      <td>NaN</td>\n",
       "    </tr>\n",
       "  </tbody>\n",
       "</table>\n",
       "</div>"
      ],
      "text/plain": [
       "         0    1\n",
       "count  0.0  0.0\n",
       "mean   NaN  NaN\n",
       "std    NaN  NaN\n",
       "min    NaN  NaN\n",
       "25%    NaN  NaN\n",
       "50%    NaN  NaN\n",
       "75%    NaN  NaN\n",
       "max    NaN  NaN"
      ]
     },
     "execution_count": 446,
     "metadata": {},
     "output_type": "execute_result"
    }
   ],
   "source": [
    "# n_clusters=3のとき\n",
    "# ラベル2の統計量\n",
    "labels3_2 = X[pred2 == 2]\n",
    "df_labels3_2 = pd.DataFrame(labels3_2)\n",
    "df_labels3_2.describe()"
   ]
  },
  {
   "cell_type": "markdown",
   "metadata": {},
   "source": [
    "**特徴量を一つ一つChannelとRegionごとに見ていく**"
   ]
  },
  {
   "cell_type": "code",
   "execution_count": 477,
   "metadata": {},
   "outputs": [],
   "source": [
    "df_ch1 = df[df['Channel'] == 1].drop(['Channel'], axis=1)\n",
    "df_ch2 = df[df['Channel'] == 2].drop(['Channel'], axis=1)"
   ]
  },
  {
   "cell_type": "code",
   "execution_count": 460,
   "metadata": {},
   "outputs": [],
   "source": [
    "df_region1 = df[df['Region'] == 1].drop(['Region'], axis=1)\n",
    "df_region2 = df[df['Region'] == 2].drop(['Region'], axis=1)\n",
    "df_region3 = df[df['Region'] == 3].drop(['Region'], axis=1)"
   ]
  },
  {
   "cell_type": "markdown",
   "metadata": {},
   "source": [
    "**Fresh**"
   ]
  },
  {
   "cell_type": "code",
   "execution_count": 475,
   "metadata": {},
   "outputs": [
    {
     "data": {
      "image/png": "[encoded data removed]",
      "text/plain": [
       "<Figure size 432x288 with 1 Axes>"
      ]
     },
     "metadata": {
      "needs_background": "light"
     },
     "output_type": "display_data"
    }
   ],
   "source": [
    "plt.hist([df_ch1['Fresh'], df_ch2['Fresh']], bins=20, label=['Horeca', 'Retail'], color=['b', 'm']);"
   ]
  },
  {
   "cell_type": "code",
   "execution_count": 463,
   "metadata": {},
   "outputs": [
    {
     "data": {
      "image/png": "[encoded data removed]",
      "text/plain": [
       "<Figure size 432x288 with 1 Axes>"
      ]
     },
     "metadata": {
      "needs_background": "light"
     },
     "output_type": "display_data"
    }
   ],
   "source": [
    "plt.hist([df_region1['Fresh'], df_region2['Fresh'], df_region3['Fresh']], bins=20, \n",
    "        label=['Lisbon', 'Oporto', 'Other']);"
   ]
  },
  {
   "cell_type": "markdown",
   "metadata": {},
   "source": [
    "**Milk**"
   ]
  },
  {
   "cell_type": "code",
   "execution_count": 465,
   "metadata": {},
   "outputs": [
    {
     "data": {
      "image/png": "[encoded data removed]",
      "text/plain": [
       "<Figure size 432x288 with 1 Axes>"
      ]
     },
     "metadata": {
      "needs_background": "light"
     },
     "output_type": "display_data"
    }
   ],
   "source": [
    "plt.hist([df_ch1['Milk'], df_ch2['Milk']], bins=20, label=['Horeca', 'Retail']);"
   ]
  },
  {
   "cell_type": "code",
   "execution_count": 466,
   "metadata": {},
   "outputs": [
    {
     "data": {
      "image/png": "[encoded data removed]",
      "text/plain": [
       "<Figure size 432x288 with 1 Axes>"
      ]
     },
     "metadata": {
      "needs_background": "light"
     },
     "output_type": "display_data"
    }
   ],
   "source": [
    "plt.hist([df_region1['Milk'], df_region2['Milk'], df_region3['Milk']], bins=20, \n",
    "        label=['Lisbon', 'Oporto', 'Other']);"
   ]
  },
  {
   "cell_type": "markdown",
   "metadata": {},
   "source": [
    "**Grocery**"
   ]
  },
  {
   "cell_type": "code",
   "execution_count": 467,
   "metadata": {},
   "outputs": [
    {
     "data": {
      "image/png": "[encoded data removed]",
      "text/plain": [
       "<Figure size 432x288 with 1 Axes>"
      ]
     },
     "metadata": {
      "needs_background": "light"
     },
     "output_type": "display_data"
    }
   ],
   "source": [
    "plt.hist([df_ch1['Grocery'], df_ch2['Grocery']], bins=20, label=['Horeca', 'Retail']);"
   ]
  },
  {
   "cell_type": "code",
   "execution_count": 468,
   "metadata": {},
   "outputs": [
    {
     "data": {
      "image/png": "[encoded data removed]",
      "text/plain": [
       "<Figure size 432x288 with 1 Axes>"
      ]
     },
     "metadata": {
      "needs_background": "light"
     },
     "output_type": "display_data"
    }
   ],
   "source": [
    "plt.hist([df_region1['Grocery'], df_region2['Grocery'], df_region3['Grocery']], bins=20, \n",
    "        label=['Lisbon', 'Oporto', 'Other']);"
   ]
  },
  {
   "cell_type": "markdown",
   "metadata": {},
   "source": [
    "**Frozen**"
   ]
  },
  {
   "cell_type": "code",
   "execution_count": 469,
   "metadata": {},
   "outputs": [
    {
     "data": {
      "image/png": "[encoded data removed]",
      "text/plain": [
       "<Figure size 432x288 with 1 Axes>"
      ]
     },
     "metadata": {
      "needs_background": "light"
     },
     "output_type": "display_data"
    }
   ],
   "source": [
    "plt.hist([df_ch1['Frozen'], df_ch2['Frozen']], bins=20, label=['Horeca', 'Retail']);"
   ]
  },
  {
   "cell_type": "code",
   "execution_count": 470,
   "metadata": {},
   "outputs": [
    {
     "data": {
      "image/png": "[encoded data removed]",
      "text/plain": [
       "<Figure size 432x288 with 1 Axes>"
      ]
     },
     "metadata": {
      "needs_background": "light"
     },
     "output_type": "display_data"
    }
   ],
   "source": [
    "plt.hist([df_region1['Frozen'], df_region2['Frozen'], df_region3['Frozen']], bins=20, \n",
    "        label=['Lisbon', 'Oporto', 'Other']);"
   ]
  },
  {
   "cell_type": "markdown",
   "metadata": {},
   "source": [
    "**Detergents_Paper**"
   ]
  },
  {
   "cell_type": "code",
   "execution_count": 471,
   "metadata": {},
   "outputs": [
    {
     "data": {
      "image/png": "[encoded data removed]",
      "text/plain": [
       "<Figure size 432x288 with 1 Axes>"
      ]
     },
     "metadata": {
      "needs_background": "light"
     },
     "output_type": "display_data"
    }
   ],
   "source": [
    "plt.hist([df_ch1['Detergents_Paper'], df_ch2['Detergents_Paper']], bins=20, label=['Horeca', 'Retail']);"
   ]
  },
  {
   "cell_type": "code",
   "execution_count": 472,
   "metadata": {},
   "outputs": [
    {
     "data": {
      "image/png": "[encoded data removed]",
      "text/plain": [
       "<Figure size 432x288 with 1 Axes>"
      ]
     },
     "metadata": {
      "needs_background": "light"
     },
     "output_type": "display_data"
    }
   ],
   "source": [
    "plt.hist([df_region1['Detergents_Paper'], df_region2['Detergents_Paper'], df_region3['Frozen']], bins=20, \n",
    "        label=['Lisbon', 'Oporto', 'Other']);"
   ]
  },
  {
   "cell_type": "markdown",
   "metadata": {},
   "source": [
    "**Delicassen**"
   ]
  },
  {
   "cell_type": "code",
   "execution_count": 473,
   "metadata": {},
   "outputs": [
    {
     "data": {
      "image/png": "[encoded data removed]",
      "text/plain": [
       "<Figure size 432x288 with 1 Axes>"
      ]
     },
     "metadata": {
      "needs_background": "light"
     },
     "output_type": "display_data"
    }
   ],
   "source": [
    "plt.hist([df_ch1['Delicassen'], df_ch2['Delicassen']], bins=20, label=['Horeca', 'Retail']);"
   ]
  },
  {
   "cell_type": "code",
   "execution_count": 474,
   "metadata": {},
   "outputs": [
    {
     "data": {
      "image/png": "[encoded data removed]",
      "text/plain": [
       "<Figure size 432x288 with 1 Axes>"
      ]
     },
     "metadata": {
      "needs_background": "light"
     },
     "output_type": "display_data"
    }
   ],
   "source": [
    "plt.hist([df_region1['Delicassen'], df_region2['Delicassen'], df_region3['Frozen']], bins=20, \n",
    "        label=['Lisbon', 'Oporto', 'Other']);"
   ]
  },
  {
   "cell_type": "markdown",
   "metadata": {},
   "source": [
    "### **まとめ**"
   ]
  },
  {
   "cell_type": "code",
   "execution_count": 514,
   "metadata": {},
   "outputs": [],
   "source": [
    "df = pd.read_csv('Wholesale customers data.csv')\n",
    "df = df.drop(['Channel', 'Region'], axis=1)\n",
    "X = np.array(df)"
   ]
  },
  {
   "cell_type": "code",
   "execution_count": 530,
   "metadata": {},
   "outputs": [
    {
     "data": {
      "text/plain": [
       "array([0, 0, 0, 0, 2, 0, 0, 0, 0, 1, 1, 0, 2, 2, 2, 0, 1, 0, 0, 0, 0, 0,\n",
       "       2, 3, 2, 0, 0, 0, 1, 2, 0, 0, 2, 2, 0, 0, 2, 1, 1, 2, 2, 0, 1, 1,\n",
       "       0, 1, 1, 3, 0, 1, 0, 0, 2, 1, 2, 0, 1, 1, 0, 0, 0, 3, 0, 1, 0, 1,\n",
       "       0, 2, 0, 0, 0, 1, 0, 2, 0, 2, 0, 1, 0, 0, 0, 1, 0, 2, 0, 3, 3, 2,\n",
       "       0, 2, 0, 0, 1, 0, 1, 0, 0, 0, 0, 0, 1, 1, 0, 2, 0, 0, 0, 1, 0, 1,\n",
       "       0, 1, 0, 0, 0, 0, 0, 0, 2, 0, 0, 0, 0, 0, 2, 2, 0, 2, 0, 2, 0, 0,\n",
       "       0, 0, 0, 0, 0, 0, 0, 0, 0, 2, 2, 0, 0, 1, 0, 0, 0, 2, 0, 0, 0, 0,\n",
       "       0, 1, 1, 0, 0, 1, 0, 0, 0, 1, 0, 1, 0, 0, 0, 0, 1, 1, 0, 1, 0, 1,\n",
       "       2, 0, 0, 0, 0, 3, 1, 3, 0, 0, 0, 0, 0, 1, 0, 0, 0, 1, 0, 0, 2, 0,\n",
       "       0, 0, 1, 1, 2, 0, 0, 1, 0, 0, 0, 1, 0, 1, 0, 0, 0, 1, 1, 0, 1, 0,\n",
       "       0, 0, 0, 0, 0, 0, 2, 0, 0, 0, 0, 0, 2, 0, 0, 0, 0, 0, 0, 2, 2, 2,\n",
       "       0, 0, 0, 1, 0, 0, 0, 0, 0, 1, 0, 2, 0, 2, 0, 0, 2, 2, 0, 0, 2, 0,\n",
       "       1, 1, 1, 2, 1, 0, 0, 0, 0, 2, 0, 0, 2, 0, 0, 0, 0, 0, 2, 2, 2, 2,\n",
       "       0, 0, 0, 2, 0, 0, 0, 1, 2, 0, 0, 0, 0, 0, 0, 1, 0, 1, 1, 1, 1, 0,\n",
       "       0, 1, 0, 2, 1, 0, 0, 1, 0, 0, 0, 1, 0, 0, 0, 0, 2, 2, 0, 0, 0, 0,\n",
       "       0, 1, 2, 1, 0, 2, 0, 0, 0, 0, 0, 0, 0, 1, 0, 0, 1, 2, 0, 1, 0, 1,\n",
       "       0, 1, 0, 0, 2, 1, 0, 0, 0, 0, 0, 0, 0, 0, 0, 0, 2, 0, 2, 2, 0, 0,\n",
       "       0, 0, 1, 2, 0, 0, 2, 0, 2, 0, 1, 0, 0, 2, 0, 0, 0, 0, 0, 2, 0, 0,\n",
       "       0, 0, 0, 0, 0, 2, 2, 2, 0, 0, 2, 1, 0, 0, 0, 0, 0, 0, 0, 0, 1, 0,\n",
       "       1, 0, 1, 0, 2, 0, 0, 0, 1, 2, 0, 0, 1, 0, 2, 0, 0, 2, 2, 1, 0, 0])"
      ]
     },
     "execution_count": 530,
     "metadata": {},
     "output_type": "execute_result"
    }
   ],
   "source": [
    "skmeans_fin = ScratchKMeans(n_clusters=4, n_init=10, max_iter=100)\n",
    "pred_fin = skmeans_fin.fit(X)\n",
    "pred_fin"
   ]
  },
  {
   "cell_type": "code",
   "execution_count": 531,
   "metadata": {},
   "outputs": [
    {
     "data": {
      "image/png": "[encoded data removed]",
      "text/plain": [
       "<Figure size 432x288 with 1 Axes>"
      ]
     },
     "metadata": {
      "needs_background": "light"
     },
     "output_type": "display_data"
    }
   ],
   "source": [
    "for i in range(4):\n",
    "    labels_fin = X[pred_fin == i]\n",
    "    plt.scatter(labels_fin[:, 0], labels_fin[:, 1])\n",
    "    \n",
    "centers_fin = skmeans_fin.cluster_centers_\n",
    "plt.scatter(centers_fin[:, 0], centers_fin[:, 1], s=100, \n",
    "           facecolors='none', edgecolors='k')\n",
    "plt.show();"
   ]
  },
  {
   "cell_type": "code",
   "execution_count": 517,
   "metadata": {},
   "outputs": [
    {
     "data": {
      "text/html": [
       "<div>\n",
       "<style scoped>\n",
       "    .dataframe tbody tr th:only-of-type {\n",
       "        vertical-align: middle;\n",
       "    }\n",
       "\n",
       "    .dataframe tbody tr th {\n",
       "        vertical-align: top;\n",
       "    }\n",
       "\n",
       "    .dataframe thead th {\n",
       "        text-align: right;\n",
       "    }\n",
       "</style>\n",
       "<table border=\"1\" class=\"dataframe\">\n",
       "  <thead>\n",
       "    <tr style=\"text-align: right;\">\n",
       "      <th></th>\n",
       "      <th>Fresh</th>\n",
       "      <th>Milk</th>\n",
       "      <th>Grocery</th>\n",
       "      <th>Frozen</th>\n",
       "      <th>Detergents_Paper</th>\n",
       "      <th>Delicassen</th>\n",
       "      <th>cluster_id</th>\n",
       "    </tr>\n",
       "  </thead>\n",
       "  <tbody>\n",
       "    <tr>\n",
       "      <th>0</th>\n",
       "      <td>12669</td>\n",
       "      <td>9656</td>\n",
       "      <td>7561</td>\n",
       "      <td>214</td>\n",
       "      <td>2674</td>\n",
       "      <td>1338</td>\n",
       "      <td>0</td>\n",
       "    </tr>\n",
       "    <tr>\n",
       "      <th>1</th>\n",
       "      <td>7057</td>\n",
       "      <td>9810</td>\n",
       "      <td>9568</td>\n",
       "      <td>1762</td>\n",
       "      <td>3293</td>\n",
       "      <td>1776</td>\n",
       "      <td>0</td>\n",
       "    </tr>\n",
       "    <tr>\n",
       "      <th>2</th>\n",
       "      <td>6353</td>\n",
       "      <td>8808</td>\n",
       "      <td>7684</td>\n",
       "      <td>2405</td>\n",
       "      <td>3516</td>\n",
       "      <td>7844</td>\n",
       "      <td>0</td>\n",
       "    </tr>\n",
       "    <tr>\n",
       "      <th>3</th>\n",
       "      <td>13265</td>\n",
       "      <td>1196</td>\n",
       "      <td>4221</td>\n",
       "      <td>6404</td>\n",
       "      <td>507</td>\n",
       "      <td>1788</td>\n",
       "      <td>0</td>\n",
       "    </tr>\n",
       "    <tr>\n",
       "      <th>4</th>\n",
       "      <td>22615</td>\n",
       "      <td>5410</td>\n",
       "      <td>7198</td>\n",
       "      <td>3915</td>\n",
       "      <td>1777</td>\n",
       "      <td>5185</td>\n",
       "      <td>2</td>\n",
       "    </tr>\n",
       "  </tbody>\n",
       "</table>\n",
       "</div>"
      ],
      "text/plain": [
       "   Fresh  Milk  Grocery  Frozen  Detergents_Paper  Delicassen  cluster_id\n",
       "0  12669  9656     7561     214              2674        1338           0\n",
       "1   7057  9810     9568    1762              3293        1776           0\n",
       "2   6353  8808     7684    2405              3516        7844           0\n",
       "3  13265  1196     4221    6404               507        1788           0\n",
       "4  22615  5410     7198    3915              1777        5185           2"
      ]
     },
     "execution_count": 517,
     "metadata": {},
     "output_type": "execute_result"
    }
   ],
   "source": [
    "df['cluster_id'] = pred_fin\n",
    "df.head()"
   ]
  },
  {
   "cell_type": "code",
   "execution_count": 519,
   "metadata": {},
   "outputs": [
    {
     "data": {
      "text/plain": [
       "0    278\n",
       "1     80\n",
       "2     75\n",
       "3      7\n",
       "Name: cluster_id, dtype: int64"
      ]
     },
     "execution_count": 519,
     "metadata": {},
     "output_type": "execute_result"
    }
   ],
   "source": [
    "df['cluster_id'].value_counts()"
   ]
  },
  {
   "cell_type": "code",
   "execution_count": 520,
   "metadata": {},
   "outputs": [
    {
     "data": {
      "text/plain": [
       "Fresh               7983.169065\n",
       "Milk                3305.223022\n",
       "Grocery             4193.967626\n",
       "Frozen              2708.305755\n",
       "Detergents_Paper    1249.025180\n",
       "Delicassen          1052.097122\n",
       "cluster_id             0.000000\n",
       "dtype: float64"
      ]
     },
     "execution_count": 520,
     "metadata": {},
     "output_type": "execute_result"
    }
   ],
   "source": [
    "df[df['cluster_id']==0].mean()"
   ]
  },
  {
   "cell_type": "code",
   "execution_count": 521,
   "metadata": {},
   "outputs": [
    {
     "data": {
      "text/plain": [
       "Fresh                5007.8250\n",
       "Milk                12124.6750\n",
       "Grocery             20096.1125\n",
       "Frozen               1594.4250\n",
       "Detergents_Paper     8982.2875\n",
       "Delicassen           1822.9125\n",
       "cluster_id              1.0000\n",
       "dtype: float64"
      ]
     },
     "execution_count": 521,
     "metadata": {},
     "output_type": "execute_result"
    }
   ],
   "source": [
    "df[df['cluster_id']==1].mean()"
   ]
  },
  {
   "cell_type": "code",
   "execution_count": 522,
   "metadata": {},
   "outputs": [
    {
     "data": {
      "text/plain": [
       "Fresh               31538.173333\n",
       "Milk                 4522.773333\n",
       "Grocery              5660.666667\n",
       "Frozen               5329.400000\n",
       "Detergents_Paper     1076.693333\n",
       "Delicassen           1963.760000\n",
       "cluster_id              2.000000\n",
       "dtype: float64"
      ]
     },
     "execution_count": 522,
     "metadata": {},
     "output_type": "execute_result"
    }
   ],
   "source": [
    "df[df['cluster_id']==2].mean()"
   ]
  },
  {
   "cell_type": "code",
   "execution_count": 523,
   "metadata": {},
   "outputs": [
    {
     "data": {
      "text/plain": [
       "Fresh               42117.285714\n",
       "Milk                46046.142857\n",
       "Grocery             42914.285714\n",
       "Frozen              10211.714286\n",
       "Detergents_Paper    17327.571429\n",
       "Delicassen          12192.142857\n",
       "cluster_id              3.000000\n",
       "dtype: float64"
      ]
     },
     "execution_count": 523,
     "metadata": {},
     "output_type": "execute_result"
    }
   ],
   "source": [
    "df[df['cluster_id']==3].mean()"
   ]
  },
  {
   "cell_type": "code",
   "execution_count": 527,
   "metadata": {
    "scrolled": true
   },
   "outputs": [
    {
     "data": {
      "image/png": "[encoded data removed]",
      "text/plain": [
       "<Figure size 432x288 with 1 Axes>"
      ]
     },
     "metadata": {
      "needs_background": "light"
     },
     "output_type": "display_data"
    }
   ],
   "source": [
    "clusterinfo = pd.DataFrame()\n",
    "for i in range(4):\n",
    "    clusterinfo['cluster' + str(i)] = df[df['cluster_id'] == i].mean()\n",
    "clusterinfo = clusterinfo.drop('cluster_id')\n",
    "\n",
    "my_plot = clusterinfo.T.plot(kind='bar', stacked=True, title='Mean Value of 4 Clusters')\n",
    "my_plot.set_xticklabels(my_plot.xaxis.get_majorticklabels(), rotation=0);"
   ]
  },
  {
   "cell_type": "markdown",
   "metadata": {},
   "source": [
    "**cluster0に分類された人は購買額が全体的に低く、cluster3に分類された人は購買額が高い傾向にある。また、各クラスタごとの特徴量の内訳を詳しく見ると、例えばcluster1に分類された人はGrocery(日用品)の購買額が高いことが分かる。また、cluster2に分類された人は、Fresh(生鮮食品)の購買額が高いことを読み取ることができる。以上のことから、卸売業者にとって有益な情報は例えば以下のような提案とすることができる。「cluster3に分類された人にDMを送ると収益が上がるだろう。特に生鮮食品、乳製品、日用品の購買額が高いため、それらを広告するチラシを重点的に送るなどの工夫が取れる。また、cluster2はcluster3に分類された人の数よりもかなり多く、その中でも生鮮食品の購買額が高いので、cluster2の層に生鮮食品のチラシやDMを送るといった方法が効率的であると言える。」**"
   ]
  },
  {
   "cell_type": "markdown",
   "metadata": {},
   "source": [
    "### **【問題13】（アドバンス課題）他の手法の調査**"
   ]
  },
  {
   "cell_type": "markdown",
   "metadata": {},
   "source": [
    "## **DBSCAN**\n",
    "**(Density-based spatial clustering of applications with noise)**\n",
    "\n",
    "クラスタリングアルゴリズムの一つ"
   ]
  },
  {
   "cell_type": "markdown",
   "metadata": {},
   "source": [
    "**アルゴリズムの概要**\n",
    "\n",
    "・点を3つに分類\n",
    "\n",
    "①Core点: 半径ε以内に少なくともminPts個の隣接点を持つ点\n",
    "\n",
    "②Reachable点: 半径ε以内にminPts個ほどの隣接点はないが、Core点は含まれる点\n",
    "\n",
    "③Outlier点: 半径ε以内に隣接点がない点\n",
    "\n",
    "・Core点の集まりからクラスタを形成し、Reachable点を各クラスタに割り当てる"
   ]
  },
  {
   "cell_type": "markdown",
   "metadata": {},
   "source": [
    "**メリット**\n",
    "\n",
    "a) k-meansと違って，最初にクラスタ数を決めなくてよい\n",
    " \n",
    "b) とがったクラスタでも分類できる。クラスタが球状であることを前提としない\n",
    "\n",
    "c) パラメータがεとminPtsという二つでよい。また，パラメータの範囲も判断しやすい。"
   ]
  },
  {
   "cell_type": "markdown",
   "metadata": {},
   "source": [
    "**デメリット**\n",
    "\n",
    "a) border点の概念が微妙で，データによりどのクラスタに属するか変わる可能性がある\n",
    "\n",
    "b) データが密集していると適切にεとminPtsを決めるのが難しい。ほとんどの点を一つのクラスタに分類してしまう場合も\n",
    "\n",
    "c) データがわからないとεを決めるのが難しい。"
   ]
  },
  {
   "cell_type": "markdown",
   "metadata": {},
   "source": [
    "## **PCA以外の次元削減手法**\n",
    "\n",
    "### **t-SNE**"
   ]
  },
  {
   "cell_type": "markdown",
   "metadata": {},
   "source": [
    "**メリット**"
   ]
  },
  {
   "cell_type": "markdown",
   "metadata": {},
   "source": [
    "**デメリット**\n",
    "\n",
    "a) うまくいくことが保証されているのは2or3次元への圧縮のみ\n",
    "\n",
    "b) 局所構造が次元の呪いの影響を受けやすい\n",
    "\n",
    "c) 最適化アルゴリズムの収束性が保証されていない"
   ]
  },
  {
   "cell_type": "markdown",
   "metadata": {},
   "source": [
    "### **LLE**\n",
    "\n",
    "**(Locally Linear Embedding)**"
   ]
  },
  {
   "cell_type": "markdown",
   "metadata": {},
   "source": [
    "**メリット**\n",
    "\n",
    "a) 次元を縮約することで二次元や三次元の形でデータを可視化できるようになる"
   ]
  },
  {
   "cell_type": "markdown",
   "metadata": {},
   "source": [
    "**デメリット**"
   ]
  },
  {
   "cell_type": "markdown",
   "metadata": {},
   "source": [
    "### **【問題14】（アドバンス課題）t-SNEとDBSCANの利用**"
   ]
  },
  {
   "cell_type": "code",
   "execution_count": 482,
   "metadata": {},
   "outputs": [
    {
     "name": "stdout",
     "output_type": "stream",
     "text": [
      "   Fresh  Milk  Grocery  Frozen  Detergents_Paper  Delicassen\n",
      "0  12669  9656     7561     214              2674        1338\n",
      "1   7057  9810     9568    1762              3293        1776\n",
      "2   6353  8808     7684    2405              3516        7844\n",
      "3  13265  1196     4221    6404               507        1788\n",
      "4  22615  5410     7198    3915              1777        5185\n"
     ]
    }
   ],
   "source": [
    "import pandas as pd\n",
    "\n",
    "df = pd.read_csv('Wholesale customers data.csv')\n",
    "df = df.drop(['Channel', 'Region'], axis=1)\n",
    "print(df.head())\n",
    "\n",
    "scaler = StandardScaler()\n",
    "scaler.fit(df)\n",
    "df_sc = scaler.transform(df)\n",
    "X_sc = np.array(df_sc)"
   ]
  },
  {
   "cell_type": "code",
   "execution_count": 485,
   "metadata": {},
   "outputs": [],
   "source": [
    "from sklearn.manifold import TSNE\n",
    "from sklearn.manifold import LocallyLinearEmbedding\n",
    "\n",
    "\n",
    "tsne = TSNE()\n",
    "data_tsne = tsne.fit_transform(X_sc)"
   ]
  },
  {
   "cell_type": "markdown",
   "metadata": {},
   "source": [
    "### **DBSCANの利用**"
   ]
  },
  {
   "cell_type": "code",
   "execution_count": 489,
   "metadata": {},
   "outputs": [],
   "source": [
    "from sklearn.cluster import DBSCAN\n",
    "\n",
    "clustering = DBSCAN().fit(X_sc)\n",
    "pred_db = clustering.labels_"
   ]
  },
  {
   "cell_type": "code",
   "execution_count": 504,
   "metadata": {},
   "outputs": [
    {
     "data": {
      "image/png": "[encoded data removed]",
      "text/plain": [
       "<Figure size 432x288 with 1 Axes>"
      ]
     },
     "metadata": {
      "needs_background": "light"
     },
     "output_type": "display_data"
    }
   ],
   "source": [
    "label_m1 = X_sc[pred_db == -1]\n",
    "label_0 = X_sc[pred_db == 0]\n",
    "label_1 = X_sc[pred_db == 1]\n",
    "plt.scatter(label_m1[:, 0], label_m1[:, 1])\n",
    "plt.scatter(label_0[:, 0], label_0[:, 1])\n",
    "plt.scatter(label_1[:, 0], label_1[:, 1])\n",
    "plt.show();"
   ]
  },
  {
   "cell_type": "markdown",
   "metadata": {},
   "source": [
    "### **t-SNEの利用**"
   ]
  },
  {
   "cell_type": "code",
   "execution_count": 506,
   "metadata": {},
   "outputs": [],
   "source": [
    "from sklearn.manifold import TSNE\n",
    "\n",
    "X_sne = TSNE().fit_transform(X_sc)"
   ]
  },
  {
   "cell_type": "code",
   "execution_count": 508,
   "metadata": {},
   "outputs": [
    {
     "data": {
      "image/png": "[encoded data removed]",
      "text/plain": [
       "<Figure size 432x288 with 2 Axes>"
      ]
     },
     "metadata": {
      "needs_background": "light"
     },
     "output_type": "display_data"
    }
   ],
   "source": [
    "plt.scatter(X_sne[:, 0], X_sne[:, 1])\n",
    "plt.colorbar();"
   ]
  },
  {
   "cell_type": "code",
   "execution_count": null,
   "metadata": {},
   "outputs": [],
   "source": []
  }
 ],
 "metadata": {
  "kernelspec": {
   "display_name": "Python 3",
   "language": "python",
   "name": "python3"
  },
  "language_info": {
   "codemirror_mode": {
    "name": "ipython",
    "version": 3
   },
   "file_extension": ".py",
   "mimetype": "text/x-python",
   "name": "python",
   "nbconvert_exporter": "python",
   "pygments_lexer": "ipython3",
   "version": "3.7.2"
  }
 },
 "nbformat": 4,
 "nbformat_minor": 2
}
