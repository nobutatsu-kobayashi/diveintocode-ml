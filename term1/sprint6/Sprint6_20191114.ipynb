{
 "cells": [
  {
   "cell_type": "code",
   "execution_count": 1,
   "metadata": {},
   "outputs": [],
   "source": [
    "import numpy as np\n",
    "import pandas as pd\n",
    "import matplotlib.pyplot as plt\n",
    "%matplotlib inline"
   ]
  },
  {
   "cell_type": "markdown",
   "metadata": {},
   "source": [
    "### **【問題1】ジニ不純度を求める関数**"
   ]
  },
  {
   "cell_type": "code",
   "execution_count": 5,
   "metadata": {},
   "outputs": [],
   "source": [
    "def gini(y, classes):\n",
    "    n = y.shape[0]\n",
    "    gini_score = 1 - sum([(len(y[y == c]) / n) ** 2 for c in classes])\n",
    "    \n",
    "    return gini_score"
   ]
  },
  {
   "cell_type": "code",
   "execution_count": 11,
   "metadata": {},
   "outputs": [
    {
     "name": "stdout",
     "output_type": "stream",
     "text": [
      "ジニ不純度： 0.5\n"
     ]
    }
   ],
   "source": [
    "# example1\n",
    "sample_y_1 = np.array([1, 1, 1, 1, 1, 1, 1, 1, 1, 1, 2, 2, 2, 2, 2, 2, 2, 2, 2, 2])\n",
    "sample_classes_1 = np.unique(sample_y)\n",
    "\n",
    "print('ジニ不純度：', gini(sample_y_1, sample_classes_1))"
   ]
  },
  {
   "cell_type": "code",
   "execution_count": 12,
   "metadata": {},
   "outputs": [
    {
     "name": "stdout",
     "output_type": "stream",
     "text": [
      "ジニ不純度： 0.6666666666666667\n"
     ]
    }
   ],
   "source": [
    "# example2\n",
    "sample_y_2 = np.array([1, 1, 1, 1, 1, 1, 1, 1, 1, 1, 2, 2, 2, 2, 2, 2, 2, 2, 2, 2, 3, 3, 3, 3, 3, 3, 3, 3, 3, 3])\n",
    "sample_classes_2 = np.unique(sample_y_2)\n",
    "\n",
    "print('ジニ不純度：', gini(sample_y_2, sample_classes_2))"
   ]
  },
  {
   "cell_type": "code",
   "execution_count": 13,
   "metadata": {},
   "outputs": [
    {
     "name": "stdout",
     "output_type": "stream",
     "text": [
      "ジニ不純度： 0.48\n"
     ]
    }
   ],
   "source": [
    "# example3\n",
    "sample_y_3 = np.array([1, 1, 1, 1, 1, 1, 1, 1, 1, 1, 1, 1, 1, 1, 1, 1, 1, 1, 3, 3, 3, 3, 3, 3, 3, 3, 3, 3, 3, 3])\n",
    "sample_classes_3 = np.unique(sample_y_3)\n",
    "\n",
    "print('ジニ不純度：', gini(sample_y_3, sample_classes_3))"
   ]
  },
  {
   "cell_type": "code",
   "execution_count": 14,
   "metadata": {},
   "outputs": [
    {
     "name": "stdout",
     "output_type": "stream",
     "text": [
      "ジニ不純度： 0.0\n"
     ]
    }
   ],
   "source": [
    "# example4\n",
    "sample_y_4 = np.array([1, 1, 1, 1, 1, 1, 1, 1, 1, 1, 1, 1, 1, 1, 1, 1, 1, 1, 1, 1, 1, 1, 1, 1, 1, 1, 1, 1, 1, 1])\n",
    "sample_classes_4 = np.unique(sample_y_4)\n",
    "\n",
    "print('ジニ不純度：', gini(sample_y_4, sample_classes_4))"
   ]
  },
  {
   "cell_type": "markdown",
   "metadata": {},
   "source": [
    "### **【問題2】情報利得を求める関数**"
   ]
  },
  {
   "cell_type": "code",
   "execution_count": 17,
   "metadata": {},
   "outputs": [],
   "source": [
    "def information_gain(y_p, y_left, y_right):\n",
    "    y_p_classes = np.unique(y_p)\n",
    "    gini_p = gini(y_p, y_p_classes)\n",
    "    y_left_classes = np.unique(y_left)\n",
    "    gini_left = gini(y_left, y_left_classes)\n",
    "    y_right_classes = np.unique(y_right)\n",
    "    gini_right = gini(y_right, y_right_classes)\n",
    "    info_gain = gini_p - (len(y_left)/float(len(y_p)))*gini_left - (len(y_right)/float(len(y_p)))*gini_right\n",
    "    \n",
    "    return info_gain"
   ]
  },
  {
   "cell_type": "code",
   "execution_count": 18,
   "metadata": {},
   "outputs": [
    {
     "data": {
      "text/plain": [
       "0.14319526627218937"
      ]
     },
     "execution_count": 18,
     "metadata": {},
     "output_type": "execute_result"
    }
   ],
   "source": [
    "sample_y_2 = np.array([0, 0, 0, 0, 0, 0, 0, 0, 0, 0, 1, 1, 1, 1, 1, 1, 1, 1, 1, 1, 1, 1, 1, 1, 1, 1, 1, 1, 1, 1, 1, 1, 1, 1, 1, 1, 1, 1, 1, 1])\n",
    "sample_classes_2 = np.unique(sample_y_2)\n",
    "sample_y_3 = np.array([0, 0, 0, 0, 0, 0, 0, 0, 0, 0, 0, 0, 0, 0, 0, 0, 0, 0, 0, 0, 1, 1, 1, 1, 1])\n",
    "sample_classes_3 = np.unique(sample_y_3)\n",
    "sample_y_4 = np.array([0, 0, 0, 0, 0, 0, 0, 0, 0, 0, 0, 0, 0, 0, 0, 0, 0, 0, 0, 0, 0, 0, 0, 0, 0, 0, 0, 0, 0, 0, 1, 1, 1, 1, 1, 1, 1, 1, 1, 1, 1, 1, 1, 1, 1, 1, 1, 1, 1, 1, 1, 1, 1, 1, 1, 1, 1, 1, 1, 1, 1, 1, 1, 1, 1])\n",
    "sample_classes_4 = np.unique(sample_y_4)\n",
    "\n",
    "information_gain(sample_y_4, sample_y_2, sample_y_3)"
   ]
  },
  {
   "cell_type": "code",
   "execution_count": 22,
   "metadata": {},
   "outputs": [
    {
     "data": {
      "text/plain": [
       "9"
      ]
     },
     "execution_count": 22,
     "metadata": {},
     "output_type": "execute_result"
    }
   ],
   "source": [
    "a = np.array([[1, 2], [4, 9], [4, 8]])\n",
    "a[1][1]"
   ]
  },
  {
   "cell_type": "markdown",
   "metadata": {},
   "source": [
    "### **【問題3】深さ1の決定木分類器クラスの作成**\n",
    "\n",
    "### **【問題4】（アドバンス課題）深さ2の決定木分類器クラスの作成**\n",
    "\n",
    "### **【問題5】（アドバンス課題）任意の深さに対応できる決定木分類器クラスの作成**"
   ]
  },
  {
   "cell_type": "code",
   "execution_count": 100,
   "metadata": {},
   "outputs": [],
   "source": [
    "# 重み付きジニ→実質的な情報利得（親ノードのジニを引くという操作をしていないだけ）\n",
    "def gini_score(X, y, feature_idx, threshold):\n",
    "    gini = 0\n",
    "    sample_num = len(y)\n",
    "        \n",
    "    cls_y = [y[X[:, feature_idx] >= threshold], y[X[:, feature_idx] < threshold]]\n",
    "        \n",
    "    for group in cls_y:\n",
    "        score = 0\n",
    "        classes = np.unique(group)\n",
    "        for cls in classes:\n",
    "            score += (np.sum(group == cls)/len(group))**2\n",
    "        gini += (1 - score) * (len(group)/sample_num)\n",
    "        \n",
    "    return gini\n",
    "    \n",
    "def best_split(X, y):\n",
    "    features = X.shape[1]\n",
    "    best_threshold = None\n",
    "    best_feature = None\n",
    "    gini = 0\n",
    "    gini_min = 1\n",
    "        \n",
    "    for feature_idx in range(features):\n",
    "        values = X[:, feature_idx]\n",
    "        for val in values:\n",
    "            gini = gini_score(X, y, feature_idx, val)\n",
    "            if gini_min > gini:\n",
    "                gini_min = gini\n",
    "                best_threshold = val\n",
    "                best_feature = feature_idx\n",
    "    return gini_min, best_threshold, best_feature\n",
    "        \n",
    "\n",
    "# メイン処理する用\n",
    "class _ScratchDecesionTreeNode():\n",
    "    \n",
    "    def __init__(self, X, y, max_depth):\n",
    "        self.left = None\n",
    "        self.right = None\n",
    "        self.max_depth = max_depth\n",
    "        self.X = X\n",
    "        self.y = y\n",
    "        self.threshold = None\n",
    "        self.feature = None\n",
    "        self.gini_min = None\n",
    "        # 正解ラベルの中で一番多いクラスをそのノードのラベルとする\n",
    "        self.label = np.argmax(np.bincount(y))\n",
    "    \n",
    "    # 木の生成\n",
    "    def split(self, depth):\n",
    "        self.depth = depth\n",
    "        self.gini_min, self.threshold, self.feature = best_split(self.X, self.y)\n",
    "        \n",
    "        # 停止条件（ノードの不純度が0 or 木の深さがmax_depthに到達）\n",
    "        if self.depth == self.max_depth or self.gini_min == 0:\n",
    "            return\n",
    "        \n",
    "        # 左右のノードに分割\n",
    "        idx_left = self.X[:, self.feature] >= self.threshold\n",
    "        idx_right = self.X[:, self.feature] < self.threshold\n",
    "        \n",
    "        # 各ノードに対応する子オブジェクトを生成\n",
    "        self.left = _ScratchDecesionTreeNode(self.X[idx_left], self.y[idx_left], self.depth)\n",
    "        self.right = _ScratchDecesionTreeNode(self.X[idx_right], self.y[idx_right], self.depth)\n",
    "        # 木の深さを一つ深くして同じ作業→停止条件を満たすまで繰り返す\n",
    "        self.left.split(self.depth + 1)\n",
    "        self.right.split(self.depth + 1)\n",
    "        \n",
    "    def predict(self, X):\n",
    "        # 停止条件を満たすならラベル付け\n",
    "        if self.gini_min == 0 or self.depth == self.max_depth:\n",
    "            return self.label\n",
    "        # 停止条件を満たさない時は、さらに不純度を小さくするよう分割\n",
    "        else:\n",
    "            if X[self.feature] > self.threshold:\n",
    "                return self.left.predict(X)\n",
    "            else:\n",
    "                return self.right.predict(X)\n",
    "\n",
    "# 最後に呼び出すだけ用           \n",
    "class ScratchDecisionTreeClassifier():\n",
    "    def __init__(self, max_depth):\n",
    "        self.max_depth = max_depth\n",
    "        self.tree = None\n",
    "        \n",
    "    def fit(self, X, y):\n",
    "        initial_depth = 0\n",
    "        self.tree = _ScratchDecesionTreeNode(X, y, self.max_depth)\n",
    "        self.tree.split(initial_depth)\n",
    "        \n",
    "    def predict(self, X):\n",
    "        pred = []\n",
    "        for s in X:\n",
    "            pred.append(self.tree.predict(s))\n",
    "        return np.array(pred)\n",
    "        \n",
    "        \n",
    "        "
   ]
  },
  {
   "cell_type": "code",
   "execution_count": 101,
   "metadata": {},
   "outputs": [],
   "source": [
    "from sklearn.datasets import load_iris\n",
    "\n",
    "iris = load_iris()\n",
    "X = iris.data[:100, [0, 1]]\n",
    "y = iris.target[:100]"
   ]
  },
  {
   "cell_type": "code",
   "execution_count": 102,
   "metadata": {},
   "outputs": [],
   "source": [
    "from sklearn.model_selection import train_test_split\n",
    "\n",
    "X_train, X_test, y_train, y_test = train_test_split(X, y)"
   ]
  },
  {
   "cell_type": "code",
   "execution_count": 103,
   "metadata": {},
   "outputs": [],
   "source": [
    "stree = ScratchDecisionTreeClassifier(max_depth=2)\n",
    "stree.fit(X_train, y_train)"
   ]
  },
  {
   "cell_type": "code",
   "execution_count": 104,
   "metadata": {},
   "outputs": [],
   "source": [
    "y_pred = stree.predict(X_test)"
   ]
  },
  {
   "cell_type": "markdown",
   "metadata": {},
   "source": [
    "### **【問題6】指標値の算出**"
   ]
  },
  {
   "cell_type": "code",
   "execution_count": 105,
   "metadata": {},
   "outputs": [
    {
     "name": "stdout",
     "output_type": "stream",
     "text": [
      "Accuracy : 0.92\n"
     ]
    }
   ],
   "source": [
    "print('Accuracy :', np.sum(y_pred == y_test)/len(y_test))"
   ]
  },
  {
   "cell_type": "code",
   "execution_count": 106,
   "metadata": {},
   "outputs": [
    {
     "name": "stdout",
     "output_type": "stream",
     "text": [
      "[0.92, 0.92, 0.92, 0.92, 0.92, 0.92, 0.92, 0.92, 0.92, 0.92, 0.92, 0.92, 0.92, 0.92, 0.92, 0.92, 0.92, 0.92, 0.92, 0.92, 0.92, 0.92, 0.92, 0.92, 0.92, 0.92, 0.92, 0.92, 0.92, 0.92]\n"
     ]
    }
   ],
   "source": [
    "scores = []\n",
    "for i in range(1, 31):\n",
    "    stree_i = ScratchDecisionTreeClassifier(max_depth=i)\n",
    "    stree_i.fit(X_train, y_train)\n",
    "    y_pred_i = stree_i.predict(X_test)\n",
    "    accuracy_i = np.sum(y_pred_i == y_test)/len(y_test)\n",
    "    scores.append(accuracy_i)\n",
    "print(scores)"
   ]
  },
  {
   "cell_type": "markdown",
   "metadata": {},
   "source": [
    "### **【問題7】決定領域の可視化**"
   ]
  },
  {
   "cell_type": "code",
   "execution_count": 98,
   "metadata": {},
   "outputs": [],
   "source": [
    "import matplotlib.pyplot as plt\n",
    "from matplotlib.colors import ListedColormap\n",
    "import matplotlib.patches as mpatches\n",
    "\n",
    "def decision_region(X, y, model, step=0.01, title='decision region', xlabel='xlabel', ylabel='ylabel', target_names=['versicolor', 'virginica']):\n",
    "\n",
    "    # setting\n",
    "    scatter_color = ['red', 'blue']\n",
    "    contourf_color = ['pink', 'skyblue']\n",
    "    n_class = 2\n",
    "\n",
    "    # pred\n",
    "    mesh_f0, mesh_f1  = np.meshgrid(np.arange(np.min(X[:,0])-0.5, np.max(X[:,0])+0.5, step), np.arange(np.min(X[:,1])-0.5, np.max(X[:,1])+0.5, step))\n",
    "    mesh = np.c_[np.ravel(mesh_f0),np.ravel(mesh_f1)]\n",
    "    y_pred = model.predict(mesh).reshape(mesh_f0.shape)\n",
    "\n",
    "    # plot\n",
    "    plt.title(title)\n",
    "    plt.xlabel(xlabel)\n",
    "    plt.ylabel(ylabel)\n",
    "    plt.contourf(mesh_f0, mesh_f1, y_pred, n_class-1, cmap=ListedColormap(contourf_color))\n",
    "    plt.contour(mesh_f0, mesh_f1, y_pred, n_class-1, colors='y', linewidths=3, alpha=0.5)\n",
    "    for i, target in enumerate(set(y)):\n",
    "        plt.scatter(X[y==target][:, 0], X[y==target][:, 1], s=80, color=scatter_color[i], label=target_names[i], marker='o')\n",
    "    patches = [mpatches.Patch(color=scatter_color[i], label=target_names[i]) for i in range(n_class)]\n",
    "    plt.legend(handles=patches)\n",
    "    plt.legend()\n",
    "    plt.show()"
   ]
  },
  {
   "cell_type": "code",
   "execution_count": 99,
   "metadata": {},
   "outputs": [
    {
     "data": {
      "image/png": "[encoded data removed]",
      "text/plain": [
       "<Figure size 432x288 with 1 Axes>"
      ]
     },
     "metadata": {
      "needs_background": "light"
     },
     "output_type": "display_data"
    }
   ],
   "source": [
    "decision_region(X_train, y_train, stree, step=0.01, title='decision region', xlabel='xlabel', ylabel='ylabel', target_names=['versicolor', 'virginica'])\n",
    "\n"
   ]
  },
  {
   "cell_type": "code",
   "execution_count": 79,
   "metadata": {},
   "outputs": [],
   "source": [
    "stree4 = ScratchDecisionTreeClassifier(max_depth=4)\n",
    "stree4.fit(X_train, y_train)"
   ]
  },
  {
   "cell_type": "code",
   "execution_count": 80,
   "metadata": {},
   "outputs": [
    {
     "data": {
      "text/plain": [
       "array([1, 0, 0, 0, 0, 1, 0, 0, 0, 1, 1, 0, 1, 1, 0, 1, 1, 0, 0, 1, 0, 1,\n",
       "       1, 1, 0])"
      ]
     },
     "execution_count": 80,
     "metadata": {},
     "output_type": "execute_result"
    }
   ],
   "source": [
    "stree4.predict(X_test)"
   ]
  },
  {
   "cell_type": "code",
   "execution_count": 81,
   "metadata": {},
   "outputs": [
    {
     "data": {
      "image/png": "[encoded data removed]",
      "text/plain": [
       "<Figure size 432x288 with 1 Axes>"
      ]
     },
     "metadata": {
      "needs_background": "light"
     },
     "output_type": "display_data"
    }
   ],
   "source": [
    "decision_region(X_train, y_train, stree4, step=0.01, title='decision region', xlabel='xlabel', ylabel='ylabel', target_names=['versicolor', 'virginica'])"
   ]
  },
  {
   "cell_type": "code",
   "execution_count": null,
   "metadata": {},
   "outputs": [],
   "source": []
  }
 ],
 "metadata": {
  "kernelspec": {
   "display_name": "Python 3",
   "language": "python",
   "name": "python3"
  },
  "language_info": {
   "codemirror_mode": {
    "name": "ipython",
    "version": 3
   },
   "file_extension": ".py",
   "mimetype": "text/x-python",
   "name": "python",
   "nbconvert_exporter": "python",
   "pygments_lexer": "ipython3",
   "version": "3.7.2"
  }
 },
 "nbformat": 4,
 "nbformat_minor": 2
}
