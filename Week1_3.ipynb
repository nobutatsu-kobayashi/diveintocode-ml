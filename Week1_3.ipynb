{
  "nbformat": 4,
  "nbformat_minor": 0,
  "metadata": {
    "colab": {
      "name": "Week1_3.ipynb",
      "provenance": [],
      "collapsed_sections": []
    },
    "kernelspec": {
      "name": "python3",
      "display_name": "Python 3"
    }
  },
  "cells": [
    {
      "cell_type": "markdown",
      "metadata": {
        "id": "P_xH3PS3fUcE",
        "colab_type": "text"
      },
      "source": [
        "**Week1授業課題3 栗まんじゅう問題**"
      ]
    },
    {
      "cell_type": "markdown",
      "metadata": {
        "id": "3FOrmTwRfm6x",
        "colab_type": "text"
      },
      "source": [
        "【問題】栗まんじゅうが太陽系を覆う日"
      ]
    },
    {
      "cell_type": "code",
      "metadata": {
        "id": "PrLh4N2yfiSv",
        "colab_type": "code",
        "outputId": "563e55da-32a2-4fe8-e206-e0ca8bfcaf78",
        "colab": {
          "base_uri": "https://localhost:8080/",
          "height": 54
        }
      },
      "source": [
        "import math\n",
        "\n",
        "\n",
        "# 1つの対象物と1つの空間を考える\n",
        "# ある物体がある空間を覆うのにかかる時間を返す関数を作成する\n",
        "# ある物体は一定時間ごとに自身の体積を倍にする\n",
        "# 引数には「ある物体の体積」、「空間の体積」、「ある物体の体積が倍になるのにかかる時間」をとる\n",
        "def covered_time(v, v_1, minute):\n",
        "    time = 0\n",
        "    while v < v_1:\n",
        "        v *= 2\n",
        "        time += minute\n",
        "    return time\n",
        "  \n",
        "\n",
        "# この後も使うので、簡単の為、半径を与えると球の体積を返す関数を作成\n",
        "def vol(r):\n",
        "    return (4 * math.pi * r**3) / 3\n",
        "  \n",
        "  \n",
        "# 太陽系の体積を、系の中心からの距離を半径とする球体と仮定して議論を進める\n",
        "r_sun = 2.50709e+20\n",
        "v_sun = vol(r_sun)\n",
        "time_kuri = covered_time(1e-4, v_sun, 5)\n",
        "print('栗まんじゅうが太陽系を覆うのにかかる時間は{}分です。'.format(time_kuri))\n",
        "print('栗まんじゅうが太陽系を覆うのにかかる時間は{:.2f}時間です。'.format(time_kuri/60))"
      ],
      "execution_count": 0,
      "outputs": [
        {
          "output_type": "stream",
          "text": [
            "栗まんじゅうが太陽系を覆うのにかかる時間は1095分です。\n",
            "栗まんじゅうが太陽系を覆うのにかかる時間は18.25時間です。\n"
          ],
          "name": "stdout"
        }
      ]
    },
    {
      "cell_type": "code",
      "metadata": {
        "id": "R6KcKbqViLcU",
        "colab_type": "code",
        "outputId": "2cac266d-ae24-452b-fbf9-9628a3889983",
        "colab": {
          "base_uri": "https://localhost:8080/",
          "height": 54
        }
      },
      "source": [
        "# 最後に野球ボールが東京ドームを覆うのにかかる時間を求めてみる\n",
        "v_baseball = vol(0.369)\n",
        "time_baseball = covered_time(v_baseball, 1240000, 5)\n",
        "print('野球ボールが東京ドームを覆うのにかかる時間は{}分です。'.format(time_baseball))\n",
        "print('野球ボールが東京ドームを覆うのにかかる時間は{:.2f}時間です。'.format(time_baseball/60))"
      ],
      "execution_count": 0,
      "outputs": [
        {
          "output_type": "stream",
          "text": [
            "野球ボールが東京ドームを覆うのにかかる時間は115分です。\n",
            "野球ボールが東京ドームを覆うのにかかる時間は1.92時間です。\n"
          ],
          "name": "stdout"
        }
      ]
    },
    {
      "cell_type": "code",
      "metadata": {
        "id": "z1MVuUM-ih36",
        "colab_type": "code",
        "colab": {}
      },
      "source": [
        ""
      ],
      "execution_count": 0,
      "outputs": []
    }
  ]
}