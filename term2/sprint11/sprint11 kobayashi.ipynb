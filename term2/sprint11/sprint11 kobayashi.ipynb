{
 "cells": [
  {
   "cell_type": "code",
   "execution_count": 2,
   "metadata": {},
   "outputs": [],
   "source": [
    "import numpy as np\n",
    "import pandas as pd\n",
    "\n",
    "import matplotlib.pyplot as plt\n",
    "import seaborn as sns\n",
    "\n",
    "from keras.datasets import mnist\n",
    "\n",
    "from sklearn.model_selection import train_test_split\n",
    "from sklearn.metrics import confusion_matrix"
   ]
  },
  {
   "cell_type": "markdown",
   "metadata": {},
   "source": [
    "### 【問題1】チャンネル数を1に限定した1次元畳み込み層クラスの作成"
   ]
  },
  {
   "cell_type": "code",
   "execution_count": 3,
   "metadata": {},
   "outputs": [],
   "source": [
    "(X_train, y_train), (X_test, y_test) = mnist.load_data()"
   ]
  },
  {
   "cell_type": "code",
   "execution_count": 4,
   "metadata": {},
   "outputs": [],
   "source": [
    "X_train = X_train.reshape(-1, 784)\n",
    "X_test = X_test.reshape(-1, 784)"
   ]
  },
  {
   "cell_type": "code",
   "execution_count": 5,
   "metadata": {},
   "outputs": [],
   "source": [
    "X_train, X_val, y_train, y_val = train_test_split(X_train, y_train, test_size=0.2, random_state=0)"
   ]
  },
  {
   "cell_type": "code",
   "execution_count": 6,
   "metadata": {},
   "outputs": [],
   "source": [
    "class SimpleConv1d:\n",
    "    def __init__(self, b, w, lr=1e-2, N_in=4, P=0, S=1):\n",
    "        self.b = b\n",
    "        self.lr = lr\n",
    "        self.N_in = N_in\n",
    "        self.P = P\n",
    "        self.S = S\n",
    "        self.w = w\n",
    "        \n",
    "        self.F = self.w.shape[0]\n",
    "        self.N_out = self.calcOutputSize()\n",
    "        self.conv_Z = self.create_index(self.N_in, self.N_out)\n",
    "        \n",
    "        self.Z = None\n",
    "        \n",
    "    def forward(self, Z):\n",
    "        self.Z = Z\n",
    "        self.conv_Z = Z[self.conv_Z]\n",
    "        \n",
    "        N_out = np.sum(self.conv_Z * self.w, axis=1) + self.b\n",
    "        \n",
    "        return N_out\n",
    "    \n",
    "    def backward(self, dA):\n",
    "        N_in = len(dA)\n",
    "        N_out = len(self.Z)\n",
    "        \n",
    "        db = np.sum(dA)\n",
    "        dw = dA @ self.conv_Z\n",
    "        \n",
    "        conv_w = np.zeros(N_in * N_out).reshape(N_in, N_out).astype(np.int)\n",
    "        \n",
    "        for i in range(N_in):\n",
    "            conv_w[i][i: i+self.F:1] = self.w\n",
    "            \n",
    "        dx = dA @ conv_w\n",
    "        \n",
    "        return dx\n",
    "    \n",
    "    def calcOutputSize(self, ):\n",
    "        N_out = int((self.N_in + 2*self.P - self.F) / self.S + 1)\n",
    "        \n",
    "        return N_out\n",
    "    \n",
    "    def create_index(self, N_in, N_out):\n",
    "        N_in_index = np.arange(N_in)\n",
    "        conv_index = np.zeros((N_out, self.F)).astype(np.int)\n",
    "        for i in range(N_out):\n",
    "            conv_index[i] = N_in_index[i : i+self.F : self.S]\n",
    "        \n",
    "        return conv_index"
   ]
  },
  {
   "cell_type": "markdown",
   "metadata": {},
   "source": [
    "### 【問題2】1次元畳み込み後の出力サイズの計算"
   ]
  },
  {
   "cell_type": "code",
   "execution_count": 7,
   "metadata": {},
   "outputs": [],
   "source": [
    "def calcOutputSize(N_in, w, P, S):\n",
    "    F = w.shape[0]\n",
    "    N_out = int((N_in + 2*P - F) / S + 1)\n",
    "    \n",
    "    return N_out"
   ]
  },
  {
   "cell_type": "markdown",
   "metadata": {},
   "source": [
    "### 【問題3】小さな配列での1次元畳み込み層の実験"
   ]
  },
  {
   "cell_type": "code",
   "execution_count": 12,
   "metadata": {},
   "outputs": [],
   "source": [
    "# sample\n",
    "x = np.array([1, 2, 3, 4])\n",
    "w = np.array([3, 5, 7])\n",
    "b = np.array([1])\n",
    "y = np.array([45, 70])"
   ]
  },
  {
   "cell_type": "code",
   "execution_count": 13,
   "metadata": {},
   "outputs": [],
   "source": [
    "# generate classifier\n",
    "clf = SimpleConv1d(b, w)"
   ]
  },
  {
   "cell_type": "code",
   "execution_count": 14,
   "metadata": {},
   "outputs": [
    {
     "data": {
      "text/plain": [
       "array([35, 50])"
      ]
     },
     "execution_count": 14,
     "metadata": {},
     "output_type": "execute_result"
    }
   ],
   "source": [
    "pred = clf.forward(x)\n",
    "pred"
   ]
  },
  {
   "cell_type": "code",
   "execution_count": 15,
   "metadata": {},
   "outputs": [
    {
     "data": {
      "text/plain": [
       "array([10, 20])"
      ]
     },
     "execution_count": 15,
     "metadata": {},
     "output_type": "execute_result"
    }
   ],
   "source": [
    "delta_a = y - pred\n",
    "delta_a"
   ]
  },
  {
   "cell_type": "code",
   "execution_count": 16,
   "metadata": {},
   "outputs": [
    {
     "data": {
      "text/plain": [
       "array([ 30, 110, 170, 140])"
      ]
     },
     "execution_count": 16,
     "metadata": {},
     "output_type": "execute_result"
    }
   ],
   "source": [
    "clf.backward(delta_a)"
   ]
  },
  {
   "cell_type": "markdown",
   "metadata": {},
   "source": [
    "### 【問題4】チャンネル数を限定しない1次元畳み込み層クラスの作成"
   ]
  },
  {
   "cell_type": "code",
   "execution_count": 17,
   "metadata": {},
   "outputs": [],
   "source": [
    "class Conv1d:\n",
    "    def __init__(self, b, w, lr=1e-2, N_in=4, P=0, S=1):\n",
    "        self.b = b\n",
    "        self.lr = lr\n",
    "        self.N_in = N_in\n",
    "        self.P = P\n",
    "        self.S = S\n",
    "        self.w = w\n",
    "        self.b = b\n",
    "        \n",
    "        self.F = self.w.shape[0]\n",
    "        self.N_out = self.calcOutputSize()\n",
    "        self.out = None\n",
    "        \n",
    "        self.dw = np.zeros((self.w.shape))\n",
    "        self.db = np.zeros(self.b.size)\n",
    "        self.dz = None\n",
    "        \n",
    "        self.Z = None\n",
    "        \n",
    "    def forward(self, Z):\n",
    "        if Z.ndim == 2:\n",
    "            Z = Z[np.newaxis, :, :]\n",
    "            \n",
    "        self.Z = Z\n",
    "        \n",
    "        N_in = Z.shape[2]\n",
    "        N_out = int((N_in + 2*self.P - self.F) / self.S + 1)\n",
    "        \n",
    "        self.out = np.zeros((Z.shape[0], self.w.shape[0], N_out))\n",
    "        \n",
    "        for n in range(Z.shape[0]):\n",
    "            for i in range(self.w.shape[0]):\n",
    "                for j in range(N_out):\n",
    "                    self.out[n, i, j] = np.sum(Z[n, :, j:j+self.w.shape[2]] * self.w[i])\n",
    "            self.out[n] += self.b[:, np.newaxis]\n",
    "            \n",
    "        return self.out\n",
    "    \n",
    "    def backward(self, dA):\n",
    "        N_out, N_in, N_features = self.w.shape\n",
    "        \n",
    "        self.db = np.sum(dA, axis=0).mean(axis=1)\n",
    "        \n",
    "        self.dw = np.zeros(self.w.shape)\n",
    "        \n",
    "        for n in range(dA.shape[0]):\n",
    "            for row in range(dA.shape[1]):\n",
    "                for column in range(dA.shape[2]):\n",
    "                    self.dw[row] += dA[n][row][column] * self.Z[n, :, column:column+N_features]\n",
    "                    \n",
    "        self.dz = np.zeros(self.Z.shape)\n",
    "        \n",
    "        for n in range(dA.shape[0]):\n",
    "            for row in range(dA.shape[1]):\n",
    "                for column in range(dA.shape[2]):\n",
    "                    self.dz[n, :, column:column+N_features] += dA[n][row][column] * self.w[row]\n",
    "                    \n",
    "        return self.dz\n",
    "    \n",
    "    def calcOutputSize(self, ):\n",
    "        N_out = int((self.N_in + 2*self.P - self.F) / self.S + 1)\n",
    "        \n",
    "        return N_out"
   ]
  },
  {
   "cell_type": "code",
   "execution_count": 19,
   "metadata": {},
   "outputs": [],
   "source": [
    "x = np.array([[1, 2, 3, 4], [2, 3, 4, 5]])\n",
    "w = np.ones((3, 2, 3))\n",
    "b = np.array([1, 2, 3])\n",
    "\n",
    "y = np.array([17, 23, 18, 24, 19, 25]).reshape(3, 2)"
   ]
  },
  {
   "cell_type": "code",
   "execution_count": 20,
   "metadata": {},
   "outputs": [],
   "source": [
    "sample = np.arange(6).reshape(1, 3, 2)\n",
    "b = np.arange(3)"
   ]
  },
  {
   "cell_type": "code",
   "execution_count": 21,
   "metadata": {},
   "outputs": [
    {
     "data": {
      "text/plain": [
       "array([[0, 1],\n",
       "       [3, 4],\n",
       "       [6, 7]])"
      ]
     },
     "execution_count": 21,
     "metadata": {},
     "output_type": "execute_result"
    }
   ],
   "source": [
    "sample[0] + b[:, np.newaxis]"
   ]
  },
  {
   "cell_type": "code",
   "execution_count": 22,
   "metadata": {},
   "outputs": [],
   "source": [
    "clf = Conv1d(b, w)"
   ]
  },
  {
   "cell_type": "code",
   "execution_count": 23,
   "metadata": {},
   "outputs": [
    {
     "data": {
      "text/plain": [
       "array([[[15., 21.],\n",
       "        [16., 22.],\n",
       "        [17., 23.]]])"
      ]
     },
     "execution_count": 23,
     "metadata": {},
     "output_type": "execute_result"
    }
   ],
   "source": [
    "# test the forward-propagation\n",
    "a = clf.forward(x)\n",
    "a"
   ]
  },
  {
   "cell_type": "code",
   "execution_count": 24,
   "metadata": {},
   "outputs": [
    {
     "data": {
      "text/plain": [
       "array([[[0, 1],\n",
       "        [2, 3],\n",
       "        [4, 5]]])"
      ]
     },
     "execution_count": 24,
     "metadata": {},
     "output_type": "execute_result"
    }
   ],
   "source": [
    "# test the backward-propagation\n",
    "dA = np.arange(6).reshape(1, 3, 2)\n",
    "dA"
   ]
  },
  {
   "cell_type": "code",
   "execution_count": 25,
   "metadata": {},
   "outputs": [
    {
     "data": {
      "text/plain": [
       "array([[[ 6., 15., 15.,  9.],\n",
       "        [ 6., 15., 15.,  9.]]])"
      ]
     },
     "execution_count": 25,
     "metadata": {},
     "output_type": "execute_result"
    }
   ],
   "source": [
    "clf.backward(dA)"
   ]
  },
  {
   "cell_type": "markdown",
   "metadata": {},
   "source": [
    "### 【問題5】学習・推定"
   ]
  },
  {
   "cell_type": "code",
   "execution_count": 26,
   "metadata": {},
   "outputs": [],
   "source": [
    "# calc process\n",
    "import numpy as np\n",
    "\n",
    "# visualization\n",
    "import matplotlib.pyplot as plt\n",
    "\n",
    "#  Machine Learning library\n",
    "from sklearn import metrics\n",
    "from sklearn.preprocessing import OneHotEncoder\n",
    "\n",
    "from tqdm import tqdm_notebook as tqdm\n",
    "\n",
    "class ScratchDeepNeuralNetworkClassifier:\n",
    "    \"\"\"\n",
    "    ディープニューラルネットワークのスクラッチ実装\n",
    "    \n",
    "    Parameters\n",
    "    ----------\n",
    "    activation : str\n",
    "        活性化関数の種類\n",
    "    \n",
    "    batch_size : int\n",
    "        ミニバッチのサイズ\n",
    "    \n",
    "    epoch : int\n",
    "        エポック数\n",
    "    \n",
    "    initializer : str\n",
    "        パラメータ初期値を生成するクラス\n",
    "    \n",
    "    lr : float\n",
    "        学習率\n",
    "        \n",
    "    n_nodes1 : int\n",
    "        １層目のレイヤー数\n",
    "        \n",
    "    n_nodes2 : int\n",
    "        2層目のレイヤー数\n",
    "    \n",
    "    n_output : int\n",
    "        出力数\n",
    "    \n",
    "    optimizer : str\n",
    "        最適化手法\n",
    "    \n",
    "    random_state_batch : int\n",
    "        ミニバッチ生成時の乱数のシード値\n",
    "    \n",
    "    random_state_para : int\n",
    "        パラメータ初期値生成時の乱数のシード値\n",
    "    \n",
    "    sigma : float\n",
    "        SimpleInitializerの標準偏差\n",
    "    \n",
    "    verbose : bool\n",
    "        学習過程の出力\n",
    "    \n",
    "    Attributes\n",
    "    ----------\n",
    "    self.train_loss : list\n",
    "        学習用データに基づく交差エントロピー損失\n",
    "    \n",
    "    self.val_loss : list\n",
    "        検証用データに基づく交差エントロピー損失\n",
    "    \n",
    "    self.y_pred : 次の形のndarray, shape(batch_size)\n",
    "        予測値\n",
    "    \"\"\"\n",
    "    \n",
    "    def __init__(self, activation=\"Tanh\", batch=30, initializer=\"Simple\", n_epochs = 10, lr=1e-2, n_nodes1=400, n_nodes2=200, optimizer=\"SGD\", sigma=0.01, verbose=False):\n",
    "        \n",
    "        # パラメータ\n",
    "        self.activation = activation\n",
    "        self.batch = batch\n",
    "        self.initializer = initializer\n",
    "        self.lr = lr\n",
    "        self.n_epochs = n_epochs\n",
    "        self.features = 2346 # (フィルタサイズ：3 × 出力サイズ：782)\n",
    "        self.n_nodes1 = n_nodes1\n",
    "        self.n_nodes2 = n_nodes2\n",
    "        self.n_output = 10\n",
    "        self.optimizer = optimizer\n",
    "        self.sigma = sigma\n",
    "        self.verbose = verbose\n",
    "        \n",
    "        \n",
    "        # パラメータ初期値\n",
    "        if self.initializer == \"Simple\":\n",
    "            initializer1 = SimpleInitializer(self.sigma)\n",
    "            initializer2 = SimpleInitializer(self.sigma)\n",
    "            initializer3 = SimpleInitializer(self.sigma)\n",
    "        elif self.initializer == \"Xavier\":\n",
    "            initializer1 = XavierInitializer()\n",
    "            initializer2 = XavierInitializer()\n",
    "            initializer3 = XavierInitializer()\n",
    "        elif self.initializer == \"He\":\n",
    "            initializer1 = HeInitializer()\n",
    "            initializer2 = HeInitializer()\n",
    "            initializer3 = HeInitializer()\n",
    "        \n",
    "        # 最適化手法\n",
    "        if self.optimizer == \"SGD\":\n",
    "            optimizer1 = SGD(self.lr)\n",
    "            optimizer2 = SGD(self.lr)\n",
    "            optimizer3 = SGD(self.lr)\n",
    "        elif self.optimizer == \"AdaGrad\":\n",
    "            optimizer1 = AdaGrad(self.lr)\n",
    "            optimizer2 = AdaGrad(self.lr)\n",
    "            optimizer3 = AdaGrad(self.lr)\n",
    "        \n",
    "        # レイヤー（インスタンス生成）\n",
    "        np.random.seed(1)\n",
    "        self.Conv1d = Conv1d(b=np.random.rand(3), w=np.random.rand(3,1,3), lr=self.lr, N_in=4, P=0, S=1)\n",
    "        self.FC1 = FC(self.features, self.n_nodes1, initializer1, optimizer1)\n",
    "        self.FC2 = FC(self.n_nodes1, self.n_nodes2, initializer2, optimizer2)\n",
    "        self.FC3 = FC(self.n_nodes2, self.n_output, initializer3, optimizer3)\n",
    "        \n",
    "        \n",
    "        # 活性化関数\n",
    "        self.activation3 = Softmax()\n",
    "        if self.activation == \"Sigmoid\":\n",
    "            self.activation1 = Sigmoid()\n",
    "            self.activation2 = Sigmoid()\n",
    "        elif self.activation == \"Tanh\":\n",
    "            self.activation1 = Tanh()\n",
    "            self.activation2 = Tanh()\n",
    "        elif self.activation == \"ReLU\":\n",
    "            self.activation1 = ReLU()\n",
    "            self.activation2 = ReLU()\n",
    "        \n",
    "        \n",
    "        # 損失\n",
    "        self.train_loss = []\n",
    "        self.val_loss = []\n",
    "        \n",
    "        # 予測値\n",
    "        self.y_pred = None\n",
    "        \n",
    "        \n",
    "    def fit(self, X_train, y_train, X_val=None, y_val=None):\n",
    "        \"\"\"\n",
    "        学習\n",
    "        \n",
    "        Parameters\n",
    "        ----------\n",
    "        X_train : 次の形のndarray, shape(batch_size, features)\n",
    "            学習用データ（特徴量）\n",
    "            \n",
    "        y_train : \n",
    "            学習用データ（正解値）\n",
    "            \n",
    "        X_val : \n",
    "            検証用データ（特徴量）\n",
    "            \n",
    "        y_val : 次の形のndarray, shape(batch_size)\n",
    "            検証用データ（正解値）\n",
    "        \n",
    "        \"\"\"       \n",
    "        \n",
    "        # 軸追加\n",
    "        if X_train.ndim == 1:\n",
    "            X_train = X_train[:, np.newaxis]\n",
    "        if y_train.ndim == 1:\n",
    "            y_train = y_train[:, np.newaxis]\n",
    "        if (X_val is not None) or (y_val is not None):\n",
    "            if X_val.ndim == 1:\n",
    "                X_val  = X_val[:, np.newaxis]\n",
    "            if y_val.ndim == 1:\n",
    "                y_val = y_val[:, np.newaxis]\n",
    "        \n",
    "        # One-Hot Encoding\n",
    "        enc = OneHotEncoder(handle_unknown=\"ignore\", sparse=False)\n",
    "        y_train = enc.fit_transform(y_train) # 学習用データ\n",
    "        if y_val is not None:\n",
    "            y_val = enc.fit_transform(y_val) # 検証用データ\n",
    "        \n",
    "        # 選択した最適化手法による学習を繰り返す\n",
    "        for i in tqdm(range(self.n_epochs)):\n",
    "            get_mini_batch = GetMiniBatch(X_train, y_train, batch_size = self.batch, seed = 0)\n",
    "            for mini_X_train, mini_y_train in tqdm(get_mini_batch):\n",
    "                \n",
    "                # フォワードプロパゲーション\n",
    "                A0 = self.Conv1d.forward(mini_X_train)\n",
    "                A0 = A0.reshape(A0.shape[0], A0.shape[1] * A0.shape[2])\n",
    "                A1 = self.FC1.forward(A0)\n",
    "                Z1 = self.activation1.forward(A1)\n",
    "                A2 = self.FC2.forward(Z1)\n",
    "                Z2 = self.activation2.forward(A2)\n",
    "                A3 = self.FC3.forward(Z2)\n",
    "                Z3 = self.activation3.forward(A3)\n",
    "                \n",
    "                # バックプロパゲーション\n",
    "                dA3, train_loss = self.activation3.backward(Z3, mini_y_train)\n",
    "                dZ2 = self.FC3.backward(dA3)\n",
    "                dA2 = self.activation2.backward(dZ2)\n",
    "                dZ1 = self.FC2.backward(dA2)\n",
    "                dA1 = self.activation1.backward(dZ1)\n",
    "                dZ0 = self.FC1.backward(dA1)\n",
    "                _ = self.Conv1d.backward(dZ0.reshape(A0.shape)) \n",
    "                \n",
    "                \n",
    "                self.train_loss.append(train_loss)\n",
    "                \n",
    "                if self.verbose == True:\n",
    "                    print(\"train_loss : {}\".format(train_loss))\n",
    "                \n",
    "                # 検証用データを用いる場合、損失を計算する\n",
    "                if (X_val is not None) and (y_val is not None):\n",
    "                    # フォワードプロパゲーション\n",
    "                    A0_val = self.Conv1d.forward(X_val)\n",
    "                    A0_val = A0_val.reshape(A0_val.shape[0], A0_val.shape[1] * A0_val.shape[2])\n",
    "                    A1_val = self.FC1.forward(A0_val)\n",
    "                    Z1_val = self.activation1.forward(A1_val)\n",
    "                    A2_val = self.FC2.forward(Z1_val)\n",
    "                    Z2_val = self.activation2.forward(A2_val)\n",
    "                    A3_val = self.FC3.forward(Z2_val)\n",
    "                    Z3_val = self.activation3.forward(A3_val)\n",
    "                    \n",
    "                    dA3_val, val_loss = self.activation3.backward(Z3_val, y_val) # 損失を計算\n",
    "                    \n",
    "                    # 損失を格納\n",
    "                    self.val_loss.append(val_loss)\n",
    "                \n",
    "                    # 学習過程を表示\n",
    "                    if self.verbose == True:\n",
    "                        print(\"val_loss : {}\".format(val_loss))\n",
    "\n",
    "            \n",
    "    def predict(self, X):\n",
    "        \"\"\"\n",
    "        予測\n",
    "        \n",
    "        Parameters\n",
    "        ----------\n",
    "        X : 次の形のndarray, shape(batch_size, features)\n",
    "            テストデータ\n",
    "            \n",
    "        Returns\n",
    "        ----------\n",
    "        y_pred : 次の形のndarray, shape(batch_size, class)\n",
    "            予測\n",
    "        \"\"\"\n",
    "        # 軸追加\n",
    "        if X.ndim == 1:\n",
    "            X = X[:, np.newaxis]\n",
    "        \n",
    "        # フォワードプロパゲーション\n",
    "        A0 = self.Conv1d.forward(X)\n",
    "        A0 = A0.reshape(A0.shape[0], A0.shape[1] * A0.shape[2])\n",
    "        A1 = self.FC1.forward(A0)\n",
    "        Z1 = self.activation1.forward(A1)\n",
    "        A2 = self.FC2.forward(Z1)\n",
    "        Z2 = self.activation2.forward(A2)\n",
    "        A3 = self.FC3.forward(Z2)\n",
    "        Z3 = self.activation3.forward(A3)\n",
    "        \n",
    "        # 確率が最大のインデックスを返す\n",
    "        self.y_pred = np.argmax(Z3, axis=1)\n",
    "\n",
    "        \n",
    "        return self.y_pred\n",
    "\n",
    "\n",
    "    def show_learning_curve(self,):\n",
    "        \"\"\"\n",
    "        学習曲線を描画する\n",
    "        \n",
    "        \"\"\"\n",
    "        iteration = np.arange(1, len(self.train_loss)+1)\n",
    "        train_loss = self.train_loss\n",
    "        val_loss = self.val_loss\n",
    "        \n",
    "        plt.style.use(\"seaborn-whitegrid\")\n",
    "        \n",
    "        # 損失の推移を描画\n",
    "        plt.plot(iteration, train_loss, label = \"average_train_loss\", color=\"b\")\n",
    "        if val_loss is not None:\n",
    "            plt.plot(iteration, val_loss, label=\"average_val_loss\", color=\"r\")\n",
    "        plt.xlabel(\"epoch * iteration\")\n",
    "        plt.ylabel(\"average_cross_entropy_loss\")\n",
    "        plt.title(\"Learning Curve : value of cost function\")\n",
    "        plt.legend(loc=\"best\")\n",
    "        plt.show()\n",
    "\n",
    "        \n",
    "    def show_accuracy(self, y_true, y_pred):\n",
    "        \"\"\"\n",
    "        予測の正解率をheatmapで可視化する関数\n",
    "        \n",
    "        Parameters\n",
    "        -------------\n",
    "        y_true : 次の形のndarray, shape(batch_size)\n",
    "            正解ラベル\n",
    "        \n",
    "        y_pred : 次の形のndarray, shape(batch_size)\n",
    "            予測値\n",
    "        \"\"\"\n",
    "        \n",
    "        labels = sorted(list(set(y_true)))\n",
    "        \n",
    "        cmx_data = confusion_matrix(y_true, y_pred, labels=labels)\n",
    "\n",
    "        df_cmx = pd.DataFrame(cmx_data, index=labels, columns=labels)\n",
    "        \n",
    "        df_cmx = df_cmx.apply(lambda x:round(x/sum(x), 2), axis=1)\n",
    "\n",
    "        plt.figure(figsize = (10,8))\n",
    "        sns.heatmap(df_cmx, cmap=\"GnBu\", annot=True)\n",
    "        plt.title(\"Confusion Matrix\")\n",
    "        plt.xlabel(\"y_pred\")\n",
    "        plt.ylabel(\"y_true\")\n",
    "        plt.show()\n",
    "        \n",
    "\n",
    "\"\"\"\n",
    "ミニバッチを生成するクラス\n",
    "\"\"\"\n",
    "    \n",
    "class GetMiniBatch:\n",
    "    \"\"\"\n",
    "    ミニバッチを取得するイテレータ\n",
    "\n",
    "    Parameters\n",
    "    ----------\n",
    "    X : 次の形のndarray, shape (batch_size, features)\n",
    "      学習データ\n",
    "    \n",
    "    y : 次の形のndarray, shape (batch_size, 1)\n",
    "      正解値\n",
    "    \n",
    "    batch_size : int\n",
    "      バッチサイズ\n",
    "    \n",
    "    seed : int\n",
    "      NumPyの乱数のシード\n",
    "    \"\"\"\n",
    "    def __init__(self, X, y, batch_size = 10, seed=0):\n",
    "        self.batch_size = batch_size\n",
    "        np.random.seed(seed)\n",
    "        shuffle_index = np.random.permutation(np.arange(X.shape[0]))\n",
    "        self.X = X[shuffle_index]\n",
    "        self.y = y[shuffle_index]\n",
    "        self._stop = np.ceil(X.shape[0]/self.batch_size).astype(np.int)\n",
    "\n",
    "    def __len__(self):\n",
    "        return self._stop\n",
    "\n",
    "    def __getitem__(self,item):\n",
    "        p0 = item*self.batch_size\n",
    "        p1 = item*self.batch_size + self.batch_size\n",
    "        return self.X[p0:p1], self.y[p0:p1]        \n",
    "\n",
    "    def __iter__(self):\n",
    "        self._counter = 0\n",
    "        return self\n",
    "\n",
    "    def __next__(self):\n",
    "        if self._counter >= self._stop:\n",
    "            raise StopIteration()\n",
    "        p0 = self._counter*self.batch_size\n",
    "        p1 = self._counter*self.batch_size + self.batch_size\n",
    "        self._counter += 1\n",
    "        return self.X[p0:p1], self.y[p0:p1]\n",
    "\n",
    "\n",
    "\"\"\"\n",
    "以下、全結合層クラス\n",
    "\"\"\"\n",
    "\n",
    "class FC:\n",
    "    \"\"\"\n",
    "    ノード数n_nodes1からn_nodes2への全結合層\n",
    "    \n",
    "    Paramters\n",
    "    ----------\n",
    "    n_nodes1 : int\n",
    "        前の層のノード数\n",
    "        \n",
    "    n_nodes2 : int\n",
    "        後の層のノード数\n",
    "    \n",
    "    initializer : class\n",
    "        パラメータ初期値のインスタンス(\"SimpleInitializer\" or \"Xavier\" or \"He\")\n",
    "    \n",
    "    optimizer : class\n",
    "        最適化手法のインスタンス（\"SGD\" or \"AdaGrad\"）\n",
    "    \n",
    "    Attributes\n",
    "    ----------\n",
    "    self.forward_Z : 次の形のndarray, shape(sample, features)\n",
    "        入力値\n",
    "    \n",
    "    self.dB : 次の形のndarray, shape(n_nodes2)\n",
    "        バイアスに流す勾配\n",
    "    \n",
    "    self.dW : 次の形のndarray, shape(n_nodes1, n_nodes2)\n",
    "        重みに流す勾配\n",
    "    \"\"\"\n",
    "    \n",
    "    def __init__(self, n_nodes1, n_nodes2, initializer, optimizer):\n",
    "        \n",
    "        self.initializer = initializer\n",
    "        self.optimizer = optimizer\n",
    "        \n",
    "        self.W = initializer.W(n_nodes1, n_nodes2) # 重みの初期値\n",
    "        self.B = initializer.B(n_nodes2) # バイアスの初期値\n",
    "        \n",
    "        self.forward_Z = None\n",
    "        self.dB = None\n",
    "        self.dW = None\n",
    "    \n",
    "    \n",
    "    def forward(self, Z):\n",
    "        \"\"\"\n",
    "        フォワードプロパゲーション\n",
    "        \n",
    "        Parameters\n",
    "        ----------\n",
    "        X : 次の形のndarray, shape(batch_size, n_nodes1)\n",
    "            入力\n",
    "        \n",
    "        \n",
    "        Returns\n",
    "        ----------\n",
    "        A : 次の形のndarray, shape(batch_size, n_nodes2)\n",
    "            出力\n",
    "            \n",
    "        \"\"\"\n",
    "        self.forward_Z = Z.copy()\n",
    "        \n",
    "        A = np.dot(self.forward_Z, self.W) + self.B\n",
    "        \n",
    "        return A\n",
    "    \n",
    "    \n",
    "    def backward(self, dA):\n",
    "        \"\"\"\n",
    "        バックプロパゲーション\n",
    "        \n",
    "        Parameters\n",
    "        ----------\n",
    "        dB : 次の形のndarray, shape(batch_size, n_nodes2)\n",
    "            後ろから流れてきた勾配\n",
    "        \n",
    "        Returns\n",
    "        ----------\n",
    "        dZ : 次の形のndarray, shape(batch_size, n_nodes1)\n",
    "            前に流す勾配\n",
    "        \n",
    "        \"\"\"\n",
    "        self.dB = dA\n",
    "        \n",
    "        self.dW = np.dot(self.forward_Z.T, dA)\n",
    "        \n",
    "        dZ = np.dot(dA, self.W.T)\n",
    "        \n",
    "        # 重み、バイアスを更新\n",
    "        self = self.optimizer.update(self)\n",
    "        \n",
    "        return dZ\n",
    "\n",
    "\"\"\"\n",
    "以下、１次元畳み込み層\n",
    "\"\"\"\n",
    "import numpy as np\n",
    "\n",
    "class Conv1d:\n",
    "    \"\"\"\n",
    "    チャンネル数を限定しない１次元畳み込み層\n",
    "    \n",
    "    Parameters\n",
    "    ----------\n",
    "    b : 次の形のndarray, shape(m_samples, n_features)\n",
    "        バイアス項\n",
    "    \n",
    "    lr : float\n",
    "        学習率\n",
    "    \n",
    "    w : 次の形のndarray, shape(n_out, n_in, channls)\n",
    "        フィルタ\n",
    "    \n",
    "    P : int\n",
    "        パディング\n",
    "    \n",
    "    S : int\n",
    "        ストライド\n",
    "    \n",
    "    Attributes\n",
    "    ----------\n",
    "    self.conv_index : 次の形のndarray, shape(N_out, F)\n",
    "        積和演算に用いる入力のインデックス\n",
    "    \n",
    "    self.F : int\n",
    "        フィルタサイズ\n",
    "    \n",
    "    self.N_out : int\n",
    "        出力の数\n",
    "                \n",
    "    self.dw : 次の形のndarray, shape(n_out, n_in, channels)\n",
    "        重みに流す勾配\n",
    "        \n",
    "    self.db : 次の形のndarray, shape(features)\n",
    "        バイアスに流す勾配\n",
    "    \n",
    "    \"\"\"\n",
    "    \n",
    "    def __init__(self, b, w, lr=1e-2, N_in=4, P=0, S=1):\n",
    "        \n",
    "        self.b = b\n",
    "        self.lr = lr\n",
    "        self.N_in = N_in\n",
    "        self.P = P\n",
    "        self.S = S\n",
    "        self.w = w\n",
    "        self.b = b\n",
    "        \n",
    "        self.F = self.w.shape[0]\n",
    "        self.N_out = self.calcOutputSize()\n",
    "        self.out = None\n",
    "        \n",
    "        self.dw = np.zeros((self.w.shape))\n",
    "        self.db = np.zeros(self.b.size)\n",
    "        self.dz = None\n",
    "        \n",
    "        self.Z = None\n",
    "    \n",
    "    \n",
    "    def forward(self, Z):\n",
    "        \"\"\"\n",
    "        フォワードプロパゲーション\n",
    "        \n",
    "        Parameters\n",
    "        -----------\n",
    "        Z : 次の形のndarray, shape(samples, channels, features)\n",
    "            特徴量\n",
    "        \n",
    "        Returns\n",
    "        ----------\n",
    "        self.out : 次の形のndarray, shape(samples, channels, features)\n",
    "            出力\n",
    "        \"\"\"\n",
    "        \n",
    "        # 入力値の次元数が２の場合、軸を追加する\n",
    "        if Z.ndim == 2:\n",
    "            Z = Z[:, np.newaxis, :]\n",
    "        \n",
    "        self.Z = Z\n",
    "\n",
    "        N_in = Z.shape[2]\n",
    "        N_out = int((N_in + 2*self.P - self.F) / self.S + 1)\n",
    "                \n",
    "        # 出力を初期化(samples, N_out, features)\n",
    "        self.out = np.zeros((Z.shape[0], self.w.shape[0], N_out))\n",
    "        \n",
    "        for n in range(Z.shape[0]):\n",
    "            for i in range(self.w.shape[0]):\n",
    "                for j in range(N_out):\n",
    "                    self.out[n, i, j] = np.sum(Z[n, : , j: j+self.w.shape[2]] * self.w[i])\n",
    "            self.out[n] += self.b[:, np.newaxis]\n",
    "        \n",
    "        return self.out\n",
    "    \n",
    "    \n",
    "    def backward(self, dA):\n",
    "        \"\"\"\n",
    "        バックワードプロパゲーション\n",
    "        \n",
    "        Parameters\n",
    "        ----------\n",
    "        dA : 次の形のndarray,  shape(m_samples, n_features)\n",
    "            後の層の損失の勾配\n",
    "        \n",
    "        Returns\n",
    "        ----------\n",
    "        self.dz : 次の形のndarray, shape(m_samples, n_features)\n",
    "            前の層に流す勾配\n",
    "        \"\"\"\n",
    "        # フィルタ（出力チャネル数、入力チャネル数、特徴量）\n",
    "        N_out, N_in, N_features = self.w.shape\n",
    "        \n",
    "        dA = dA.reshape(self.out.shape)        \n",
    "        \n",
    "        # バイアスに流す勾配\n",
    "        self.db = np.sum(dA, axis=0).mean(axis=1) # バッチサイズ方向に合計、特徴量方向に平均\n",
    "                \n",
    "        # 重みに流す勾配（０で初期化）\n",
    "        self.dw = np.zeros(self.w.shape)\n",
    "        \n",
    "        # 深さ方向(axis=0)に合計\n",
    "        for n in range(dA.shape[0]):\n",
    "            for row in range(dA.shape[1]):\n",
    "                for column in range(dA.shape[2]):\n",
    "                    self.dw[row] += dA[n][row][column] * self.Z[n, :, column:column+N_features]\n",
    "        \n",
    "        # 前の層に流す勾配\n",
    "        self.dz = np.zeros(self.Z.shape)\n",
    "        \n",
    "        for n in range(dA.shape[0]):\n",
    "            for row in range(dA.shape[1]):\n",
    "                for column in range(dA.shape[2]):\n",
    "                    self.dz[n, : , column : column+N_features] += dA[n][row][column] * self.w[row]\n",
    "        \n",
    "        return self.dz\n",
    "        \n",
    "        \n",
    "    def calcOutputSize(self,):\n",
    "        \"\"\"\n",
    "        1次元畳み込み後の出力サイズの計算\n",
    " \n",
    "        Parameters\n",
    "        ----------\n",
    "        N_in : 次の形のndarray, shape(m_samples, n_features)\n",
    "            入力のサイズ（特徴量の数）\n",
    "\n",
    "        w : 次の形のndarray, shape(m_samples, n_features)\n",
    "            フィルタ\n",
    "\n",
    "        P : int\n",
    "            パディング数\n",
    "\n",
    "        S : int\n",
    "            ストライドサイズ\n",
    "\n",
    "        Returns\n",
    "        ----------\n",
    "        N_out : int\n",
    "            出力のサイズ（特徴量）\n",
    "\n",
    "        \"\"\"\n",
    "        \n",
    "        N_out = int((self.N_in + 2*self.P - self.F) / self.S + 1)\n",
    "        \n",
    "        return N_out\n",
    "    \n",
    "    \n",
    "\"\"\"\"\"\"\"\"\"\"\"\"\"\"\"\"\"\"\"\"\"\"\"\"\"\"\"\"\"\"\"\"\"\n",
    "以下、最適化手法のクラス\n",
    "\"\"\"\"\"\"\"\"\"\"\"\"\"\"\"\"\"\"\"\"\"\"\"\"\"\"\"\"\"\"\"\"\"\n",
    "\n",
    "class SGD:\n",
    "    \"\"\"\n",
    "    確率的勾配降下法\n",
    "    \n",
    "    Parameters\n",
    "    ----------\n",
    "    lr : float\n",
    "        学習率\n",
    "\n",
    "    \"\"\"\n",
    "    \n",
    "    def __init__(self, lr):\n",
    "        self.lr = lr\n",
    "        \n",
    "        \n",
    "    def update(self, layer):\n",
    "        \"\"\"\n",
    "        ある層の重みやバイアスの更新\n",
    "        \n",
    "        Parameters\n",
    "        ----------\n",
    "        layer : class\n",
    "            更新前の層のインスタンス(FC)\n",
    "        \n",
    "        Returns\n",
    "        ----------\n",
    "        layer : class\n",
    "            更新後の層のインスタンス(FC)\n",
    "        \n",
    "        \"\"\"\n",
    "        \n",
    "        layer.W = layer.W - self.lr * layer.dW/ layer.dB.shape[0]\n",
    "        \n",
    "        layer.B = layer.B - self.lr * np.mean(layer.dB, axis=0)\n",
    "        \n",
    "        return layer\n",
    "\n",
    "    \n",
    "class AdaGrad:\n",
    "    \"\"\"\n",
    "    AdaGradによる最適化\n",
    "    \n",
    "    Parameters\n",
    "    ----------\n",
    "    lr : float\n",
    "        学習率\n",
    "    \n",
    "    Attributes\n",
    "    ----------\n",
    "    self.H : 次の形のndarray, shape()\n",
    "        重みに関する勾配の二乗和\n",
    "    \n",
    "    self.K : 次の形のndarray, shape()\n",
    "        バイアスに関する勾配の二乗和\n",
    "    \n",
    "    \"\"\"\n",
    "    \n",
    "    def __init__(self, lr):\n",
    "        \n",
    "        self.lr = lr\n",
    "        \n",
    "        self.H_W = 0\n",
    "        self.H_B = 0\n",
    "        \n",
    "    def update(self, layer):\n",
    "        \"\"\"\n",
    "        ある層の重みやバイアスの更新\n",
    "        \n",
    "        Parameters\n",
    "        ----------\n",
    "        layer : class\n",
    "            更新前の層のインスタンス\n",
    "        \n",
    "        Returns\n",
    "        ----------\n",
    "        layer : class\n",
    "            更新後の層のインスタンス\n",
    "        \n",
    "        \"\"\"\n",
    "        \n",
    "        dW_mean = layer.dW/ layer.dB.shape[0]\n",
    "        dB_mean = np.mean(layer.dB, axis = 0)\n",
    "        \n",
    "        self.H_W = self.H_W + dW_mean**2\n",
    "        layer.W = layer.W - self.lr * np.sqrt(1/ (self.H_W + 1e-10)) * dW_mean\n",
    "        \n",
    "        self.H_B = self.H_B + dB_mean**2\n",
    "        layer.B = layer.B - self.lr * np.sqrt(1/ (self.H_B + 1e-10)) * dB_mean\n",
    "\n",
    "        \n",
    "        return layer    \n",
    "\n",
    "\n",
    "\"\"\"\"\"\"\"\"\"\"\"\"\"\"\"\"\"\"\"\"\"\"\"\"\"\"\"\"\"\n",
    "以下、活性化関数クラス\n",
    "\"\"\"\"\"\"\"\"\"\"\"\"\"\"\"\"\"\"\"\"\"\"\"\"\"\"\"\"\"\n",
    "class Sigmoid:\n",
    "    \"\"\"\n",
    "    シグモイド・レイヤー\n",
    "\n",
    "    \"\"\"\n",
    "    def __init__(self, ):\n",
    "        \n",
    "        self.forward_A = None\n",
    "    \n",
    "    \n",
    "    def forward(self, A):\n",
    "        \"\"\"\n",
    "        フォワードプロパゲーション\n",
    "        \n",
    "        Parameters\n",
    "        ----------\n",
    "        A : 次の形のndarray, shape(batch_size, features)\n",
    "            入力\n",
    "        \n",
    "        \"\"\"\n",
    "        self.forward_A = A\n",
    "        \n",
    "        self.Z = 1 / (1 + np.exp(-A))\n",
    "        \n",
    "        return self.Z\n",
    "\n",
    "    \n",
    "    def backward(self, dZ):\n",
    "        \"\"\"\n",
    "        バックプロパゲーション（微分）\n",
    "        \n",
    "        Parameters\n",
    "        ----------\n",
    "        dZ : 次の形のndarray, shape()\n",
    "            後の層の勾配\n",
    "        \n",
    "        \"\"\"\n",
    "        \n",
    "        return dZ * (1 - self.Z) * self.Z\n",
    "    \n",
    "\n",
    "\n",
    "class Tanh:\n",
    "    \"\"\"\n",
    "    ハイパボリックタンジェント・レイヤー\n",
    "    \n",
    "    \"\"\"\n",
    "    \n",
    "    def __init__(self, ):\n",
    "        \n",
    "        self.forward_A = None\n",
    "        self.Z = None\n",
    "    \n",
    "    def forward(self, A):\n",
    "        \"\"\"\n",
    "        フォワードプロパゲーション\n",
    "        \n",
    "        Parameters\n",
    "        ----------\n",
    "        A : 次の形のndarray, shape(batch_size, features)\n",
    "            入力\n",
    "        \n",
    "        \"\"\"\n",
    "        self.forward_A = A\n",
    "        \n",
    "        self.Z = np.tanh(A)\n",
    "        \n",
    "        return self.Z\n",
    "\n",
    "    \n",
    "    def backward(self, dA):\n",
    "        \"\"\"\n",
    "        バックプロパゲーション（微分）\n",
    "        \n",
    "        Parameters\n",
    "        ----------\n",
    "        dA : 次の形のndarray, shape\n",
    "            後の層の勾配\n",
    "        \n",
    "        \"\"\"\n",
    "        \n",
    "        return dA * (1 - self.Z**2)\n",
    "\n",
    "\n",
    "class ReLU:\n",
    "    \"\"\"\n",
    "    ReLUレイヤー\n",
    "    \n",
    "    \"\"\"\n",
    "    def __init__(self, ):\n",
    "        \n",
    "        self.forward_A = None\n",
    "        self.Z = None\n",
    "    \n",
    "    def forward(self, A):\n",
    "        \"\"\"\n",
    "        フォワードプロパゲーション\n",
    "        \n",
    "        Parameters\n",
    "        ----------\n",
    "        A : 次の形のndarray, shape(batch_size, features)\n",
    "            入力\n",
    "        \n",
    "        \"\"\"\n",
    "        self.forward_A = A\n",
    "        \n",
    "        self.Z = np.maximum(A, 0)\n",
    "        \n",
    "        return self.Z\n",
    "\n",
    "    \n",
    "    def backward(self, dZ):\n",
    "        \"\"\"\n",
    "        バックプロパゲーション（微分）\n",
    "        \n",
    "        Parameters\n",
    "        ----------\n",
    "        dZ : 次の形のndarray, shape\n",
    "            後の層の勾配\n",
    "        \n",
    "        \"\"\"\n",
    "        \n",
    "        return dZ * np.where(self.forward_A > 0, 1, 0)\n",
    "    \n",
    "\n",
    "class Softmax:\n",
    "    \"\"\"\n",
    "    ソフトマックスレイヤー\n",
    "    \n",
    "    \"\"\"\n",
    "    \n",
    "    def __init__(self, ):\n",
    "        \n",
    "        self.Z3 = None\n",
    "    \n",
    "    def forward(self, X):\n",
    "        \"\"\"\n",
    "        フォワードプロパゲーション\n",
    "        \n",
    "        Parameters\n",
    "        ----------\n",
    "        X : 次の形のndarray, shape(batch_size, features)\n",
    "            入力\n",
    "        \n",
    "        Returns\n",
    "        ----------\n",
    "        Z : 次の形のndarray, shape(batch_size, features)\n",
    "            予測確率\n",
    "        \n",
    "        \"\"\"\n",
    "        c = np.max(X)\n",
    "        \n",
    "        # オーバーフロー対策を実施（要素の最大値を各要素から控除）\n",
    "        self.Z = np.exp(X - c) / np.sum(np.exp(X - c), axis=1).reshape(-1,1)\n",
    "        \n",
    "        return self.Z\n",
    "    \n",
    "    \n",
    "    def backward(self, Z, Y):\n",
    "        \"\"\"\n",
    "        バックプロパゲーション（微分）\n",
    "        \n",
    "        Parameters\n",
    "        ----------\n",
    "        Z : 次の形のndarray, shape(batch_size, features)\n",
    "            予測確率（＝第３層におけるフォワードプロパゲーション）\n",
    "        \n",
    "        Y : 次の形のndarray, shape(batch_size, features)\n",
    "            正解値\n",
    "        \n",
    "        Returns\n",
    "        ----------\n",
    "        dA : 次の形ndarray, shape(batch_size, features)\n",
    "            勾配\n",
    "        \n",
    "        loss : float\n",
    "            交差エントロピー誤差\n",
    "            \n",
    "        \"\"\"\n",
    "        \n",
    "        dA = Z - Y\n",
    "        \n",
    "        # 交差エントロピー誤差\n",
    "        loss = - np.sum(Y * np.log(Z + 1e-7)) / Y.shape[0]\n",
    "        \n",
    "        return dA, loss\n",
    "    \n",
    "    \n",
    "\"\"\"\"\"\"\"\"\"\"\"\"\"\"\"\"\"\"\"\"\"\"\"\"\"\"\"\"\"\"\"\"\"\"\"\"\"\"\"\n",
    "以下、パラメータ初期化クラス\n",
    "\"\"\"\"\"\"\"\"\"\"\"\"\"\"\"\"\"\"\"\"\"\"\"\"\"\"\"\"\"\"\"\"\"\"\"\"\"\"\"\n",
    "    \n",
    "class SimpleInitializer:\n",
    "    \"\"\"\n",
    "    ガウス分布によるシンプルな初期化\n",
    "    \n",
    "    Parameters\n",
    "    ----------\n",
    "    sigma : float\n",
    "        ガウス分布の標準偏差\n",
    "    \n",
    "    \"\"\"\n",
    "    \n",
    "    def __init__(self, sigma):\n",
    "        self.sigma = sigma\n",
    "        \n",
    "    def W(self, n_nodes1, n_nodes2):\n",
    "        \"\"\"\n",
    "        重みの初期化\n",
    "        \n",
    "        Parameters\n",
    "        -----------\n",
    "        n_nodes1 : int\n",
    "            前の層のノード数\n",
    "            \n",
    "        n_nodes2 : int\n",
    "            後ろの層のノード数\n",
    "            \n",
    "        Returns\n",
    "        ----------\n",
    "        W : 次の形のndarray, shape(n_nodes1, n_nodes2)\n",
    "            重みの初期値\n",
    "            \n",
    "        \"\"\"\n",
    "\n",
    "        W = self.sigma * np.random.randn(n_nodes1, n_nodes2)\n",
    "\n",
    "        return W\n",
    "    \n",
    "    \n",
    "    def B(self, n_nodes2):\n",
    "        \"\"\"\n",
    "        バイアスの初期化\n",
    "        \n",
    "        Parameters\n",
    "        ----------\n",
    "        n_nodes2 : int\n",
    "            後の層のノード数\n",
    "                    \n",
    "        Returns\n",
    "        ----------\n",
    "        B : 次の形のndarray, shape(n_nodes2)\n",
    "            バイアスの初期値\n",
    "        \"\"\"\n",
    "        \n",
    "        B = self.sigma * np.random.randn(n_nodes2)\n",
    "        \n",
    "        return B\n",
    "\n",
    "\n",
    "\n",
    "class XavierInitializer:\n",
    "    \"\"\"\n",
    "    Xavierによる初期化\n",
    "    \n",
    "    Parameters\n",
    "    ----------\n",
    "    sigma : float\n",
    "        標準偏差\n",
    "    \n",
    "    \"\"\"\n",
    "    \n",
    "    def __init__(self, ):\n",
    "        self.sigma = None\n",
    "        \n",
    "    def W(self, n_nodes1, n_nodes2):\n",
    "        \"\"\"\n",
    "        重みの初期化\n",
    "        \n",
    "        Parameters\n",
    "        -----------\n",
    "        n_nodes1 : int\n",
    "            前の層のノード数\n",
    "            \n",
    "        n_nodes2 : int\n",
    "            後ろの層のノード数\n",
    "            \n",
    "        Returns\n",
    "        ----------\n",
    "        W : 次の形のndarray, shape(n_nodes1, n_nodes2)\n",
    "            重みの初期値\n",
    "            \n",
    "        \"\"\"\n",
    "        self.sigma = np.sqrt(1/n_nodes1)\n",
    "        \n",
    "        W = self.sigma * np.random.randn(n_nodes1, n_nodes2)\n",
    "\n",
    "        return W\n",
    "    \n",
    "    \n",
    "    def B(self, n_nodes2):\n",
    "        \"\"\"\n",
    "        バイアスの初期化\n",
    "        \n",
    "        Parameters\n",
    "        ----------\n",
    "        n_nodes2 : int\n",
    "            後の層のノード数\n",
    "                    \n",
    "        Returns\n",
    "        ----------\n",
    "        B : 次の形のndarray, shape(n_nodes2)\n",
    "            バイアスの初期値\n",
    "        \"\"\"\n",
    "        \n",
    "        B = self.sigma * np.random.randn(n_nodes2)\n",
    "        \n",
    "        return B\n",
    "\n",
    "    \n",
    "class HeInitializer:\n",
    "    \"\"\"\n",
    "    Heによる初期化\n",
    "    \n",
    "    Parameters\n",
    "    ----------\n",
    "    sigma : float\n",
    "        標準偏差\n",
    "    \n",
    "    \"\"\"\n",
    "    \n",
    "    def __init__(self, ):\n",
    "        self.sigma = None\n",
    "        \n",
    "    def W(self, n_nodes1, n_nodes2):\n",
    "        \"\"\"\n",
    "        重みの初期化\n",
    "        \n",
    "        Parameters\n",
    "        -----------\n",
    "        n_nodes1 : int\n",
    "            前の層のノード数\n",
    "            \n",
    "        n_nodes2 : int\n",
    "            後ろの層のノード数\n",
    "            \n",
    "        Returns\n",
    "        ----------\n",
    "        W : 次の形のndarray, shape(n_nodes1, n_nodes2)\n",
    "            重みの初期値\n",
    "            \n",
    "        \"\"\"\n",
    "        self.sigma = np.sqrt(2/n_nodes1)\n",
    "        \n",
    "        W = self.sigma * np.random.randn(n_nodes1, n_nodes2)\n",
    "\n",
    "        return W\n",
    "    \n",
    "    \n",
    "    def B(self, n_nodes2):\n",
    "        \"\"\"\n",
    "        バイアスの初期化\n",
    "        \n",
    "        Parameters\n",
    "        ----------\n",
    "        n_nodes2 : int\n",
    "            後の層のノード数\n",
    "                    \n",
    "        Returns\n",
    "        ----------\n",
    "        B : 次の形のndarray, shape(n_nodes2)\n",
    "            バイアスの初期値\n",
    "        \"\"\"\n",
    "        \n",
    "        B = self.sigma * np.random.randn(n_nodes2)\n",
    "        \n",
    "        return B"
   ]
  },
  {
   "cell_type": "code",
   "execution_count": 28,
   "metadata": {},
   "outputs": [
    {
     "data": {
      "text/plain": [
       "(array([0, 1, 2, 3, 4, 5, 6, 7, 8, 9], dtype=uint8),\n",
       " array([101, 111, 103, 111,  94,  99,  80, 118, 106,  77]))"
      ]
     },
     "execution_count": 28,
     "metadata": {},
     "output_type": "execute_result"
    }
   ],
   "source": [
    "np.unique(y_train[:1000], return_counts=True)"
   ]
  },
  {
   "cell_type": "code",
   "execution_count": 29,
   "metadata": {},
   "outputs": [],
   "source": [
    "clf = ScratchDeepNeuralNetworkClassifier(n_epochs=20, lr=1e-2)"
   ]
  },
  {
   "cell_type": "code",
   "execution_count": 30,
   "metadata": {},
   "outputs": [
    {
     "data": {
      "application/vnd.jupyter.widget-view+json": {
       "model_id": "4cc471cb231249c296829af755068668",
       "version_major": 2,
       "version_minor": 0
      },
      "text/plain": [
       "HBox(children=(IntProgress(value=0, max=20), HTML(value='')))"
      ]
     },
     "metadata": {},
     "output_type": "display_data"
    },
    {
     "data": {
      "application/vnd.jupyter.widget-view+json": {
       "model_id": "e5cb325e0300445983699f3d05062469",
       "version_major": 2,
       "version_minor": 0
      },
      "text/plain": [
       "HBox(children=(IntProgress(value=0, max=34), HTML(value='')))"
      ]
     },
     "metadata": {},
     "output_type": "display_data"
    },
    {
     "data": {
      "application/vnd.jupyter.widget-view+json": {
       "model_id": "fc0c3e12a36447879a31b38c4e79ca29",
       "version_major": 2,
       "version_minor": 0
      },
      "text/plain": [
       "HBox(children=(IntProgress(value=0, max=34), HTML(value='')))"
      ]
     },
     "metadata": {},
     "output_type": "display_data"
    },
    {
     "data": {
      "application/vnd.jupyter.widget-view+json": {
       "model_id": "32bc965b3bec4816ba72c83db160fc1b",
       "version_major": 2,
       "version_minor": 0
      },
      "text/plain": [
       "HBox(children=(IntProgress(value=0, max=34), HTML(value='')))"
      ]
     },
     "metadata": {},
     "output_type": "display_data"
    },
    {
     "data": {
      "application/vnd.jupyter.widget-view+json": {
       "model_id": "a52169dcf03c4b099ec11e8bd1f85b8d",
       "version_major": 2,
       "version_minor": 0
      },
      "text/plain": [
       "HBox(children=(IntProgress(value=0, max=34), HTML(value='')))"
      ]
     },
     "metadata": {},
     "output_type": "display_data"
    },
    {
     "data": {
      "application/vnd.jupyter.widget-view+json": {
       "model_id": "6bdb06be06b3447b9d3db436ffe1c390",
       "version_major": 2,
       "version_minor": 0
      },
      "text/plain": [
       "HBox(children=(IntProgress(value=0, max=34), HTML(value='')))"
      ]
     },
     "metadata": {},
     "output_type": "display_data"
    },
    {
     "data": {
      "application/vnd.jupyter.widget-view+json": {
       "model_id": "295523747ec7435ca80007e5c8278fa2",
       "version_major": 2,
       "version_minor": 0
      },
      "text/plain": [
       "HBox(children=(IntProgress(value=0, max=34), HTML(value='')))"
      ]
     },
     "metadata": {},
     "output_type": "display_data"
    },
    {
     "data": {
      "application/vnd.jupyter.widget-view+json": {
       "model_id": "e56f4f0ffb40476cb60403081356ffae",
       "version_major": 2,
       "version_minor": 0
      },
      "text/plain": [
       "HBox(children=(IntProgress(value=0, max=34), HTML(value='')))"
      ]
     },
     "metadata": {},
     "output_type": "display_data"
    },
    {
     "data": {
      "application/vnd.jupyter.widget-view+json": {
       "model_id": "f7e5b94552894309bf54cc4cbcfbd0ac",
       "version_major": 2,
       "version_minor": 0
      },
      "text/plain": [
       "HBox(children=(IntProgress(value=0, max=34), HTML(value='')))"
      ]
     },
     "metadata": {},
     "output_type": "display_data"
    },
    {
     "data": {
      "application/vnd.jupyter.widget-view+json": {
       "model_id": "08e05bd3ea55459991f747f861e0deaa",
       "version_major": 2,
       "version_minor": 0
      },
      "text/plain": [
       "HBox(children=(IntProgress(value=0, max=34), HTML(value='')))"
      ]
     },
     "metadata": {},
     "output_type": "display_data"
    },
    {
     "data": {
      "application/vnd.jupyter.widget-view+json": {
       "model_id": "831004478465410e99cecc8537b263ec",
       "version_major": 2,
       "version_minor": 0
      },
      "text/plain": [
       "HBox(children=(IntProgress(value=0, max=34), HTML(value='')))"
      ]
     },
     "metadata": {},
     "output_type": "display_data"
    },
    {
     "data": {
      "application/vnd.jupyter.widget-view+json": {
       "model_id": "7a4a2dc7dfe74eaaa6dd11e2ff0da875",
       "version_major": 2,
       "version_minor": 0
      },
      "text/plain": [
       "HBox(children=(IntProgress(value=0, max=34), HTML(value='')))"
      ]
     },
     "metadata": {},
     "output_type": "display_data"
    },
    {
     "data": {
      "application/vnd.jupyter.widget-view+json": {
       "model_id": "ac19e10b0bb242bda3e6c431a7dbd0e1",
       "version_major": 2,
       "version_minor": 0
      },
      "text/plain": [
       "HBox(children=(IntProgress(value=0, max=34), HTML(value='')))"
      ]
     },
     "metadata": {},
     "output_type": "display_data"
    },
    {
     "data": {
      "application/vnd.jupyter.widget-view+json": {
       "model_id": "2c018c88f81f4c7586067fe6b9fd4c86",
       "version_major": 2,
       "version_minor": 0
      },
      "text/plain": [
       "HBox(children=(IntProgress(value=0, max=34), HTML(value='')))"
      ]
     },
     "metadata": {},
     "output_type": "display_data"
    },
    {
     "data": {
      "application/vnd.jupyter.widget-view+json": {
       "model_id": "54d0cc117d3144ddbeb61b6514c52ded",
       "version_major": 2,
       "version_minor": 0
      },
      "text/plain": [
       "HBox(children=(IntProgress(value=0, max=34), HTML(value='')))"
      ]
     },
     "metadata": {},
     "output_type": "display_data"
    },
    {
     "data": {
      "application/vnd.jupyter.widget-view+json": {
       "model_id": "2fa001bbcb3d4df7a6f5d84a9b6c1f28",
       "version_major": 2,
       "version_minor": 0
      },
      "text/plain": [
       "HBox(children=(IntProgress(value=0, max=34), HTML(value='')))"
      ]
     },
     "metadata": {},
     "output_type": "display_data"
    },
    {
     "data": {
      "application/vnd.jupyter.widget-view+json": {
       "model_id": "8ca2abf1355a4b65a7b31a5cf8294852",
       "version_major": 2,
       "version_minor": 0
      },
      "text/plain": [
       "HBox(children=(IntProgress(value=0, max=34), HTML(value='')))"
      ]
     },
     "metadata": {},
     "output_type": "display_data"
    },
    {
     "data": {
      "application/vnd.jupyter.widget-view+json": {
       "model_id": "672dd5e52aac468b9edbb5e01130d7bd",
       "version_major": 2,
       "version_minor": 0
      },
      "text/plain": [
       "HBox(children=(IntProgress(value=0, max=34), HTML(value='')))"
      ]
     },
     "metadata": {},
     "output_type": "display_data"
    },
    {
     "data": {
      "application/vnd.jupyter.widget-view+json": {
       "model_id": "f92263a9925a4f09860eb616008ceee7",
       "version_major": 2,
       "version_minor": 0
      },
      "text/plain": [
       "HBox(children=(IntProgress(value=0, max=34), HTML(value='')))"
      ]
     },
     "metadata": {},
     "output_type": "display_data"
    },
    {
     "data": {
      "application/vnd.jupyter.widget-view+json": {
       "model_id": "41c451402cc44160bc46052941e78782",
       "version_major": 2,
       "version_minor": 0
      },
      "text/plain": [
       "HBox(children=(IntProgress(value=0, max=34), HTML(value='')))"
      ]
     },
     "metadata": {},
     "output_type": "display_data"
    },
    {
     "data": {
      "application/vnd.jupyter.widget-view+json": {
       "model_id": "35b0b84d8b4d485bb5646311e79c919c",
       "version_major": 2,
       "version_minor": 0
      },
      "text/plain": [
       "HBox(children=(IntProgress(value=0, max=34), HTML(value='')))"
      ]
     },
     "metadata": {},
     "output_type": "display_data"
    },
    {
     "name": "stdout",
     "output_type": "stream",
     "text": [
      "\n"
     ]
    }
   ],
   "source": [
    "clf.fit(X_train[:1000], y_train[:1000], X_val[:100], y_val[:100])"
   ]
  },
  {
   "cell_type": "code",
   "execution_count": 31,
   "metadata": {},
   "outputs": [
    {
     "data": {
      "image/png": "[encoded data removed]",
      "text/plain": [
       "<Figure size 432x288 with 1 Axes>"
      ]
     },
     "metadata": {},
     "output_type": "display_data"
    }
   ],
   "source": [
    "clf.show_learning_curve()"
   ]
  },
  {
   "cell_type": "code",
   "execution_count": 32,
   "metadata": {},
   "outputs": [],
   "source": [
    "y_pred = clf.predict(X_val[:1000])"
   ]
  },
  {
   "cell_type": "code",
   "execution_count": 33,
   "metadata": {},
   "outputs": [
    {
     "data": {
      "image/png": "[encoded data removed]",
      "text/plain": [
       "<Figure size 720x576 with 2 Axes>"
      ]
     },
     "metadata": {},
     "output_type": "display_data"
    }
   ],
   "source": [
    "clf.show_accuracy(y_val[:1000], y_pred)"
   ]
  },
  {
   "cell_type": "code",
   "execution_count": null,
   "metadata": {},
   "outputs": [],
   "source": []
  }
 ],
 "metadata": {
  "kernelspec": {
   "display_name": "Python 3",
   "language": "python",
   "name": "python3"
  },
  "language_info": {
   "codemirror_mode": {
    "name": "ipython",
    "version": 3
   },
   "file_extension": ".py",
   "mimetype": "text/x-python",
   "name": "python",
   "nbconvert_exporter": "python",
   "pygments_lexer": "ipython3",
   "version": "3.7.0"
  }
 },
 "nbformat": 4,
 "nbformat_minor": 2
}
