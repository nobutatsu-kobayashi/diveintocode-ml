{
  "nbformat": 4,
  "nbformat_minor": 0,
  "metadata": {
    "colab": {
      "name": "WEEK1.ipynb",
      "provenance": [],
      "collapsed_sections": []
    },
    "kernelspec": {
      "name": "python3",
      "display_name": "Python 3"
    }
  },
  "cells": [
    {
      "cell_type": "markdown",
      "metadata": {
        "id": "h_detGkJ5wlD",
        "colab_type": "text"
      },
      "source": [
        "【問題1】べき乗の算術演算子を使用して作成"
      ]
    },
    {
      "cell_type": "code",
      "metadata": {
        "id": "dqNtjITp6A7Y",
        "colab_type": "code",
        "outputId": "ce1b72f6-36bf-44f5-94c7-ce3a6df978bf",
        "colab": {
          "base_uri": "https://localhost:8080/",
          "height": 35
        }
      },
      "source": [
        "\"\"\"\n",
        "紙を1回折った時の厚さを計算するコード\n",
        "\"\"\"\n",
        "\n",
        "THICKNESS = 0.00008\n",
        "folded_thickness = THICKNESS * (2 ** 43)\n",
        "print(\"厚さ： {}メートル\".format(folded_thickness))"
      ],
      "execution_count": 0,
      "outputs": [
        {
          "output_type": "stream",
          "text": [
            "厚さ： 703687441.77664メートル\n"
          ],
          "name": "stdout"
        }
      ]
    },
    {
      "cell_type": "markdown",
      "metadata": {
        "id": "h2cMxvKL6nPP",
        "colab_type": "text"
      },
      "source": [
        "【問題2】単位の変換"
      ]
    },
    {
      "cell_type": "code",
      "metadata": {
        "id": "5vpQpBd060Oh",
        "colab_type": "code",
        "outputId": "a2169805-a15f-4c13-cf0f-c68b0fc5390b",
        "colab": {
          "base_uri": "https://localhost:8080/",
          "height": 35
        }
      },
      "source": [
        "# メートルをキロメートルに変換して小数点以下2桁で表示する\n",
        "print(\"厚さ： {:.2f}万キロメートル\".format(folded_thickness/(1000*10000)))"
      ],
      "execution_count": 0,
      "outputs": [
        {
          "output_type": "stream",
          "text": [
            "厚さ： 70.37万キロメートル\n"
          ],
          "name": "stdout"
        }
      ]
    },
    {
      "cell_type": "markdown",
      "metadata": {
        "id": "5Y22UuGP7gRl",
        "colab_type": "text"
      },
      "source": [
        "【問題3】for文を利用して作成"
      ]
    },
    {
      "cell_type": "code",
      "metadata": {
        "id": "MMXnEwJL7pRx",
        "colab_type": "code",
        "outputId": "bb53e7b3-df13-4168-d7f8-b197da34ba04",
        "colab": {
          "base_uri": "https://localhost:8080/",
          "height": 35
        }
      },
      "source": [
        "a = 1\n",
        "for i in range(43):\n",
        "  a *= 2\n",
        "  folded_thickness = THICKNESS * a\n",
        "print('厚さ: {:.2f}万キロメートル'.format(folded_thickness/(1000*10000)))"
      ],
      "execution_count": 0,
      "outputs": [
        {
          "output_type": "stream",
          "text": [
            "厚さ: 70.37万キロメートル\n"
          ],
          "name": "stdout"
        }
      ]
    },
    {
      "cell_type": "markdown",
      "metadata": {
        "id": "mmTdnQdO8bz5",
        "colab_type": "text"
      },
      "source": [
        "【問題4】計算時間の比較"
      ]
    },
    {
      "cell_type": "code",
      "metadata": {
        "id": "S-7Oqcq58h03",
        "colab_type": "code",
        "outputId": "7e2e806b-6304-46dc-bc60-74b80b6b0b2b",
        "colab": {
          "base_uri": "https://localhost:8080/",
          "height": 35
        }
      },
      "source": [
        "import time\n",
        "\n",
        "THICKNESS = 0.00008\n",
        "\n",
        "n_folded = 43\n",
        "\n",
        "start = time.time()\n",
        "#####\n",
        "folded_thickness = THICKNESS * (2 ** n_folded)\n",
        "#####\n",
        "elapsed_time = time.time() - start\n",
        "print(\"time : {}[ms]\".format(elapsed_time*1000))"
      ],
      "execution_count": 1,
      "outputs": [
        {
          "output_type": "stream",
          "text": [
            "time : 0.04982948303222656[ms]\n"
          ],
          "name": "stdout"
        }
      ]
    },
    {
      "cell_type": "code",
      "metadata": {
        "id": "8SJoerofTjRy",
        "colab_type": "code",
        "outputId": "9e36fc98-6d44-4931-f82b-b38c08a8b34a",
        "colab": {
          "base_uri": "https://localhost:8080/",
          "height": 35
        }
      },
      "source": [
        "THICKNESS = 0.00008\n",
        "\n",
        "n_folded = 43\n",
        "\n",
        "start = time.time()\n",
        "#####\n",
        "folded_thickness = THICKNESS\n",
        "for i in range(n_folded):\n",
        "    folded_thickness *= 2\n",
        "#####\n",
        "elapsed_time = time.time() - start\n",
        "print(\"time : {}[ms]\".format(elapsed_time*1000))\n"
      ],
      "execution_count": 2,
      "outputs": [
        {
          "output_type": "stream",
          "text": [
            "time : 0.0553131103515625[ms]\n"
          ],
          "name": "stdout"
        }
      ]
    },
    {
      "cell_type": "code",
      "metadata": {
        "id": "rxZavdkwU7GF",
        "colab_type": "code",
        "colab": {}
      },
      "source": [
        "# for文の方が約2倍時間がかかるが、桁数は同じなのであまり変わらない。"
      ],
      "execution_count": 0,
      "outputs": []
    },
    {
      "cell_type": "markdown",
      "metadata": {
        "id": "a7KWi-3f_ZK7",
        "colab_type": "text"
      },
      "source": [
        "【問題5】リストへの保存"
      ]
    },
    {
      "cell_type": "code",
      "metadata": {
        "id": "eIp37ohV82YX",
        "colab_type": "code",
        "outputId": "c72b90ee-3a60-468e-e6f0-4967811f009e",
        "colab": {
          "base_uri": "https://localhost:8080/",
          "height": 74
        }
      },
      "source": [
        "a = 1\n",
        "\n",
        "result = []\n",
        "result.append(THICKNESS)\n",
        "for i in range(0, 43):\n",
        "  a *= 2\n",
        "  folded_thickness = THICKNESS * a\n",
        "  result.append(folded_thickness)\n",
        "print(result)\n",
        "print(len(result))"
      ],
      "execution_count": 0,
      "outputs": [
        {
          "output_type": "stream",
          "text": [
            "[8e-05, 0.00016, 0.00032, 0.00064, 0.00128, 0.00256, 0.00512, 0.01024, 0.02048, 0.04096, 0.08192, 0.16384, 0.32768, 0.65536, 1.31072, 2.62144, 5.24288, 10.48576, 20.97152, 41.94304, 83.88608, 167.77216, 335.54432, 671.08864, 1342.17728, 2684.35456, 5368.70912, 10737.41824, 21474.83648, 42949.67296, 85899.34592, 171798.69184, 343597.38368, 687194.76736, 1374389.53472, 2748779.06944, 5497558.13888, 10995116.27776, 21990232.55552, 43980465.11104, 87960930.22208, 175921860.44416, 351843720.88832, 703687441.77664]\n",
            "44\n"
          ],
          "name": "stdout"
        }
      ]
    },
    {
      "cell_type": "markdown",
      "metadata": {
        "id": "LSz1Hi5P_LPF",
        "colab_type": "text"
      },
      "source": [
        "【問題6】折れ線グラフの表示"
      ]
    },
    {
      "cell_type": "code",
      "metadata": {
        "id": "fSFaTA4a_Uzb",
        "colab_type": "code",
        "outputId": "9cc62449-29b3-4b70-87b0-f1eb0e30d98d",
        "colab": {
          "base_uri": "https://localhost:8080/",
          "height": 295
        }
      },
      "source": [
        "\"\"\"\n",
        "グラフを表示する。タイトルと軸ラベル名付き。\n",
        "\"\"\"\n",
        "import matplotlib.pyplot as plt\n",
        "%matplotlib inline\n",
        "\n",
        "plt.title(\"thickness of folded paper\")\n",
        "plt.xlabel(\"number of folds\")\n",
        "plt.ylabel(\"thickness[m]\")\n",
        "plt.plot(result) # 「リスト名」のところにリストの変数名を入れる\n",
        "plt.show()"
      ],
      "execution_count": 0,
      "outputs": [
        {
          "output_type": "display_data",
          "data": {
            "image/png": "[encoded data removed]",
            "text/plain": [
              "<Figure size 432x288 with 1 Axes>"
            ]
          },
          "metadata": {
            "tags": []
          }
        }
      ]
    },
    {
      "cell_type": "markdown",
      "metadata": {
        "id": "cwvr_sZZBCWk",
        "colab_type": "text"
      },
      "source": [
        "40回目手前あたりから急激に（指数関数的に）厚さが増加している。"
      ]
    },
    {
      "cell_type": "markdown",
      "metadata": {
        "id": "19A-xaZcCqO8",
        "colab_type": "text"
      },
      "source": [
        "【問題7】グラフのカスタマイズ"
      ]
    },
    {
      "cell_type": "code",
      "metadata": {
        "id": "qeoTP4vA_pN8",
        "colab_type": "code",
        "outputId": "4ffb7af9-e6f4-4f3e-ffff-89177c680ce6",
        "colab": {
          "base_uri": "https://localhost:8080/",
          "height": 295
        }
      },
      "source": [
        "plt.title('thickness of folded paper')\n",
        "plt.xlabel('number of folds')\n",
        "plt.ylabel('thickness[m]')\n",
        "plt.plot(result, color='green')\n",
        "plt.show()"
      ],
      "execution_count": 0,
      "outputs": [
        {
          "output_type": "display_data",
          "data": {
            "image/png": "[encoded data removed]",
            "text/plain": [
              "<Figure size 432x288 with 1 Axes>"
            ]
          },
          "metadata": {
            "tags": []
          }
        }
      ]
    },
    {
      "cell_type": "code",
      "metadata": {
        "id": "pcdBhoXpBwX4",
        "colab_type": "code",
        "outputId": "fa6f08e4-1ca8-4104-8d2c-a10742d789bb",
        "colab": {
          "base_uri": "https://localhost:8080/",
          "height": 291
        }
      },
      "source": [
        "plt.style.use('seaborn-whitegrid')\n",
        "plt.title('thickness of folded paper')\n",
        "plt.xlabel('number of folds')\n",
        "plt.ylabel('thickness[m]')\n",
        "plt.plot(result, color='c')\n",
        "plt.show()"
      ],
      "execution_count": 0,
      "outputs": [
        {
          "output_type": "display_data",
          "data": {
            "image/png": "[encoded data removed]",
            "text/plain": [
              "<Figure size 432x288 with 1 Axes>"
            ]
          },
          "metadata": {
            "tags": []
          }
        }
      ]
    },
    {
      "cell_type": "code",
      "metadata": {
        "id": "0uEHHWrSCQTu",
        "colab_type": "code",
        "outputId": "c83ebeee-a138-4129-e82e-e45ea46ff231",
        "colab": {
          "base_uri": "https://localhost:8080/",
          "height": 307
        }
      },
      "source": [
        "plt.style.use('seaborn-whitegrid')\n",
        "plt.title('thickness of folded paper', fontsize=20)\n",
        "plt.xlabel('number of folds[times]', fontsize=16)\n",
        "plt.ylabel('thickness[m]', fontsize=16)\n",
        "plt.tick_params(labelsize=16)\n",
        "plt.plot(result, color='m')\n",
        "plt.show()"
      ],
      "execution_count": 0,
      "outputs": [
        {
          "output_type": "display_data",
          "data": {
            "image/png": "[encoded data removed]",
            "text/plain": [
              "<Figure size 432x288 with 1 Axes>"
            ]
          },
          "metadata": {
            "tags": []
          }
        }
      ]
    },
    {
      "cell_type": "code",
      "metadata": {
        "id": "M44BsHxPCXQc",
        "colab_type": "code",
        "colab": {}
      },
      "source": [
        ""
      ],
      "execution_count": 0,
      "outputs": []
    }
  ]
}