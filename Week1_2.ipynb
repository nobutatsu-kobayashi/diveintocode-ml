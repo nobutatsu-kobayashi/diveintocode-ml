{
  "nbformat": 4,
  "nbformat_minor": 0,
  "metadata": {
    "colab": {
      "name": "Week1_2.ipynb",
      "provenance": [],
      "collapsed_sections": []
    },
    "kernelspec": {
      "name": "python3",
      "display_name": "Python 3"
    }
  },
  "cells": [
    {
      "cell_type": "markdown",
      "metadata": {
        "id": "ai9nKhz2XnZP",
        "colab_type": "text"
      },
      "source": [
        "**Week1授業課題2 何回折ったら富士山を超えるか問題**"
      ]
    },
    {
      "cell_type": "markdown",
      "metadata": {
        "id": "Kq2JJtXNX1WN",
        "colab_type": "text"
      },
      "source": [
        "【問題1】富士山を超える最小の折る回数"
      ]
    },
    {
      "cell_type": "code",
      "metadata": {
        "id": "98bi0QS_X0cG",
        "colab_type": "code",
        "outputId": "c863bedd-0e74-4bca-a51d-7f002c4613dc",
        "colab": {
          "base_uri": "https://localhost:8080/",
          "height": 35
        }
      },
      "source": [
        "THICKNESS = 0.00008\n",
        "folded_thickness = THICKNESS\n",
        "count = 0\n",
        "result = []\n",
        "while folded_thickness < 3776:\n",
        "    folded_thickness *= 2\n",
        "    result.append(folded_thickness)\n",
        "    count += 1\n",
        "    \n",
        "print('富士山を超える最小の折る回数は「{}回」です。'.format(count))"
      ],
      "execution_count": 0,
      "outputs": [
        {
          "output_type": "stream",
          "text": [
            "富士山を超える最小の折る回数は「26回」です。\n"
          ],
          "name": "stdout"
        }
      ]
    },
    {
      "cell_type": "markdown",
      "metadata": {
        "id": "nBNfEmNfZeeu",
        "colab_type": "text"
      },
      "source": [
        "【問題2】任意の厚さに対応した関数を作成"
      ]
    },
    {
      "cell_type": "code",
      "metadata": {
        "id": "kRRcnnbOY-_E",
        "colab_type": "code",
        "outputId": "8d1b065b-e758-4d28-c5fc-c55c8b2d5f9b",
        "colab": {
          "base_uri": "https://localhost:8080/",
          "height": 35
        }
      },
      "source": [
        "def folded_count(dist, t_0):\n",
        "    folded_thickness = t_0\n",
        "    count = 0\n",
        "    while folded_thickness < dist:\n",
        "        folded_thickness *= 2\n",
        "        count += 1\n",
        "        \n",
        "    return count\n",
        "  \n",
        "  \n",
        "# 最も近い太陽以外の恒星は「プロキシマ・ケンタウリ」であり、その距離4.243光年\n",
        "# 1光年=約9兆5000億km\n",
        "\n",
        "THICKNESS = 0.00008\n",
        "dist_proxima = 4.243 * 9500000000000\n",
        "count_proxima = folded_count(dist_proxima, THICKNESS)\n",
        "print('最も近い太陽以外の恒星に到達するのには、紙を「{}回」折る必要がある。'.format(count_proxima))"
      ],
      "execution_count": 0,
      "outputs": [
        {
          "output_type": "stream",
          "text": [
            "最も近い太陽以外の恒星に到達するのには、紙を「59回」折る必要がある。\n"
          ],
          "name": "stdout"
        }
      ]
    },
    {
      "cell_type": "markdown",
      "metadata": {
        "id": "Lx_pS6LycJwH",
        "colab_type": "text"
      },
      "source": [
        "【問題3】必要な紙の長さ"
      ]
    },
    {
      "cell_type": "code",
      "metadata": {
        "id": "cQ1s9A3HaZ5o",
        "colab_type": "code",
        "outputId": "ac6fd776-e98a-4427-fb30-29946237e709",
        "colab": {
          "base_uri": "https://localhost:8080/",
          "height": 72
        }
      },
      "source": [
        "import math\n",
        "\n",
        "\n",
        "def need_length(n, t_0):\n",
        "    L = ((math.pi * t_0) * (2**n + 4) * (2**n - 1)) / 6\n",
        "    return L\n",
        "  \n",
        "  \n",
        "# まず、紙を何回折れば月や富士山に到達するかを、問題2で作成した関数で求める\n",
        "THICKNESS = 0.00008\n",
        "dist_moon = 384400000\n",
        "count_moon = folded_count(dist_moon, THICKNESS)\n",
        "dist_fuji = 3776\n",
        "count_fuji = folded_count(dist_fuji, THICKNESS)\n",
        "\n",
        "# それぞれに必要な紙の長さを上記の関数を利用して得る\n",
        "length_moon = need_length(count_moon, THICKNESS)\n",
        "length_fuji = need_length(count_fuji, THICKNESS)\n",
        "length_proxima = need_length(count_proxima, THICKNESS)\n",
        "print('月に届くのに必要な紙の長さは{}メートルです。'.format(length_moon))\n",
        "print('富士山を超えるのに必要な紙の長さは{}メートルです。'.format(length_fuji))\n",
        "print('最も近い太陽以外の恒星に届くのに必要な紙の長さは{}メートルです。'.format(length_proxima))"
      ],
      "execution_count": 0,
      "outputs": [
        {
          "output_type": "stream",
          "text": [
            "月に届くのに必要な紙の長さは3.240919444170781e+21メートルです。\n",
            "富士山を超えるのに必要な紙の長さは188646348487.24014メートルです。\n",
            "最も近い太陽以外の恒星に届くのに必要な紙の長さは1.3919643021679256e+31メートルです。\n"
          ],
          "name": "stdout"
        }
      ]
    },
    {
      "cell_type": "code",
      "metadata": {
        "id": "gJaKp7Zmeh2V",
        "colab_type": "code",
        "colab": {}
      },
      "source": [
        ""
      ],
      "execution_count": 0,
      "outputs": []
    }
  ]
}