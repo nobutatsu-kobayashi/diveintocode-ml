{
 "cells": [
  {
   "cell_type": "markdown",
   "metadata": {},
   "source": [
    "## 行列積のスクラッチ"
   ]
  },
  {
   "cell_type": "markdown",
   "metadata": {},
   "source": [
    "### 【問題1】行列積を手計算する"
   ]
  },
  {
   "cell_type": "code",
   "execution_count": 1,
   "metadata": {},
   "outputs": [],
   "source": [
    "import numpy as np"
   ]
  },
  {
   "cell_type": "code",
   "execution_count": 2,
   "metadata": {},
   "outputs": [],
   "source": [
    "a_ndarray = np.array([[-1, 2, 3], [4, -5, 6], [7, 8, -9]])\n",
    "b_ndarray = np.array([[0, 2, 1], [0, 2, -8], [2, 9, -1]])"
   ]
  },
  {
   "cell_type": "markdown",
   "metadata": {},
   "source": [
    "Aのi行目(i=1, 2, 3)をベクトル（ベクトルiとする）と見做し、Bのj列目(j=1, 2, 3)もベクトル（ベクトルjとする）と見做す。AとBの行列積ABの(i, j)成分はベクトルiとベクトルjの内積によって得られる。\n",
    "例）ABの(1, 1)成分AB(1, 1)の計算\n",
    "　AB(1, 1) = (-1)×0 + 2×0 + 3×2 = 6\n",
    " \n",
    "全てのについて同様の計算を行うとABは以下になる。\n",
    "\n",
    "AB = [[6, 29, -20],\n",
    "      [12, 52, 38],\n",
    "      [-18, -51, -48]]"
   ]
  },
  {
   "cell_type": "markdown",
   "metadata": {},
   "source": [
    "### 【問題2】Numpyの関数による計算"
   ]
  },
  {
   "cell_type": "code",
   "execution_count": 3,
   "metadata": {},
   "outputs": [
    {
     "name": "stdout",
     "output_type": "stream",
     "text": [
      "[[  6  29 -20]\n",
      " [ 12  52  38]\n",
      " [-18 -51 -48]]\n"
     ]
    }
   ],
   "source": [
    "# np.matmul()の利用\n",
    "\n",
    "a_b0 = np.matmul(a_ndarray, b_ndarray)\n",
    "print(a_b0)"
   ]
  },
  {
   "cell_type": "code",
   "execution_count": 4,
   "metadata": {},
   "outputs": [
    {
     "name": "stdout",
     "output_type": "stream",
     "text": [
      "[[  6  29 -20]\n",
      " [ 12  52  38]\n",
      " [-18 -51 -48]]\n"
     ]
    }
   ],
   "source": [
    "# np.dot()の利用\n",
    "\n",
    "a_b1 = np.dot(a_ndarray, b_ndarray)\n",
    "print(a_b1)"
   ]
  },
  {
   "cell_type": "code",
   "execution_count": 5,
   "metadata": {},
   "outputs": [
    {
     "name": "stdout",
     "output_type": "stream",
     "text": [
      "[[  6  29 -20]\n",
      " [ 12  52  38]\n",
      " [-18 -51 -48]]\n"
     ]
    }
   ],
   "source": [
    "# 演算子@の利用\n",
    "\n",
    "a_b2 = a_ndarray @ b_ndarray\n",
    "print(a_b2)"
   ]
  },
  {
   "cell_type": "markdown",
   "metadata": {},
   "source": [
    "### 【問題3】ある要素の計算を実装"
   ]
  },
  {
   "cell_type": "code",
   "execution_count": 6,
   "metadata": {},
   "outputs": [
    {
     "name": "stdout",
     "output_type": "stream",
     "text": [
      "[[  6.  29. -20.]\n",
      " [ 12.  52.  38.]\n",
      " [-18. -51. -48.]]\n"
     ]
    }
   ],
   "source": [
    "default_array0 = np.zeros((a_ndarray.shape[0], b_ndarray.shape[1]))\n",
    "\n",
    "for i in range(a_ndarray.shape[0]):\n",
    "    for j in range(b_ndarray.shape[1]):\n",
    "        for k in range(a_ndarray.shape[1]):\n",
    "            default_array0[i, j] += a_ndarray[i, k] * b_ndarray[k, j]\n",
    "print(default_array0)"
   ]
  },
  {
   "cell_type": "markdown",
   "metadata": {},
   "source": [
    "### 【問題4】行列積を行う関数の作成"
   ]
  },
  {
   "cell_type": "code",
   "execution_count": 7,
   "metadata": {},
   "outputs": [
    {
     "name": "stdout",
     "output_type": "stream",
     "text": [
      "[[  6.  27.  -3.]\n",
      " [ 12.  54.  -6.]\n",
      " [-18. -81.   9.]]\n"
     ]
    }
   ],
   "source": [
    "def matrix_mul(matrix1, matrix2):\n",
    "    default_array = np.zeros((matrix1.shape[0], matrix2.shape[1]))\n",
    "    \n",
    "    for i in range(matrix1.shape[0]):\n",
    "        for j in range(matrix2.shape[1]):\n",
    "            for k in range(matrix1.shape[1]):\n",
    "                default_array[i, j] = matrix1[i, k] * matrix2[k, j]\n",
    "                \n",
    "    return default_array\n",
    "  \n",
    "print(matrix_mul(a_ndarray, b_ndarray))"
   ]
  },
  {
   "cell_type": "markdown",
   "metadata": {},
   "source": [
    "### 【問題5】計算が定義されていない入力を判定する"
   ]
  },
  {
   "cell_type": "code",
   "execution_count": 8,
   "metadata": {},
   "outputs": [],
   "source": [
    "def modified_matrix_mul(matrix1, matrix2):\n",
    "    if matrix1.shape[1] == matrix2.shape[0]:\n",
    "        ndarray = np.zeros((matrix1.shape[0], matrix2.shape[1]))\n",
    "        \n",
    "        for i in range(matrix1.shape[0]):\n",
    "            for j in range(matrix2.shape[1]):\n",
    "                for k in range(matrix1.shape[1]):\n",
    "                    ndarray[i, j] += matrix1[i, k] * matrix2[k, j]\n",
    "                    \n",
    "        return ndarray\n",
    "      \n",
    "    else:\n",
    "        error_message = 'matrix1の列数とmatrix2の行数が異なるため、計算できません。'\n",
    "        \n",
    "        return error_message"
   ]
  },
  {
   "cell_type": "code",
   "execution_count": 9,
   "metadata": {},
   "outputs": [
    {
     "name": "stdout",
     "output_type": "stream",
     "text": [
      "[[  6.  29. -20.]\n",
      " [ 12.  52.  38.]\n",
      " [-18. -51. -48.]]\n",
      "matrix1の列数とmatrix2の行数が異なるため、計算できません。\n"
     ]
    }
   ],
   "source": [
    "print(modified_matrix_mul(a_ndarray, b_ndarray))\n",
    "\n",
    "c_ndarray = np.array([[-1, 2, 3], [4, -5, 6]])\n",
    "d_ndarray = np.array([[-9, 8, 7], [6, -5, 4]])\n",
    "print(modified_matrix_mul(c_ndarray, d_ndarray))"
   ]
  },
  {
   "cell_type": "markdown",
   "metadata": {},
   "source": [
    "### 【問題6】転置"
   ]
  },
  {
   "cell_type": "code",
   "execution_count": 10,
   "metadata": {},
   "outputs": [
    {
     "name": "stdout",
     "output_type": "stream",
     "text": [
      "[[  6  29 -20]\n",
      " [ 12  52  38]\n",
      " [-18 -51 -48]]\n"
     ]
    }
   ],
   "source": [
    "result = []\n",
    "for i in range(3):\n",
    "    for j in range(3):\n",
    "        result.append(sum(a_ndarray[i] * b_ndarray.T[j]))\n",
    "result_array = np.array(result)\n",
    "result_array_ab = result_array.reshape(3, 3)\n",
    "print(result_array_ab)"
   ]
  },
  {
   "cell_type": "code",
   "execution_count": 11,
   "metadata": {},
   "outputs": [],
   "source": [
    "# 関数にしてみる\n",
    "\n",
    "def get_matrix_mul(matrix1, matrix2):\n",
    "    fai_list = []\n",
    "    for i in range(matrix1.shape[0]):\n",
    "        for j in range(matrix2.shape[1]):\n",
    "            fai_list.append(sum(matrix1[i] * matrix2.T[j]))\n",
    "    mul_array = np.array(fai_list)\n",
    "    mul_ndarray = mul_array.reshape(matrix1.shape[0], matrix2.shape[1])\n",
    "    \n",
    "    return mul_ndarray"
   ]
  },
  {
   "cell_type": "code",
   "execution_count": 12,
   "metadata": {},
   "outputs": [
    {
     "name": "stdout",
     "output_type": "stream",
     "text": [
      "[[  6  29 -20]\n",
      " [ 12  52  38]\n",
      " [-18 -51 -48]]\n"
     ]
    }
   ],
   "source": [
    "print(get_matrix_mul(a_ndarray, b_ndarray))"
   ]
  },
  {
   "cell_type": "code",
   "execution_count": null,
   "metadata": {},
   "outputs": [],
   "source": []
  }
 ],
 "metadata": {
  "kernelspec": {
   "display_name": "Python 3",
   "language": "python",
   "name": "python3"
  },
  "language_info": {
   "codemirror_mode": {
    "name": "ipython",
    "version": 3
   },
   "file_extension": ".py",
   "mimetype": "text/x-python",
   "name": "python",
   "nbconvert_exporter": "python",
   "pygments_lexer": "ipython3",
   "version": "3.7.0"
  }
 },
 "nbformat": 4,
 "nbformat_minor": 2
}
